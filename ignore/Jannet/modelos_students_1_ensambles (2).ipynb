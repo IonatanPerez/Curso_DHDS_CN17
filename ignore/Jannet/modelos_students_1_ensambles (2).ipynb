{
 "cells": [
  {
   "cell_type": "markdown",
   "id": "e4aa3968",
   "metadata": {},
   "source": [
    "# Modelos de Ensamble"
   ]
  },
  {
   "cell_type": "markdown",
   "id": "20428996",
   "metadata": {},
   "source": [
    "## Introducción\n",
    "\n",
    "vamos a entrenar tres modelos base de clasificación, y construir a partir de ellos un ensamble para predecir el valor de la variable adaptivity_level.\n",
    "\n",
    "Vamos a comparar la performance de los modelos base con la del modelo de ensamble."
   ]
  },
  {
   "cell_type": "markdown",
   "id": "c13e4c21",
   "metadata": {},
   "source": [
    "## Dataset\n",
    "\n",
    "En esta clase usaremos un dataset con info de la adapatabilidad   \n",
    "Este dataset esta conformado por los siguientes features: "
   ]
  },
  {
   "cell_type": "markdown",
   "id": "630169f2",
   "metadata": {},
   "source": [
    "\n",
    "\n",
    "0  **Gender:**  Gender type of student <br>\n",
    "1  **Age:**  Age range of the student <br>\n",
    "2  **Education Level:**     Education institution level <br>\n",
    "3  **Institution Type:**    Education institution type <br>\n",
    "4  **IT Student:**  Studying as IT student or not<br>\n",
    "5  **Location:** Is student location in town<br>\n",
    "6  **Load-shedding:** Level of load shedding<br>\n",
    "7  **Financial Condition:**     Financial condition of family<br>\n",
    "8  **Internet Type:**   Internet type used mostly in device<br>\n",
    "9  **Network Type:**     Network connectivity type<br>\n",
    "10 **Class Duration:**   Class Duration in hours<br>\n",
    "11 **Self Lms:**     Institution’s own LMS availability<br>\n",
    "12 **Device:**  Device used mostly in class<br>\n",
    "13 **Adaptivity Level:**    Adaptivity level of the student  (Dependent Variable) \n"
   ]
  },
  {
   "cell_type": "code",
   "execution_count": 1,
   "id": "8f098aa6",
   "metadata": {},
   "outputs": [],
   "source": [
    "import pandas as pd\n",
    "import numpy as np\n",
    "import matplotlib.pyplot as plt\n",
    "from sklearn import metrics"
   ]
  },
  {
   "cell_type": "code",
   "execution_count": 2,
   "id": "cfec01fe",
   "metadata": {},
   "outputs": [
    {
     "data": {
      "text/plain": [
       "(1205, 15)"
      ]
     },
     "execution_count": 2,
     "metadata": {},
     "output_type": "execute_result"
    }
   ],
   "source": [
    "data_raw = pd.read_csv('data_raw.csv')\n",
    "data_raw.shape"
   ]
  },
  {
   "cell_type": "code",
   "execution_count": 3,
   "id": "4fe69cea",
   "metadata": {},
   "outputs": [
    {
     "data": {
      "text/plain": [
       "Text(0.5, 1.0, 'adaptivity_level')"
      ]
     },
     "execution_count": 3,
     "metadata": {},
     "output_type": "execute_result"
    },
    {
     "data": {
      "image/png": "[encoded data removed]",
      "text/plain": [
       "<Figure size 1800x432 with 1 Axes>"
      ]
     },
     "metadata": {
      "needs_background": "light"
     },
     "output_type": "display_data"
    }
   ],
   "source": [
    "import seaborn as sns\n",
    "plt.figure(figsize=(25,6))\n",
    "sns.countplot(x='adaptivity_level',data=data_raw)\n",
    "plt.xticks(rotation=90)\n",
    "plt.xlabel(\"adaptivity_level\", fontsize=28)\n",
    "plt.ylabel(\"\", fontsize=28)\n",
    "plt.title(\"adaptivity_level\", fontsize=28)"
   ]
  },
  {
   "cell_type": "code",
   "execution_count": 4,
   "id": "320be13d",
   "metadata": {},
   "outputs": [
    {
     "data": {
      "text/html": [
       "<div>\n",
       "<style scoped>\n",
       "    .dataframe tbody tr th:only-of-type {\n",
       "        vertical-align: middle;\n",
       "    }\n",
       "\n",
       "    .dataframe tbody tr th {\n",
       "        vertical-align: top;\n",
       "    }\n",
       "\n",
       "    .dataframe thead th {\n",
       "        text-align: right;\n",
       "    }\n",
       "</style>\n",
       "<table border=\"1\" class=\"dataframe\">\n",
       "  <thead>\n",
       "    <tr style=\"text-align: right;\">\n",
       "      <th></th>\n",
       "      <th>adaptivity_level</th>\n",
       "      <th>percentaje</th>\n",
       "    </tr>\n",
       "  </thead>\n",
       "  <tbody>\n",
       "    <tr>\n",
       "      <th>Moderate</th>\n",
       "      <td>625</td>\n",
       "      <td>51.87</td>\n",
       "    </tr>\n",
       "    <tr>\n",
       "      <th>Low</th>\n",
       "      <td>480</td>\n",
       "      <td>39.83</td>\n",
       "    </tr>\n",
       "    <tr>\n",
       "      <th>High</th>\n",
       "      <td>100</td>\n",
       "      <td>8.30</td>\n",
       "    </tr>\n",
       "  </tbody>\n",
       "</table>\n",
       "</div>"
      ],
      "text/plain": [
       "          adaptivity_level  percentaje\n",
       "Moderate               625       51.87\n",
       "Low                    480       39.83\n",
       "High                   100        8.30"
      ]
     },
     "execution_count": 4,
     "metadata": {},
     "output_type": "execute_result"
    }
   ],
   "source": [
    "#Percentaje of items on the variable target\n",
    "target =pd.DataFrame(data_raw['adaptivity_level'].value_counts())\n",
    "target['percentaje']=round(target/ data_raw.shape[0]*100,2)\n",
    "target[:]"
   ]
  },
  {
   "cell_type": "markdown",
   "id": "39806760",
   "metadata": {},
   "source": [
    "Probability of find a students with Moderate is as follows: (We will need this information for the Null Hypothesis)\n",
    "\n",
    "$$ Probability = \\frac{625}{1205}  = 0.5186$$"
   ]
  },
  {
   "cell_type": "code",
   "execution_count": 12,
   "id": "f4d2367f",
   "metadata": {},
   "outputs": [
    {
     "data": {
      "text/html": [
       "<div>\n",
       "<style scoped>\n",
       "    .dataframe tbody tr th:only-of-type {\n",
       "        vertical-align: middle;\n",
       "    }\n",
       "\n",
       "    .dataframe tbody tr th {\n",
       "        vertical-align: top;\n",
       "    }\n",
       "\n",
       "    .dataframe thead th {\n",
       "        text-align: right;\n",
       "    }\n",
       "</style>\n",
       "<table border=\"1\" class=\"dataframe\">\n",
       "  <thead>\n",
       "    <tr style=\"text-align: right;\">\n",
       "      <th></th>\n",
       "      <th>Unnamed: 0</th>\n",
       "      <th>gender</th>\n",
       "      <th>age</th>\n",
       "      <th>education_level</th>\n",
       "      <th>institution_type</th>\n",
       "      <th>IT_student</th>\n",
       "      <th>location</th>\n",
       "      <th>electricity_supply</th>\n",
       "      <th>financial_condition</th>\n",
       "      <th>internet_type</th>\n",
       "      <th>network_type</th>\n",
       "      <th>class_duration</th>\n",
       "      <th>learning_system</th>\n",
       "      <th>device</th>\n",
       "      <th>adaptivity_level</th>\n",
       "    </tr>\n",
       "  </thead>\n",
       "  <tbody>\n",
       "    <tr>\n",
       "      <th>0</th>\n",
       "      <td>0</td>\n",
       "      <td>Boy</td>\n",
       "      <td>21-25</td>\n",
       "      <td>University</td>\n",
       "      <td>Non Government</td>\n",
       "      <td>No</td>\n",
       "      <td>Yes</td>\n",
       "      <td>Low</td>\n",
       "      <td>Mid</td>\n",
       "      <td>Wifi</td>\n",
       "      <td>4G</td>\n",
       "      <td>3-6</td>\n",
       "      <td>No</td>\n",
       "      <td>Tab</td>\n",
       "      <td>Moderate</td>\n",
       "    </tr>\n",
       "    <tr>\n",
       "      <th>1</th>\n",
       "      <td>1</td>\n",
       "      <td>Girl</td>\n",
       "      <td>21-25</td>\n",
       "      <td>University</td>\n",
       "      <td>Non Government</td>\n",
       "      <td>No</td>\n",
       "      <td>Yes</td>\n",
       "      <td>High</td>\n",
       "      <td>Mid</td>\n",
       "      <td>Mobile Data</td>\n",
       "      <td>4G</td>\n",
       "      <td>1-3</td>\n",
       "      <td>Yes</td>\n",
       "      <td>Mobile</td>\n",
       "      <td>Moderate</td>\n",
       "    </tr>\n",
       "    <tr>\n",
       "      <th>2</th>\n",
       "      <td>2</td>\n",
       "      <td>Girl</td>\n",
       "      <td>16-20</td>\n",
       "      <td>College</td>\n",
       "      <td>Government</td>\n",
       "      <td>No</td>\n",
       "      <td>Yes</td>\n",
       "      <td>Low</td>\n",
       "      <td>Mid</td>\n",
       "      <td>Wifi</td>\n",
       "      <td>4G</td>\n",
       "      <td>1-3</td>\n",
       "      <td>No</td>\n",
       "      <td>Mobile</td>\n",
       "      <td>Moderate</td>\n",
       "    </tr>\n",
       "    <tr>\n",
       "      <th>3</th>\n",
       "      <td>3</td>\n",
       "      <td>Girl</td>\n",
       "      <td>11-15</td>\n",
       "      <td>School</td>\n",
       "      <td>Non Government</td>\n",
       "      <td>No</td>\n",
       "      <td>Yes</td>\n",
       "      <td>Low</td>\n",
       "      <td>Mid</td>\n",
       "      <td>Mobile Data</td>\n",
       "      <td>4G</td>\n",
       "      <td>1-3</td>\n",
       "      <td>No</td>\n",
       "      <td>Mobile</td>\n",
       "      <td>Moderate</td>\n",
       "    </tr>\n",
       "    <tr>\n",
       "      <th>4</th>\n",
       "      <td>4</td>\n",
       "      <td>Girl</td>\n",
       "      <td>16-20</td>\n",
       "      <td>School</td>\n",
       "      <td>Non Government</td>\n",
       "      <td>No</td>\n",
       "      <td>Yes</td>\n",
       "      <td>Low</td>\n",
       "      <td>Poor</td>\n",
       "      <td>Mobile Data</td>\n",
       "      <td>3G</td>\n",
       "      <td>0</td>\n",
       "      <td>No</td>\n",
       "      <td>Mobile</td>\n",
       "      <td>Low</td>\n",
       "    </tr>\n",
       "    <tr>\n",
       "      <th>5</th>\n",
       "      <td>5</td>\n",
       "      <td>Boy</td>\n",
       "      <td>11-15</td>\n",
       "      <td>School</td>\n",
       "      <td>Non Government</td>\n",
       "      <td>No</td>\n",
       "      <td>Yes</td>\n",
       "      <td>Low</td>\n",
       "      <td>Poor</td>\n",
       "      <td>Mobile Data</td>\n",
       "      <td>3G</td>\n",
       "      <td>1-3</td>\n",
       "      <td>No</td>\n",
       "      <td>Mobile</td>\n",
       "      <td>Low</td>\n",
       "    </tr>\n",
       "    <tr>\n",
       "      <th>6</th>\n",
       "      <td>6</td>\n",
       "      <td>Boy</td>\n",
       "      <td>11-15</td>\n",
       "      <td>School</td>\n",
       "      <td>Non Government</td>\n",
       "      <td>No</td>\n",
       "      <td>Yes</td>\n",
       "      <td>Low</td>\n",
       "      <td>Mid</td>\n",
       "      <td>Wifi</td>\n",
       "      <td>4G</td>\n",
       "      <td>0</td>\n",
       "      <td>No</td>\n",
       "      <td>Mobile</td>\n",
       "      <td>Low</td>\n",
       "    </tr>\n",
       "    <tr>\n",
       "      <th>7</th>\n",
       "      <td>7</td>\n",
       "      <td>Boy</td>\n",
       "      <td>11-15</td>\n",
       "      <td>School</td>\n",
       "      <td>Non Government</td>\n",
       "      <td>No</td>\n",
       "      <td>Yes</td>\n",
       "      <td>Low</td>\n",
       "      <td>Mid</td>\n",
       "      <td>Wifi</td>\n",
       "      <td>4G</td>\n",
       "      <td>1-3</td>\n",
       "      <td>No</td>\n",
       "      <td>Mobile</td>\n",
       "      <td>Moderate</td>\n",
       "    </tr>\n",
       "    <tr>\n",
       "      <th>8</th>\n",
       "      <td>8</td>\n",
       "      <td>Boy</td>\n",
       "      <td>16-20</td>\n",
       "      <td>College</td>\n",
       "      <td>Government</td>\n",
       "      <td>No</td>\n",
       "      <td>Yes</td>\n",
       "      <td>Low</td>\n",
       "      <td>Mid</td>\n",
       "      <td>Wifi</td>\n",
       "      <td>4G</td>\n",
       "      <td>1-3</td>\n",
       "      <td>No</td>\n",
       "      <td>Mobile</td>\n",
       "      <td>Low</td>\n",
       "    </tr>\n",
       "    <tr>\n",
       "      <th>9</th>\n",
       "      <td>9</td>\n",
       "      <td>Boy</td>\n",
       "      <td>11-15</td>\n",
       "      <td>School</td>\n",
       "      <td>Non Government</td>\n",
       "      <td>No</td>\n",
       "      <td>Yes</td>\n",
       "      <td>Low</td>\n",
       "      <td>Mid</td>\n",
       "      <td>Mobile Data</td>\n",
       "      <td>3G</td>\n",
       "      <td>1-3</td>\n",
       "      <td>No</td>\n",
       "      <td>Mobile</td>\n",
       "      <td>Moderate</td>\n",
       "    </tr>\n",
       "    <tr>\n",
       "      <th>10</th>\n",
       "      <td>10</td>\n",
       "      <td>Girl</td>\n",
       "      <td>16-20</td>\n",
       "      <td>University</td>\n",
       "      <td>Government</td>\n",
       "      <td>No</td>\n",
       "      <td>Yes</td>\n",
       "      <td>Low</td>\n",
       "      <td>Mid</td>\n",
       "      <td>Wifi</td>\n",
       "      <td>4G</td>\n",
       "      <td>1-3</td>\n",
       "      <td>No</td>\n",
       "      <td>Mobile</td>\n",
       "      <td>Low</td>\n",
       "    </tr>\n",
       "    <tr>\n",
       "      <th>11</th>\n",
       "      <td>11</td>\n",
       "      <td>Girl</td>\n",
       "      <td>16-20</td>\n",
       "      <td>College</td>\n",
       "      <td>Non Government</td>\n",
       "      <td>No</td>\n",
       "      <td>Yes</td>\n",
       "      <td>Low</td>\n",
       "      <td>Mid</td>\n",
       "      <td>Wifi</td>\n",
       "      <td>4G</td>\n",
       "      <td>1-3</td>\n",
       "      <td>No</td>\n",
       "      <td>Mobile</td>\n",
       "      <td>Low</td>\n",
       "    </tr>\n",
       "    <tr>\n",
       "      <th>12</th>\n",
       "      <td>12</td>\n",
       "      <td>Boy</td>\n",
       "      <td>11-15</td>\n",
       "      <td>School</td>\n",
       "      <td>Non Government</td>\n",
       "      <td>Yes</td>\n",
       "      <td>Yes</td>\n",
       "      <td>Low</td>\n",
       "      <td>Mid</td>\n",
       "      <td>Mobile Data</td>\n",
       "      <td>3G</td>\n",
       "      <td>1-3</td>\n",
       "      <td>No</td>\n",
       "      <td>Mobile</td>\n",
       "      <td>Moderate</td>\n",
       "    </tr>\n",
       "    <tr>\n",
       "      <th>13</th>\n",
       "      <td>13</td>\n",
       "      <td>Girl</td>\n",
       "      <td>16-20</td>\n",
       "      <td>College</td>\n",
       "      <td>Non Government</td>\n",
       "      <td>No</td>\n",
       "      <td>No</td>\n",
       "      <td>Low</td>\n",
       "      <td>Mid</td>\n",
       "      <td>Wifi</td>\n",
       "      <td>4G</td>\n",
       "      <td>1-3</td>\n",
       "      <td>No</td>\n",
       "      <td>Mobile</td>\n",
       "      <td>Low</td>\n",
       "    </tr>\n",
       "    <tr>\n",
       "      <th>14</th>\n",
       "      <td>14</td>\n",
       "      <td>Girl</td>\n",
       "      <td>11-15</td>\n",
       "      <td>School</td>\n",
       "      <td>Non Government</td>\n",
       "      <td>No</td>\n",
       "      <td>Yes</td>\n",
       "      <td>Low</td>\n",
       "      <td>Poor</td>\n",
       "      <td>Mobile Data</td>\n",
       "      <td>3G</td>\n",
       "      <td>1-3</td>\n",
       "      <td>No</td>\n",
       "      <td>Mobile</td>\n",
       "      <td>Moderate</td>\n",
       "    </tr>\n",
       "    <tr>\n",
       "      <th>15</th>\n",
       "      <td>15</td>\n",
       "      <td>Boy</td>\n",
       "      <td>11-15</td>\n",
       "      <td>School</td>\n",
       "      <td>Non Government</td>\n",
       "      <td>No</td>\n",
       "      <td>Yes</td>\n",
       "      <td>High</td>\n",
       "      <td>Poor</td>\n",
       "      <td>Wifi</td>\n",
       "      <td>4G</td>\n",
       "      <td>1-3</td>\n",
       "      <td>No</td>\n",
       "      <td>Mobile</td>\n",
       "      <td>Low</td>\n",
       "    </tr>\n",
       "    <tr>\n",
       "      <th>16</th>\n",
       "      <td>16</td>\n",
       "      <td>Girl</td>\n",
       "      <td>26-30</td>\n",
       "      <td>University</td>\n",
       "      <td>Government</td>\n",
       "      <td>Yes</td>\n",
       "      <td>Yes</td>\n",
       "      <td>Low</td>\n",
       "      <td>Poor</td>\n",
       "      <td>Mobile Data</td>\n",
       "      <td>4G</td>\n",
       "      <td>0</td>\n",
       "      <td>No</td>\n",
       "      <td>Computer</td>\n",
       "      <td>Low</td>\n",
       "    </tr>\n",
       "    <tr>\n",
       "      <th>17</th>\n",
       "      <td>17</td>\n",
       "      <td>Girl</td>\n",
       "      <td>21-25</td>\n",
       "      <td>University</td>\n",
       "      <td>Government</td>\n",
       "      <td>No</td>\n",
       "      <td>No</td>\n",
       "      <td>Low</td>\n",
       "      <td>Mid</td>\n",
       "      <td>Wifi</td>\n",
       "      <td>4G</td>\n",
       "      <td>1-3</td>\n",
       "      <td>No</td>\n",
       "      <td>Mobile</td>\n",
       "      <td>Low</td>\n",
       "    </tr>\n",
       "    <tr>\n",
       "      <th>18</th>\n",
       "      <td>18</td>\n",
       "      <td>Girl</td>\n",
       "      <td>16-20</td>\n",
       "      <td>College</td>\n",
       "      <td>Non Government</td>\n",
       "      <td>No</td>\n",
       "      <td>Yes</td>\n",
       "      <td>High</td>\n",
       "      <td>Mid</td>\n",
       "      <td>Wifi</td>\n",
       "      <td>4G</td>\n",
       "      <td>1-3</td>\n",
       "      <td>No</td>\n",
       "      <td>Mobile</td>\n",
       "      <td>Low</td>\n",
       "    </tr>\n",
       "    <tr>\n",
       "      <th>19</th>\n",
       "      <td>19</td>\n",
       "      <td>Girl</td>\n",
       "      <td>16-20</td>\n",
       "      <td>College</td>\n",
       "      <td>Non Government</td>\n",
       "      <td>No</td>\n",
       "      <td>Yes</td>\n",
       "      <td>High</td>\n",
       "      <td>Mid</td>\n",
       "      <td>Wifi</td>\n",
       "      <td>4G</td>\n",
       "      <td>3-6</td>\n",
       "      <td>No</td>\n",
       "      <td>Mobile</td>\n",
       "      <td>Moderate</td>\n",
       "    </tr>\n",
       "    <tr>\n",
       "      <th>20</th>\n",
       "      <td>20</td>\n",
       "      <td>Girl</td>\n",
       "      <td>6-10</td>\n",
       "      <td>School</td>\n",
       "      <td>Non Government</td>\n",
       "      <td>No</td>\n",
       "      <td>Yes</td>\n",
       "      <td>Low</td>\n",
       "      <td>Rich</td>\n",
       "      <td>Wifi</td>\n",
       "      <td>4G</td>\n",
       "      <td>1-3</td>\n",
       "      <td>No</td>\n",
       "      <td>Mobile</td>\n",
       "      <td>High</td>\n",
       "    </tr>\n",
       "    <tr>\n",
       "      <th>21</th>\n",
       "      <td>21</td>\n",
       "      <td>Boy</td>\n",
       "      <td>6-10</td>\n",
       "      <td>School</td>\n",
       "      <td>Government</td>\n",
       "      <td>No</td>\n",
       "      <td>Yes</td>\n",
       "      <td>Low</td>\n",
       "      <td>Mid</td>\n",
       "      <td>Mobile Data</td>\n",
       "      <td>4G</td>\n",
       "      <td>0</td>\n",
       "      <td>No</td>\n",
       "      <td>Mobile</td>\n",
       "      <td>Low</td>\n",
       "    </tr>\n",
       "    <tr>\n",
       "      <th>22</th>\n",
       "      <td>22</td>\n",
       "      <td>Girl</td>\n",
       "      <td>16-20</td>\n",
       "      <td>College</td>\n",
       "      <td>Non Government</td>\n",
       "      <td>No</td>\n",
       "      <td>No</td>\n",
       "      <td>Low</td>\n",
       "      <td>Mid</td>\n",
       "      <td>Mobile Data</td>\n",
       "      <td>3G</td>\n",
       "      <td>3-6</td>\n",
       "      <td>Yes</td>\n",
       "      <td>Mobile</td>\n",
       "      <td>Low</td>\n",
       "    </tr>\n",
       "    <tr>\n",
       "      <th>23</th>\n",
       "      <td>23</td>\n",
       "      <td>Girl</td>\n",
       "      <td>11-15</td>\n",
       "      <td>School</td>\n",
       "      <td>Non Government</td>\n",
       "      <td>No</td>\n",
       "      <td>Yes</td>\n",
       "      <td>Low</td>\n",
       "      <td>Mid</td>\n",
       "      <td>Mobile Data</td>\n",
       "      <td>3G</td>\n",
       "      <td>1-3</td>\n",
       "      <td>No</td>\n",
       "      <td>Mobile</td>\n",
       "      <td>Moderate</td>\n",
       "    </tr>\n",
       "    <tr>\n",
       "      <th>24</th>\n",
       "      <td>24</td>\n",
       "      <td>Boy</td>\n",
       "      <td>16-20</td>\n",
       "      <td>College</td>\n",
       "      <td>Government</td>\n",
       "      <td>No</td>\n",
       "      <td>Yes</td>\n",
       "      <td>Low</td>\n",
       "      <td>Mid</td>\n",
       "      <td>Wifi</td>\n",
       "      <td>4G</td>\n",
       "      <td>3-6</td>\n",
       "      <td>No</td>\n",
       "      <td>Mobile</td>\n",
       "      <td>Moderate</td>\n",
       "    </tr>\n",
       "    <tr>\n",
       "      <th>25</th>\n",
       "      <td>25</td>\n",
       "      <td>Boy</td>\n",
       "      <td>11-15</td>\n",
       "      <td>School</td>\n",
       "      <td>Non Government</td>\n",
       "      <td>No</td>\n",
       "      <td>Yes</td>\n",
       "      <td>Low</td>\n",
       "      <td>Mid</td>\n",
       "      <td>Mobile Data</td>\n",
       "      <td>4G</td>\n",
       "      <td>1-3</td>\n",
       "      <td>No</td>\n",
       "      <td>Mobile</td>\n",
       "      <td>Moderate</td>\n",
       "    </tr>\n",
       "    <tr>\n",
       "      <th>26</th>\n",
       "      <td>26</td>\n",
       "      <td>Girl</td>\n",
       "      <td>1-5</td>\n",
       "      <td>School</td>\n",
       "      <td>Non Government</td>\n",
       "      <td>No</td>\n",
       "      <td>Yes</td>\n",
       "      <td>Low</td>\n",
       "      <td>Mid</td>\n",
       "      <td>Mobile Data</td>\n",
       "      <td>4G</td>\n",
       "      <td>1-3</td>\n",
       "      <td>No</td>\n",
       "      <td>Mobile</td>\n",
       "      <td>Moderate</td>\n",
       "    </tr>\n",
       "    <tr>\n",
       "      <th>27</th>\n",
       "      <td>27</td>\n",
       "      <td>Boy</td>\n",
       "      <td>26-30</td>\n",
       "      <td>University</td>\n",
       "      <td>Non Government</td>\n",
       "      <td>Yes</td>\n",
       "      <td>Yes</td>\n",
       "      <td>Low</td>\n",
       "      <td>Mid</td>\n",
       "      <td>Wifi</td>\n",
       "      <td>4G</td>\n",
       "      <td>3-6</td>\n",
       "      <td>No</td>\n",
       "      <td>Computer</td>\n",
       "      <td>Moderate</td>\n",
       "    </tr>\n",
       "    <tr>\n",
       "      <th>28</th>\n",
       "      <td>28</td>\n",
       "      <td>Girl</td>\n",
       "      <td>1-5</td>\n",
       "      <td>School</td>\n",
       "      <td>Non Government</td>\n",
       "      <td>No</td>\n",
       "      <td>Yes</td>\n",
       "      <td>Low</td>\n",
       "      <td>Mid</td>\n",
       "      <td>Mobile Data</td>\n",
       "      <td>4G</td>\n",
       "      <td>1-3</td>\n",
       "      <td>No</td>\n",
       "      <td>Mobile</td>\n",
       "      <td>Moderate</td>\n",
       "    </tr>\n",
       "    <tr>\n",
       "      <th>29</th>\n",
       "      <td>29</td>\n",
       "      <td>Girl</td>\n",
       "      <td>16-20</td>\n",
       "      <td>College</td>\n",
       "      <td>Non Government</td>\n",
       "      <td>No</td>\n",
       "      <td>Yes</td>\n",
       "      <td>High</td>\n",
       "      <td>Mid</td>\n",
       "      <td>Wifi</td>\n",
       "      <td>4G</td>\n",
       "      <td>3-6</td>\n",
       "      <td>No</td>\n",
       "      <td>Mobile</td>\n",
       "      <td>Moderate</td>\n",
       "    </tr>\n",
       "  </tbody>\n",
       "</table>\n",
       "</div>"
      ],
      "text/plain": [
       "    Unnamed: 0 gender    age education_level institution_type IT_student  \\\n",
       "0            0    Boy  21-25      University   Non Government         No   \n",
       "1            1   Girl  21-25      University   Non Government         No   \n",
       "2            2   Girl  16-20         College       Government         No   \n",
       "3            3   Girl  11-15          School   Non Government         No   \n",
       "4            4   Girl  16-20          School   Non Government         No   \n",
       "5            5    Boy  11-15          School   Non Government         No   \n",
       "6            6    Boy  11-15          School   Non Government         No   \n",
       "7            7    Boy  11-15          School   Non Government         No   \n",
       "8            8    Boy  16-20         College       Government         No   \n",
       "9            9    Boy  11-15          School   Non Government         No   \n",
       "10          10   Girl  16-20      University       Government         No   \n",
       "11          11   Girl  16-20         College   Non Government         No   \n",
       "12          12    Boy  11-15          School   Non Government        Yes   \n",
       "13          13   Girl  16-20         College   Non Government         No   \n",
       "14          14   Girl  11-15          School   Non Government         No   \n",
       "15          15    Boy  11-15          School   Non Government         No   \n",
       "16          16   Girl  26-30      University       Government        Yes   \n",
       "17          17   Girl  21-25      University       Government         No   \n",
       "18          18   Girl  16-20         College   Non Government         No   \n",
       "19          19   Girl  16-20         College   Non Government         No   \n",
       "20          20   Girl   6-10          School   Non Government         No   \n",
       "21          21    Boy   6-10          School       Government         No   \n",
       "22          22   Girl  16-20         College   Non Government         No   \n",
       "23          23   Girl  11-15          School   Non Government         No   \n",
       "24          24    Boy  16-20         College       Government         No   \n",
       "25          25    Boy  11-15          School   Non Government         No   \n",
       "26          26   Girl    1-5          School   Non Government         No   \n",
       "27          27    Boy  26-30      University   Non Government        Yes   \n",
       "28          28   Girl    1-5          School   Non Government         No   \n",
       "29          29   Girl  16-20         College   Non Government         No   \n",
       "\n",
       "   location electricity_supply financial_condition internet_type network_type  \\\n",
       "0       Yes                Low                 Mid          Wifi           4G   \n",
       "1       Yes               High                 Mid   Mobile Data           4G   \n",
       "2       Yes                Low                 Mid          Wifi           4G   \n",
       "3       Yes                Low                 Mid   Mobile Data           4G   \n",
       "4       Yes                Low                Poor   Mobile Data           3G   \n",
       "5       Yes                Low                Poor   Mobile Data           3G   \n",
       "6       Yes                Low                 Mid          Wifi           4G   \n",
       "7       Yes                Low                 Mid          Wifi           4G   \n",
       "8       Yes                Low                 Mid          Wifi           4G   \n",
       "9       Yes                Low                 Mid   Mobile Data           3G   \n",
       "10      Yes                Low                 Mid          Wifi           4G   \n",
       "11      Yes                Low                 Mid          Wifi           4G   \n",
       "12      Yes                Low                 Mid   Mobile Data           3G   \n",
       "13       No                Low                 Mid          Wifi           4G   \n",
       "14      Yes                Low                Poor   Mobile Data           3G   \n",
       "15      Yes               High                Poor          Wifi           4G   \n",
       "16      Yes                Low                Poor   Mobile Data           4G   \n",
       "17       No                Low                 Mid          Wifi           4G   \n",
       "18      Yes               High                 Mid          Wifi           4G   \n",
       "19      Yes               High                 Mid          Wifi           4G   \n",
       "20      Yes                Low                Rich          Wifi           4G   \n",
       "21      Yes                Low                 Mid   Mobile Data           4G   \n",
       "22       No                Low                 Mid   Mobile Data           3G   \n",
       "23      Yes                Low                 Mid   Mobile Data           3G   \n",
       "24      Yes                Low                 Mid          Wifi           4G   \n",
       "25      Yes                Low                 Mid   Mobile Data           4G   \n",
       "26      Yes                Low                 Mid   Mobile Data           4G   \n",
       "27      Yes                Low                 Mid          Wifi           4G   \n",
       "28      Yes                Low                 Mid   Mobile Data           4G   \n",
       "29      Yes               High                 Mid          Wifi           4G   \n",
       "\n",
       "   class_duration learning_system    device adaptivity_level  \n",
       "0             3-6              No       Tab         Moderate  \n",
       "1             1-3             Yes    Mobile         Moderate  \n",
       "2             1-3              No    Mobile         Moderate  \n",
       "3             1-3              No    Mobile         Moderate  \n",
       "4               0              No    Mobile              Low  \n",
       "5             1-3              No    Mobile              Low  \n",
       "6               0              No    Mobile              Low  \n",
       "7             1-3              No    Mobile         Moderate  \n",
       "8             1-3              No    Mobile              Low  \n",
       "9             1-3              No    Mobile         Moderate  \n",
       "10            1-3              No    Mobile              Low  \n",
       "11            1-3              No    Mobile              Low  \n",
       "12            1-3              No    Mobile         Moderate  \n",
       "13            1-3              No    Mobile              Low  \n",
       "14            1-3              No    Mobile         Moderate  \n",
       "15            1-3              No    Mobile              Low  \n",
       "16              0              No  Computer              Low  \n",
       "17            1-3              No    Mobile              Low  \n",
       "18            1-3              No    Mobile              Low  \n",
       "19            3-6              No    Mobile         Moderate  \n",
       "20            1-3              No    Mobile             High  \n",
       "21              0              No    Mobile              Low  \n",
       "22            3-6             Yes    Mobile              Low  \n",
       "23            1-3              No    Mobile         Moderate  \n",
       "24            3-6              No    Mobile         Moderate  \n",
       "25            1-3              No    Mobile         Moderate  \n",
       "26            1-3              No    Mobile         Moderate  \n",
       "27            3-6              No  Computer         Moderate  \n",
       "28            1-3              No    Mobile         Moderate  \n",
       "29            3-6              No    Mobile         Moderate  "
      ]
     },
     "execution_count": 12,
     "metadata": {},
     "output_type": "execute_result"
    }
   ],
   "source": [
    "data_raw.head(30)"
   ]
  },
  {
   "cell_type": "code",
   "execution_count": 11,
   "id": "d66844a1",
   "metadata": {},
   "outputs": [
    {
     "name": "stdout",
     "output_type": "stream",
     "text": [
      "    Unnamed: 0  gender  age  education_level  institution_type  IT_student  \\\n",
      "0          0.0     0.0  3.0              2.0               1.0         0.0   \n",
      "1          1.0     1.0  3.0              2.0               1.0         0.0   \n",
      "2          2.0     1.0  2.0              0.0               0.0         0.0   \n",
      "3          3.0     1.0  1.0              1.0               1.0         0.0   \n",
      "4          4.0     1.0  2.0              1.0               1.0         0.0   \n",
      "5          5.0     0.0  1.0              1.0               1.0         0.0   \n",
      "6          6.0     0.0  1.0              1.0               1.0         0.0   \n",
      "7          7.0     0.0  1.0              1.0               1.0         0.0   \n",
      "8          8.0     0.0  2.0              0.0               0.0         0.0   \n",
      "9          9.0     0.0  1.0              1.0               1.0         0.0   \n",
      "10        10.0     1.0  2.0              2.0               0.0         0.0   \n",
      "11        11.0     1.0  2.0              0.0               1.0         0.0   \n",
      "12        12.0     0.0  1.0              1.0               1.0         1.0   \n",
      "13        13.0     1.0  2.0              0.0               1.0         0.0   \n",
      "14        14.0     1.0  1.0              1.0               1.0         0.0   \n",
      "15        15.0     0.0  1.0              1.0               1.0         0.0   \n",
      "16        16.0     1.0  4.0              2.0               0.0         1.0   \n",
      "17        17.0     1.0  3.0              2.0               0.0         0.0   \n",
      "18        18.0     1.0  2.0              0.0               1.0         0.0   \n",
      "19        19.0     1.0  2.0              0.0               1.0         0.0   \n",
      "20        20.0     1.0  5.0              1.0               1.0         0.0   \n",
      "21        21.0     0.0  5.0              1.0               0.0         0.0   \n",
      "22        22.0     1.0  2.0              0.0               1.0         0.0   \n",
      "23        23.0     1.0  1.0              1.0               1.0         0.0   \n",
      "24        24.0     0.0  2.0              0.0               0.0         0.0   \n",
      "25        25.0     0.0  1.0              1.0               1.0         0.0   \n",
      "26        26.0     1.0  0.0              1.0               1.0         0.0   \n",
      "27        27.0     0.0  4.0              2.0               1.0         1.0   \n",
      "28        28.0     1.0  0.0              1.0               1.0         0.0   \n",
      "29        29.0     1.0  2.0              0.0               1.0         0.0   \n",
      "\n",
      "    location  electricity_supply  financial_condition  internet_type  \\\n",
      "0        1.0                 1.0                  0.0            1.0   \n",
      "1        1.0                 0.0                  0.0            0.0   \n",
      "2        1.0                 1.0                  0.0            1.0   \n",
      "3        1.0                 1.0                  0.0            0.0   \n",
      "4        1.0                 1.0                  1.0            0.0   \n",
      "5        1.0                 1.0                  1.0            0.0   \n",
      "6        1.0                 1.0                  0.0            1.0   \n",
      "7        1.0                 1.0                  0.0            1.0   \n",
      "8        1.0                 1.0                  0.0            1.0   \n",
      "9        1.0                 1.0                  0.0            0.0   \n",
      "10       1.0                 1.0                  0.0            1.0   \n",
      "11       1.0                 1.0                  0.0            1.0   \n",
      "12       1.0                 1.0                  0.0            0.0   \n",
      "13       0.0                 1.0                  0.0            1.0   \n",
      "14       1.0                 1.0                  1.0            0.0   \n",
      "15       1.0                 0.0                  1.0            1.0   \n",
      "16       1.0                 1.0                  1.0            0.0   \n",
      "17       0.0                 1.0                  0.0            1.0   \n",
      "18       1.0                 0.0                  0.0            1.0   \n",
      "19       1.0                 0.0                  0.0            1.0   \n",
      "20       1.0                 1.0                  2.0            1.0   \n",
      "21       1.0                 1.0                  0.0            0.0   \n",
      "22       0.0                 1.0                  0.0            0.0   \n",
      "23       1.0                 1.0                  0.0            0.0   \n",
      "24       1.0                 1.0                  0.0            1.0   \n",
      "25       1.0                 1.0                  0.0            0.0   \n",
      "26       1.0                 1.0                  0.0            0.0   \n",
      "27       1.0                 1.0                  0.0            1.0   \n",
      "28       1.0                 1.0                  0.0            0.0   \n",
      "29       1.0                 0.0                  0.0            1.0   \n",
      "\n",
      "    network_type  class_duration  learning_system  device  adaptivity_level  \n",
      "0            2.0             2.0              0.0     2.0               2.0  \n",
      "1            2.0             1.0              1.0     1.0               2.0  \n",
      "2            2.0             1.0              0.0     1.0               2.0  \n",
      "3            2.0             1.0              0.0     1.0               2.0  \n",
      "4            1.0             0.0              0.0     1.0               1.0  \n",
      "5            1.0             1.0              0.0     1.0               1.0  \n",
      "6            2.0             0.0              0.0     1.0               1.0  \n",
      "7            2.0             1.0              0.0     1.0               2.0  \n",
      "8            2.0             1.0              0.0     1.0               1.0  \n",
      "9            1.0             1.0              0.0     1.0               2.0  \n",
      "10           2.0             1.0              0.0     1.0               1.0  \n",
      "11           2.0             1.0              0.0     1.0               1.0  \n",
      "12           1.0             1.0              0.0     1.0               2.0  \n",
      "13           2.0             1.0              0.0     1.0               1.0  \n",
      "14           1.0             1.0              0.0     1.0               2.0  \n",
      "15           2.0             1.0              0.0     1.0               1.0  \n",
      "16           2.0             0.0              0.0     0.0               1.0  \n",
      "17           2.0             1.0              0.0     1.0               1.0  \n",
      "18           2.0             1.0              0.0     1.0               1.0  \n",
      "19           2.0             2.0              0.0     1.0               2.0  \n",
      "20           2.0             1.0              0.0     1.0               0.0  \n",
      "21           2.0             0.0              0.0     1.0               1.0  \n",
      "22           1.0             2.0              1.0     1.0               1.0  \n",
      "23           1.0             1.0              0.0     1.0               2.0  \n",
      "24           2.0             2.0              0.0     1.0               2.0  \n",
      "25           2.0             1.0              0.0     1.0               2.0  \n",
      "26           2.0             1.0              0.0     1.0               2.0  \n",
      "27           2.0             2.0              0.0     0.0               2.0  \n",
      "28           2.0             1.0              0.0     1.0               2.0  \n",
      "29           2.0             2.0              0.0     1.0               2.0  \n",
      "(1205, 15)\n"
     ]
    }
   ],
   "source": [
    "from sklearn.preprocessing import OrdinalEncoder\n",
    "scaler = OrdinalEncoder()\n",
    "columns=data_raw.columns\n",
    "data = scaler.fit_transform(data_raw)\n",
    "scaled_data = pd.DataFrame(data,columns=columns)\n",
    "print(scaled_data.head(30))\n",
    "print(scaled_data.shape)"
   ]
  },
  {
   "cell_type": "code",
   "execution_count": 8,
   "id": "007800e4",
   "metadata": {},
   "outputs": [
    {
     "ename": "AttributeError",
     "evalue": "'numpy.ndarray' object has no attribute 'head'",
     "output_type": "error",
     "traceback": [
      "\u001b[1;31m---------------------------------------------------------------------------\u001b[0m",
      "\u001b[1;31mAttributeError\u001b[0m                            Traceback (most recent call last)",
      "\u001b[1;32m~\\AppData\\Local\\Temp/ipykernel_21096/1734893790.py\u001b[0m in \u001b[0;36m<module>\u001b[1;34m\u001b[0m\n\u001b[1;32m----> 1\u001b[1;33m \u001b[0mdata\u001b[0m\u001b[1;33m.\u001b[0m\u001b[0mhead\u001b[0m\u001b[1;33m(\u001b[0m\u001b[1;36m15\u001b[0m\u001b[1;33m)\u001b[0m\u001b[1;33m\u001b[0m\u001b[1;33m\u001b[0m\u001b[0m\n\u001b[0m",
      "\u001b[1;31mAttributeError\u001b[0m: 'numpy.ndarray' object has no attribute 'head'"
     ]
    }
   ],
   "source": [
    "data.head(15)"
   ]
  },
  {
   "cell_type": "code",
   "execution_count": 7,
   "id": "32ef2ce4",
   "metadata": {},
   "outputs": [
    {
     "ename": "AttributeError",
     "evalue": "'numpy.ndarray' object has no attribute 'columns'",
     "output_type": "error",
     "traceback": [
      "\u001b[1;31m---------------------------------------------------------------------------\u001b[0m",
      "\u001b[1;31mAttributeError\u001b[0m                            Traceback (most recent call last)",
      "\u001b[1;32m~\\AppData\\Local\\Temp/ipykernel_21096/442768481.py\u001b[0m in \u001b[0;36m<module>\u001b[1;34m\u001b[0m\n\u001b[1;32m----> 1\u001b[1;33m \u001b[1;32mfor\u001b[0m \u001b[0mcolumn\u001b[0m \u001b[1;32min\u001b[0m \u001b[0mdata\u001b[0m\u001b[1;33m.\u001b[0m\u001b[0mcolumns\u001b[0m\u001b[1;33m:\u001b[0m\u001b[1;33m\u001b[0m\u001b[1;33m\u001b[0m\u001b[0m\n\u001b[0m\u001b[0;32m      2\u001b[0m    \u001b[1;31m#data_raw[column].unique\u001b[0m\u001b[1;33m\u001b[0m\u001b[1;33m\u001b[0m\u001b[1;33m\u001b[0m\u001b[0m\n\u001b[0;32m      3\u001b[0m  \u001b[0mprint\u001b[0m \u001b[1;33m(\u001b[0m\u001b[0mdata\u001b[0m\u001b[1;33m[\u001b[0m\u001b[0mcolumn\u001b[0m\u001b[1;33m]\u001b[0m\u001b[1;33m.\u001b[0m\u001b[0munique\u001b[0m\u001b[1;33m(\u001b[0m\u001b[1;33m)\u001b[0m\u001b[1;33m)\u001b[0m\u001b[1;33m\u001b[0m\u001b[1;33m\u001b[0m\u001b[0m\n",
      "\u001b[1;31mAttributeError\u001b[0m: 'numpy.ndarray' object has no attribute 'columns'"
     ]
    }
   ],
   "source": [
    "for column in data.columns:\n",
    "   #data_raw[column].unique\n",
    " print (data[column].unique())"
   ]
  },
  {
   "cell_type": "code",
   "execution_count": 6,
   "id": "8e245fe7",
   "metadata": {},
   "outputs": [
    {
     "name": "stdout",
     "output_type": "stream",
     "text": [
      "[   0    1    2 ... 1202 1203 1204]\n",
      "['Boy' 'Girl']\n",
      "['21-25' '16-20' '11-15' '26-30' '6-10' '1-5']\n",
      "['University' 'College' 'School']\n",
      "['Non Government' 'Government']\n",
      "['No' 'Yes']\n",
      "['Yes' 'No']\n",
      "['Low' 'High']\n",
      "['Mid' 'Poor' 'Rich']\n",
      "['Wifi' 'Mobile Data']\n",
      "['4G' '3G' '2G']\n",
      "['3-6' '1-3' '0']\n",
      "['No' 'Yes']\n",
      "['Tab' 'Mobile' 'Computer']\n",
      "['Moderate' 'Low' 'High']\n"
     ]
    }
   ],
   "source": [
    "for column in data_raw.columns:\n",
    "   #data_raw[column].unique\n",
    " print (data_raw[column].unique())\n"
   ]
  },
  {
   "cell_type": "markdown",
   "id": "linear-lawrence",
   "metadata": {},
   "source": [
    "## Imports"
   ]
  },
  {
   "cell_type": "code",
   "execution_count": 6,
   "id": "second-culture",
   "metadata": {},
   "outputs": [],
   "source": [
    "import pandas as pd\n",
    "import numpy as np\n",
    "from sklearn.model_selection import train_test_split\n",
    "from sklearn.preprocessing import StandardScaler\n",
    "from sklearn.metrics import roc_auc_score, accuracy_score, confusion_matrix\n",
    "from sklearn.naive_bayes import GaussianNB\n",
    "from sklearn.neighbors import KNeighborsClassifier\n",
    "from sklearn import tree\n",
    "from scipy.stats import mode\n",
    "import seaborn as sns\n",
    "\n",
    "from sklearn.linear_model import LogisticRegression\n",
    "from sklearn.metrics import accuracy_score\n"
   ]
  },
  {
   "cell_type": "code",
   "execution_count": 7,
   "id": "80ee68ae",
   "metadata": {},
   "outputs": [],
   "source": [
    "X=scaled_data.drop(['adaptivity_level'],axis=1)#Features \n",
    "y=scaled_data['adaptivity_level'] #target\n",
    "\n"
   ]
  },
  {
   "cell_type": "markdown",
   "id": "hourly-somewhere",
   "metadata": {},
   "source": [
    "\n",
    "\n",
    "Crear los conjuntos de train y test"
   ]
  },
  {
   "cell_type": "code",
   "execution_count": 8,
   "id": "comparable-arrangement",
   "metadata": {},
   "outputs": [
    {
     "name": "stdout",
     "output_type": "stream",
     "text": [
      "(903, 14) (903,) (302, 14) (302,)\n"
     ]
    }
   ],
   "source": [
    "#Partition the data into train and test\n",
    "from sklearn.model_selection import train_test_split\n",
    "X_train, X_test, y_train, y_test = train_test_split(X,y,test_size=0.25, stratify=y)\n",
    "print(X_train.shape, y_train.shape, X_test.shape, y_test.shape)"
   ]
  },
  {
   "cell_type": "markdown",
   "id": "85188e3d",
   "metadata": {},
   "source": [
    "Se escala de acuerdo a https://scikit-learn.org/stable/modules/preprocessing.html"
   ]
  },
  {
   "cell_type": "code",
   "execution_count": 11,
   "id": "757a1c33",
   "metadata": {},
   "outputs": [],
   "source": [
    "from sklearn import preprocessing\n",
    "from sklearn.preprocessing import StandardScaler\n",
    "max_abs_scaler = preprocessing.MaxAbsScaler()\n",
    "X_train = max_abs_scaler.fit_transform(X_train)\n",
    "X_test = max_abs_scaler.transform(X_test)"
   ]
  },
  {
   "cell_type": "code",
   "execution_count": 12,
   "id": "1e565658",
   "metadata": {},
   "outputs": [
    {
     "data": {
      "text/plain": [
       "2.0    468\n",
       "1.0    360\n",
       "0.0     75\n",
       "Name: adaptivity_level, dtype: int64"
      ]
     },
     "execution_count": 12,
     "metadata": {},
     "output_type": "execute_result"
    }
   ],
   "source": [
    "y_train.value_counts()"
   ]
  },
  {
   "cell_type": "code",
   "execution_count": 13,
   "id": "f3e7f463",
   "metadata": {},
   "outputs": [
    {
     "data": {
      "text/plain": [
       "array([[0.3538206 , 0.        , 0.6       , ..., 1.        , 1.        ,\n",
       "        0.5       ],\n",
       "       [0.23504983, 0.        , 0.6       , ..., 0.5       , 1.        ,\n",
       "        0.        ],\n",
       "       [0.37624585, 1.        , 0.4       , ..., 0.        , 0.        ,\n",
       "        0.5       ],\n",
       "       ...,\n",
       "       [0.44684385, 0.        , 0.2       , ..., 0.        , 0.        ,\n",
       "        0.5       ],\n",
       "       [0.97093023, 1.        , 0.4       , ..., 1.        , 1.        ,\n",
       "        0.5       ],\n",
       "       [0.10963455, 0.        , 0.6       , ..., 1.        , 1.        ,\n",
       "        0.5       ]])"
      ]
     },
     "execution_count": 13,
     "metadata": {},
     "output_type": "execute_result"
    }
   ],
   "source": [
    "X_train"
   ]
  },
  {
   "cell_type": "code",
   "execution_count": 14,
   "id": "surprised-enclosure",
   "metadata": {},
   "outputs": [
    {
     "name": "stdout",
     "output_type": "stream",
     "text": [
      "0.6854304635761589\n"
     ]
    }
   ],
   "source": [
    "#Define the model Multinomial\n",
    "#softmax_model\n",
    "model_1 = LogisticRegression(multi_class=\"multinomial\",solver=\"lbfgs\", random_state=50,max_iter=1600)\n",
    "#Training model\n",
    "fit_1 = model_1.fit(X_train,y_train)\n",
    "#Forecast data\n",
    "y_predict_1 = fit_1.predict(X_test)\n",
    "accuracy_1 = accuracy_score(y_test,y_predict_1)\n",
    "print (accuracy_1)\n",
    "confusion_mat_1 = confusion_matrix(y_test, y_predict_1)"
   ]
  },
  {
   "cell_type": "code",
   "execution_count": 15,
   "metadata": {},
   "outputs": [
    {
     "data": {
      "text/plain": [
       "array([[  9,   6,  10],\n",
       "       [  0,  70,  50],\n",
       "       [  0,  29, 128]], dtype=int64)"
      ]
     },
     "execution_count": 15,
     "metadata": {},
     "output_type": "execute_result"
    }
   ],
   "source": [
    "confusion_mat_1"
   ]
  },
  {
   "cell_type": "markdown",
   "id": "supreme-harmony",
   "metadata": {},
   "source": [
    "\n",
    "\n",
    "Entrenar un modelo Regresion Logistica para predecir el valor de \"adaptivity_level\" y evaluar su perfomance en test mediante\n",
    "\n",
    "* accuracy\n",
    "\n",
    "* matriz de confusión\n",
    "    \n"
   ]
  },
  {
   "cell_type": "code",
   "execution_count": 16,
   "id": "aebce205",
   "metadata": {},
   "outputs": [
    {
     "name": "stdout",
     "output_type": "stream",
     "text": [
      "0.6854304635761589\n"
     ]
    }
   ],
   "source": [
    "from sklearn.linear_model import LogisticRegression\n",
    "from sklearn.metrics import accuracy_score\n",
    "from sklearn.metrics import plot_confusion_matrix\n",
    "#log_model\n",
    "model_2 = LogisticRegression(max_iter=200).fit(X_train,y_train)\n",
    "fit_2 = model_2.fit(X_train,y_train)\n",
    "y_predict_2 = fit_2.predict(X_test)\n",
    "accuracy_2 = accuracy_score(y_test,y_predict_2)\n",
    "confusion_mat_2 = confusion_matrix(y_test, y_predict_2)\n",
    "print(accuracy_2)\n"
   ]
  },
  {
   "cell_type": "markdown",
   "id": "silver-prefix",
   "metadata": {},
   "source": [
    "\n",
    "\n",
    "Entrenar un modelo KNN para predecir el valor de \"adaptivity_level\" y evaluar su perfomance en test mediante\n",
    "\n",
    "* accuracy\n",
    "\n",
    "* matriz de confusión\n"
   ]
  },
  {
   "cell_type": "code",
   "execution_count": 17,
   "id": "united-joint",
   "metadata": {},
   "outputs": [
    {
     "name": "stdout",
     "output_type": "stream",
     "text": [
      "0.8377483443708609\n"
     ]
    }
   ],
   "source": [
    "# Evaluamos nuevamente el accuracy del modelo con este K sugerido \n",
    "from sklearn.neighbors import KNeighborsClassifier as knn\n",
    "model_3 = knn(n_neighbors=3)\n",
    "# Ajustamos a los datos de entrenamiento.\n",
    "fit_3 = model_3.fit(X_train, y_train)\n",
    "y_predict_3 = fit_3.predict(X_test)\n",
    "accuracy_3 = accuracy_score(y_test,y_predict_3)\n",
    "# Predecimos etiquetas para los datos de test.\n",
    "print (accuracy_3)"
   ]
  },
  {
   "cell_type": "markdown",
   "id": "massive-workshop",
   "metadata": {},
   "source": [
    "\n",
    "\n",
    "Entrenar un modelo de Adabost para predecir el valor de \"adaptivity_level\" y evaluar su perfomance en test mediante\n",
    "\n",
    "* accuracy\n",
    "\n",
    "* matriz de confusión\n"
   ]
  },
  {
   "cell_type": "code",
   "execution_count": 18,
   "id": "upset-windows",
   "metadata": {},
   "outputs": [
    {
     "name": "stdout",
     "output_type": "stream",
     "text": [
      "0.6721854304635762\n"
     ]
    }
   ],
   "source": [
    "from sklearn.ensemble import AdaBoostClassifier\n",
    "model_4 = AdaBoostClassifier(n_estimators=50,learning_rate=1)\n",
    "fit_4 = model_4.fit(X_train, y_train)\n",
    "y_predict_4 = model_4.predict(X_test)\n",
    "accuracy_4 = accuracy_score(y_test, y_predict_4)\n",
    "print (accuracy_4)\n"
   ]
  },
  {
   "cell_type": "markdown",
   "id": "changed-cholesterol",
   "metadata": {},
   "source": [
    "## Modelo de ensamble\n",
    "\n",
    "\n",
    "Se construye un modelo de ensamble usando como modelos base los modelos anteriores.\n",
    "\n",
    "Para esto, escribimos una función `predict_ensamble`, que calcule el valor de la etiqueta adaptivity_level como la moda de las respuestas de los predictores base\n",
    "\n",
    " Evaluaremos la performance del ensamble mediante \n",
    "\n",
    "* accuracy\n",
    "\n",
    "* matriz de confusión\n",
    "\n",
    "\n"
   ]
  },
  {
   "cell_type": "code",
   "execution_count": 20,
   "id": "medium-devil",
   "metadata": {},
   "outputs": [],
   "source": [
    "def predict_ensamble_1(X, model_1, model_2, model_3, model_4):\n",
    "    y_predict_1 = model_1.predict(X)\n",
    "    y_predict_2 = model_2.predict(X)\n",
    "    y_predict_3 = model_3.predict(X)\n",
    "    y_predict_4 = model_4.predict(X)\n",
    "    result_mode = mode([y_predict_1, y_predict_2, y_predict_3,y_predict_4]).mode\n",
    "    result = np.transpose(result_mode)    \n",
    "    return result"
   ]
  },
  {
   "cell_type": "code",
   "execution_count": 21,
   "id": "083d71d5",
   "metadata": {},
   "outputs": [
    {
     "name": "stdout",
     "output_type": "stream",
     "text": [
      "0.7218543046357616\n"
     ]
    }
   ],
   "source": [
    "predict_cat_ensemble_1 = predict_ensamble_1(X_test, fit_1, fit_2, fit_3, fit_4)\n",
    "accuracy_ensemble_1 = accuracy_score(y_test, predict_cat_ensemble_1)\n",
    "print(accuracy_ensemble_1)\n"
   ]
  },
  {
   "cell_type": "code",
   "execution_count": 22,
   "id": "f40ce9c9",
   "metadata": {},
   "outputs": [
    {
     "name": "stdout",
     "output_type": "stream",
     "text": [
      "[[ 10   5  10]\n",
      " [  0  83  37]\n",
      " [  0  32 125]]\n"
     ]
    }
   ],
   "source": [
    "predict_cat_ensemble_1.shape\n",
    "conf_mat_ensemble_1 = confusion_matrix(y_test, predict_cat_ensemble_1)\n",
    "print(conf_mat_ensemble_1)"
   ]
  },
  {
   "cell_type": "code",
   "execution_count": 23,
   "id": "c1a885b4",
   "metadata": {},
   "outputs": [
    {
     "data": {
      "text/html": [
       "<div>\n",
       "<style scoped>\n",
       "    .dataframe tbody tr th:only-of-type {\n",
       "        vertical-align: middle;\n",
       "    }\n",
       "\n",
       "    .dataframe tbody tr th {\n",
       "        vertical-align: top;\n",
       "    }\n",
       "\n",
       "    .dataframe thead th {\n",
       "        text-align: right;\n",
       "    }\n",
       "</style>\n",
       "<table border=\"1\" class=\"dataframe\">\n",
       "  <thead>\n",
       "    <tr style=\"text-align: right;\">\n",
       "      <th></th>\n",
       "      <th>adaptivity_level</th>\n",
       "      <th>percentaje</th>\n",
       "    </tr>\n",
       "  </thead>\n",
       "  <tbody>\n",
       "    <tr>\n",
       "      <th>Moderate</th>\n",
       "      <td>625</td>\n",
       "      <td>51.87</td>\n",
       "    </tr>\n",
       "    <tr>\n",
       "      <th>Low</th>\n",
       "      <td>480</td>\n",
       "      <td>39.83</td>\n",
       "    </tr>\n",
       "    <tr>\n",
       "      <th>High</th>\n",
       "      <td>100</td>\n",
       "      <td>8.30</td>\n",
       "    </tr>\n",
       "  </tbody>\n",
       "</table>\n",
       "</div>"
      ],
      "text/plain": [
       "          adaptivity_level  percentaje\n",
       "Moderate               625       51.87\n",
       "Low                    480       39.83\n",
       "High                   100        8.30"
      ]
     },
     "execution_count": 23,
     "metadata": {},
     "output_type": "execute_result"
    }
   ],
   "source": [
    "#Percentaje of items on the variable target\n",
    "target =pd.DataFrame(data_raw['adaptivity_level'].value_counts())\n",
    "target['percentaje']=round(target/ data_raw.shape[0]*100,2)\n",
    "target[:]"
   ]
  },
  {
   "cell_type": "markdown",
   "id": "430879f3",
   "metadata": {},
   "source": [
    "Null Hypothesis: Probability of find a students with Moderate category is as follows: \n",
    "\n",
    "$$ Probability = \\frac{625}{1205}  = 0.518$$"
   ]
  },
  {
   "cell_type": "markdown",
   "id": "13a85a57",
   "metadata": {},
   "source": [
    "Null Hypothesis:\n",
    "\n",
    "H0: The probability of find a student with Moderate category = 0,518\n",
    "\n",
    "Alternative hypothesis.\n",
    "\n",
    "H1: The probability of find a student with Moderate category > 0,518"
   ]
  },
  {
   "cell_type": "code",
   "execution_count": 25,
   "id": "414a691c",
   "metadata": {},
   "outputs": [],
   "source": [
    "H0=0.518672"
   ]
  },
  {
   "cell_type": "code",
   "execution_count": 26,
   "id": "forward-theater",
   "metadata": {},
   "outputs": [
    {
     "data": {
      "text/html": [
       "<div>\n",
       "<style scoped>\n",
       "    .dataframe tbody tr th:only-of-type {\n",
       "        vertical-align: middle;\n",
       "    }\n",
       "\n",
       "    .dataframe tbody tr th {\n",
       "        vertical-align: top;\n",
       "    }\n",
       "\n",
       "    .dataframe thead th {\n",
       "        text-align: right;\n",
       "    }\n",
       "</style>\n",
       "<table border=\"1\" class=\"dataframe\">\n",
       "  <thead>\n",
       "    <tr style=\"text-align: right;\">\n",
       "      <th></th>\n",
       "      <th>Modelo</th>\n",
       "      <th>Accuracy</th>\n",
       "    </tr>\n",
       "  </thead>\n",
       "  <tbody>\n",
       "    <tr>\n",
       "      <th>3</th>\n",
       "      <td>KNeighborsClassifier</td>\n",
       "      <td>0.837748</td>\n",
       "    </tr>\n",
       "    <tr>\n",
       "      <th>5</th>\n",
       "      <td>predict_ensamble_1</td>\n",
       "      <td>0.721854</td>\n",
       "    </tr>\n",
       "    <tr>\n",
       "      <th>1</th>\n",
       "      <td>Multinomial</td>\n",
       "      <td>0.685430</td>\n",
       "    </tr>\n",
       "    <tr>\n",
       "      <th>2</th>\n",
       "      <td>LogisticRegression</td>\n",
       "      <td>0.685430</td>\n",
       "    </tr>\n",
       "    <tr>\n",
       "      <th>4</th>\n",
       "      <td>AdaBoostClassifier</td>\n",
       "      <td>0.672185</td>\n",
       "    </tr>\n",
       "    <tr>\n",
       "      <th>0</th>\n",
       "      <td>H0</td>\n",
       "      <td>0.518672</td>\n",
       "    </tr>\n",
       "  </tbody>\n",
       "</table>\n",
       "</div>"
      ],
      "text/plain": [
       "                 Modelo  Accuracy\n",
       "3  KNeighborsClassifier  0.837748\n",
       "5    predict_ensamble_1  0.721854\n",
       "1           Multinomial  0.685430\n",
       "2    LogisticRegression  0.685430\n",
       "4    AdaBoostClassifier  0.672185\n",
       "0                    H0  0.518672"
      ]
     },
     "execution_count": 26,
     "metadata": {},
     "output_type": "execute_result"
    }
   ],
   "source": [
    "### Resumen rendimiento de los modelos\n",
    "modelo_performance_accuracy = pd.DataFrame({'Modelo': ['H0',\n",
    "                                                      'Multinomial',\n",
    "                                                      'LogisticRegression',  \n",
    "                                                      'KNeighborsClassifier',\n",
    "                                                      'AdaBoostClassifier',\n",
    "                                                      'predict_ensamble_1'],\n",
    "                                            'Accuracy': [H0,\n",
    "                                                         accuracy_1,\n",
    "                                                         accuracy_2,\n",
    "                                                         accuracy_3,\n",
    "                                                         accuracy_4,\n",
    "                                                         accuracy_ensemble_1]})\n",
    "modelo_performance_accuracy.sort_values(by = \"Accuracy\", ascending = False)"
   ]
  },
  {
   "cell_type": "markdown",
   "id": "0cd8c5e0",
   "metadata": {},
   "source": [
    "## Conclusión acerca de la técnica del ensamble\n",
    "\n",
    "La performance del modelo de ensamble es superior respecto de la obtenida en los modelos base"
   ]
  },
  {
   "cell_type": "markdown",
   "id": "67f5837a",
   "metadata": {},
   "source": [
    "## Ampliación de técnica del ensamble\n",
    "\n",
    "Se evaluará la performance del modelo de ensamble ampliando la cantidad de los modelos base"
   ]
  },
  {
   "cell_type": "code",
   "execution_count": 27,
   "id": "c63a0a25",
   "metadata": {},
   "outputs": [
    {
     "name": "stdout",
     "output_type": "stream",
     "text": [
      "0.6920529801324503\n"
     ]
    }
   ],
   "source": [
    "#Naive Bayes\n",
    "model_5 = GaussianNB()\n",
    "fit_5 = model_5.fit(X_train, y_train)\n",
    "y_predict_5 = model_5.predict(X_test)\n",
    "accuracy_5 = accuracy_score(y_test, y_predict_5)\n",
    "print (accuracy_5)\n"
   ]
  },
  {
   "cell_type": "code",
   "execution_count": 28,
   "id": "0ca2ccf6",
   "metadata": {},
   "outputs": [
    {
     "name": "stdout",
     "output_type": "stream",
     "text": [
      "0.7913907284768212\n"
     ]
    }
   ],
   "source": [
    "from sklearn.tree import DecisionTreeRegressor\n",
    "model_6 = DecisionTreeRegressor()\n",
    "fit_6 = model_6.fit(X_train, y_train)\n",
    "y_predict_6 = model_6.predict(X_test)\n",
    "accuracy_6 = accuracy_score(y_test, y_predict_6)\n",
    "print (accuracy_6)\n"
   ]
  },
  {
   "cell_type": "code",
   "execution_count": 29,
   "id": "8010333f",
   "metadata": {},
   "outputs": [
    {
     "name": "stdout",
     "output_type": "stream",
     "text": [
      "0.7582781456953642\n"
     ]
    }
   ],
   "source": [
    "#Decision Tree\n",
    "\n",
    "model_7 = tree.DecisionTreeClassifier()\n",
    "fit_7 = model_7.fit(X_train, y_train)\n",
    "y_predict_7 = model_7.predict(X_test)\n",
    "accuracy_7 = accuracy_score(y_test, y_predict_7)\n",
    "print (accuracy_7)"
   ]
  },
  {
   "cell_type": "code",
   "execution_count": 31,
   "id": "3d00c116",
   "metadata": {},
   "outputs": [
    {
     "name": "stdout",
     "output_type": "stream",
     "text": [
      "Fitting 4 folds for each of 6400 candidates, totalling 25600 fits\n"
     ]
    },
    {
     "name": "stderr",
     "output_type": "stream",
     "text": [
      "[Parallel(n_jobs=-1)]: Using backend LokyBackend with 4 concurrent workers.\n",
      "[Parallel(n_jobs=-1)]: Done  59 tasks      | elapsed:    5.5s\n",
      "[Parallel(n_jobs=-1)]: Done 4240 tasks      | elapsed:   13.5s\n",
      "[Parallel(n_jobs=-1)]: Done 12240 tasks      | elapsed:   30.8s\n",
      "[Parallel(n_jobs=-1)]: Done 23440 tasks      | elapsed:   52.7s\n",
      "[Parallel(n_jobs=-1)]: Done 25600 out of 25600 | elapsed:   56.7s finished\n"
     ]
    },
    {
     "name": "stdout",
     "output_type": "stream",
     "text": [
      "0.8675496688741722\n"
     ]
    }
   ],
   "source": [
    "from sklearn.model_selection import GridSearchCV\n",
    "#GridSearch\n",
    "params = {\n",
    "    'max_depth': range(1,20,2),\n",
    "    'min_samples_leaf': range(1,100,5),\n",
    "    'min_samples_split': range(2,10),\n",
    "    'criterion': [\"gini\", \"entropy\"],\n",
    "    'splitter':['best', 'random'],\n",
    "    'max_features': ['auto']\n",
    "}\n",
    "model_8 = GridSearchCV(estimator=model_7,\n",
    "                           param_grid=params,\n",
    "                           cv=4, n_jobs=-1, verbose=1, scoring=\"accuracy\", error_score='raise')\n",
    "\n",
    "fit_8 = model_8.fit(X_train,y_train.values.ravel())\n",
    "y_predict_8 = model_8.predict(X_test)\n",
    "accuracy_8 = accuracy_score(y_test, y_predict_8)\n",
    "print (accuracy_8)"
   ]
  },
  {
   "cell_type": "code",
   "execution_count": 37,
   "id": "e46224c6",
   "metadata": {},
   "outputs": [],
   "source": [
    "def predict_ensamble_2(X, model_1, model_2, model_3, model_4, model_5, model_6, model_7, model_8):\n",
    "    y_predict_1 = model_1.predict(X)\n",
    "    y_predict_2 = model_2.predict(X)\n",
    "    y_predict_3 = model_3.predict(X)\n",
    "    y_predict_4 = model_4.predict(X)\n",
    "    y_predict_5 = model_5.predict(X)\n",
    "    y_predict_6 = model_6.predict(X)\n",
    "    y_predict_7 = model_7.predict(X)\n",
    "    y_predict_8 = model_8.predict(X)\n",
    "    result_mode_2 = mode([y_predict_1, y_predict_2, y_predict_3,y_predict_4,y_predict_5,y_predict_6,y_predict_7,y_predict_8]).mode\n",
    "    result = np.transpose(result_mode_2)    \n",
    "    return result"
   ]
  },
  {
   "cell_type": "code",
   "execution_count": 38,
   "id": "8299d06d",
   "metadata": {},
   "outputs": [
    {
     "name": "stdout",
     "output_type": "stream",
     "text": [
      "0.7980132450331126\n"
     ]
    }
   ],
   "source": [
    "predict_cat_ensemble_2 = predict_ensamble_2(X_test, fit_1, fit_2, fit_3, fit_4,fit_5,fit_6,fit_7,fit_8)\n",
    "accuracy_ensemble_2 = accuracy_score(y_test, predict_cat_ensemble_2)\n",
    "print(accuracy_ensemble_2)"
   ]
  },
  {
   "cell_type": "code",
   "execution_count": 39,
   "id": "af71bf06",
   "metadata": {},
   "outputs": [
    {
     "data": {
      "text/html": [
       "<div>\n",
       "<style scoped>\n",
       "    .dataframe tbody tr th:only-of-type {\n",
       "        vertical-align: middle;\n",
       "    }\n",
       "\n",
       "    .dataframe tbody tr th {\n",
       "        vertical-align: top;\n",
       "    }\n",
       "\n",
       "    .dataframe thead th {\n",
       "        text-align: right;\n",
       "    }\n",
       "</style>\n",
       "<table border=\"1\" class=\"dataframe\">\n",
       "  <thead>\n",
       "    <tr style=\"text-align: right;\">\n",
       "      <th></th>\n",
       "      <th>Modelo</th>\n",
       "      <th>Accuracy</th>\n",
       "    </tr>\n",
       "  </thead>\n",
       "  <tbody>\n",
       "    <tr>\n",
       "      <th>8</th>\n",
       "      <td>GridSearch</td>\n",
       "      <td>0.867550</td>\n",
       "    </tr>\n",
       "    <tr>\n",
       "      <th>3</th>\n",
       "      <td>KNeighborsClassifier</td>\n",
       "      <td>0.837748</td>\n",
       "    </tr>\n",
       "    <tr>\n",
       "      <th>10</th>\n",
       "      <td>predict_ensamble_1</td>\n",
       "      <td>0.798013</td>\n",
       "    </tr>\n",
       "    <tr>\n",
       "      <th>6</th>\n",
       "      <td>DecisionTreeRegressor</td>\n",
       "      <td>0.791391</td>\n",
       "    </tr>\n",
       "    <tr>\n",
       "      <th>7</th>\n",
       "      <td>DecisionTreeClassifier</td>\n",
       "      <td>0.758278</td>\n",
       "    </tr>\n",
       "    <tr>\n",
       "      <th>9</th>\n",
       "      <td>predict_ensamble_2</td>\n",
       "      <td>0.721854</td>\n",
       "    </tr>\n",
       "    <tr>\n",
       "      <th>5</th>\n",
       "      <td>Naive Bayes</td>\n",
       "      <td>0.692053</td>\n",
       "    </tr>\n",
       "    <tr>\n",
       "      <th>1</th>\n",
       "      <td>Multinomial</td>\n",
       "      <td>0.685430</td>\n",
       "    </tr>\n",
       "    <tr>\n",
       "      <th>2</th>\n",
       "      <td>LogisticRegression</td>\n",
       "      <td>0.685430</td>\n",
       "    </tr>\n",
       "    <tr>\n",
       "      <th>4</th>\n",
       "      <td>AdaBoostClassifier</td>\n",
       "      <td>0.672185</td>\n",
       "    </tr>\n",
       "    <tr>\n",
       "      <th>0</th>\n",
       "      <td>H0</td>\n",
       "      <td>0.518672</td>\n",
       "    </tr>\n",
       "  </tbody>\n",
       "</table>\n",
       "</div>"
      ],
      "text/plain": [
       "                    Modelo  Accuracy\n",
       "8               GridSearch  0.867550\n",
       "3     KNeighborsClassifier  0.837748\n",
       "10      predict_ensamble_1  0.798013\n",
       "6    DecisionTreeRegressor  0.791391\n",
       "7   DecisionTreeClassifier  0.758278\n",
       "9       predict_ensamble_2  0.721854\n",
       "5              Naive Bayes  0.692053\n",
       "1              Multinomial  0.685430\n",
       "2       LogisticRegression  0.685430\n",
       "4       AdaBoostClassifier  0.672185\n",
       "0                       H0  0.518672"
      ]
     },
     "execution_count": 39,
     "metadata": {},
     "output_type": "execute_result"
    }
   ],
   "source": [
    "### Resumen rendimiento de los modelos\n",
    "modelo_performance_accuracy = pd.DataFrame({'Modelo': ['H0',\n",
    "                                                      'Multinomial',\n",
    "                                                      'LogisticRegression',  \n",
    "                                                      'KNeighborsClassifier',\n",
    "                                                      'AdaBoostClassifier',\n",
    "                                                      'Naive Bayes',\n",
    "                                                      'DecisionTreeRegressor',  \n",
    "                                                      'DecisionTreeClassifier',\n",
    "                                                      'GridSearch',\n",
    "                                                      'predict_ensamble_2',\n",
    "                                                      'predict_ensamble_1',\n",
    "                                                      ],\n",
    "                                            'Accuracy': [H0,\n",
    "                                                         accuracy_1,\n",
    "                                                         accuracy_2,\n",
    "                                                         accuracy_3,\n",
    "                                                         accuracy_4,\n",
    "                                                         accuracy_5,\n",
    "                                                         accuracy_6,\n",
    "                                                         accuracy_7,\n",
    "                                                         accuracy_8,\n",
    "                                                         accuracy_ensemble_1,\n",
    "                                                         accuracy_ensemble_2]})\n",
    "modelo_performance_accuracy.sort_values(by = \"Accuracy\", ascending = False)"
   ]
  },
  {
   "cell_type": "markdown",
   "id": "handmade-underwear",
   "metadata": {},
   "source": [
    "Se aprecia un descenso en el accuracy en el ensamble al agregar más modelos"
   ]
  },
  {
   "cell_type": "markdown",
   "id": "d0262d92",
   "metadata": {},
   "source": [
    "Para los modelos donde el accuracy es mayor que 0.518 Entonces se rechaza la hipotesis nula, a favor de la hipotesis alternativa. \n",
    "El modelo es capaz de predecir moderado con un accuracy mayor que la regla de tres."
   ]
  },
  {
   "cell_type": "code",
   "execution_count": null,
   "id": "understanding-female",
   "metadata": {},
   "outputs": [],
   "source": []
  },
  {
   "cell_type": "code",
   "execution_count": null,
   "id": "alternative-means",
   "metadata": {},
   "outputs": [],
   "source": []
  },
  {
   "cell_type": "code",
   "execution_count": null,
   "id": "peripheral-cuisine",
   "metadata": {},
   "outputs": [],
   "source": []
  }
 ],
 "metadata": {
  "kernelspec": {
   "display_name": "Python 3.8.12 ('dhdsblend2021')",
   "language": "python",
   "name": "python3"
  },
  "language_info": {
   "codemirror_mode": {
    "name": "ipython",
    "version": 3
   },
   "file_extension": ".py",
   "mimetype": "text/x-python",
   "name": "python",
   "nbconvert_exporter": "python",
   "pygments_lexer": "ipython3",
   "version": "3.8.12"
  },
  "vscode": {
   "interpreter": {
    "hash": "69291a227d98294a4c49812415e630bf81268205ac53bf79cac4384d2185fd0f"
   }
  }
 },
 "nbformat": 4,
 "nbformat_minor": 5
}
