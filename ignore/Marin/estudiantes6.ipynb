{
 "cells": [
  {
   "cell_type": "markdown",
   "metadata": {
    "id": "Eyu2fJs9h9Wj"
   },
   "source": [
    "# Students Adaptability Level in Online Education\n",
    "Effectiveness of online education\n"
   ]
  },
  {
   "cell_type": "markdown",
   "metadata": {
    "id": "yYXEujmrh9Wp"
   },
   "source": [
    "## Dataset\n",
    "\n",
    "**Introducción**\n",
    "\n",
    "Since as a beginner in machine learning it would be a great opportunity to try some techniques to predict the outcome of Students’ Adaptability Level Prediction in Online Education using Machine Learning Approaches\n",
    "\n",
    "\n",
    "**Fuente**\n",
    "\n",
    "the original research paper. Students' Adaptability Level Prediction in Online Education using Machine Learning Approaches or DOI: 10.1109/ICCCNT51525.2021.9579741\n",
    "\n",
    "https://www.kaggle.com/datasets/mdmahmudulhasansuzan/students-adaptability-level-in-online-education\n",
    "\n",
    "**Inspiration**\n",
    "\n",
    "To get an idea about the effectiveness of online education\n",
    "\n",
    "\n",
    "\n",
    "\n",
    "**Variables**\n",
    "\n",
    "The target feature is:\n",
    "Adaptivity level\n",
    "\n",
    "The feature sets are:\n",
    "Gender |\n",
    "Age|\n",
    "Education Level|\n",
    "Institution Type|\n",
    "IT Student|\n",
    "Location in Town|\n",
    "Load-shedding|\n",
    "Financial Condition|\n",
    "Internet Type|\n",
    "Network Type|\n",
    "Class Duration|\n",
    "Self LMS|\n",
    "Device|\n",
    "\n"
   ]
  },
  {
   "cell_type": "markdown",
   "metadata": {
    "id": "LFq7cOCGh9Wq"
   },
   "source": [
    "## Imports"
   ]
  },
  {
   "cell_type": "code",
   "execution_count": 1,
   "metadata": {},
   "outputs": [],
   "source": [
    "# Tratamiento de datos\n",
    "# ==============================================================================\n",
    "import numpy as np\n",
    "import pandas as pd\n",
    "#from tabulate import tabulate\n",
    "\n",
    "# Gráficos\n",
    "# ==============================================================================\n",
    "import matplotlib.pyplot as plt\n",
    "from matplotlib import style\n",
    "import matplotlib.ticker as ticker\n",
    "import seaborn as sns\n",
    "\n",
    "# Preprocesado y modelado\n",
    "# ==============================================================================\n",
    "from sklearn.model_selection import train_test_split\n",
    "from sklearn.model_selection import GridSearchCV\n",
    "from sklearn.model_selection import RepeatedKFold\n",
    "from sklearn.neighbors import KNeighborsClassifier\n",
    "from sklearn.datasets import make_blobs\n",
    "from sklearn.metrics import euclidean_distances\n",
    "from sklearn.neighbors import KNeighborsClassifier\n",
    "from sklearn.ensemble import RandomForestClassifier\n",
    "from sklearn.linear_model import Ridge\n",
    "\n",
    "#from skopt.space import Real, Integer\n",
    "#from skopt.utils import use_named_args\n",
    "#from skopt import gp_minimize\n",
    "#from skopt.plots import plot_convergence\n",
    "\n",
    "# Varios\n",
    "# ==============================================================================\n",
    "import multiprocessing\n",
    "import random\n",
    "from itertools import product\n",
    "#from fitter import Fitter, get_common_distributions\n",
    "# Configuración matplotlib\n",
    "# ==============================================================================\n",
    "plt.rcParams['image.cmap'] = \"bwr\"\n",
    "#plt.rcParams['figure.dpi'] = \"100\"\n",
    "plt.rcParams['savefig.bbox'] = \"tight\"\n",
    "style.use('ggplot') or plt.style.use('ggplot')\n",
    "\n",
    "# Configuración warnings\n",
    "# ==============================================================================\n",
    "import warnings\n",
    "warnings.filterwarnings('ignore')"
   ]
  },
  {
   "cell_type": "markdown",
   "metadata": {
    "id": "ErdMlqheh9Wt"
   },
   "source": [
    "##  Análisis exploratorio\n",
    "\n",
    "1.1) Leamos los datos del archivo students_adaptability_level_online_education.csv\n",
    "\n"
   ]
  },
  {
   "cell_type": "code",
   "execution_count": 2,
   "metadata": {
    "colab": {
     "base_uri": "https://localhost:8080/"
    },
    "id": "SSX45W9kh9Wu",
    "outputId": "aa6c2e1b-64da-4f97-dc74-c0ae96e5caea"
   },
   "outputs": [
    {
     "data": {
      "text/plain": [
       "(1205, 14)"
      ]
     },
     "execution_count": 2,
     "metadata": {},
     "output_type": "execute_result"
    }
   ],
   "source": [
    "data_raw = pd.read_csv('students_adaptability_level_online_education.csv')\n",
    "data_raw.shape"
   ]
  },
  {
   "cell_type": "markdown",
   "metadata": {},
   "source": [
    "la exploracion descriptiva es vital en el analisis de cualquier dataset, pues permite comprender como se presenta la informacion,identificar errores y corregirlos, segmentar informacion, eliminar valores extremos, identificar las posibles hipotesis a las que el analisis de datos intentara dara respuesta."
   ]
  },
  {
   "cell_type": "code",
   "execution_count": 3,
   "metadata": {},
   "outputs": [
    {
     "data": {
      "text/html": [
       "<div>\n",
       "<style scoped>\n",
       "    .dataframe tbody tr th:only-of-type {\n",
       "        vertical-align: middle;\n",
       "    }\n",
       "\n",
       "    .dataframe tbody tr th {\n",
       "        vertical-align: top;\n",
       "    }\n",
       "\n",
       "    .dataframe thead th {\n",
       "        text-align: right;\n",
       "    }\n",
       "</style>\n",
       "<table border=\"1\" class=\"dataframe\">\n",
       "  <thead>\n",
       "    <tr style=\"text-align: right;\">\n",
       "      <th></th>\n",
       "      <th>Gender</th>\n",
       "      <th>Age</th>\n",
       "      <th>Education Level</th>\n",
       "      <th>Institution Type</th>\n",
       "      <th>IT Student</th>\n",
       "      <th>Location</th>\n",
       "      <th>Load-shedding</th>\n",
       "      <th>Financial Condition</th>\n",
       "      <th>Internet Type</th>\n",
       "      <th>Network Type</th>\n",
       "      <th>Class Duration</th>\n",
       "      <th>Self Lms</th>\n",
       "      <th>Device</th>\n",
       "      <th>Adaptivity Level</th>\n",
       "    </tr>\n",
       "  </thead>\n",
       "  <tbody>\n",
       "    <tr>\n",
       "      <th>0</th>\n",
       "      <td>Boy</td>\n",
       "      <td>21-25</td>\n",
       "      <td>University</td>\n",
       "      <td>Non Government</td>\n",
       "      <td>No</td>\n",
       "      <td>Yes</td>\n",
       "      <td>Low</td>\n",
       "      <td>Mid</td>\n",
       "      <td>Wifi</td>\n",
       "      <td>4G</td>\n",
       "      <td>3-6</td>\n",
       "      <td>No</td>\n",
       "      <td>Tab</td>\n",
       "      <td>Moderate</td>\n",
       "    </tr>\n",
       "    <tr>\n",
       "      <th>1</th>\n",
       "      <td>Girl</td>\n",
       "      <td>21-25</td>\n",
       "      <td>University</td>\n",
       "      <td>Non Government</td>\n",
       "      <td>No</td>\n",
       "      <td>Yes</td>\n",
       "      <td>High</td>\n",
       "      <td>Mid</td>\n",
       "      <td>Mobile Data</td>\n",
       "      <td>4G</td>\n",
       "      <td>1-3</td>\n",
       "      <td>Yes</td>\n",
       "      <td>Mobile</td>\n",
       "      <td>Moderate</td>\n",
       "    </tr>\n",
       "    <tr>\n",
       "      <th>2</th>\n",
       "      <td>Girl</td>\n",
       "      <td>16-20</td>\n",
       "      <td>College</td>\n",
       "      <td>Government</td>\n",
       "      <td>No</td>\n",
       "      <td>Yes</td>\n",
       "      <td>Low</td>\n",
       "      <td>Mid</td>\n",
       "      <td>Wifi</td>\n",
       "      <td>4G</td>\n",
       "      <td>1-3</td>\n",
       "      <td>No</td>\n",
       "      <td>Mobile</td>\n",
       "      <td>Moderate</td>\n",
       "    </tr>\n",
       "    <tr>\n",
       "      <th>3</th>\n",
       "      <td>Girl</td>\n",
       "      <td>11-15</td>\n",
       "      <td>School</td>\n",
       "      <td>Non Government</td>\n",
       "      <td>No</td>\n",
       "      <td>Yes</td>\n",
       "      <td>Low</td>\n",
       "      <td>Mid</td>\n",
       "      <td>Mobile Data</td>\n",
       "      <td>4G</td>\n",
       "      <td>1-3</td>\n",
       "      <td>No</td>\n",
       "      <td>Mobile</td>\n",
       "      <td>Moderate</td>\n",
       "    </tr>\n",
       "  </tbody>\n",
       "</table>\n",
       "</div>"
      ],
      "text/plain": [
       "  Gender    Age Education Level Institution Type IT Student Location  \\\n",
       "0    Boy  21-25      University   Non Government         No      Yes   \n",
       "1   Girl  21-25      University   Non Government         No      Yes   \n",
       "2   Girl  16-20         College       Government         No      Yes   \n",
       "3   Girl  11-15          School   Non Government         No      Yes   \n",
       "\n",
       "  Load-shedding Financial Condition Internet Type Network Type Class Duration  \\\n",
       "0           Low                 Mid          Wifi           4G            3-6   \n",
       "1          High                 Mid   Mobile Data           4G            1-3   \n",
       "2           Low                 Mid          Wifi           4G            1-3   \n",
       "3           Low                 Mid   Mobile Data           4G            1-3   \n",
       "\n",
       "  Self Lms  Device Adaptivity Level  \n",
       "0       No     Tab         Moderate  \n",
       "1      Yes  Mobile         Moderate  \n",
       "2       No  Mobile         Moderate  \n",
       "3       No  Mobile         Moderate  "
      ]
     },
     "execution_count": 3,
     "metadata": {},
     "output_type": "execute_result"
    }
   ],
   "source": [
    "data_raw.head(4)"
   ]
  },
  {
   "cell_type": "markdown",
   "metadata": {},
   "source": [
    "identificamos las columnas y renombramos por facilidad de analisis"
   ]
  },
  {
   "cell_type": "code",
   "execution_count": 4,
   "metadata": {
    "colab": {
     "base_uri": "https://localhost:8080/"
    },
    "id": "uvrtw64Fh9Ww",
    "outputId": "9defbef1-35e9-45fb-e52f-74dd2382fa77"
   },
   "outputs": [
    {
     "data": {
      "text/plain": [
       "Index(['Gender', 'Age', 'Education Level', 'Institution Type', 'IT Student',\n",
       "       'Location', 'Load-shedding', 'Financial Condition', 'Internet Type',\n",
       "       'Network Type', 'Class Duration', 'Self Lms', 'Device',\n",
       "       'Adaptivity Level'],\n",
       "      dtype='object')"
      ]
     },
     "execution_count": 4,
     "metadata": {},
     "output_type": "execute_result"
    }
   ],
   "source": [
    "data_raw.columns"
   ]
  },
  {
   "cell_type": "markdown",
   "metadata": {
    "id": "PqT0OZzjh9Wx"
   },
   "source": [
    "Renombramos las columnas"
   ]
  },
  {
   "cell_type": "code",
   "execution_count": 5,
   "metadata": {
    "id": "HlLADXhRh9Wy"
   },
   "outputs": [],
   "source": [
    "data_raw.rename(columns={\"Gender\":\"gender\",\"Age\":\"age\",\"Education Level\":\"education_level\",\n",
    "\"Institution Type\":\"institution_type\",\"IT Student\":\"IT_student\",\"Location\":\"location\",\n",
    "\"Load-shedding\":\"electricity_supply\",\"Financial Condition\":\"financial_condition\",\n",
    "\"Internet Type\":\"internet_type\",\"Network Type\":\"network_type\",\"Class Duration\":\"class_duration\",\n",
    "\"Self Lms\":\"learning_system\",\"Device\":\"device\",\"Adaptivity Level\":\"adaptivity_level\",\n",
    "} ,inplace=True)"
   ]
  },
  {
   "cell_type": "code",
   "execution_count": 6,
   "metadata": {
    "colab": {
     "base_uri": "https://localhost:8080/",
     "height": 357
    },
    "id": "FYYLCS-ch9Wy",
    "outputId": "d957bea7-2808-47b2-c63d-8163d3866a31"
   },
   "outputs": [
    {
     "data": {
      "text/html": [
       "<div>\n",
       "<style scoped>\n",
       "    .dataframe tbody tr th:only-of-type {\n",
       "        vertical-align: middle;\n",
       "    }\n",
       "\n",
       "    .dataframe tbody tr th {\n",
       "        vertical-align: top;\n",
       "    }\n",
       "\n",
       "    .dataframe thead th {\n",
       "        text-align: right;\n",
       "    }\n",
       "</style>\n",
       "<table border=\"1\" class=\"dataframe\">\n",
       "  <thead>\n",
       "    <tr style=\"text-align: right;\">\n",
       "      <th></th>\n",
       "      <th>gender</th>\n",
       "      <th>age</th>\n",
       "      <th>education_level</th>\n",
       "      <th>institution_type</th>\n",
       "      <th>IT_student</th>\n",
       "      <th>location</th>\n",
       "      <th>electricity_supply</th>\n",
       "      <th>financial_condition</th>\n",
       "      <th>internet_type</th>\n",
       "      <th>network_type</th>\n",
       "      <th>class_duration</th>\n",
       "      <th>learning_system</th>\n",
       "      <th>device</th>\n",
       "      <th>adaptivity_level</th>\n",
       "    </tr>\n",
       "  </thead>\n",
       "  <tbody>\n",
       "    <tr>\n",
       "      <th>0</th>\n",
       "      <td>Boy</td>\n",
       "      <td>21-25</td>\n",
       "      <td>University</td>\n",
       "      <td>Non Government</td>\n",
       "      <td>No</td>\n",
       "      <td>Yes</td>\n",
       "      <td>Low</td>\n",
       "      <td>Mid</td>\n",
       "      <td>Wifi</td>\n",
       "      <td>4G</td>\n",
       "      <td>3-6</td>\n",
       "      <td>No</td>\n",
       "      <td>Tab</td>\n",
       "      <td>Moderate</td>\n",
       "    </tr>\n",
       "    <tr>\n",
       "      <th>1</th>\n",
       "      <td>Girl</td>\n",
       "      <td>21-25</td>\n",
       "      <td>University</td>\n",
       "      <td>Non Government</td>\n",
       "      <td>No</td>\n",
       "      <td>Yes</td>\n",
       "      <td>High</td>\n",
       "      <td>Mid</td>\n",
       "      <td>Mobile Data</td>\n",
       "      <td>4G</td>\n",
       "      <td>1-3</td>\n",
       "      <td>Yes</td>\n",
       "      <td>Mobile</td>\n",
       "      <td>Moderate</td>\n",
       "    </tr>\n",
       "    <tr>\n",
       "      <th>2</th>\n",
       "      <td>Girl</td>\n",
       "      <td>16-20</td>\n",
       "      <td>College</td>\n",
       "      <td>Government</td>\n",
       "      <td>No</td>\n",
       "      <td>Yes</td>\n",
       "      <td>Low</td>\n",
       "      <td>Mid</td>\n",
       "      <td>Wifi</td>\n",
       "      <td>4G</td>\n",
       "      <td>1-3</td>\n",
       "      <td>No</td>\n",
       "      <td>Mobile</td>\n",
       "      <td>Moderate</td>\n",
       "    </tr>\n",
       "    <tr>\n",
       "      <th>3</th>\n",
       "      <td>Girl</td>\n",
       "      <td>11-15</td>\n",
       "      <td>School</td>\n",
       "      <td>Non Government</td>\n",
       "      <td>No</td>\n",
       "      <td>Yes</td>\n",
       "      <td>Low</td>\n",
       "      <td>Mid</td>\n",
       "      <td>Mobile Data</td>\n",
       "      <td>4G</td>\n",
       "      <td>1-3</td>\n",
       "      <td>No</td>\n",
       "      <td>Mobile</td>\n",
       "      <td>Moderate</td>\n",
       "    </tr>\n",
       "  </tbody>\n",
       "</table>\n",
       "</div>"
      ],
      "text/plain": [
       "  gender    age education_level institution_type IT_student location  \\\n",
       "0    Boy  21-25      University   Non Government         No      Yes   \n",
       "1   Girl  21-25      University   Non Government         No      Yes   \n",
       "2   Girl  16-20         College       Government         No      Yes   \n",
       "3   Girl  11-15          School   Non Government         No      Yes   \n",
       "\n",
       "  electricity_supply financial_condition internet_type network_type  \\\n",
       "0                Low                 Mid          Wifi           4G   \n",
       "1               High                 Mid   Mobile Data           4G   \n",
       "2                Low                 Mid          Wifi           4G   \n",
       "3                Low                 Mid   Mobile Data           4G   \n",
       "\n",
       "  class_duration learning_system  device adaptivity_level  \n",
       "0            3-6              No     Tab         Moderate  \n",
       "1            1-3             Yes  Mobile         Moderate  \n",
       "2            1-3              No  Mobile         Moderate  \n",
       "3            1-3              No  Mobile         Moderate  "
      ]
     },
     "execution_count": 6,
     "metadata": {},
     "output_type": "execute_result"
    }
   ],
   "source": [
    "data_raw.head(4)"
   ]
  },
  {
   "cell_type": "markdown",
   "metadata": {},
   "source": [
    "identificamos el tipo de datos con los que se va a trabajar, comprobando que sean correctos "
   ]
  },
  {
   "cell_type": "code",
   "execution_count": 7,
   "metadata": {
    "colab": {
     "base_uri": "https://localhost:8080/"
    },
    "id": "Kih_sKdJh9Wz",
    "outputId": "c38f9dd3-396a-42ba-ea0e-50af57f2ac5b"
   },
   "outputs": [
    {
     "name": "stdout",
     "output_type": "stream",
     "text": [
      "<class 'pandas.core.frame.DataFrame'>\n",
      "RangeIndex: 1205 entries, 0 to 1204\n",
      "Data columns (total 14 columns):\n",
      " #   Column               Non-Null Count  Dtype \n",
      "---  ------               --------------  ----- \n",
      " 0   gender               1205 non-null   object\n",
      " 1   age                  1205 non-null   object\n",
      " 2   education_level      1205 non-null   object\n",
      " 3   institution_type     1205 non-null   object\n",
      " 4   IT_student           1205 non-null   object\n",
      " 5   location             1205 non-null   object\n",
      " 6   electricity_supply   1205 non-null   object\n",
      " 7   financial_condition  1205 non-null   object\n",
      " 8   internet_type        1205 non-null   object\n",
      " 9   network_type         1205 non-null   object\n",
      " 10  class_duration       1205 non-null   object\n",
      " 11  learning_system      1205 non-null   object\n",
      " 12  device               1205 non-null   object\n",
      " 13  adaptivity_level     1205 non-null   object\n",
      "dtypes: object(14)\n",
      "memory usage: 131.9+ KB\n"
     ]
    }
   ],
   "source": [
    "data_raw.info()"
   ]
  },
  {
   "cell_type": "code",
   "execution_count": 8,
   "metadata": {
    "colab": {
     "base_uri": "https://localhost:8080/",
     "height": 256
    },
    "id": "KG7MgFKWh9Wz",
    "outputId": "ffc355aa-3c86-4883-ae34-461cc45b73d2"
   },
   "outputs": [
    {
     "data": {
      "text/html": [
       "<div>\n",
       "<style scoped>\n",
       "    .dataframe tbody tr th:only-of-type {\n",
       "        vertical-align: middle;\n",
       "    }\n",
       "\n",
       "    .dataframe tbody tr th {\n",
       "        vertical-align: top;\n",
       "    }\n",
       "\n",
       "    .dataframe thead th {\n",
       "        text-align: right;\n",
       "    }\n",
       "</style>\n",
       "<table border=\"1\" class=\"dataframe\">\n",
       "  <thead>\n",
       "    <tr style=\"text-align: right;\">\n",
       "      <th></th>\n",
       "      <th>gender</th>\n",
       "      <th>age</th>\n",
       "      <th>education_level</th>\n",
       "      <th>institution_type</th>\n",
       "      <th>IT_student</th>\n",
       "      <th>location</th>\n",
       "      <th>electricity_supply</th>\n",
       "      <th>financial_condition</th>\n",
       "      <th>internet_type</th>\n",
       "      <th>network_type</th>\n",
       "      <th>class_duration</th>\n",
       "      <th>learning_system</th>\n",
       "      <th>device</th>\n",
       "      <th>adaptivity_level</th>\n",
       "    </tr>\n",
       "  </thead>\n",
       "  <tbody>\n",
       "    <tr>\n",
       "      <th>count</th>\n",
       "      <td>1205</td>\n",
       "      <td>1205</td>\n",
       "      <td>1205</td>\n",
       "      <td>1205</td>\n",
       "      <td>1205</td>\n",
       "      <td>1205</td>\n",
       "      <td>1205</td>\n",
       "      <td>1205</td>\n",
       "      <td>1205</td>\n",
       "      <td>1205</td>\n",
       "      <td>1205</td>\n",
       "      <td>1205</td>\n",
       "      <td>1205</td>\n",
       "      <td>1205</td>\n",
       "    </tr>\n",
       "    <tr>\n",
       "      <th>unique</th>\n",
       "      <td>2</td>\n",
       "      <td>6</td>\n",
       "      <td>3</td>\n",
       "      <td>2</td>\n",
       "      <td>2</td>\n",
       "      <td>2</td>\n",
       "      <td>2</td>\n",
       "      <td>3</td>\n",
       "      <td>2</td>\n",
       "      <td>3</td>\n",
       "      <td>3</td>\n",
       "      <td>2</td>\n",
       "      <td>3</td>\n",
       "      <td>3</td>\n",
       "    </tr>\n",
       "    <tr>\n",
       "      <th>top</th>\n",
       "      <td>Boy</td>\n",
       "      <td>21-25</td>\n",
       "      <td>School</td>\n",
       "      <td>Non Government</td>\n",
       "      <td>No</td>\n",
       "      <td>Yes</td>\n",
       "      <td>Low</td>\n",
       "      <td>Mid</td>\n",
       "      <td>Mobile Data</td>\n",
       "      <td>4G</td>\n",
       "      <td>1-3</td>\n",
       "      <td>No</td>\n",
       "      <td>Mobile</td>\n",
       "      <td>Moderate</td>\n",
       "    </tr>\n",
       "    <tr>\n",
       "      <th>freq</th>\n",
       "      <td>663</td>\n",
       "      <td>374</td>\n",
       "      <td>530</td>\n",
       "      <td>823</td>\n",
       "      <td>901</td>\n",
       "      <td>935</td>\n",
       "      <td>1004</td>\n",
       "      <td>878</td>\n",
       "      <td>695</td>\n",
       "      <td>775</td>\n",
       "      <td>840</td>\n",
       "      <td>995</td>\n",
       "      <td>1013</td>\n",
       "      <td>625</td>\n",
       "    </tr>\n",
       "  </tbody>\n",
       "</table>\n",
       "</div>"
      ],
      "text/plain": [
       "       gender    age education_level institution_type IT_student location  \\\n",
       "count    1205   1205            1205             1205       1205     1205   \n",
       "unique      2      6               3                2          2        2   \n",
       "top       Boy  21-25          School   Non Government         No      Yes   \n",
       "freq      663    374             530              823        901      935   \n",
       "\n",
       "       electricity_supply financial_condition internet_type network_type  \\\n",
       "count                1205                1205          1205         1205   \n",
       "unique                  2                   3             2            3   \n",
       "top                   Low                 Mid   Mobile Data           4G   \n",
       "freq                 1004                 878           695          775   \n",
       "\n",
       "       class_duration learning_system  device adaptivity_level  \n",
       "count            1205            1205    1205             1205  \n",
       "unique              3               2       3                3  \n",
       "top               1-3              No  Mobile         Moderate  \n",
       "freq              840             995    1013              625  "
      ]
     },
     "execution_count": 8,
     "metadata": {},
     "output_type": "execute_result"
    }
   ],
   "source": [
    "data_raw.describe()"
   ]
  },
  {
   "cell_type": "code",
   "execution_count": 9,
   "metadata": {},
   "outputs": [
    {
     "data": {
      "text/plain": [
       "(1205, 14)"
      ]
     },
     "execution_count": 9,
     "metadata": {},
     "output_type": "execute_result"
    }
   ],
   "source": [
    "data_raw.shape"
   ]
  },
  {
   "cell_type": "markdown",
   "metadata": {},
   "source": [
    "revisamos datos ausentes y nulos"
   ]
  },
  {
   "cell_type": "code",
   "execution_count": 10,
   "metadata": {},
   "outputs": [
    {
     "data": {
      "text/plain": [
       "gender                 0\n",
       "age                    0\n",
       "education_level        0\n",
       "institution_type       0\n",
       "IT_student             0\n",
       "location               0\n",
       "electricity_supply     0\n",
       "financial_condition    0\n",
       "internet_type          0\n",
       "network_type           0\n",
       "class_duration         0\n",
       "learning_system        0\n",
       "device                 0\n",
       "adaptivity_level       0\n",
       "dtype: int64"
      ]
     },
     "execution_count": 10,
     "metadata": {},
     "output_type": "execute_result"
    }
   ],
   "source": [
    "data_raw.isna().sum().sort_values()"
   ]
  },
  {
   "cell_type": "markdown",
   "metadata": {
    "id": "dRry1dc1h9W2"
   },
   "source": [
    "Por lo visto no se tienen datos nulos."
   ]
  },
  {
   "cell_type": "markdown",
   "metadata": {},
   "source": [
    "# Variables cualitativas"
   ]
  },
  {
   "cell_type": "markdown",
   "metadata": {},
   "source": [
    "nuestro dataset esta compuesto en su totalidad por variables cualitativas"
   ]
  },
  {
   "cell_type": "markdown",
   "metadata": {
    "id": "HADQR645h9W2"
   },
   "source": [
    "Veamos qué procentaje de registros hay en cada una de las categorías target"
   ]
  },
  {
   "cell_type": "code",
   "execution_count": 11,
   "metadata": {},
   "outputs": [
    {
     "data": {
      "text/html": [
       "<div>\n",
       "<style scoped>\n",
       "    .dataframe tbody tr th:only-of-type {\n",
       "        vertical-align: middle;\n",
       "    }\n",
       "\n",
       "    .dataframe tbody tr th {\n",
       "        vertical-align: top;\n",
       "    }\n",
       "\n",
       "    .dataframe thead th {\n",
       "        text-align: right;\n",
       "    }\n",
       "</style>\n",
       "<table border=\"1\" class=\"dataframe\">\n",
       "  <thead>\n",
       "    <tr style=\"text-align: right;\">\n",
       "      <th></th>\n",
       "      <th>gender</th>\n",
       "      <th>age</th>\n",
       "      <th>education_level</th>\n",
       "      <th>institution_type</th>\n",
       "      <th>IT_student</th>\n",
       "      <th>location</th>\n",
       "      <th>electricity_supply</th>\n",
       "      <th>financial_condition</th>\n",
       "      <th>internet_type</th>\n",
       "      <th>network_type</th>\n",
       "      <th>class_duration</th>\n",
       "      <th>learning_system</th>\n",
       "      <th>device</th>\n",
       "      <th>adaptivity_level</th>\n",
       "    </tr>\n",
       "  </thead>\n",
       "  <tbody>\n",
       "    <tr>\n",
       "      <th>count</th>\n",
       "      <td>1205</td>\n",
       "      <td>1205</td>\n",
       "      <td>1205</td>\n",
       "      <td>1205</td>\n",
       "      <td>1205</td>\n",
       "      <td>1205</td>\n",
       "      <td>1205</td>\n",
       "      <td>1205</td>\n",
       "      <td>1205</td>\n",
       "      <td>1205</td>\n",
       "      <td>1205</td>\n",
       "      <td>1205</td>\n",
       "      <td>1205</td>\n",
       "      <td>1205</td>\n",
       "    </tr>\n",
       "    <tr>\n",
       "      <th>unique</th>\n",
       "      <td>2</td>\n",
       "      <td>6</td>\n",
       "      <td>3</td>\n",
       "      <td>2</td>\n",
       "      <td>2</td>\n",
       "      <td>2</td>\n",
       "      <td>2</td>\n",
       "      <td>3</td>\n",
       "      <td>2</td>\n",
       "      <td>3</td>\n",
       "      <td>3</td>\n",
       "      <td>2</td>\n",
       "      <td>3</td>\n",
       "      <td>3</td>\n",
       "    </tr>\n",
       "    <tr>\n",
       "      <th>top</th>\n",
       "      <td>Boy</td>\n",
       "      <td>21-25</td>\n",
       "      <td>School</td>\n",
       "      <td>Non Government</td>\n",
       "      <td>No</td>\n",
       "      <td>Yes</td>\n",
       "      <td>Low</td>\n",
       "      <td>Mid</td>\n",
       "      <td>Mobile Data</td>\n",
       "      <td>4G</td>\n",
       "      <td>1-3</td>\n",
       "      <td>No</td>\n",
       "      <td>Mobile</td>\n",
       "      <td>Moderate</td>\n",
       "    </tr>\n",
       "    <tr>\n",
       "      <th>freq</th>\n",
       "      <td>663</td>\n",
       "      <td>374</td>\n",
       "      <td>530</td>\n",
       "      <td>823</td>\n",
       "      <td>901</td>\n",
       "      <td>935</td>\n",
       "      <td>1004</td>\n",
       "      <td>878</td>\n",
       "      <td>695</td>\n",
       "      <td>775</td>\n",
       "      <td>840</td>\n",
       "      <td>995</td>\n",
       "      <td>1013</td>\n",
       "      <td>625</td>\n",
       "    </tr>\n",
       "  </tbody>\n",
       "</table>\n",
       "</div>"
      ],
      "text/plain": [
       "       gender    age education_level institution_type IT_student location  \\\n",
       "count    1205   1205            1205             1205       1205     1205   \n",
       "unique      2      6               3                2          2        2   \n",
       "top       Boy  21-25          School   Non Government         No      Yes   \n",
       "freq      663    374             530              823        901      935   \n",
       "\n",
       "       electricity_supply financial_condition internet_type network_type  \\\n",
       "count                1205                1205          1205         1205   \n",
       "unique                  2                   3             2            3   \n",
       "top                   Low                 Mid   Mobile Data           4G   \n",
       "freq                 1004                 878           695          775   \n",
       "\n",
       "       class_duration learning_system  device adaptivity_level  \n",
       "count            1205            1205    1205             1205  \n",
       "unique              3               2       3                3  \n",
       "top               1-3              No  Mobile         Moderate  \n",
       "freq              840             995    1013              625  "
      ]
     },
     "execution_count": 11,
     "metadata": {},
     "output_type": "execute_result"
    }
   ],
   "source": [
    "data_raw.select_dtypes(include=['object']).describe()"
   ]
  },
  {
   "cell_type": "markdown",
   "metadata": {},
   "source": [
    "dentro de la descripcion de los datos se identifica que el nivel de adaptabilidad que mas se repite es moderado,las variables mas frecuentes esta masculino para el genero\n",
    "instituciones no gubernamentales a travez de medios moviles en nivel de escolaridad colegio y una condicion financiera media."
   ]
  },
  {
   "cell_type": "code",
   "execution_count": 12,
   "metadata": {
    "colab": {
     "base_uri": "https://localhost:8080/",
     "height": 431
    },
    "id": "Kn3pVzSsh9W3",
    "outputId": "97f30a05-54d8-4f35-b17c-d23527f52a48"
   },
   "outputs": [
    {
     "data": {
      "text/plain": [
       "Text(0.5, 1.0, 'adaptivity_level')"
      ]
     },
     "execution_count": 12,
     "metadata": {},
     "output_type": "execute_result"
    },
    {
     "data": {
      "image/png": "[encoded data removed]",
      "text/plain": [
       "<Figure size 2160x576 with 1 Axes>"
      ]
     },
     "metadata": {},
     "output_type": "display_data"
    }
   ],
   "source": [
    "#Graficamente\n",
    "\n",
    "import seaborn as sns\n",
    "plt.figure(figsize=(30,8))\n",
    "sns.countplot(x='adaptivity_level',data=data_raw)\n",
    "plt.xticks(rotation=90)\n",
    "plt.xlabel(\"adaptivity_level\", fontsize=18)\n",
    "plt.ylabel(\"\", fontsize=18)\n",
    "plt.title(\"adaptivity_level\", fontsize=18)"
   ]
  },
  {
   "cell_type": "markdown",
   "metadata": {
    "id": "PXhBsBiph9W4"
   },
   "source": [
    "#Ver outlayers - Detecting the outliers"
   ]
  },
  {
   "cell_type": "code",
   "execution_count": 13,
   "metadata": {
    "colab": {
     "base_uri": "https://localhost:8080/",
     "height": 248
    },
    "id": "NqoPj1Ceh9W4",
    "outputId": "70b19d66-acec-4ccf-a7d9-c61732d63fa2"
   },
   "outputs": [
    {
     "data": {
      "image/png": "[encoded data removed]",
      "text/plain": [
       "<Figure size 432x288 with 1 Axes>"
      ]
     },
     "metadata": {},
     "output_type": "display_data"
    }
   ],
   "source": [
    "y=data_raw['electricity_supply'].value_counts() \n",
    "valores = y[:5].values.tolist()\n",
    "labels=y[:5].index.tolist()\n",
    "plt.pie(valores,labels=labels)\n",
    "fig=plt.show()"
   ]
  },
  {
   "cell_type": "code",
   "execution_count": 14,
   "metadata": {
    "colab": {
     "base_uri": "https://localhost:8080/",
     "height": 248
    },
    "id": "mpsG-Pw3h9W5",
    "outputId": "a1f012c6-5afe-42f9-b4d4-84972c8d8249"
   },
   "outputs": [
    {
     "data": {
      "image/png": "[encoded data removed]",
      "text/plain": [
       "<Figure size 432x288 with 1 Axes>"
      ]
     },
     "metadata": {},
     "output_type": "display_data"
    }
   ],
   "source": [
    "y=data_raw['age'].value_counts() \n",
    "valores = y[:5].values.tolist()\n",
    "labels=y[:5].index.tolist()\n",
    "plt.pie(valores,labels=labels)\n",
    "fig=plt.show()"
   ]
  },
  {
   "cell_type": "code",
   "execution_count": 15,
   "metadata": {
    "colab": {
     "base_uri": "https://localhost:8080/",
     "height": 248
    },
    "id": "edhsopJTh9W6",
    "outputId": "0d915d52-5c40-44e0-8ffa-b7f2cd38c848"
   },
   "outputs": [
    {
     "data": {
      "image/png": "[encoded data removed]",
      "text/plain": [
       "<Figure size 432x288 with 1 Axes>"
      ]
     },
     "metadata": {},
     "output_type": "display_data"
    }
   ],
   "source": [
    "y=data_raw['gender'].value_counts() \n",
    "valores = y[:5].values.tolist()\n",
    "labels=y[:5].index.tolist()\n",
    "plt.pie(valores,labels=labels)\n",
    "fig=plt.show()\n"
   ]
  },
  {
   "cell_type": "code",
   "execution_count": 16,
   "metadata": {
    "colab": {
     "base_uri": "https://localhost:8080/",
     "height": 248
    },
    "id": "xNKkd8aTh9W6",
    "outputId": "d7b2aebd-d6ea-4372-f880-02c66620ead5"
   },
   "outputs": [
    {
     "data": {
      "image/png": "[encoded data removed]",
      "text/plain": [
       "<Figure size 432x288 with 1 Axes>"
      ]
     },
     "metadata": {},
     "output_type": "display_data"
    }
   ],
   "source": [
    "y=data_raw['class_duration'].value_counts() \n",
    "valores = y[:5].values.tolist()\n",
    "labels=y[:5].index.tolist()\n",
    "plt.pie(valores,labels=labels)\n",
    "fig=plt.show()\n",
    "\n"
   ]
  },
  {
   "cell_type": "code",
   "execution_count": 17,
   "metadata": {
    "colab": {
     "base_uri": "https://localhost:8080/",
     "height": 143
    },
    "id": "kJ26K_U9h9W7",
    "outputId": "902be38d-0198-46b8-f2b5-2fa8f5baca1f"
   },
   "outputs": [
    {
     "data": {
      "text/html": [
       "<div>\n",
       "<style scoped>\n",
       "    .dataframe tbody tr th:only-of-type {\n",
       "        vertical-align: middle;\n",
       "    }\n",
       "\n",
       "    .dataframe tbody tr th {\n",
       "        vertical-align: top;\n",
       "    }\n",
       "\n",
       "    .dataframe thead th {\n",
       "        text-align: right;\n",
       "    }\n",
       "</style>\n",
       "<table border=\"1\" class=\"dataframe\">\n",
       "  <thead>\n",
       "    <tr style=\"text-align: right;\">\n",
       "      <th></th>\n",
       "      <th>class_duration</th>\n",
       "      <th>porcentaje</th>\n",
       "    </tr>\n",
       "  </thead>\n",
       "  <tbody>\n",
       "    <tr>\n",
       "      <th>1-3</th>\n",
       "      <td>840</td>\n",
       "      <td>69.71</td>\n",
       "    </tr>\n",
       "    <tr>\n",
       "      <th>3-6</th>\n",
       "      <td>211</td>\n",
       "      <td>17.51</td>\n",
       "    </tr>\n",
       "    <tr>\n",
       "      <th>0</th>\n",
       "      <td>154</td>\n",
       "      <td>12.78</td>\n",
       "    </tr>\n",
       "  </tbody>\n",
       "</table>\n",
       "</div>"
      ],
      "text/plain": [
       "     class_duration  porcentaje\n",
       "1-3             840       69.71\n",
       "3-6             211       17.51\n",
       "0               154       12.78"
      ]
     },
     "execution_count": 17,
     "metadata": {},
     "output_type": "execute_result"
    }
   ],
   "source": [
    "#Ver porcentaje de valores atipicos\n",
    "target =pd.DataFrame(data_raw['class_duration'].value_counts())\n",
    "target['porcentaje']=round(target/ data_raw.shape[0]*100,2)\n",
    "target[:]"
   ]
  },
  {
   "cell_type": "markdown",
   "metadata": {
    "id": "s70IfTP1h9W7"
   },
   "source": [
    "Procedemos con la imputación por la moda de estos valores para class_duration"
   ]
  },
  {
   "cell_type": "code",
   "execution_count": 18,
   "metadata": {
    "id": "fPCqv21Jh9W7"
   },
   "outputs": [],
   "source": [
    "data_raw.class_duration[data_raw.class_duration == \"0\"] = \"1-3\"\n"
   ]
  },
  {
   "cell_type": "code",
   "execution_count": 19,
   "metadata": {
    "colab": {
     "base_uri": "https://localhost:8080/",
     "height": 112
    },
    "id": "snxf0bj-h9W8",
    "outputId": "f0684417-2f31-4457-b5a2-9544ebe83910"
   },
   "outputs": [
    {
     "data": {
      "text/html": [
       "<div>\n",
       "<style scoped>\n",
       "    .dataframe tbody tr th:only-of-type {\n",
       "        vertical-align: middle;\n",
       "    }\n",
       "\n",
       "    .dataframe tbody tr th {\n",
       "        vertical-align: top;\n",
       "    }\n",
       "\n",
       "    .dataframe thead th {\n",
       "        text-align: right;\n",
       "    }\n",
       "</style>\n",
       "<table border=\"1\" class=\"dataframe\">\n",
       "  <thead>\n",
       "    <tr style=\"text-align: right;\">\n",
       "      <th></th>\n",
       "      <th>class_duration</th>\n",
       "      <th>porcentaje</th>\n",
       "    </tr>\n",
       "  </thead>\n",
       "  <tbody>\n",
       "    <tr>\n",
       "      <th>1-3</th>\n",
       "      <td>994</td>\n",
       "      <td>82.49</td>\n",
       "    </tr>\n",
       "    <tr>\n",
       "      <th>3-6</th>\n",
       "      <td>211</td>\n",
       "      <td>17.51</td>\n",
       "    </tr>\n",
       "  </tbody>\n",
       "</table>\n",
       "</div>"
      ],
      "text/plain": [
       "     class_duration  porcentaje\n",
       "1-3             994       82.49\n",
       "3-6             211       17.51"
      ]
     },
     "execution_count": 19,
     "metadata": {},
     "output_type": "execute_result"
    }
   ],
   "source": [
    "#Ver porcentaje de valores atipicos post imputacion\n",
    "target =pd.DataFrame(data_raw['class_duration'].value_counts())\n",
    "target['porcentaje']=round(target/ data_raw.shape[0]*100,2)\n",
    "target[:]"
   ]
  },
  {
   "cell_type": "markdown",
   "metadata": {
    "id": "qpDRVVbFh9W8"
   },
   "source": [
    "Hasta aqui se logra un data set limpio con 3 categorias en la variable target. Se destinará este para realizar una regresión multiclase"
   ]
  },
  {
   "cell_type": "code",
   "execution_count": 20,
   "metadata": {
    "colab": {
     "base_uri": "https://localhost:8080/",
     "height": 844
    },
    "id": "sqNyYcE1h9W8",
    "outputId": "9175416e-e5dd-4102-82f8-792888df1606"
   },
   "outputs": [
    {
     "data": {
      "text/html": [
       "<div>\n",
       "<style scoped>\n",
       "    .dataframe tbody tr th:only-of-type {\n",
       "        vertical-align: middle;\n",
       "    }\n",
       "\n",
       "    .dataframe tbody tr th {\n",
       "        vertical-align: top;\n",
       "    }\n",
       "\n",
       "    .dataframe thead th {\n",
       "        text-align: right;\n",
       "    }\n",
       "</style>\n",
       "<table border=\"1\" class=\"dataframe\">\n",
       "  <thead>\n",
       "    <tr style=\"text-align: right;\">\n",
       "      <th></th>\n",
       "      <th>gender</th>\n",
       "      <th>age</th>\n",
       "      <th>education_level</th>\n",
       "      <th>institution_type</th>\n",
       "      <th>IT_student</th>\n",
       "      <th>location</th>\n",
       "      <th>electricity_supply</th>\n",
       "      <th>financial_condition</th>\n",
       "      <th>internet_type</th>\n",
       "      <th>network_type</th>\n",
       "      <th>class_duration</th>\n",
       "      <th>learning_system</th>\n",
       "      <th>device</th>\n",
       "      <th>adaptivity_level</th>\n",
       "    </tr>\n",
       "  </thead>\n",
       "  <tbody>\n",
       "    <tr>\n",
       "      <th>0</th>\n",
       "      <td>Boy</td>\n",
       "      <td>21-25</td>\n",
       "      <td>University</td>\n",
       "      <td>Non Government</td>\n",
       "      <td>No</td>\n",
       "      <td>Yes</td>\n",
       "      <td>Low</td>\n",
       "      <td>Mid</td>\n",
       "      <td>Wifi</td>\n",
       "      <td>4G</td>\n",
       "      <td>3-6</td>\n",
       "      <td>No</td>\n",
       "      <td>Tab</td>\n",
       "      <td>Moderate</td>\n",
       "    </tr>\n",
       "    <tr>\n",
       "      <th>1</th>\n",
       "      <td>Girl</td>\n",
       "      <td>21-25</td>\n",
       "      <td>University</td>\n",
       "      <td>Non Government</td>\n",
       "      <td>No</td>\n",
       "      <td>Yes</td>\n",
       "      <td>High</td>\n",
       "      <td>Mid</td>\n",
       "      <td>Mobile Data</td>\n",
       "      <td>4G</td>\n",
       "      <td>1-3</td>\n",
       "      <td>Yes</td>\n",
       "      <td>Mobile</td>\n",
       "      <td>Moderate</td>\n",
       "    </tr>\n",
       "    <tr>\n",
       "      <th>2</th>\n",
       "      <td>Girl</td>\n",
       "      <td>16-20</td>\n",
       "      <td>College</td>\n",
       "      <td>Government</td>\n",
       "      <td>No</td>\n",
       "      <td>Yes</td>\n",
       "      <td>Low</td>\n",
       "      <td>Mid</td>\n",
       "      <td>Wifi</td>\n",
       "      <td>4G</td>\n",
       "      <td>1-3</td>\n",
       "      <td>No</td>\n",
       "      <td>Mobile</td>\n",
       "      <td>Moderate</td>\n",
       "    </tr>\n",
       "    <tr>\n",
       "      <th>3</th>\n",
       "      <td>Girl</td>\n",
       "      <td>11-15</td>\n",
       "      <td>School</td>\n",
       "      <td>Non Government</td>\n",
       "      <td>No</td>\n",
       "      <td>Yes</td>\n",
       "      <td>Low</td>\n",
       "      <td>Mid</td>\n",
       "      <td>Mobile Data</td>\n",
       "      <td>4G</td>\n",
       "      <td>1-3</td>\n",
       "      <td>No</td>\n",
       "      <td>Mobile</td>\n",
       "      <td>Moderate</td>\n",
       "    </tr>\n",
       "    <tr>\n",
       "      <th>4</th>\n",
       "      <td>Girl</td>\n",
       "      <td>16-20</td>\n",
       "      <td>School</td>\n",
       "      <td>Non Government</td>\n",
       "      <td>No</td>\n",
       "      <td>Yes</td>\n",
       "      <td>Low</td>\n",
       "      <td>Poor</td>\n",
       "      <td>Mobile Data</td>\n",
       "      <td>3G</td>\n",
       "      <td>1-3</td>\n",
       "      <td>No</td>\n",
       "      <td>Mobile</td>\n",
       "      <td>Low</td>\n",
       "    </tr>\n",
       "    <tr>\n",
       "      <th>5</th>\n",
       "      <td>Boy</td>\n",
       "      <td>11-15</td>\n",
       "      <td>School</td>\n",
       "      <td>Non Government</td>\n",
       "      <td>No</td>\n",
       "      <td>Yes</td>\n",
       "      <td>Low</td>\n",
       "      <td>Poor</td>\n",
       "      <td>Mobile Data</td>\n",
       "      <td>3G</td>\n",
       "      <td>1-3</td>\n",
       "      <td>No</td>\n",
       "      <td>Mobile</td>\n",
       "      <td>Low</td>\n",
       "    </tr>\n",
       "    <tr>\n",
       "      <th>6</th>\n",
       "      <td>Boy</td>\n",
       "      <td>11-15</td>\n",
       "      <td>School</td>\n",
       "      <td>Non Government</td>\n",
       "      <td>No</td>\n",
       "      <td>Yes</td>\n",
       "      <td>Low</td>\n",
       "      <td>Mid</td>\n",
       "      <td>Wifi</td>\n",
       "      <td>4G</td>\n",
       "      <td>1-3</td>\n",
       "      <td>No</td>\n",
       "      <td>Mobile</td>\n",
       "      <td>Low</td>\n",
       "    </tr>\n",
       "    <tr>\n",
       "      <th>7</th>\n",
       "      <td>Boy</td>\n",
       "      <td>11-15</td>\n",
       "      <td>School</td>\n",
       "      <td>Non Government</td>\n",
       "      <td>No</td>\n",
       "      <td>Yes</td>\n",
       "      <td>Low</td>\n",
       "      <td>Mid</td>\n",
       "      <td>Wifi</td>\n",
       "      <td>4G</td>\n",
       "      <td>1-3</td>\n",
       "      <td>No</td>\n",
       "      <td>Mobile</td>\n",
       "      <td>Moderate</td>\n",
       "    </tr>\n",
       "    <tr>\n",
       "      <th>8</th>\n",
       "      <td>Boy</td>\n",
       "      <td>16-20</td>\n",
       "      <td>College</td>\n",
       "      <td>Government</td>\n",
       "      <td>No</td>\n",
       "      <td>Yes</td>\n",
       "      <td>Low</td>\n",
       "      <td>Mid</td>\n",
       "      <td>Wifi</td>\n",
       "      <td>4G</td>\n",
       "      <td>1-3</td>\n",
       "      <td>No</td>\n",
       "      <td>Mobile</td>\n",
       "      <td>Low</td>\n",
       "    </tr>\n",
       "    <tr>\n",
       "      <th>9</th>\n",
       "      <td>Boy</td>\n",
       "      <td>11-15</td>\n",
       "      <td>School</td>\n",
       "      <td>Non Government</td>\n",
       "      <td>No</td>\n",
       "      <td>Yes</td>\n",
       "      <td>Low</td>\n",
       "      <td>Mid</td>\n",
       "      <td>Mobile Data</td>\n",
       "      <td>3G</td>\n",
       "      <td>1-3</td>\n",
       "      <td>No</td>\n",
       "      <td>Mobile</td>\n",
       "      <td>Moderate</td>\n",
       "    </tr>\n",
       "    <tr>\n",
       "      <th>10</th>\n",
       "      <td>Girl</td>\n",
       "      <td>16-20</td>\n",
       "      <td>University</td>\n",
       "      <td>Government</td>\n",
       "      <td>No</td>\n",
       "      <td>Yes</td>\n",
       "      <td>Low</td>\n",
       "      <td>Mid</td>\n",
       "      <td>Wifi</td>\n",
       "      <td>4G</td>\n",
       "      <td>1-3</td>\n",
       "      <td>No</td>\n",
       "      <td>Mobile</td>\n",
       "      <td>Low</td>\n",
       "    </tr>\n",
       "    <tr>\n",
       "      <th>11</th>\n",
       "      <td>Girl</td>\n",
       "      <td>16-20</td>\n",
       "      <td>College</td>\n",
       "      <td>Non Government</td>\n",
       "      <td>No</td>\n",
       "      <td>Yes</td>\n",
       "      <td>Low</td>\n",
       "      <td>Mid</td>\n",
       "      <td>Wifi</td>\n",
       "      <td>4G</td>\n",
       "      <td>1-3</td>\n",
       "      <td>No</td>\n",
       "      <td>Mobile</td>\n",
       "      <td>Low</td>\n",
       "    </tr>\n",
       "    <tr>\n",
       "      <th>12</th>\n",
       "      <td>Boy</td>\n",
       "      <td>11-15</td>\n",
       "      <td>School</td>\n",
       "      <td>Non Government</td>\n",
       "      <td>Yes</td>\n",
       "      <td>Yes</td>\n",
       "      <td>Low</td>\n",
       "      <td>Mid</td>\n",
       "      <td>Mobile Data</td>\n",
       "      <td>3G</td>\n",
       "      <td>1-3</td>\n",
       "      <td>No</td>\n",
       "      <td>Mobile</td>\n",
       "      <td>Moderate</td>\n",
       "    </tr>\n",
       "    <tr>\n",
       "      <th>13</th>\n",
       "      <td>Girl</td>\n",
       "      <td>16-20</td>\n",
       "      <td>College</td>\n",
       "      <td>Non Government</td>\n",
       "      <td>No</td>\n",
       "      <td>No</td>\n",
       "      <td>Low</td>\n",
       "      <td>Mid</td>\n",
       "      <td>Wifi</td>\n",
       "      <td>4G</td>\n",
       "      <td>1-3</td>\n",
       "      <td>No</td>\n",
       "      <td>Mobile</td>\n",
       "      <td>Low</td>\n",
       "    </tr>\n",
       "    <tr>\n",
       "      <th>14</th>\n",
       "      <td>Girl</td>\n",
       "      <td>11-15</td>\n",
       "      <td>School</td>\n",
       "      <td>Non Government</td>\n",
       "      <td>No</td>\n",
       "      <td>Yes</td>\n",
       "      <td>Low</td>\n",
       "      <td>Poor</td>\n",
       "      <td>Mobile Data</td>\n",
       "      <td>3G</td>\n",
       "      <td>1-3</td>\n",
       "      <td>No</td>\n",
       "      <td>Mobile</td>\n",
       "      <td>Moderate</td>\n",
       "    </tr>\n",
       "  </tbody>\n",
       "</table>\n",
       "</div>"
      ],
      "text/plain": [
       "   gender    age education_level institution_type IT_student location  \\\n",
       "0     Boy  21-25      University   Non Government         No      Yes   \n",
       "1    Girl  21-25      University   Non Government         No      Yes   \n",
       "2    Girl  16-20         College       Government         No      Yes   \n",
       "3    Girl  11-15          School   Non Government         No      Yes   \n",
       "4    Girl  16-20          School   Non Government         No      Yes   \n",
       "5     Boy  11-15          School   Non Government         No      Yes   \n",
       "6     Boy  11-15          School   Non Government         No      Yes   \n",
       "7     Boy  11-15          School   Non Government         No      Yes   \n",
       "8     Boy  16-20         College       Government         No      Yes   \n",
       "9     Boy  11-15          School   Non Government         No      Yes   \n",
       "10   Girl  16-20      University       Government         No      Yes   \n",
       "11   Girl  16-20         College   Non Government         No      Yes   \n",
       "12    Boy  11-15          School   Non Government        Yes      Yes   \n",
       "13   Girl  16-20         College   Non Government         No       No   \n",
       "14   Girl  11-15          School   Non Government         No      Yes   \n",
       "\n",
       "   electricity_supply financial_condition internet_type network_type  \\\n",
       "0                 Low                 Mid          Wifi           4G   \n",
       "1                High                 Mid   Mobile Data           4G   \n",
       "2                 Low                 Mid          Wifi           4G   \n",
       "3                 Low                 Mid   Mobile Data           4G   \n",
       "4                 Low                Poor   Mobile Data           3G   \n",
       "5                 Low                Poor   Mobile Data           3G   \n",
       "6                 Low                 Mid          Wifi           4G   \n",
       "7                 Low                 Mid          Wifi           4G   \n",
       "8                 Low                 Mid          Wifi           4G   \n",
       "9                 Low                 Mid   Mobile Data           3G   \n",
       "10                Low                 Mid          Wifi           4G   \n",
       "11                Low                 Mid          Wifi           4G   \n",
       "12                Low                 Mid   Mobile Data           3G   \n",
       "13                Low                 Mid          Wifi           4G   \n",
       "14                Low                Poor   Mobile Data           3G   \n",
       "\n",
       "   class_duration learning_system  device adaptivity_level  \n",
       "0             3-6              No     Tab         Moderate  \n",
       "1             1-3             Yes  Mobile         Moderate  \n",
       "2             1-3              No  Mobile         Moderate  \n",
       "3             1-3              No  Mobile         Moderate  \n",
       "4             1-3              No  Mobile              Low  \n",
       "5             1-3              No  Mobile              Low  \n",
       "6             1-3              No  Mobile              Low  \n",
       "7             1-3              No  Mobile         Moderate  \n",
       "8             1-3              No  Mobile              Low  \n",
       "9             1-3              No  Mobile         Moderate  \n",
       "10            1-3              No  Mobile              Low  \n",
       "11            1-3              No  Mobile              Low  \n",
       "12            1-3              No  Mobile         Moderate  \n",
       "13            1-3              No  Mobile              Low  \n",
       "14            1-3              No  Mobile         Moderate  "
      ]
     },
     "execution_count": 20,
     "metadata": {},
     "output_type": "execute_result"
    }
   ],
   "source": [
    "data_raw.head(15)"
   ]
  },
  {
   "cell_type": "markdown",
   "metadata": {},
   "source": [
    "Con las variables cualitativas el balanceo juega un papel fundamental, sobretodo la variable target, si alguno de los niveles de cada variable tiene muy pocas observaciones existe una alta probabilidad de que al realizar cross validation o bootstrapping, algunas particiones dejen por fuera este nivel o no contengan ninguna observacion de estos grupos minoritarios(varianza cero), no tener presente esto genera errores en los modelos, por lo que suele ser conveniente :\n",
    "\n",
    "si solo tiene 2 subgrupos, eliminar uno.\n",
    "si la variable es multiclase eliminar el grupo minoritario \n",
    "Agrupar en un solo grupo los grupos minoritarios.\n",
    "\n",
    "de esta manera se garantiza que en las particiones de prueba todoslos grupos esten representados."
   ]
  },
  {
   "cell_type": "markdown",
   "metadata": {
    "id": "4Hp4jdQPh9W9"
   },
   "source": [
    "Se genera un nuevo dataset que  serviran para realizar la mayoria de modelados. Se combina las categorias Moderado y High correspondientes a la variable adaptabilidad."
   ]
  },
  {
   "cell_type": "code",
   "execution_count": 21,
   "metadata": {
    "id": "3on4VRyah9W9"
   },
   "outputs": [],
   "source": [
    "data_clean=data_raw.copy()"
   ]
  },
  {
   "cell_type": "code",
   "execution_count": 22,
   "metadata": {
    "colab": {
     "base_uri": "https://localhost:8080/"
    },
    "id": "mgp-gi79h9W9",
    "outputId": "c9c12680-9639-411b-9832-f47e0d2c0f52"
   },
   "outputs": [
    {
     "data": {
      "text/plain": [
       "adaptivity_level\n",
       "High    725\n",
       "Low     480\n",
       "dtype: int64"
      ]
     },
     "execution_count": 22,
     "metadata": {},
     "output_type": "execute_result"
    }
   ],
   "source": [
    "\n",
    "data_clean.adaptivity_level[data_raw.adaptivity_level=='Moderate']='High'\n",
    "data_clean.groupby(['adaptivity_level']).size()"
   ]
  },
  {
   "cell_type": "code",
   "execution_count": 23,
   "metadata": {
    "colab": {
     "base_uri": "https://localhost:8080/",
     "height": 413
    },
    "id": "mM0r0qa8h9W9",
    "outputId": "d0d7a509-11ad-40e0-947e-d06b55130f7b"
   },
   "outputs": [
    {
     "data": {
      "text/plain": [
       "Text(0.5, 1.0, 'adaptivity_level')"
      ]
     },
     "execution_count": 23,
     "metadata": {},
     "output_type": "execute_result"
    },
    {
     "data": {
      "image/png": "[encoded data removed]",
      "text/plain": [
       "<Figure size 2160x576 with 1 Axes>"
      ]
     },
     "metadata": {},
     "output_type": "display_data"
    }
   ],
   "source": [
    "import seaborn as sns\n",
    "plt.figure(figsize=(30,8))\n",
    "sns.countplot(x='adaptivity_level',data=data_clean)\n",
    "plt.xticks(rotation=90)\n",
    "plt.xlabel(\"adaptivity_level\", fontsize=18)\n",
    "plt.ylabel(\"\", fontsize=18)\n",
    "plt.title(\"adaptivity_level\", fontsize=18)"
   ]
  },
  {
   "cell_type": "code",
   "execution_count": 24,
   "metadata": {
    "colab": {
     "base_uri": "https://localhost:8080/",
     "height": 844
    },
    "id": "9Hgz9G_hh9W-",
    "outputId": "35075a70-3973-4b08-c0ae-a1c26d0fc5c4"
   },
   "outputs": [
    {
     "data": {
      "text/html": [
       "<div>\n",
       "<style scoped>\n",
       "    .dataframe tbody tr th:only-of-type {\n",
       "        vertical-align: middle;\n",
       "    }\n",
       "\n",
       "    .dataframe tbody tr th {\n",
       "        vertical-align: top;\n",
       "    }\n",
       "\n",
       "    .dataframe thead th {\n",
       "        text-align: right;\n",
       "    }\n",
       "</style>\n",
       "<table border=\"1\" class=\"dataframe\">\n",
       "  <thead>\n",
       "    <tr style=\"text-align: right;\">\n",
       "      <th></th>\n",
       "      <th>gender</th>\n",
       "      <th>age</th>\n",
       "      <th>education_level</th>\n",
       "      <th>institution_type</th>\n",
       "      <th>IT_student</th>\n",
       "      <th>location</th>\n",
       "      <th>electricity_supply</th>\n",
       "      <th>financial_condition</th>\n",
       "      <th>internet_type</th>\n",
       "      <th>network_type</th>\n",
       "      <th>class_duration</th>\n",
       "      <th>learning_system</th>\n",
       "      <th>device</th>\n",
       "      <th>adaptivity_level</th>\n",
       "    </tr>\n",
       "  </thead>\n",
       "  <tbody>\n",
       "    <tr>\n",
       "      <th>0</th>\n",
       "      <td>Boy</td>\n",
       "      <td>21-25</td>\n",
       "      <td>University</td>\n",
       "      <td>Non Government</td>\n",
       "      <td>No</td>\n",
       "      <td>Yes</td>\n",
       "      <td>Low</td>\n",
       "      <td>Mid</td>\n",
       "      <td>Wifi</td>\n",
       "      <td>4G</td>\n",
       "      <td>3-6</td>\n",
       "      <td>No</td>\n",
       "      <td>Tab</td>\n",
       "      <td>High</td>\n",
       "    </tr>\n",
       "    <tr>\n",
       "      <th>1</th>\n",
       "      <td>Girl</td>\n",
       "      <td>21-25</td>\n",
       "      <td>University</td>\n",
       "      <td>Non Government</td>\n",
       "      <td>No</td>\n",
       "      <td>Yes</td>\n",
       "      <td>High</td>\n",
       "      <td>Mid</td>\n",
       "      <td>Mobile Data</td>\n",
       "      <td>4G</td>\n",
       "      <td>1-3</td>\n",
       "      <td>Yes</td>\n",
       "      <td>Mobile</td>\n",
       "      <td>High</td>\n",
       "    </tr>\n",
       "    <tr>\n",
       "      <th>2</th>\n",
       "      <td>Girl</td>\n",
       "      <td>16-20</td>\n",
       "      <td>College</td>\n",
       "      <td>Government</td>\n",
       "      <td>No</td>\n",
       "      <td>Yes</td>\n",
       "      <td>Low</td>\n",
       "      <td>Mid</td>\n",
       "      <td>Wifi</td>\n",
       "      <td>4G</td>\n",
       "      <td>1-3</td>\n",
       "      <td>No</td>\n",
       "      <td>Mobile</td>\n",
       "      <td>High</td>\n",
       "    </tr>\n",
       "    <tr>\n",
       "      <th>3</th>\n",
       "      <td>Girl</td>\n",
       "      <td>11-15</td>\n",
       "      <td>School</td>\n",
       "      <td>Non Government</td>\n",
       "      <td>No</td>\n",
       "      <td>Yes</td>\n",
       "      <td>Low</td>\n",
       "      <td>Mid</td>\n",
       "      <td>Mobile Data</td>\n",
       "      <td>4G</td>\n",
       "      <td>1-3</td>\n",
       "      <td>No</td>\n",
       "      <td>Mobile</td>\n",
       "      <td>High</td>\n",
       "    </tr>\n",
       "    <tr>\n",
       "      <th>4</th>\n",
       "      <td>Girl</td>\n",
       "      <td>16-20</td>\n",
       "      <td>School</td>\n",
       "      <td>Non Government</td>\n",
       "      <td>No</td>\n",
       "      <td>Yes</td>\n",
       "      <td>Low</td>\n",
       "      <td>Poor</td>\n",
       "      <td>Mobile Data</td>\n",
       "      <td>3G</td>\n",
       "      <td>1-3</td>\n",
       "      <td>No</td>\n",
       "      <td>Mobile</td>\n",
       "      <td>Low</td>\n",
       "    </tr>\n",
       "    <tr>\n",
       "      <th>5</th>\n",
       "      <td>Boy</td>\n",
       "      <td>11-15</td>\n",
       "      <td>School</td>\n",
       "      <td>Non Government</td>\n",
       "      <td>No</td>\n",
       "      <td>Yes</td>\n",
       "      <td>Low</td>\n",
       "      <td>Poor</td>\n",
       "      <td>Mobile Data</td>\n",
       "      <td>3G</td>\n",
       "      <td>1-3</td>\n",
       "      <td>No</td>\n",
       "      <td>Mobile</td>\n",
       "      <td>Low</td>\n",
       "    </tr>\n",
       "    <tr>\n",
       "      <th>6</th>\n",
       "      <td>Boy</td>\n",
       "      <td>11-15</td>\n",
       "      <td>School</td>\n",
       "      <td>Non Government</td>\n",
       "      <td>No</td>\n",
       "      <td>Yes</td>\n",
       "      <td>Low</td>\n",
       "      <td>Mid</td>\n",
       "      <td>Wifi</td>\n",
       "      <td>4G</td>\n",
       "      <td>1-3</td>\n",
       "      <td>No</td>\n",
       "      <td>Mobile</td>\n",
       "      <td>Low</td>\n",
       "    </tr>\n",
       "    <tr>\n",
       "      <th>7</th>\n",
       "      <td>Boy</td>\n",
       "      <td>11-15</td>\n",
       "      <td>School</td>\n",
       "      <td>Non Government</td>\n",
       "      <td>No</td>\n",
       "      <td>Yes</td>\n",
       "      <td>Low</td>\n",
       "      <td>Mid</td>\n",
       "      <td>Wifi</td>\n",
       "      <td>4G</td>\n",
       "      <td>1-3</td>\n",
       "      <td>No</td>\n",
       "      <td>Mobile</td>\n",
       "      <td>High</td>\n",
       "    </tr>\n",
       "    <tr>\n",
       "      <th>8</th>\n",
       "      <td>Boy</td>\n",
       "      <td>16-20</td>\n",
       "      <td>College</td>\n",
       "      <td>Government</td>\n",
       "      <td>No</td>\n",
       "      <td>Yes</td>\n",
       "      <td>Low</td>\n",
       "      <td>Mid</td>\n",
       "      <td>Wifi</td>\n",
       "      <td>4G</td>\n",
       "      <td>1-3</td>\n",
       "      <td>No</td>\n",
       "      <td>Mobile</td>\n",
       "      <td>Low</td>\n",
       "    </tr>\n",
       "    <tr>\n",
       "      <th>9</th>\n",
       "      <td>Boy</td>\n",
       "      <td>11-15</td>\n",
       "      <td>School</td>\n",
       "      <td>Non Government</td>\n",
       "      <td>No</td>\n",
       "      <td>Yes</td>\n",
       "      <td>Low</td>\n",
       "      <td>Mid</td>\n",
       "      <td>Mobile Data</td>\n",
       "      <td>3G</td>\n",
       "      <td>1-3</td>\n",
       "      <td>No</td>\n",
       "      <td>Mobile</td>\n",
       "      <td>High</td>\n",
       "    </tr>\n",
       "    <tr>\n",
       "      <th>10</th>\n",
       "      <td>Girl</td>\n",
       "      <td>16-20</td>\n",
       "      <td>University</td>\n",
       "      <td>Government</td>\n",
       "      <td>No</td>\n",
       "      <td>Yes</td>\n",
       "      <td>Low</td>\n",
       "      <td>Mid</td>\n",
       "      <td>Wifi</td>\n",
       "      <td>4G</td>\n",
       "      <td>1-3</td>\n",
       "      <td>No</td>\n",
       "      <td>Mobile</td>\n",
       "      <td>Low</td>\n",
       "    </tr>\n",
       "    <tr>\n",
       "      <th>11</th>\n",
       "      <td>Girl</td>\n",
       "      <td>16-20</td>\n",
       "      <td>College</td>\n",
       "      <td>Non Government</td>\n",
       "      <td>No</td>\n",
       "      <td>Yes</td>\n",
       "      <td>Low</td>\n",
       "      <td>Mid</td>\n",
       "      <td>Wifi</td>\n",
       "      <td>4G</td>\n",
       "      <td>1-3</td>\n",
       "      <td>No</td>\n",
       "      <td>Mobile</td>\n",
       "      <td>Low</td>\n",
       "    </tr>\n",
       "    <tr>\n",
       "      <th>12</th>\n",
       "      <td>Boy</td>\n",
       "      <td>11-15</td>\n",
       "      <td>School</td>\n",
       "      <td>Non Government</td>\n",
       "      <td>Yes</td>\n",
       "      <td>Yes</td>\n",
       "      <td>Low</td>\n",
       "      <td>Mid</td>\n",
       "      <td>Mobile Data</td>\n",
       "      <td>3G</td>\n",
       "      <td>1-3</td>\n",
       "      <td>No</td>\n",
       "      <td>Mobile</td>\n",
       "      <td>High</td>\n",
       "    </tr>\n",
       "    <tr>\n",
       "      <th>13</th>\n",
       "      <td>Girl</td>\n",
       "      <td>16-20</td>\n",
       "      <td>College</td>\n",
       "      <td>Non Government</td>\n",
       "      <td>No</td>\n",
       "      <td>No</td>\n",
       "      <td>Low</td>\n",
       "      <td>Mid</td>\n",
       "      <td>Wifi</td>\n",
       "      <td>4G</td>\n",
       "      <td>1-3</td>\n",
       "      <td>No</td>\n",
       "      <td>Mobile</td>\n",
       "      <td>Low</td>\n",
       "    </tr>\n",
       "    <tr>\n",
       "      <th>14</th>\n",
       "      <td>Girl</td>\n",
       "      <td>11-15</td>\n",
       "      <td>School</td>\n",
       "      <td>Non Government</td>\n",
       "      <td>No</td>\n",
       "      <td>Yes</td>\n",
       "      <td>Low</td>\n",
       "      <td>Poor</td>\n",
       "      <td>Mobile Data</td>\n",
       "      <td>3G</td>\n",
       "      <td>1-3</td>\n",
       "      <td>No</td>\n",
       "      <td>Mobile</td>\n",
       "      <td>High</td>\n",
       "    </tr>\n",
       "  </tbody>\n",
       "</table>\n",
       "</div>"
      ],
      "text/plain": [
       "   gender    age education_level institution_type IT_student location  \\\n",
       "0     Boy  21-25      University   Non Government         No      Yes   \n",
       "1    Girl  21-25      University   Non Government         No      Yes   \n",
       "2    Girl  16-20         College       Government         No      Yes   \n",
       "3    Girl  11-15          School   Non Government         No      Yes   \n",
       "4    Girl  16-20          School   Non Government         No      Yes   \n",
       "5     Boy  11-15          School   Non Government         No      Yes   \n",
       "6     Boy  11-15          School   Non Government         No      Yes   \n",
       "7     Boy  11-15          School   Non Government         No      Yes   \n",
       "8     Boy  16-20         College       Government         No      Yes   \n",
       "9     Boy  11-15          School   Non Government         No      Yes   \n",
       "10   Girl  16-20      University       Government         No      Yes   \n",
       "11   Girl  16-20         College   Non Government         No      Yes   \n",
       "12    Boy  11-15          School   Non Government        Yes      Yes   \n",
       "13   Girl  16-20         College   Non Government         No       No   \n",
       "14   Girl  11-15          School   Non Government         No      Yes   \n",
       "\n",
       "   electricity_supply financial_condition internet_type network_type  \\\n",
       "0                 Low                 Mid          Wifi           4G   \n",
       "1                High                 Mid   Mobile Data           4G   \n",
       "2                 Low                 Mid          Wifi           4G   \n",
       "3                 Low                 Mid   Mobile Data           4G   \n",
       "4                 Low                Poor   Mobile Data           3G   \n",
       "5                 Low                Poor   Mobile Data           3G   \n",
       "6                 Low                 Mid          Wifi           4G   \n",
       "7                 Low                 Mid          Wifi           4G   \n",
       "8                 Low                 Mid          Wifi           4G   \n",
       "9                 Low                 Mid   Mobile Data           3G   \n",
       "10                Low                 Mid          Wifi           4G   \n",
       "11                Low                 Mid          Wifi           4G   \n",
       "12                Low                 Mid   Mobile Data           3G   \n",
       "13                Low                 Mid          Wifi           4G   \n",
       "14                Low                Poor   Mobile Data           3G   \n",
       "\n",
       "   class_duration learning_system  device adaptivity_level  \n",
       "0             3-6              No     Tab             High  \n",
       "1             1-3             Yes  Mobile             High  \n",
       "2             1-3              No  Mobile             High  \n",
       "3             1-3              No  Mobile             High  \n",
       "4             1-3              No  Mobile              Low  \n",
       "5             1-3              No  Mobile              Low  \n",
       "6             1-3              No  Mobile              Low  \n",
       "7             1-3              No  Mobile             High  \n",
       "8             1-3              No  Mobile              Low  \n",
       "9             1-3              No  Mobile             High  \n",
       "10            1-3              No  Mobile              Low  \n",
       "11            1-3              No  Mobile              Low  \n",
       "12            1-3              No  Mobile             High  \n",
       "13            1-3              No  Mobile              Low  \n",
       "14            1-3              No  Mobile             High  "
      ]
     },
     "execution_count": 24,
     "metadata": {},
     "output_type": "execute_result"
    }
   ],
   "source": [
    "data_clean.head(15)"
   ]
  },
  {
   "cell_type": "markdown",
   "metadata": {},
   "source": [
    "# DANIELA MARIN : \n",
    "*Visualizacion con pivot_table, crosstable y plotly \n",
    "*modelos de ensamble: bagging /boosting con tree y regresion logistic\n",
    "\n"
   ]
  },
  {
   "cell_type": "code",
   "execution_count": 25,
   "metadata": {
    "colab": {
     "base_uri": "https://localhost:8080/",
     "height": 211
    },
    "id": "SfmaddR1s1fa",
    "outputId": "e2ef09a6-c65b-447a-ea88-449f3f510495"
   },
   "outputs": [],
   "source": [
    "\n",
    "#df1.head(2)\n",
    "df1=data_clean\n"
   ]
  },
  {
   "cell_type": "code",
   "execution_count": 26,
   "metadata": {},
   "outputs": [
    {
     "data": {
      "text/html": [
       "<div>\n",
       "<style scoped>\n",
       "    .dataframe tbody tr th:only-of-type {\n",
       "        vertical-align: middle;\n",
       "    }\n",
       "\n",
       "    .dataframe tbody tr th {\n",
       "        vertical-align: top;\n",
       "    }\n",
       "\n",
       "    .dataframe thead tr th {\n",
       "        text-align: left;\n",
       "    }\n",
       "\n",
       "    .dataframe thead tr:last-of-type th {\n",
       "        text-align: right;\n",
       "    }\n",
       "</style>\n",
       "<table border=\"1\" class=\"dataframe\">\n",
       "  <thead>\n",
       "    <tr>\n",
       "      <th></th>\n",
       "      <th colspan=\"3\" halign=\"left\">financial_condition</th>\n",
       "    </tr>\n",
       "    <tr>\n",
       "      <th>financial_condition</th>\n",
       "      <th>Mid</th>\n",
       "      <th>Poor</th>\n",
       "      <th>Rich</th>\n",
       "    </tr>\n",
       "    <tr>\n",
       "      <th>adaptivity_level</th>\n",
       "      <th></th>\n",
       "      <th></th>\n",
       "      <th></th>\n",
       "    </tr>\n",
       "  </thead>\n",
       "  <tbody>\n",
       "    <tr>\n",
       "      <th>High</th>\n",
       "      <td>537</td>\n",
       "      <td>113</td>\n",
       "      <td>75</td>\n",
       "    </tr>\n",
       "    <tr>\n",
       "      <th>Low</th>\n",
       "      <td>341</td>\n",
       "      <td>129</td>\n",
       "      <td>10</td>\n",
       "    </tr>\n",
       "  </tbody>\n",
       "</table>\n",
       "</div>"
      ],
      "text/plain": [
       "                    financial_condition          \n",
       "financial_condition                 Mid Poor Rich\n",
       "adaptivity_level                                 \n",
       "High                                537  113   75\n",
       "Low                                 341  129   10"
      ]
     },
     "execution_count": 26,
     "metadata": {},
     "output_type": "execute_result"
    }
   ],
   "source": [
    "table3= pd.pivot_table(df1, index=['adaptivity_level'], columns=['financial_condition'],\n",
    "           aggfunc={'financial_condition':len},fill_value=0)\n",
    "table3"
   ]
  },
  {
   "cell_type": "code",
   "execution_count": 27,
   "metadata": {},
   "outputs": [
    {
     "data": {
      "text/html": [
       "<div>\n",
       "<style scoped>\n",
       "    .dataframe tbody tr th:only-of-type {\n",
       "        vertical-align: middle;\n",
       "    }\n",
       "\n",
       "    .dataframe tbody tr th {\n",
       "        vertical-align: top;\n",
       "    }\n",
       "\n",
       "    .dataframe thead tr th {\n",
       "        text-align: left;\n",
       "    }\n",
       "\n",
       "    .dataframe thead tr:last-of-type th {\n",
       "        text-align: right;\n",
       "    }\n",
       "</style>\n",
       "<table border=\"1\" class=\"dataframe\">\n",
       "  <thead>\n",
       "    <tr>\n",
       "      <th></th>\n",
       "      <th colspan=\"9\" halign=\"left\">education_level</th>\n",
       "      <th colspan=\"9\" halign=\"left\">financial_condition</th>\n",
       "    </tr>\n",
       "    <tr>\n",
       "      <th>financial_condition</th>\n",
       "      <th colspan=\"3\" halign=\"left\">Mid</th>\n",
       "      <th colspan=\"3\" halign=\"left\">Poor</th>\n",
       "      <th colspan=\"3\" halign=\"left\">Rich</th>\n",
       "      <th colspan=\"3\" halign=\"left\">Mid</th>\n",
       "      <th colspan=\"3\" halign=\"left\">Poor</th>\n",
       "      <th colspan=\"3\" halign=\"left\">Rich</th>\n",
       "    </tr>\n",
       "    <tr>\n",
       "      <th>education_level</th>\n",
       "      <th>College</th>\n",
       "      <th>School</th>\n",
       "      <th>University</th>\n",
       "      <th>College</th>\n",
       "      <th>School</th>\n",
       "      <th>University</th>\n",
       "      <th>College</th>\n",
       "      <th>School</th>\n",
       "      <th>University</th>\n",
       "      <th>College</th>\n",
       "      <th>School</th>\n",
       "      <th>University</th>\n",
       "      <th>College</th>\n",
       "      <th>School</th>\n",
       "      <th>University</th>\n",
       "      <th>College</th>\n",
       "      <th>School</th>\n",
       "      <th>University</th>\n",
       "    </tr>\n",
       "    <tr>\n",
       "      <th>adaptivity_level</th>\n",
       "      <th></th>\n",
       "      <th></th>\n",
       "      <th></th>\n",
       "      <th></th>\n",
       "      <th></th>\n",
       "      <th></th>\n",
       "      <th></th>\n",
       "      <th></th>\n",
       "      <th></th>\n",
       "      <th></th>\n",
       "      <th></th>\n",
       "      <th></th>\n",
       "      <th></th>\n",
       "      <th></th>\n",
       "      <th></th>\n",
       "      <th></th>\n",
       "      <th></th>\n",
       "      <th></th>\n",
       "    </tr>\n",
       "  </thead>\n",
       "  <tbody>\n",
       "    <tr>\n",
       "      <th>High</th>\n",
       "      <td>96</td>\n",
       "      <td>236</td>\n",
       "      <td>205</td>\n",
       "      <td>3</td>\n",
       "      <td>66</td>\n",
       "      <td>44</td>\n",
       "      <td>0</td>\n",
       "      <td>46</td>\n",
       "      <td>29</td>\n",
       "      <td>96</td>\n",
       "      <td>236</td>\n",
       "      <td>205</td>\n",
       "      <td>3</td>\n",
       "      <td>66</td>\n",
       "      <td>44</td>\n",
       "      <td>0</td>\n",
       "      <td>46</td>\n",
       "      <td>29</td>\n",
       "    </tr>\n",
       "    <tr>\n",
       "      <th>Low</th>\n",
       "      <td>104</td>\n",
       "      <td>100</td>\n",
       "      <td>137</td>\n",
       "      <td>14</td>\n",
       "      <td>77</td>\n",
       "      <td>38</td>\n",
       "      <td>2</td>\n",
       "      <td>5</td>\n",
       "      <td>3</td>\n",
       "      <td>104</td>\n",
       "      <td>100</td>\n",
       "      <td>137</td>\n",
       "      <td>14</td>\n",
       "      <td>77</td>\n",
       "      <td>38</td>\n",
       "      <td>2</td>\n",
       "      <td>5</td>\n",
       "      <td>3</td>\n",
       "    </tr>\n",
       "  </tbody>\n",
       "</table>\n",
       "</div>"
      ],
      "text/plain": [
       "                    education_level                                   \\\n",
       "financial_condition             Mid                      Poor          \n",
       "education_level             College School University College School   \n",
       "adaptivity_level                                                       \n",
       "High                             96    236        205       3     66   \n",
       "Low                             104    100        137      14     77   \n",
       "\n",
       "                                                         financial_condition  \\\n",
       "financial_condition               Rich                                   Mid   \n",
       "education_level     University College School University             College   \n",
       "adaptivity_level                                                               \n",
       "High                        44       0     46         29                  96   \n",
       "Low                         38       2      5          3                 104   \n",
       "\n",
       "                                                                         \\\n",
       "financial_condition                      Poor                      Rich   \n",
       "education_level     School University College School University College   \n",
       "adaptivity_level                                                          \n",
       "High                   236        205       3     66         44       0   \n",
       "Low                    100        137      14     77         38       2   \n",
       "\n",
       "                                       \n",
       "financial_condition                    \n",
       "education_level     School University  \n",
       "adaptivity_level                       \n",
       "High                    46         29  \n",
       "Low                      5          3  "
      ]
     },
     "execution_count": 27,
     "metadata": {},
     "output_type": "execute_result"
    }
   ],
   "source": [
    "table7 = pd.pivot_table(df1, index=['adaptivity_level'], columns=['financial_condition', 'education_level'],\n",
    "           aggfunc={'financial_condition':len,'education_level':len},fill_value=0)\n",
    "table7"
   ]
  },
  {
   "cell_type": "code",
   "execution_count": 28,
   "metadata": {},
   "outputs": [
    {
     "name": "stdout",
     "output_type": "stream",
     "text": [
      "<class 'pandas.core.frame.DataFrame'>\n",
      "Index: 2 entries, High to Low\n",
      "Data columns (total 18 columns):\n",
      " #   Column                                   Non-Null Count  Dtype\n",
      "---  ------                                   --------------  -----\n",
      " 0   (education_level, Mid, College)          2 non-null      int64\n",
      " 1   (education_level, Mid, School)           2 non-null      int64\n",
      " 2   (education_level, Mid, University)       2 non-null      int64\n",
      " 3   (education_level, Poor, College)         2 non-null      int64\n",
      " 4   (education_level, Poor, School)          2 non-null      int64\n",
      " 5   (education_level, Poor, University)      2 non-null      int64\n",
      " 6   (education_level, Rich, College)         2 non-null      int64\n",
      " 7   (education_level, Rich, School)          2 non-null      int64\n",
      " 8   (education_level, Rich, University)      2 non-null      int64\n",
      " 9   (financial_condition, Mid, College)      2 non-null      int64\n",
      " 10  (financial_condition, Mid, School)       2 non-null      int64\n",
      " 11  (financial_condition, Mid, University)   2 non-null      int64\n",
      " 12  (financial_condition, Poor, College)     2 non-null      int64\n",
      " 13  (financial_condition, Poor, School)      2 non-null      int64\n",
      " 14  (financial_condition, Poor, University)  2 non-null      int64\n",
      " 15  (financial_condition, Rich, College)     2 non-null      int64\n",
      " 16  (financial_condition, Rich, School)      2 non-null      int64\n",
      " 17  (financial_condition, Rich, University)  2 non-null      int64\n",
      "dtypes: int64(18)\n",
      "memory usage: 304.0+ bytes\n"
     ]
    }
   ],
   "source": [
    "table7.info()"
   ]
  },
  {
   "cell_type": "markdown",
   "metadata": {},
   "source": [
    "la tabla anterior nos permite conocer en detalle como la variable target de adaptabilidad se distribuye entre las otras variables categoricas, en este caso el nivel educativo y la condicion financiera, vemos facilmente que los mas adaptados estan en el nivel educativo school de condicion financiera media."
   ]
  },
  {
   "cell_type": "code",
   "execution_count": 29,
   "metadata": {},
   "outputs": [
    {
     "data": {
      "text/html": [
       "<div>\n",
       "<style scoped>\n",
       "    .dataframe tbody tr th:only-of-type {\n",
       "        vertical-align: middle;\n",
       "    }\n",
       "\n",
       "    .dataframe tbody tr th {\n",
       "        vertical-align: top;\n",
       "    }\n",
       "\n",
       "    .dataframe thead th {\n",
       "        text-align: right;\n",
       "    }\n",
       "</style>\n",
       "<table border=\"1\" class=\"dataframe\">\n",
       "  <thead>\n",
       "    <tr style=\"text-align: right;\">\n",
       "      <th></th>\n",
       "      <th>gender</th>\n",
       "      <th>age</th>\n",
       "      <th>education_level</th>\n",
       "      <th>institution_type</th>\n",
       "      <th>IT_student</th>\n",
       "      <th>location</th>\n",
       "      <th>electricity_supply</th>\n",
       "      <th>financial_condition</th>\n",
       "      <th>internet_type</th>\n",
       "      <th>network_type</th>\n",
       "      <th>class_duration</th>\n",
       "      <th>learning_system</th>\n",
       "      <th>device</th>\n",
       "      <th>adaptivity_level</th>\n",
       "    </tr>\n",
       "  </thead>\n",
       "  <tbody>\n",
       "    <tr>\n",
       "      <th>0</th>\n",
       "      <td>Boy</td>\n",
       "      <td>21-25</td>\n",
       "      <td>University</td>\n",
       "      <td>Non Government</td>\n",
       "      <td>No</td>\n",
       "      <td>Yes</td>\n",
       "      <td>Low</td>\n",
       "      <td>Mid</td>\n",
       "      <td>Wifi</td>\n",
       "      <td>4G</td>\n",
       "      <td>3-6</td>\n",
       "      <td>No</td>\n",
       "      <td>Tab</td>\n",
       "      <td>High</td>\n",
       "    </tr>\n",
       "    <tr>\n",
       "      <th>1</th>\n",
       "      <td>Girl</td>\n",
       "      <td>21-25</td>\n",
       "      <td>University</td>\n",
       "      <td>Non Government</td>\n",
       "      <td>No</td>\n",
       "      <td>Yes</td>\n",
       "      <td>High</td>\n",
       "      <td>Mid</td>\n",
       "      <td>Mobile Data</td>\n",
       "      <td>4G</td>\n",
       "      <td>1-3</td>\n",
       "      <td>Yes</td>\n",
       "      <td>Mobile</td>\n",
       "      <td>High</td>\n",
       "    </tr>\n",
       "    <tr>\n",
       "      <th>2</th>\n",
       "      <td>Girl</td>\n",
       "      <td>16-20</td>\n",
       "      <td>College</td>\n",
       "      <td>Government</td>\n",
       "      <td>No</td>\n",
       "      <td>Yes</td>\n",
       "      <td>Low</td>\n",
       "      <td>Mid</td>\n",
       "      <td>Wifi</td>\n",
       "      <td>4G</td>\n",
       "      <td>1-3</td>\n",
       "      <td>No</td>\n",
       "      <td>Mobile</td>\n",
       "      <td>High</td>\n",
       "    </tr>\n",
       "    <tr>\n",
       "      <th>3</th>\n",
       "      <td>Girl</td>\n",
       "      <td>11-15</td>\n",
       "      <td>School</td>\n",
       "      <td>Non Government</td>\n",
       "      <td>No</td>\n",
       "      <td>Yes</td>\n",
       "      <td>Low</td>\n",
       "      <td>Mid</td>\n",
       "      <td>Mobile Data</td>\n",
       "      <td>4G</td>\n",
       "      <td>1-3</td>\n",
       "      <td>No</td>\n",
       "      <td>Mobile</td>\n",
       "      <td>High</td>\n",
       "    </tr>\n",
       "    <tr>\n",
       "      <th>4</th>\n",
       "      <td>Girl</td>\n",
       "      <td>16-20</td>\n",
       "      <td>School</td>\n",
       "      <td>Non Government</td>\n",
       "      <td>No</td>\n",
       "      <td>Yes</td>\n",
       "      <td>Low</td>\n",
       "      <td>Poor</td>\n",
       "      <td>Mobile Data</td>\n",
       "      <td>3G</td>\n",
       "      <td>1-3</td>\n",
       "      <td>No</td>\n",
       "      <td>Mobile</td>\n",
       "      <td>Low</td>\n",
       "    </tr>\n",
       "    <tr>\n",
       "      <th>...</th>\n",
       "      <td>...</td>\n",
       "      <td>...</td>\n",
       "      <td>...</td>\n",
       "      <td>...</td>\n",
       "      <td>...</td>\n",
       "      <td>...</td>\n",
       "      <td>...</td>\n",
       "      <td>...</td>\n",
       "      <td>...</td>\n",
       "      <td>...</td>\n",
       "      <td>...</td>\n",
       "      <td>...</td>\n",
       "      <td>...</td>\n",
       "      <td>...</td>\n",
       "    </tr>\n",
       "    <tr>\n",
       "      <th>1200</th>\n",
       "      <td>Girl</td>\n",
       "      <td>16-20</td>\n",
       "      <td>College</td>\n",
       "      <td>Non Government</td>\n",
       "      <td>No</td>\n",
       "      <td>Yes</td>\n",
       "      <td>Low</td>\n",
       "      <td>Mid</td>\n",
       "      <td>Wifi</td>\n",
       "      <td>4G</td>\n",
       "      <td>1-3</td>\n",
       "      <td>No</td>\n",
       "      <td>Mobile</td>\n",
       "      <td>Low</td>\n",
       "    </tr>\n",
       "    <tr>\n",
       "      <th>1201</th>\n",
       "      <td>Girl</td>\n",
       "      <td>16-20</td>\n",
       "      <td>College</td>\n",
       "      <td>Non Government</td>\n",
       "      <td>No</td>\n",
       "      <td>No</td>\n",
       "      <td>High</td>\n",
       "      <td>Mid</td>\n",
       "      <td>Wifi</td>\n",
       "      <td>4G</td>\n",
       "      <td>3-6</td>\n",
       "      <td>No</td>\n",
       "      <td>Mobile</td>\n",
       "      <td>High</td>\n",
       "    </tr>\n",
       "    <tr>\n",
       "      <th>1202</th>\n",
       "      <td>Boy</td>\n",
       "      <td>11-15</td>\n",
       "      <td>School</td>\n",
       "      <td>Non Government</td>\n",
       "      <td>No</td>\n",
       "      <td>Yes</td>\n",
       "      <td>Low</td>\n",
       "      <td>Mid</td>\n",
       "      <td>Mobile Data</td>\n",
       "      <td>3G</td>\n",
       "      <td>1-3</td>\n",
       "      <td>No</td>\n",
       "      <td>Mobile</td>\n",
       "      <td>High</td>\n",
       "    </tr>\n",
       "    <tr>\n",
       "      <th>1203</th>\n",
       "      <td>Girl</td>\n",
       "      <td>16-20</td>\n",
       "      <td>College</td>\n",
       "      <td>Non Government</td>\n",
       "      <td>No</td>\n",
       "      <td>No</td>\n",
       "      <td>Low</td>\n",
       "      <td>Mid</td>\n",
       "      <td>Wifi</td>\n",
       "      <td>4G</td>\n",
       "      <td>1-3</td>\n",
       "      <td>No</td>\n",
       "      <td>Mobile</td>\n",
       "      <td>Low</td>\n",
       "    </tr>\n",
       "    <tr>\n",
       "      <th>1204</th>\n",
       "      <td>Girl</td>\n",
       "      <td>11-15</td>\n",
       "      <td>School</td>\n",
       "      <td>Non Government</td>\n",
       "      <td>No</td>\n",
       "      <td>Yes</td>\n",
       "      <td>Low</td>\n",
       "      <td>Poor</td>\n",
       "      <td>Mobile Data</td>\n",
       "      <td>3G</td>\n",
       "      <td>1-3</td>\n",
       "      <td>No</td>\n",
       "      <td>Mobile</td>\n",
       "      <td>High</td>\n",
       "    </tr>\n",
       "  </tbody>\n",
       "</table>\n",
       "<p>1205 rows × 14 columns</p>\n",
       "</div>"
      ],
      "text/plain": [
       "     gender    age education_level institution_type IT_student location  \\\n",
       "0       Boy  21-25      University   Non Government         No      Yes   \n",
       "1      Girl  21-25      University   Non Government         No      Yes   \n",
       "2      Girl  16-20         College       Government         No      Yes   \n",
       "3      Girl  11-15          School   Non Government         No      Yes   \n",
       "4      Girl  16-20          School   Non Government         No      Yes   \n",
       "...     ...    ...             ...              ...        ...      ...   \n",
       "1200   Girl  16-20         College   Non Government         No      Yes   \n",
       "1201   Girl  16-20         College   Non Government         No       No   \n",
       "1202    Boy  11-15          School   Non Government         No      Yes   \n",
       "1203   Girl  16-20         College   Non Government         No       No   \n",
       "1204   Girl  11-15          School   Non Government         No      Yes   \n",
       "\n",
       "     electricity_supply financial_condition internet_type network_type  \\\n",
       "0                   Low                 Mid          Wifi           4G   \n",
       "1                  High                 Mid   Mobile Data           4G   \n",
       "2                   Low                 Mid          Wifi           4G   \n",
       "3                   Low                 Mid   Mobile Data           4G   \n",
       "4                   Low                Poor   Mobile Data           3G   \n",
       "...                 ...                 ...           ...          ...   \n",
       "1200                Low                 Mid          Wifi           4G   \n",
       "1201               High                 Mid          Wifi           4G   \n",
       "1202                Low                 Mid   Mobile Data           3G   \n",
       "1203                Low                 Mid          Wifi           4G   \n",
       "1204                Low                Poor   Mobile Data           3G   \n",
       "\n",
       "     class_duration learning_system  device adaptivity_level  \n",
       "0               3-6              No     Tab             High  \n",
       "1               1-3             Yes  Mobile             High  \n",
       "2               1-3              No  Mobile             High  \n",
       "3               1-3              No  Mobile             High  \n",
       "4               1-3              No  Mobile              Low  \n",
       "...             ...             ...     ...              ...  \n",
       "1200            1-3              No  Mobile              Low  \n",
       "1201            3-6              No  Mobile             High  \n",
       "1202            1-3              No  Mobile             High  \n",
       "1203            1-3              No  Mobile              Low  \n",
       "1204            1-3              No  Mobile             High  \n",
       "\n",
       "[1205 rows x 14 columns]"
      ]
     },
     "execution_count": 29,
     "metadata": {},
     "output_type": "execute_result"
    }
   ],
   "source": [
    "df1"
   ]
  },
  {
   "cell_type": "code",
   "execution_count": 30,
   "metadata": {},
   "outputs": [
    {
     "name": "stdout",
     "output_type": "stream",
     "text": [
      "<class 'pandas.core.frame.DataFrame'>\n",
      "RangeIndex: 1205 entries, 0 to 1204\n",
      "Data columns (total 14 columns):\n",
      " #   Column               Non-Null Count  Dtype \n",
      "---  ------               --------------  ----- \n",
      " 0   gender               1205 non-null   object\n",
      " 1   age                  1205 non-null   object\n",
      " 2   education_level      1205 non-null   object\n",
      " 3   institution_type     1205 non-null   object\n",
      " 4   IT_student           1205 non-null   object\n",
      " 5   location             1205 non-null   object\n",
      " 6   electricity_supply   1205 non-null   object\n",
      " 7   financial_condition  1205 non-null   object\n",
      " 8   internet_type        1205 non-null   object\n",
      " 9   network_type         1205 non-null   object\n",
      " 10  class_duration       1205 non-null   object\n",
      " 11  learning_system      1205 non-null   object\n",
      " 12  device               1205 non-null   object\n",
      " 13  adaptivity_level     1205 non-null   object\n",
      "dtypes: object(14)\n",
      "memory usage: 131.9+ KB\n"
     ]
    }
   ],
   "source": [
    "df1.info()"
   ]
  },
  {
   "cell_type": "code",
   "execution_count": 31,
   "metadata": {},
   "outputs": [
    {
     "data": {
      "text/html": [
       "<div>\n",
       "<style scoped>\n",
       "    .dataframe tbody tr th:only-of-type {\n",
       "        vertical-align: middle;\n",
       "    }\n",
       "\n",
       "    .dataframe tbody tr th {\n",
       "        vertical-align: top;\n",
       "    }\n",
       "\n",
       "    .dataframe thead th {\n",
       "        text-align: right;\n",
       "    }\n",
       "</style>\n",
       "<table border=\"1\" class=\"dataframe\">\n",
       "  <thead>\n",
       "    <tr style=\"text-align: right;\">\n",
       "      <th></th>\n",
       "      <th>gender</th>\n",
       "      <th>age</th>\n",
       "      <th>education_level</th>\n",
       "      <th>institution_type</th>\n",
       "      <th>IT_student</th>\n",
       "      <th>location</th>\n",
       "      <th>electricity_supply</th>\n",
       "      <th>financial_condition</th>\n",
       "      <th>internet_type</th>\n",
       "      <th>network_type</th>\n",
       "      <th>class_duration</th>\n",
       "      <th>learning_system</th>\n",
       "      <th>device</th>\n",
       "      <th>adaptivity_level</th>\n",
       "    </tr>\n",
       "  </thead>\n",
       "  <tbody>\n",
       "    <tr>\n",
       "      <th>count</th>\n",
       "      <td>1205</td>\n",
       "      <td>1205</td>\n",
       "      <td>1205</td>\n",
       "      <td>1205</td>\n",
       "      <td>1205</td>\n",
       "      <td>1205</td>\n",
       "      <td>1205</td>\n",
       "      <td>1205</td>\n",
       "      <td>1205</td>\n",
       "      <td>1205</td>\n",
       "      <td>1205</td>\n",
       "      <td>1205</td>\n",
       "      <td>1205</td>\n",
       "      <td>1205</td>\n",
       "    </tr>\n",
       "    <tr>\n",
       "      <th>unique</th>\n",
       "      <td>2</td>\n",
       "      <td>6</td>\n",
       "      <td>3</td>\n",
       "      <td>2</td>\n",
       "      <td>2</td>\n",
       "      <td>2</td>\n",
       "      <td>2</td>\n",
       "      <td>3</td>\n",
       "      <td>2</td>\n",
       "      <td>3</td>\n",
       "      <td>2</td>\n",
       "      <td>2</td>\n",
       "      <td>3</td>\n",
       "      <td>2</td>\n",
       "    </tr>\n",
       "    <tr>\n",
       "      <th>top</th>\n",
       "      <td>Boy</td>\n",
       "      <td>21-25</td>\n",
       "      <td>School</td>\n",
       "      <td>Non Government</td>\n",
       "      <td>No</td>\n",
       "      <td>Yes</td>\n",
       "      <td>Low</td>\n",
       "      <td>Mid</td>\n",
       "      <td>Mobile Data</td>\n",
       "      <td>4G</td>\n",
       "      <td>1-3</td>\n",
       "      <td>No</td>\n",
       "      <td>Mobile</td>\n",
       "      <td>High</td>\n",
       "    </tr>\n",
       "    <tr>\n",
       "      <th>freq</th>\n",
       "      <td>663</td>\n",
       "      <td>374</td>\n",
       "      <td>530</td>\n",
       "      <td>823</td>\n",
       "      <td>901</td>\n",
       "      <td>935</td>\n",
       "      <td>1004</td>\n",
       "      <td>878</td>\n",
       "      <td>695</td>\n",
       "      <td>775</td>\n",
       "      <td>994</td>\n",
       "      <td>995</td>\n",
       "      <td>1013</td>\n",
       "      <td>725</td>\n",
       "    </tr>\n",
       "  </tbody>\n",
       "</table>\n",
       "</div>"
      ],
      "text/plain": [
       "       gender    age education_level institution_type IT_student location  \\\n",
       "count    1205   1205            1205             1205       1205     1205   \n",
       "unique      2      6               3                2          2        2   \n",
       "top       Boy  21-25          School   Non Government         No      Yes   \n",
       "freq      663    374             530              823        901      935   \n",
       "\n",
       "       electricity_supply financial_condition internet_type network_type  \\\n",
       "count                1205                1205          1205         1205   \n",
       "unique                  2                   3             2            3   \n",
       "top                   Low                 Mid   Mobile Data           4G   \n",
       "freq                 1004                 878           695          775   \n",
       "\n",
       "       class_duration learning_system  device adaptivity_level  \n",
       "count            1205            1205    1205             1205  \n",
       "unique              2               2       3                2  \n",
       "top               1-3              No  Mobile             High  \n",
       "freq              994             995    1013              725  "
      ]
     },
     "execution_count": 31,
     "metadata": {},
     "output_type": "execute_result"
    }
   ],
   "source": [
    "df1.select_dtypes(include=['object']).describe()"
   ]
  },
  {
   "cell_type": "code",
   "execution_count": 32,
   "metadata": {},
   "outputs": [
    {
     "data": {
      "image/png": "[encoded data removed]",
      "text/plain": [
       "<Figure size 1080x1080 with 13 Axes>"
      ]
     },
     "metadata": {},
     "output_type": "display_data"
    }
   ],
   "source": [
    "# Gráfico para cada variable cualitativa\n",
    "# ==============================================================================\n",
    "# Ajustar número de subplots en función del número de columnas\n",
    "fig, axes = plt.subplots(nrows=5, ncols=3, figsize=(15, 15))\n",
    "axes = axes.flat\n",
    "columnas_object = df1.select_dtypes(include=['object']).columns\n",
    "\n",
    "for i, colum in enumerate(columnas_object):\n",
    "    df1[colum].value_counts().plot.barh(ax = axes[i])\n",
    "    axes[i].set_title(colum, fontsize = 7, fontweight = \"bold\")\n",
    "    axes[i].tick_params(labelsize = 6)\n",
    "    axes[i].set_xlabel(\"\")\n",
    "\n",
    "# Se eliminan los axes vacíos\n",
    "for i in [13, 14]:\n",
    "    fig.delaxes(axes[i])\n",
    "    \n",
    "fig.tight_layout()\n",
    "plt.subplots_adjust(top=0.9)\n",
    "fig.suptitle('Distribución variables cualitativas',\n",
    "             fontsize = 10, fontweight = \"bold\");"
   ]
  },
  {
   "cell_type": "markdown",
   "metadata": {},
   "source": [
    "las variables categoricas pueden presentar algunos problemas de balanceo, en algunos casos cuando uno de los grupos es muy pequeño en comparacion con otros, no se vera representado en el momento de particionar los grupos o realizar validacion cruzada o bootstrapping,por tanto no se vera representado(varianza cero), lo que puede dar lugar a errores. en estos casos conviene hacer lo que se hizo con la variable adaptabilidad, intentar sumarlo a un grupo donde este representado o eliminarla cuando sea muy pequeña en comparacion con los demas."
   ]
  },
  {
   "cell_type": "code",
   "execution_count": 33,
   "metadata": {},
   "outputs": [
    {
     "data": {
      "text/plain": [
       "1-5       81\n",
       "11-15    353\n",
       "16-20    278\n",
       "21-25    374\n",
       "26-30     68\n",
       "6-10      51\n",
       "Name: age, dtype: int64"
      ]
     },
     "execution_count": 33,
     "metadata": {},
     "output_type": "execute_result"
    }
   ],
   "source": [
    "#en este caso los rangos de edad van de 1 a 30 años \n",
    "df1.age.value_counts().sort_index()"
   ]
  },
  {
   "cell_type": "code",
   "execution_count": 34,
   "metadata": {},
   "outputs": [],
   "source": [
    "dic_replace = {'1-5': \"0-15\",\n",
    "               '6-10': \"0-15\",\n",
    "               '11-15':\"0-15\",\n",
    "               '21-25':\"21-30\",\n",
    "               '26-30':\"21-30\",}\n",
    "\n",
    "df1['age'] = df1['age'] \\\n",
    "                     .map(dic_replace) \\\n",
    "                     .fillna(df1['age'])"
   ]
  },
  {
   "cell_type": "code",
   "execution_count": 35,
   "metadata": {},
   "outputs": [
    {
     "data": {
      "text/plain": [
       "0-15     485\n",
       "16-20    278\n",
       "21-30    442\n",
       "Name: age, dtype: int64"
      ]
     },
     "execution_count": 35,
     "metadata": {},
     "output_type": "execute_result"
    }
   ],
   "source": [
    "df1.age.value_counts().sort_index()"
   ]
  },
  {
   "cell_type": "code",
   "execution_count": 36,
   "metadata": {},
   "outputs": [
    {
     "data": {
      "text/plain": [
       "Computer     162\n",
       "Mobile      1013\n",
       "Tab           30\n",
       "Name: device, dtype: int64"
      ]
     },
     "execution_count": 36,
     "metadata": {},
     "output_type": "execute_result"
    }
   ],
   "source": [
    "df1.device.value_counts().sort_index()"
   ]
  },
  {
   "cell_type": "code",
   "execution_count": 37,
   "metadata": {},
   "outputs": [],
   "source": [
    "dic_replace = {'Tab': \"Computer\"}\n",
    "               \n",
    "df1['device'] = df1['device'] \\\n",
    "                     .map(dic_replace) \\\n",
    "                     .fillna(df1['device'])"
   ]
  },
  {
   "cell_type": "code",
   "execution_count": 38,
   "metadata": {},
   "outputs": [
    {
     "data": {
      "text/plain": [
       "Computer     192\n",
       "Mobile      1013\n",
       "Name: device, dtype: int64"
      ]
     },
     "execution_count": 38,
     "metadata": {},
     "output_type": "execute_result"
    }
   ],
   "source": [
    "df1.device.value_counts().sort_index()"
   ]
  },
  {
   "cell_type": "code",
   "execution_count": 39,
   "metadata": {},
   "outputs": [
    {
     "data": {
      "text/plain": [
       "2G     19\n",
       "3G    411\n",
       "4G    775\n",
       "Name: network_type, dtype: int64"
      ]
     },
     "execution_count": 39,
     "metadata": {},
     "output_type": "execute_result"
    }
   ],
   "source": [
    "df1.network_type.value_counts().sort_index()"
   ]
  },
  {
   "cell_type": "code",
   "execution_count": 40,
   "metadata": {},
   "outputs": [],
   "source": [
    "dic_replace = {'2G': \"3G\"}\n",
    "               \n",
    "df1['network_type'] = df1['network_type'] \\\n",
    "                     .map(dic_replace) \\\n",
    "                     .fillna(df1['network_type'])"
   ]
  },
  {
   "cell_type": "code",
   "execution_count": 41,
   "metadata": {},
   "outputs": [
    {
     "data": {
      "text/plain": [
       "3G    430\n",
       "4G    775\n",
       "Name: network_type, dtype: int64"
      ]
     },
     "execution_count": 41,
     "metadata": {},
     "output_type": "execute_result"
    }
   ],
   "source": [
    "df1.network_type.value_counts().sort_index()"
   ]
  },
  {
   "cell_type": "markdown",
   "metadata": {},
   "source": [
    "# PREPROCESAMIENTO"
   ]
  },
  {
   "cell_type": "code",
   "execution_count": 42,
   "metadata": {},
   "outputs": [
    {
     "data": {
      "text/html": [
       "<div>\n",
       "<style scoped>\n",
       "    .dataframe tbody tr th:only-of-type {\n",
       "        vertical-align: middle;\n",
       "    }\n",
       "\n",
       "    .dataframe tbody tr th {\n",
       "        vertical-align: top;\n",
       "    }\n",
       "\n",
       "    .dataframe thead th {\n",
       "        text-align: right;\n",
       "    }\n",
       "</style>\n",
       "<table border=\"1\" class=\"dataframe\">\n",
       "  <thead>\n",
       "    <tr style=\"text-align: right;\">\n",
       "      <th></th>\n",
       "      <th>gender_Girl</th>\n",
       "      <th>age_16-20</th>\n",
       "      <th>age_21-30</th>\n",
       "      <th>education_level_School</th>\n",
       "      <th>education_level_University</th>\n",
       "      <th>institution_type_Non Government</th>\n",
       "      <th>IT_student_Yes</th>\n",
       "      <th>location_Yes</th>\n",
       "      <th>electricity_supply_Low</th>\n",
       "      <th>financial_condition_Poor</th>\n",
       "      <th>financial_condition_Rich</th>\n",
       "      <th>internet_type_Wifi</th>\n",
       "      <th>network_type_4G</th>\n",
       "      <th>class_duration_3-6</th>\n",
       "      <th>learning_system_Yes</th>\n",
       "      <th>device_Mobile</th>\n",
       "      <th>adaptivity_level_Low</th>\n",
       "    </tr>\n",
       "  </thead>\n",
       "  <tbody>\n",
       "    <tr>\n",
       "      <th>0</th>\n",
       "      <td>0</td>\n",
       "      <td>0</td>\n",
       "      <td>1</td>\n",
       "      <td>0</td>\n",
       "      <td>1</td>\n",
       "      <td>1</td>\n",
       "      <td>0</td>\n",
       "      <td>1</td>\n",
       "      <td>1</td>\n",
       "      <td>0</td>\n",
       "      <td>0</td>\n",
       "      <td>1</td>\n",
       "      <td>1</td>\n",
       "      <td>1</td>\n",
       "      <td>0</td>\n",
       "      <td>0</td>\n",
       "      <td>0</td>\n",
       "    </tr>\n",
       "    <tr>\n",
       "      <th>1</th>\n",
       "      <td>1</td>\n",
       "      <td>0</td>\n",
       "      <td>1</td>\n",
       "      <td>0</td>\n",
       "      <td>1</td>\n",
       "      <td>1</td>\n",
       "      <td>0</td>\n",
       "      <td>1</td>\n",
       "      <td>0</td>\n",
       "      <td>0</td>\n",
       "      <td>0</td>\n",
       "      <td>0</td>\n",
       "      <td>1</td>\n",
       "      <td>0</td>\n",
       "      <td>1</td>\n",
       "      <td>1</td>\n",
       "      <td>0</td>\n",
       "    </tr>\n",
       "    <tr>\n",
       "      <th>2</th>\n",
       "      <td>1</td>\n",
       "      <td>1</td>\n",
       "      <td>0</td>\n",
       "      <td>0</td>\n",
       "      <td>0</td>\n",
       "      <td>0</td>\n",
       "      <td>0</td>\n",
       "      <td>1</td>\n",
       "      <td>1</td>\n",
       "      <td>0</td>\n",
       "      <td>0</td>\n",
       "      <td>1</td>\n",
       "      <td>1</td>\n",
       "      <td>0</td>\n",
       "      <td>0</td>\n",
       "      <td>1</td>\n",
       "      <td>0</td>\n",
       "    </tr>\n",
       "    <tr>\n",
       "      <th>3</th>\n",
       "      <td>1</td>\n",
       "      <td>0</td>\n",
       "      <td>0</td>\n",
       "      <td>1</td>\n",
       "      <td>0</td>\n",
       "      <td>1</td>\n",
       "      <td>0</td>\n",
       "      <td>1</td>\n",
       "      <td>1</td>\n",
       "      <td>0</td>\n",
       "      <td>0</td>\n",
       "      <td>0</td>\n",
       "      <td>1</td>\n",
       "      <td>0</td>\n",
       "      <td>0</td>\n",
       "      <td>1</td>\n",
       "      <td>0</td>\n",
       "    </tr>\n",
       "    <tr>\n",
       "      <th>4</th>\n",
       "      <td>1</td>\n",
       "      <td>1</td>\n",
       "      <td>0</td>\n",
       "      <td>1</td>\n",
       "      <td>0</td>\n",
       "      <td>1</td>\n",
       "      <td>0</td>\n",
       "      <td>1</td>\n",
       "      <td>1</td>\n",
       "      <td>1</td>\n",
       "      <td>0</td>\n",
       "      <td>0</td>\n",
       "      <td>0</td>\n",
       "      <td>0</td>\n",
       "      <td>0</td>\n",
       "      <td>1</td>\n",
       "      <td>1</td>\n",
       "    </tr>\n",
       "    <tr>\n",
       "      <th>...</th>\n",
       "      <td>...</td>\n",
       "      <td>...</td>\n",
       "      <td>...</td>\n",
       "      <td>...</td>\n",
       "      <td>...</td>\n",
       "      <td>...</td>\n",
       "      <td>...</td>\n",
       "      <td>...</td>\n",
       "      <td>...</td>\n",
       "      <td>...</td>\n",
       "      <td>...</td>\n",
       "      <td>...</td>\n",
       "      <td>...</td>\n",
       "      <td>...</td>\n",
       "      <td>...</td>\n",
       "      <td>...</td>\n",
       "      <td>...</td>\n",
       "    </tr>\n",
       "    <tr>\n",
       "      <th>1200</th>\n",
       "      <td>1</td>\n",
       "      <td>1</td>\n",
       "      <td>0</td>\n",
       "      <td>0</td>\n",
       "      <td>0</td>\n",
       "      <td>1</td>\n",
       "      <td>0</td>\n",
       "      <td>1</td>\n",
       "      <td>1</td>\n",
       "      <td>0</td>\n",
       "      <td>0</td>\n",
       "      <td>1</td>\n",
       "      <td>1</td>\n",
       "      <td>0</td>\n",
       "      <td>0</td>\n",
       "      <td>1</td>\n",
       "      <td>1</td>\n",
       "    </tr>\n",
       "    <tr>\n",
       "      <th>1201</th>\n",
       "      <td>1</td>\n",
       "      <td>1</td>\n",
       "      <td>0</td>\n",
       "      <td>0</td>\n",
       "      <td>0</td>\n",
       "      <td>1</td>\n",
       "      <td>0</td>\n",
       "      <td>0</td>\n",
       "      <td>0</td>\n",
       "      <td>0</td>\n",
       "      <td>0</td>\n",
       "      <td>1</td>\n",
       "      <td>1</td>\n",
       "      <td>1</td>\n",
       "      <td>0</td>\n",
       "      <td>1</td>\n",
       "      <td>0</td>\n",
       "    </tr>\n",
       "    <tr>\n",
       "      <th>1202</th>\n",
       "      <td>0</td>\n",
       "      <td>0</td>\n",
       "      <td>0</td>\n",
       "      <td>1</td>\n",
       "      <td>0</td>\n",
       "      <td>1</td>\n",
       "      <td>0</td>\n",
       "      <td>1</td>\n",
       "      <td>1</td>\n",
       "      <td>0</td>\n",
       "      <td>0</td>\n",
       "      <td>0</td>\n",
       "      <td>0</td>\n",
       "      <td>0</td>\n",
       "      <td>0</td>\n",
       "      <td>1</td>\n",
       "      <td>0</td>\n",
       "    </tr>\n",
       "    <tr>\n",
       "      <th>1203</th>\n",
       "      <td>1</td>\n",
       "      <td>1</td>\n",
       "      <td>0</td>\n",
       "      <td>0</td>\n",
       "      <td>0</td>\n",
       "      <td>1</td>\n",
       "      <td>0</td>\n",
       "      <td>0</td>\n",
       "      <td>1</td>\n",
       "      <td>0</td>\n",
       "      <td>0</td>\n",
       "      <td>1</td>\n",
       "      <td>1</td>\n",
       "      <td>0</td>\n",
       "      <td>0</td>\n",
       "      <td>1</td>\n",
       "      <td>1</td>\n",
       "    </tr>\n",
       "    <tr>\n",
       "      <th>1204</th>\n",
       "      <td>1</td>\n",
       "      <td>0</td>\n",
       "      <td>0</td>\n",
       "      <td>1</td>\n",
       "      <td>0</td>\n",
       "      <td>1</td>\n",
       "      <td>0</td>\n",
       "      <td>1</td>\n",
       "      <td>1</td>\n",
       "      <td>1</td>\n",
       "      <td>0</td>\n",
       "      <td>0</td>\n",
       "      <td>0</td>\n",
       "      <td>0</td>\n",
       "      <td>0</td>\n",
       "      <td>1</td>\n",
       "      <td>0</td>\n",
       "    </tr>\n",
       "  </tbody>\n",
       "</table>\n",
       "<p>1205 rows × 17 columns</p>\n",
       "</div>"
      ],
      "text/plain": [
       "      gender_Girl  age_16-20  age_21-30  education_level_School  \\\n",
       "0               0          0          1                       0   \n",
       "1               1          0          1                       0   \n",
       "2               1          1          0                       0   \n",
       "3               1          0          0                       1   \n",
       "4               1          1          0                       1   \n",
       "...           ...        ...        ...                     ...   \n",
       "1200            1          1          0                       0   \n",
       "1201            1          1          0                       0   \n",
       "1202            0          0          0                       1   \n",
       "1203            1          1          0                       0   \n",
       "1204            1          0          0                       1   \n",
       "\n",
       "      education_level_University  institution_type_Non Government  \\\n",
       "0                              1                                1   \n",
       "1                              1                                1   \n",
       "2                              0                                0   \n",
       "3                              0                                1   \n",
       "4                              0                                1   \n",
       "...                          ...                              ...   \n",
       "1200                           0                                1   \n",
       "1201                           0                                1   \n",
       "1202                           0                                1   \n",
       "1203                           0                                1   \n",
       "1204                           0                                1   \n",
       "\n",
       "      IT_student_Yes  location_Yes  electricity_supply_Low  \\\n",
       "0                  0             1                       1   \n",
       "1                  0             1                       0   \n",
       "2                  0             1                       1   \n",
       "3                  0             1                       1   \n",
       "4                  0             1                       1   \n",
       "...              ...           ...                     ...   \n",
       "1200               0             1                       1   \n",
       "1201               0             0                       0   \n",
       "1202               0             1                       1   \n",
       "1203               0             0                       1   \n",
       "1204               0             1                       1   \n",
       "\n",
       "      financial_condition_Poor  financial_condition_Rich  internet_type_Wifi  \\\n",
       "0                            0                         0                   1   \n",
       "1                            0                         0                   0   \n",
       "2                            0                         0                   1   \n",
       "3                            0                         0                   0   \n",
       "4                            1                         0                   0   \n",
       "...                        ...                       ...                 ...   \n",
       "1200                         0                         0                   1   \n",
       "1201                         0                         0                   1   \n",
       "1202                         0                         0                   0   \n",
       "1203                         0                         0                   1   \n",
       "1204                         1                         0                   0   \n",
       "\n",
       "      network_type_4G  class_duration_3-6  learning_system_Yes  device_Mobile  \\\n",
       "0                   1                   1                    0              0   \n",
       "1                   1                   0                    1              1   \n",
       "2                   1                   0                    0              1   \n",
       "3                   1                   0                    0              1   \n",
       "4                   0                   0                    0              1   \n",
       "...               ...                 ...                  ...            ...   \n",
       "1200                1                   0                    0              1   \n",
       "1201                1                   1                    0              1   \n",
       "1202                0                   0                    0              1   \n",
       "1203                1                   0                    0              1   \n",
       "1204                0                   0                    0              1   \n",
       "\n",
       "      adaptivity_level_Low  \n",
       "0                        0  \n",
       "1                        0  \n",
       "2                        0  \n",
       "3                        0  \n",
       "4                        1  \n",
       "...                    ...  \n",
       "1200                     1  \n",
       "1201                     0  \n",
       "1202                     0  \n",
       "1203                     1  \n",
       "1204                     0  \n",
       "\n",
       "[1205 rows x 17 columns]"
      ]
     },
     "execution_count": 42,
     "metadata": {},
     "output_type": "execute_result"
    }
   ],
   "source": [
    "#toda la data en dummies\n",
    "dfdu=pd.get_dummies(df1,drop_first=True)\n",
    "dfdu"
   ]
  },
  {
   "cell_type": "code",
   "execution_count": 43,
   "metadata": {},
   "outputs": [
    {
     "data": {
      "text/html": [
       "<div>\n",
       "<style scoped>\n",
       "    .dataframe tbody tr th:only-of-type {\n",
       "        vertical-align: middle;\n",
       "    }\n",
       "\n",
       "    .dataframe tbody tr th {\n",
       "        vertical-align: top;\n",
       "    }\n",
       "\n",
       "    .dataframe thead th {\n",
       "        text-align: right;\n",
       "    }\n",
       "</style>\n",
       "<table border=\"1\" class=\"dataframe\">\n",
       "  <thead>\n",
       "    <tr style=\"text-align: right;\">\n",
       "      <th></th>\n",
       "      <th>gender_Boy</th>\n",
       "      <th>gender_Girl</th>\n",
       "      <th>age_0-15</th>\n",
       "      <th>age_16-20</th>\n",
       "      <th>age_21-30</th>\n",
       "      <th>education_level_College</th>\n",
       "      <th>education_level_School</th>\n",
       "      <th>education_level_University</th>\n",
       "      <th>institution_type_Government</th>\n",
       "      <th>institution_type_Non Government</th>\n",
       "      <th>...</th>\n",
       "      <th>network_type_3G</th>\n",
       "      <th>network_type_4G</th>\n",
       "      <th>class_duration_1-3</th>\n",
       "      <th>class_duration_3-6</th>\n",
       "      <th>learning_system_No</th>\n",
       "      <th>learning_system_Yes</th>\n",
       "      <th>device_Computer</th>\n",
       "      <th>device_Mobile</th>\n",
       "      <th>adaptivity_level_High</th>\n",
       "      <th>adaptivity_level_Low</th>\n",
       "    </tr>\n",
       "  </thead>\n",
       "  <tbody>\n",
       "    <tr>\n",
       "      <th>0</th>\n",
       "      <td>1</td>\n",
       "      <td>0</td>\n",
       "      <td>0</td>\n",
       "      <td>0</td>\n",
       "      <td>1</td>\n",
       "      <td>0</td>\n",
       "      <td>0</td>\n",
       "      <td>1</td>\n",
       "      <td>0</td>\n",
       "      <td>1</td>\n",
       "      <td>...</td>\n",
       "      <td>0</td>\n",
       "      <td>1</td>\n",
       "      <td>0</td>\n",
       "      <td>1</td>\n",
       "      <td>1</td>\n",
       "      <td>0</td>\n",
       "      <td>1</td>\n",
       "      <td>0</td>\n",
       "      <td>1</td>\n",
       "      <td>0</td>\n",
       "    </tr>\n",
       "    <tr>\n",
       "      <th>1</th>\n",
       "      <td>0</td>\n",
       "      <td>1</td>\n",
       "      <td>0</td>\n",
       "      <td>0</td>\n",
       "      <td>1</td>\n",
       "      <td>0</td>\n",
       "      <td>0</td>\n",
       "      <td>1</td>\n",
       "      <td>0</td>\n",
       "      <td>1</td>\n",
       "      <td>...</td>\n",
       "      <td>0</td>\n",
       "      <td>1</td>\n",
       "      <td>1</td>\n",
       "      <td>0</td>\n",
       "      <td>0</td>\n",
       "      <td>1</td>\n",
       "      <td>0</td>\n",
       "      <td>1</td>\n",
       "      <td>1</td>\n",
       "      <td>0</td>\n",
       "    </tr>\n",
       "    <tr>\n",
       "      <th>2</th>\n",
       "      <td>0</td>\n",
       "      <td>1</td>\n",
       "      <td>0</td>\n",
       "      <td>1</td>\n",
       "      <td>0</td>\n",
       "      <td>1</td>\n",
       "      <td>0</td>\n",
       "      <td>0</td>\n",
       "      <td>1</td>\n",
       "      <td>0</td>\n",
       "      <td>...</td>\n",
       "      <td>0</td>\n",
       "      <td>1</td>\n",
       "      <td>1</td>\n",
       "      <td>0</td>\n",
       "      <td>1</td>\n",
       "      <td>0</td>\n",
       "      <td>0</td>\n",
       "      <td>1</td>\n",
       "      <td>1</td>\n",
       "      <td>0</td>\n",
       "    </tr>\n",
       "    <tr>\n",
       "      <th>3</th>\n",
       "      <td>0</td>\n",
       "      <td>1</td>\n",
       "      <td>1</td>\n",
       "      <td>0</td>\n",
       "      <td>0</td>\n",
       "      <td>0</td>\n",
       "      <td>1</td>\n",
       "      <td>0</td>\n",
       "      <td>0</td>\n",
       "      <td>1</td>\n",
       "      <td>...</td>\n",
       "      <td>0</td>\n",
       "      <td>1</td>\n",
       "      <td>1</td>\n",
       "      <td>0</td>\n",
       "      <td>1</td>\n",
       "      <td>0</td>\n",
       "      <td>0</td>\n",
       "      <td>1</td>\n",
       "      <td>1</td>\n",
       "      <td>0</td>\n",
       "    </tr>\n",
       "    <tr>\n",
       "      <th>4</th>\n",
       "      <td>0</td>\n",
       "      <td>1</td>\n",
       "      <td>0</td>\n",
       "      <td>1</td>\n",
       "      <td>0</td>\n",
       "      <td>0</td>\n",
       "      <td>1</td>\n",
       "      <td>0</td>\n",
       "      <td>0</td>\n",
       "      <td>1</td>\n",
       "      <td>...</td>\n",
       "      <td>1</td>\n",
       "      <td>0</td>\n",
       "      <td>1</td>\n",
       "      <td>0</td>\n",
       "      <td>1</td>\n",
       "      <td>0</td>\n",
       "      <td>0</td>\n",
       "      <td>1</td>\n",
       "      <td>0</td>\n",
       "      <td>1</td>\n",
       "    </tr>\n",
       "    <tr>\n",
       "      <th>...</th>\n",
       "      <td>...</td>\n",
       "      <td>...</td>\n",
       "      <td>...</td>\n",
       "      <td>...</td>\n",
       "      <td>...</td>\n",
       "      <td>...</td>\n",
       "      <td>...</td>\n",
       "      <td>...</td>\n",
       "      <td>...</td>\n",
       "      <td>...</td>\n",
       "      <td>...</td>\n",
       "      <td>...</td>\n",
       "      <td>...</td>\n",
       "      <td>...</td>\n",
       "      <td>...</td>\n",
       "      <td>...</td>\n",
       "      <td>...</td>\n",
       "      <td>...</td>\n",
       "      <td>...</td>\n",
       "      <td>...</td>\n",
       "      <td>...</td>\n",
       "    </tr>\n",
       "    <tr>\n",
       "      <th>1200</th>\n",
       "      <td>0</td>\n",
       "      <td>1</td>\n",
       "      <td>0</td>\n",
       "      <td>1</td>\n",
       "      <td>0</td>\n",
       "      <td>1</td>\n",
       "      <td>0</td>\n",
       "      <td>0</td>\n",
       "      <td>0</td>\n",
       "      <td>1</td>\n",
       "      <td>...</td>\n",
       "      <td>0</td>\n",
       "      <td>1</td>\n",
       "      <td>1</td>\n",
       "      <td>0</td>\n",
       "      <td>1</td>\n",
       "      <td>0</td>\n",
       "      <td>0</td>\n",
       "      <td>1</td>\n",
       "      <td>0</td>\n",
       "      <td>1</td>\n",
       "    </tr>\n",
       "    <tr>\n",
       "      <th>1201</th>\n",
       "      <td>0</td>\n",
       "      <td>1</td>\n",
       "      <td>0</td>\n",
       "      <td>1</td>\n",
       "      <td>0</td>\n",
       "      <td>1</td>\n",
       "      <td>0</td>\n",
       "      <td>0</td>\n",
       "      <td>0</td>\n",
       "      <td>1</td>\n",
       "      <td>...</td>\n",
       "      <td>0</td>\n",
       "      <td>1</td>\n",
       "      <td>0</td>\n",
       "      <td>1</td>\n",
       "      <td>1</td>\n",
       "      <td>0</td>\n",
       "      <td>0</td>\n",
       "      <td>1</td>\n",
       "      <td>1</td>\n",
       "      <td>0</td>\n",
       "    </tr>\n",
       "    <tr>\n",
       "      <th>1202</th>\n",
       "      <td>1</td>\n",
       "      <td>0</td>\n",
       "      <td>1</td>\n",
       "      <td>0</td>\n",
       "      <td>0</td>\n",
       "      <td>0</td>\n",
       "      <td>1</td>\n",
       "      <td>0</td>\n",
       "      <td>0</td>\n",
       "      <td>1</td>\n",
       "      <td>...</td>\n",
       "      <td>1</td>\n",
       "      <td>0</td>\n",
       "      <td>1</td>\n",
       "      <td>0</td>\n",
       "      <td>1</td>\n",
       "      <td>0</td>\n",
       "      <td>0</td>\n",
       "      <td>1</td>\n",
       "      <td>1</td>\n",
       "      <td>0</td>\n",
       "    </tr>\n",
       "    <tr>\n",
       "      <th>1203</th>\n",
       "      <td>0</td>\n",
       "      <td>1</td>\n",
       "      <td>0</td>\n",
       "      <td>1</td>\n",
       "      <td>0</td>\n",
       "      <td>1</td>\n",
       "      <td>0</td>\n",
       "      <td>0</td>\n",
       "      <td>0</td>\n",
       "      <td>1</td>\n",
       "      <td>...</td>\n",
       "      <td>0</td>\n",
       "      <td>1</td>\n",
       "      <td>1</td>\n",
       "      <td>0</td>\n",
       "      <td>1</td>\n",
       "      <td>0</td>\n",
       "      <td>0</td>\n",
       "      <td>1</td>\n",
       "      <td>0</td>\n",
       "      <td>1</td>\n",
       "    </tr>\n",
       "    <tr>\n",
       "      <th>1204</th>\n",
       "      <td>0</td>\n",
       "      <td>1</td>\n",
       "      <td>1</td>\n",
       "      <td>0</td>\n",
       "      <td>0</td>\n",
       "      <td>0</td>\n",
       "      <td>1</td>\n",
       "      <td>0</td>\n",
       "      <td>0</td>\n",
       "      <td>1</td>\n",
       "      <td>...</td>\n",
       "      <td>1</td>\n",
       "      <td>0</td>\n",
       "      <td>1</td>\n",
       "      <td>0</td>\n",
       "      <td>1</td>\n",
       "      <td>0</td>\n",
       "      <td>0</td>\n",
       "      <td>1</td>\n",
       "      <td>1</td>\n",
       "      <td>0</td>\n",
       "    </tr>\n",
       "  </tbody>\n",
       "</table>\n",
       "<p>1205 rows × 31 columns</p>\n",
       "</div>"
      ],
      "text/plain": [
       "      gender_Boy  gender_Girl  age_0-15  age_16-20  age_21-30  \\\n",
       "0              1            0         0          0          1   \n",
       "1              0            1         0          0          1   \n",
       "2              0            1         0          1          0   \n",
       "3              0            1         1          0          0   \n",
       "4              0            1         0          1          0   \n",
       "...          ...          ...       ...        ...        ...   \n",
       "1200           0            1         0          1          0   \n",
       "1201           0            1         0          1          0   \n",
       "1202           1            0         1          0          0   \n",
       "1203           0            1         0          1          0   \n",
       "1204           0            1         1          0          0   \n",
       "\n",
       "      education_level_College  education_level_School  \\\n",
       "0                           0                       0   \n",
       "1                           0                       0   \n",
       "2                           1                       0   \n",
       "3                           0                       1   \n",
       "4                           0                       1   \n",
       "...                       ...                     ...   \n",
       "1200                        1                       0   \n",
       "1201                        1                       0   \n",
       "1202                        0                       1   \n",
       "1203                        1                       0   \n",
       "1204                        0                       1   \n",
       "\n",
       "      education_level_University  institution_type_Government  \\\n",
       "0                              1                            0   \n",
       "1                              1                            0   \n",
       "2                              0                            1   \n",
       "3                              0                            0   \n",
       "4                              0                            0   \n",
       "...                          ...                          ...   \n",
       "1200                           0                            0   \n",
       "1201                           0                            0   \n",
       "1202                           0                            0   \n",
       "1203                           0                            0   \n",
       "1204                           0                            0   \n",
       "\n",
       "      institution_type_Non Government  ...  network_type_3G  network_type_4G  \\\n",
       "0                                   1  ...                0                1   \n",
       "1                                   1  ...                0                1   \n",
       "2                                   0  ...                0                1   \n",
       "3                                   1  ...                0                1   \n",
       "4                                   1  ...                1                0   \n",
       "...                               ...  ...              ...              ...   \n",
       "1200                                1  ...                0                1   \n",
       "1201                                1  ...                0                1   \n",
       "1202                                1  ...                1                0   \n",
       "1203                                1  ...                0                1   \n",
       "1204                                1  ...                1                0   \n",
       "\n",
       "      class_duration_1-3  class_duration_3-6  learning_system_No  \\\n",
       "0                      0                   1                   1   \n",
       "1                      1                   0                   0   \n",
       "2                      1                   0                   1   \n",
       "3                      1                   0                   1   \n",
       "4                      1                   0                   1   \n",
       "...                  ...                 ...                 ...   \n",
       "1200                   1                   0                   1   \n",
       "1201                   0                   1                   1   \n",
       "1202                   1                   0                   1   \n",
       "1203                   1                   0                   1   \n",
       "1204                   1                   0                   1   \n",
       "\n",
       "      learning_system_Yes  device_Computer  device_Mobile  \\\n",
       "0                       0                1              0   \n",
       "1                       1                0              1   \n",
       "2                       0                0              1   \n",
       "3                       0                0              1   \n",
       "4                       0                0              1   \n",
       "...                   ...              ...            ...   \n",
       "1200                    0                0              1   \n",
       "1201                    0                0              1   \n",
       "1202                    0                0              1   \n",
       "1203                    0                0              1   \n",
       "1204                    0                0              1   \n",
       "\n",
       "      adaptivity_level_High  adaptivity_level_Low  \n",
       "0                         1                     0  \n",
       "1                         1                     0  \n",
       "2                         1                     0  \n",
       "3                         1                     0  \n",
       "4                         0                     1  \n",
       "...                     ...                   ...  \n",
       "1200                      0                     1  \n",
       "1201                      1                     0  \n",
       "1202                      1                     0  \n",
       "1203                      0                     1  \n",
       "1204                      1                     0  \n",
       "\n",
       "[1205 rows x 31 columns]"
      ]
     },
     "execution_count": 43,
     "metadata": {},
     "output_type": "execute_result"
    }
   ],
   "source": [
    "dfdu1=pd.get_dummies(df1,drop_first=False)\n",
    "dfdu1"
   ]
  },
  {
   "cell_type": "code",
   "execution_count": 44,
   "metadata": {},
   "outputs": [
    {
     "data": {
      "image/png": "[encoded data removed]",
      "text/plain": [
       "<Figure size 1911.5x1800 with 110 Axes>"
      ]
     },
     "metadata": {},
     "output_type": "display_data"
    }
   ],
   "source": [
    "dfdu1=pd.get_dummies(df1,drop_first=False)\n",
    "#in_var=dfdu1[[\"gender_Boy\",\"gender_Girl\",\"age_0-15\",\"age_16-20\",\"age_21-30\",\"education_level_College\",\"education_level_School\",\"education_level_University\",\"institution_type_Government\",\"institution_type_Non Government\",\"network_type_3G\",\"network_type_4G\",\"class_duration_1-3\",\"class_duration_3-6\",\"learning_system_No\",\"learning_system_Yes\",\"device_Computer\",\"device_Mobile\",\"adaptivity_level_High\",\"adaptivity_level_Low\"]]\n",
    "#int_df= df1[[\"gender\",\"age\",\"education_level\",\"institution_type\",\"IT_student\",\"location\",\"electricity_supply\",\"financial_condition\",\"internet_type\",\"network_type\",\"class_duration\",\"learning_system\",\"device\",\"adaptivity_level\"]]\n",
    "in_var=dfdu[[\"gender_Girl\",\"age_16-20\",\"age_21-30\",\"education_level_School\",\"education_level_University\",\"institution_type_Non Government\",\"network_type_4G\",\"class_duration_3-6\",\"learning_system_Yes\",\"device_Mobile\",\"adaptivity_level_Low\"]]\n",
    "sns.pairplot(in_var,hue=\"adaptivity_level_Low\")\n",
    "plt.show()"
   ]
  },
  {
   "cell_type": "code",
   "execution_count": 45,
   "metadata": {},
   "outputs": [],
   "source": [
    "a=dfdu.corr()"
   ]
  },
  {
   "cell_type": "code",
   "execution_count": 46,
   "metadata": {},
   "outputs": [
    {
     "data": {
      "text/plain": [
       "<AxesSubplot:>"
      ]
     },
     "execution_count": 46,
     "metadata": {},
     "output_type": "execute_result"
    },
    {
     "data": {
      "image/png": "[encoded data removed]",
      "text/plain": [
       "<Figure size 432x288 with 2 Axes>"
      ]
     },
     "metadata": {},
     "output_type": "display_data"
    }
   ],
   "source": [
    "sns.heatmap(a)"
   ]
  },
  {
   "cell_type": "markdown",
   "metadata": {},
   "source": [
    "el heatmap anterior muestra cuan correlacionadas estan las variables, la condicion financiera tiene mucho que ver con \n",
    "con la adaptabilidad"
   ]
  },
  {
   "cell_type": "markdown",
   "metadata": {},
   "source": [
    "# Hipotesis del modelo "
   ]
  },
  {
   "cell_type": "code",
   "execution_count": 47,
   "metadata": {},
   "outputs": [
    {
     "data": {
      "text/plain": [
       "0    725\n",
       "1    480\n",
       "Name: adaptivity_level_Low, dtype: int64"
      ]
     },
     "execution_count": 47,
     "metadata": {},
     "output_type": "execute_result"
    }
   ],
   "source": [
    "dfdu['adaptivity_level_Low'].value_counts()"
   ]
  },
  {
   "cell_type": "markdown",
   "metadata": {},
   "source": [
    "buscamos comprender la adaptabilidad de los estudiantes a la educacion virtual, en este caso el planteamento de nuestra hipotesis nula\n",
    "partira desde la proporcionalidad de los datos, entendiendo que de un total de 1205 observaciones 725 se han adaptado, un total de \n",
    "60.17%, entonces diremos:\n",
    "   "
   ]
  },
  {
   "cell_type": "markdown",
   "metadata": {},
   "source": [
    " Ho: los estudiantes se adaptan si capacidad predictiva del modelo>60.17%\n"
   ]
  },
  {
   "cell_type": "markdown",
   "metadata": {},
   "source": [
    " H1: los estudiantes no se adaptan si la capacidad predictiva del modelo < 60.17%"
   ]
  },
  {
   "cell_type": "code",
   "execution_count": 48,
   "metadata": {},
   "outputs": [],
   "source": [
    "# ESTABLECEMOS LA VARIABLE DEPENDIENTE E INDEPENDIENTE \n",
    "X=dfdu.drop(\"adaptivity_level_Low\", axis = 1)\n",
    "y=dfdu[\"adaptivity_level_Low\"]"
   ]
  },
  {
   "cell_type": "markdown",
   "metadata": {},
   "source": [
    "# División train y test"
   ]
  },
  {
   "cell_type": "code",
   "execution_count": 49,
   "metadata": {},
   "outputs": [],
   "source": [
    "# Reparto de datos en train y test\n",
    "X_train, X_test, y_train, y_test = train_test_split(X,y, test_size   = 0.3, random_state =43, shuffle = True)\n",
    "                                    "
   ]
  },
  {
   "cell_type": "code",
   "execution_count": 50,
   "metadata": {},
   "outputs": [],
   "source": [
    "#iniciamos el scaler \n",
    "from sklearn.preprocessing import StandardScaler\n",
    "scaler= StandardScaler()"
   ]
  },
  {
   "cell_type": "code",
   "execution_count": 51,
   "metadata": {},
   "outputs": [],
   "source": [
    "#inicializamos un modelo basico \n",
    "from sklearn.tree import DecisionTreeClassifier\n",
    "from sklearn import tree\n",
    "from sklearn.pipeline import Pipeline\n",
    "\n",
    "arbol=DecisionTreeClassifier()"
   ]
  },
  {
   "cell_type": "code",
   "execution_count": 52,
   "metadata": {},
   "outputs": [],
   "source": [
    "#ordenamos operaciones como una lista \n",
    "opera=[('scaler',scaler),('arbol',arbol)]"
   ]
  },
  {
   "cell_type": "markdown",
   "metadata": {},
   "source": [
    "# Pipeline "
   ]
  },
  {
   "cell_type": "code",
   "execution_count": 53,
   "metadata": {},
   "outputs": [],
   "source": [
    "pipe=Pipeline(opera)"
   ]
  },
  {
   "cell_type": "markdown",
   "metadata": {},
   "source": [
    "inicializamos las operaciones y las colocamos en un pipeline , esto coloca especificamente las operaciones que se ejecutaran dentro de pipeline \n",
    "en un orden especifico,el primer paso colocamos los datos escalados en una tuberia que pasaran al modelo ajustado "
   ]
  },
  {
   "cell_type": "markdown",
   "metadata": {},
   "source": [
    "# Hiperparametros "
   ]
  },
  {
   "cell_type": "markdown",
   "metadata": {},
   "source": [
    " antes de tunnear los hiperparametros del modelo para saber cuales son los mejores debemos conocerlos "
   ]
  },
  {
   "cell_type": "code",
   "execution_count": 54,
   "metadata": {},
   "outputs": [
    {
     "data": {
      "text/plain": [
       "dict_keys(['ccp_alpha', 'class_weight', 'criterion', 'max_depth', 'max_features', 'max_leaf_nodes', 'min_impurity_decrease', 'min_samples_leaf', 'min_samples_split', 'min_weight_fraction_leaf', 'random_state', 'splitter'])"
      ]
     },
     "execution_count": 54,
     "metadata": {},
     "output_type": "execute_result"
    }
   ],
   "source": [
    "arbol.get_params().keys()"
   ]
  },
  {
   "cell_type": "code",
   "execution_count": 55,
   "metadata": {},
   "outputs": [],
   "source": [
    "# modificamos lso siguientes parametros \n",
    "depth=np.logspace(-5, 3, 10)"
   ]
  },
  {
   "cell_type": "markdown",
   "metadata": {},
   "source": [
    "para buscar los mejores hiperparametros bajo estas condiciones, utilizamos un gridsearch"
   ]
  },
  {
   "cell_type": "code",
   "execution_count": 56,
   "metadata": {},
   "outputs": [],
   "source": [
    "#establecemos los parametros del grid \n",
    "param_grid= {'max_depth':depth}"
   ]
  },
  {
   "cell_type": "code",
   "execution_count": 57,
   "metadata": {},
   "outputs": [],
   "source": [
    "param_grid={'arbol__max_depth':depth}"
   ]
  },
  {
   "cell_type": "code",
   "execution_count": 58,
   "metadata": {},
   "outputs": [
    {
     "data": {
      "text/plain": [
       "GridSearchCV(cv=5,\n",
       "             estimator=Pipeline(steps=[('scaler', StandardScaler()),\n",
       "                                       ('arbol', DecisionTreeClassifier())]),\n",
       "             param_grid={'arbol__max_depth': array([1.00000000e-05, 7.74263683e-05, 5.99484250e-04, 4.64158883e-03,\n",
       "       3.59381366e-02, 2.78255940e-01, 2.15443469e+00, 1.66810054e+01,\n",
       "       1.29154967e+02, 1.00000000e+03])},\n",
       "             scoring='accuracy')"
      ]
     },
     "execution_count": 58,
     "metadata": {},
     "output_type": "execute_result"
    }
   ],
   "source": [
    "# unimos todo \n",
    "grid=GridSearchCV(pipe,param_grid,cv=5,scoring='accuracy')\n",
    "\n",
    "#entrenamos un nuevo pipeline \n",
    "grid.fit(X_train,y_train)"
   ]
  },
  {
   "cell_type": "code",
   "execution_count": 59,
   "metadata": {},
   "outputs": [
    {
     "data": {
      "text/plain": [
       "{'memory': None,\n",
       " 'steps': [('scaler', StandardScaler()),\n",
       "  ('arbol', DecisionTreeClassifier(max_depth=129.15496650148827))],\n",
       " 'verbose': False,\n",
       " 'scaler': StandardScaler(),\n",
       " 'arbol': DecisionTreeClassifier(max_depth=129.15496650148827),\n",
       " 'scaler__copy': True,\n",
       " 'scaler__with_mean': True,\n",
       " 'scaler__with_std': True,\n",
       " 'arbol__ccp_alpha': 0.0,\n",
       " 'arbol__class_weight': None,\n",
       " 'arbol__criterion': 'gini',\n",
       " 'arbol__max_depth': 129.15496650148827,\n",
       " 'arbol__max_features': None,\n",
       " 'arbol__max_leaf_nodes': None,\n",
       " 'arbol__min_impurity_decrease': 0.0,\n",
       " 'arbol__min_samples_leaf': 1,\n",
       " 'arbol__min_samples_split': 2,\n",
       " 'arbol__min_weight_fraction_leaf': 0.0,\n",
       " 'arbol__random_state': None,\n",
       " 'arbol__splitter': 'best'}"
      ]
     },
     "execution_count": 59,
     "metadata": {},
     "output_type": "execute_result"
    }
   ],
   "source": [
    "# los mejores parametros del modelo \n",
    "grid.best_estimator_.get_params()"
   ]
  },
  {
   "cell_type": "code",
   "execution_count": 60,
   "metadata": {},
   "outputs": [
    {
     "data": {
      "text/plain": [
       "Pipeline(steps=[('scaler', StandardScaler()),\n",
       "                ('arbol',\n",
       "                 DecisionTreeClassifier(max_depth=129.15496650148827))])"
      ]
     },
     "execution_count": 60,
     "metadata": {},
     "output_type": "execute_result"
    }
   ],
   "source": [
    "grid.best_estimator_"
   ]
  },
  {
   "cell_type": "markdown",
   "metadata": {},
   "source": [
    "vemos que el mejor estimador sera un arbol con 16.68 de profundidad "
   ]
  },
  {
   "cell_type": "code",
   "execution_count": 61,
   "metadata": {},
   "outputs": [
    {
     "data": {
      "text/html": [
       "<div>\n",
       "<style scoped>\n",
       "    .dataframe tbody tr th:only-of-type {\n",
       "        vertical-align: middle;\n",
       "    }\n",
       "\n",
       "    .dataframe tbody tr th {\n",
       "        vertical-align: top;\n",
       "    }\n",
       "\n",
       "    .dataframe thead th {\n",
       "        text-align: right;\n",
       "    }\n",
       "</style>\n",
       "<table border=\"1\" class=\"dataframe\">\n",
       "  <thead>\n",
       "    <tr style=\"text-align: right;\">\n",
       "      <th>depth</th>\n",
       "      <th>0.000010</th>\n",
       "      <th>0.000077</th>\n",
       "      <th>0.000599</th>\n",
       "      <th>0.004642</th>\n",
       "      <th>0.035938</th>\n",
       "      <th>0.278256</th>\n",
       "      <th>2.154435</th>\n",
       "      <th>16.681005</th>\n",
       "      <th>129.154967</th>\n",
       "      <th>1000.000000</th>\n",
       "    </tr>\n",
       "  </thead>\n",
       "  <tbody>\n",
       "    <tr>\n",
       "      <th>Accuracy</th>\n",
       "      <td>0.58</td>\n",
       "      <td>0.58</td>\n",
       "      <td>0.58</td>\n",
       "      <td>0.58</td>\n",
       "      <td>0.58</td>\n",
       "      <td>0.58</td>\n",
       "      <td>0.67</td>\n",
       "      <td>0.86</td>\n",
       "      <td>0.86</td>\n",
       "      <td>0.86</td>\n",
       "    </tr>\n",
       "  </tbody>\n",
       "</table>\n",
       "</div>"
      ],
      "text/plain": [
       "depth     0.000010     0.000077     0.000599     0.004642     0.035938     \\\n",
       "Accuracy         0.58         0.58         0.58         0.58         0.58   \n",
       "\n",
       "depth     0.278256     2.154435     16.681005    129.154967   1000.000000  \n",
       "Accuracy         0.58         0.67         0.86         0.86         0.86  "
      ]
     },
     "execution_count": 61,
     "metadata": {},
     "output_type": "execute_result"
    }
   ],
   "source": [
    "#para verificarlo miramos el accuracy asociado a la profundidad \n",
    "\n",
    "acc=grid.cv_results_['mean_test_score']\n",
    "arbol_acc= pd.DataFrame({'depth':depth,'Accuracy':acc})\n",
    "arbol_acc=arbol_acc.set_index('depth').transpose()\n",
    "round(arbol_acc,2)"
   ]
  },
  {
   "cell_type": "markdown",
   "metadata": {},
   "source": [
    "como vemos  el mejor estimador asociado cumple con una profundidad de 16.681005 y un accuracy de 0,86"
   ]
  },
  {
   "cell_type": "markdown",
   "metadata": {},
   "source": [
    "ya tenemos el mejor hiperparametro buscamos el mejor modelo."
   ]
  },
  {
   "cell_type": "markdown",
   "metadata": {},
   "source": [
    "# Modelo modificado "
   ]
  },
  {
   "cell_type": "markdown",
   "metadata": {},
   "source": [
    "lo que haremos sera tomar el mejor resultado de Gridsearch 16.681005, usaremos pipelines y evaluaremos en nuestro conjunto de datos de test "
   ]
  },
  {
   "cell_type": "code",
   "execution_count": 62,
   "metadata": {},
   "outputs": [],
   "source": [
    "# configuramos las operaciones \n",
    "scaler= StandardScaler()\n",
    "arbol_1=DecisionTreeClassifier(max_depth=16.681005372000556)\n",
    "opera1=[('scaler',scaler),('arbol_1',arbol_1)]"
   ]
  },
  {
   "cell_type": "code",
   "execution_count": 63,
   "metadata": {},
   "outputs": [],
   "source": [
    "#configuro el pipeline \n",
    "pipe =Pipeline(opera1)"
   ]
  },
  {
   "cell_type": "code",
   "execution_count": 64,
   "metadata": {},
   "outputs": [
    {
     "data": {
      "text/plain": [
       "Pipeline(steps=[('scaler', StandardScaler()),\n",
       "                ('arbol_1',\n",
       "                 DecisionTreeClassifier(max_depth=16.681005372000556))])"
      ]
     },
     "execution_count": 64,
     "metadata": {},
     "output_type": "execute_result"
    }
   ],
   "source": [
    "# entreno el pipeline \n",
    "pipe.fit(X_train,y_train)"
   ]
  },
  {
   "cell_type": "code",
   "execution_count": 65,
   "metadata": {},
   "outputs": [],
   "source": [
    "pipe_pred= pipe.predict(X_test)"
   ]
  },
  {
   "cell_type": "code",
   "execution_count": 66,
   "metadata": {},
   "outputs": [
    {
     "name": "stdout",
     "output_type": "stream",
     "text": [
      "              precision    recall  f1-score   support\n",
      "\n",
      "           0       0.96      0.94      0.95       237\n",
      "           1       0.89      0.93      0.91       125\n",
      "\n",
      "    accuracy                           0.93       362\n",
      "   macro avg       0.92      0.93      0.93       362\n",
      "weighted avg       0.93      0.93      0.93       362\n",
      "\n"
     ]
    }
   ],
   "source": [
    "#reporte\n",
    "from sklearn.metrics import accuracy_score, classification_report\n",
    "\n",
    "print(classification_report(y_test,pipe_pred))"
   ]
  },
  {
   "cell_type": "markdown",
   "metadata": {},
   "source": [
    "mejoramos la presicion del modelo, paso de 0.86 a 0.93"
   ]
  },
  {
   "cell_type": "code",
   "execution_count": 67,
   "metadata": {},
   "outputs": [
    {
     "data": {
      "image/png": "[encoded data removed]",
      "text/plain": [
       "<Figure size 648x432 with 2 Axes>"
      ]
     },
     "metadata": {},
     "output_type": "display_data"
    }
   ],
   "source": [
    "from sklearn.metrics import confusion_matrix,classification_report\n",
    "plt.figure(figsize=(9,6))\n",
    "plt.title('Matriz de confusion con Pipeline', fontsize=10)\n",
    "sns.heatmap(confusion_matrix(y_test,pipe_pred), annot=True, cmap='rocket')\n",
    "plt.show()"
   ]
  },
  {
   "cell_type": "markdown",
   "metadata": {},
   "source": [
    "como vemos el primer modelo de arbol tiene un alto accuracy, logra predecir en un 94% de los casos, debemos tener cuidado de no \n",
    "presentar sobreajuste (overfiting)"
   ]
  },
  {
   "cell_type": "code",
   "execution_count": 68,
   "metadata": {},
   "outputs": [],
   "source": [
    "from sklearn.preprocessing import StandardScaler\n",
    "from sklearn.decomposition import PCA \n",
    "from sklearn.linear_model import LogisticRegression\n"
   ]
  },
  {
   "cell_type": "code",
   "execution_count": 69,
   "metadata": {},
   "outputs": [],
   "source": [
    "pipeline_lr=Pipeline([('scaler1',StandardScaler()),\n",
    "                      ('pca1',PCA(n_components=2)),\n",
    "                      ('lr_classifier',LogisticRegression(random_state=0))])"
   ]
  },
  {
   "cell_type": "code",
   "execution_count": 70,
   "metadata": {},
   "outputs": [],
   "source": [
    "pipeline_tree=Pipeline([('scaler2',StandardScaler()),\n",
    "                      ('pca2',PCA(n_components=2)),\n",
    "                      ('tree_classifier',DecisionTreeClassifier())])"
   ]
  },
  {
   "cell_type": "code",
   "execution_count": 71,
   "metadata": {},
   "outputs": [],
   "source": [
    "pipeline_randomforest= Pipeline([('scaler3',StandardScaler()),\n",
    "                                 ('pca3',PCA(n_components=2),\n",
    "                                 ('rd_classifier',RandomForestClassifier()))])"
   ]
  },
  {
   "cell_type": "code",
   "execution_count": 72,
   "metadata": {},
   "outputs": [],
   "source": [
    "#hacemos lista pipelines \n",
    "pipelines= [pipeline_lr, pipeline_tree, pipeline_randomforest]"
   ]
  },
  {
   "cell_type": "code",
   "execution_count": 73,
   "metadata": {},
   "outputs": [],
   "source": [
    "best_accuracy=0\n",
    "best_classifier=0\n",
    "best_pipeline=''"
   ]
  },
  {
   "cell_type": "code",
   "execution_count": 74,
   "metadata": {},
   "outputs": [],
   "source": [
    "pipe_dict= {0:'Logistic Regression', 1:'Decision Tree', 2: 'RandomForest'}"
   ]
  },
  {
   "cell_type": "code",
   "execution_count": 75,
   "metadata": {},
   "outputs": [
    {
     "ename": "ValueError",
     "evalue": "too many values to unpack (expected 2)",
     "output_type": "error",
     "traceback": [
      "\u001b[1;31m---------------------------------------------------------------------------\u001b[0m",
      "\u001b[1;31mValueError\u001b[0m                                Traceback (most recent call last)",
      "\u001b[1;32md:\\Trabajos\\DigitalHouse\\SubRepos\\Curso_DHDS_CN17\\ignore\\Marin\\estudiantes6.ipynb Cell 116'\u001b[0m in \u001b[0;36m<cell line: 2>\u001b[1;34m()\u001b[0m\n\u001b[0;32m      <a href='vscode-notebook-cell:/d%3A/Trabajos/DigitalHouse/SubRepos/Curso_DHDS_CN17/ignore/Marin/estudiantes6.ipynb#ch0000115?line=0'>1</a>\u001b[0m \u001b[39m#entrenamiento\u001b[39;00m\n\u001b[0;32m      <a href='vscode-notebook-cell:/d%3A/Trabajos/DigitalHouse/SubRepos/Curso_DHDS_CN17/ignore/Marin/estudiantes6.ipynb#ch0000115?line=1'>2</a>\u001b[0m \u001b[39mfor\u001b[39;00m pipe \u001b[39min\u001b[39;00m pipelines:\n\u001b[1;32m----> <a href='vscode-notebook-cell:/d%3A/Trabajos/DigitalHouse/SubRepos/Curso_DHDS_CN17/ignore/Marin/estudiantes6.ipynb#ch0000115?line=2'>3</a>\u001b[0m     pipe\u001b[39m.\u001b[39;49mfit(X_train, y_train)\n",
      "File \u001b[1;32mc:\\Users\\Ionatan\\anaconda3\\envs\\DH\\lib\\site-packages\\sklearn\\pipeline.py:389\u001b[0m, in \u001b[0;36mPipeline.fit\u001b[1;34m(self, X, y, **fit_params)\u001b[0m\n\u001b[0;32m    363\u001b[0m \u001b[39mdef\u001b[39;00m \u001b[39mfit\u001b[39m(\u001b[39mself\u001b[39m, X, y\u001b[39m=\u001b[39m\u001b[39mNone\u001b[39;00m, \u001b[39m*\u001b[39m\u001b[39m*\u001b[39mfit_params):\n\u001b[0;32m    364\u001b[0m     \u001b[39m\"\"\"Fit the model.\u001b[39;00m\n\u001b[0;32m    365\u001b[0m \n\u001b[0;32m    366\u001b[0m \u001b[39m    Fit all the transformers one after the other and transform the\u001b[39;00m\n\u001b[1;32m   (...)\u001b[0m\n\u001b[0;32m    387\u001b[0m \u001b[39m        Pipeline with fitted steps.\u001b[39;00m\n\u001b[0;32m    388\u001b[0m \u001b[39m    \"\"\"\u001b[39;00m\n\u001b[1;32m--> 389\u001b[0m     fit_params_steps \u001b[39m=\u001b[39m \u001b[39mself\u001b[39;49m\u001b[39m.\u001b[39;49m_check_fit_params(\u001b[39m*\u001b[39;49m\u001b[39m*\u001b[39;49mfit_params)\n\u001b[0;32m    390\u001b[0m     Xt \u001b[39m=\u001b[39m \u001b[39mself\u001b[39m\u001b[39m.\u001b[39m_fit(X, y, \u001b[39m*\u001b[39m\u001b[39m*\u001b[39mfit_params_steps)\n\u001b[0;32m    391\u001b[0m     \u001b[39mwith\u001b[39;00m _print_elapsed_time(\u001b[39m\"\u001b[39m\u001b[39mPipeline\u001b[39m\u001b[39m\"\u001b[39m, \u001b[39mself\u001b[39m\u001b[39m.\u001b[39m_log_message(\u001b[39mlen\u001b[39m(\u001b[39mself\u001b[39m\u001b[39m.\u001b[39msteps) \u001b[39m-\u001b[39m \u001b[39m1\u001b[39m)):\n",
      "File \u001b[1;32mc:\\Users\\Ionatan\\anaconda3\\envs\\DH\\lib\\site-packages\\sklearn\\pipeline.py:297\u001b[0m, in \u001b[0;36mPipeline._check_fit_params\u001b[1;34m(self, **fit_params)\u001b[0m\n\u001b[0;32m    296\u001b[0m \u001b[39mdef\u001b[39;00m \u001b[39m_check_fit_params\u001b[39m(\u001b[39mself\u001b[39m, \u001b[39m*\u001b[39m\u001b[39m*\u001b[39mfit_params):\n\u001b[1;32m--> 297\u001b[0m     fit_params_steps \u001b[39m=\u001b[39m {name: {} \u001b[39mfor\u001b[39;00m name, step \u001b[39min\u001b[39;00m \u001b[39mself\u001b[39m\u001b[39m.\u001b[39msteps \u001b[39mif\u001b[39;00m step \u001b[39mis\u001b[39;00m \u001b[39mnot\u001b[39;00m \u001b[39mNone\u001b[39;00m}\n\u001b[0;32m    298\u001b[0m     \u001b[39mfor\u001b[39;00m pname, pval \u001b[39min\u001b[39;00m fit_params\u001b[39m.\u001b[39mitems():\n\u001b[0;32m    299\u001b[0m         \u001b[39mif\u001b[39;00m \u001b[39m\"\u001b[39m\u001b[39m__\u001b[39m\u001b[39m\"\u001b[39m \u001b[39mnot\u001b[39;00m \u001b[39min\u001b[39;00m pname:\n",
      "File \u001b[1;32mc:\\Users\\Ionatan\\anaconda3\\envs\\DH\\lib\\site-packages\\sklearn\\pipeline.py:297\u001b[0m, in \u001b[0;36m<dictcomp>\u001b[1;34m(.0)\u001b[0m\n\u001b[0;32m    296\u001b[0m \u001b[39mdef\u001b[39;00m \u001b[39m_check_fit_params\u001b[39m(\u001b[39mself\u001b[39m, \u001b[39m*\u001b[39m\u001b[39m*\u001b[39mfit_params):\n\u001b[1;32m--> 297\u001b[0m     fit_params_steps \u001b[39m=\u001b[39m {name: {} \u001b[39mfor\u001b[39;00m name, step \u001b[39min\u001b[39;00m \u001b[39mself\u001b[39m\u001b[39m.\u001b[39msteps \u001b[39mif\u001b[39;00m step \u001b[39mis\u001b[39;00m \u001b[39mnot\u001b[39;00m \u001b[39mNone\u001b[39;00m}\n\u001b[0;32m    298\u001b[0m     \u001b[39mfor\u001b[39;00m pname, pval \u001b[39min\u001b[39;00m fit_params\u001b[39m.\u001b[39mitems():\n\u001b[0;32m    299\u001b[0m         \u001b[39mif\u001b[39;00m \u001b[39m\"\u001b[39m\u001b[39m__\u001b[39m\u001b[39m\"\u001b[39m \u001b[39mnot\u001b[39;00m \u001b[39min\u001b[39;00m pname:\n",
      "\u001b[1;31mValueError\u001b[0m: too many values to unpack (expected 2)"
     ]
    }
   ],
   "source": [
    "#entrenamiento\n",
    "for pipe in pipelines:\n",
    "    pipe.fit(X_train, y_train)"
   ]
  },
  {
   "cell_type": "code",
   "execution_count": null,
   "metadata": {},
   "outputs": [],
   "source": [
    "for i,model in enumerate(pipelines):\n",
    "    print(\"{}Accuracy para el conjunto de prueba: {}\".format(pipe_dict[1], model.score(X_test, y_test)))"
   ]
  },
  {
   "cell_type": "code",
   "execution_count": null,
   "metadata": {},
   "outputs": [],
   "source": [
    "for i, model in enumerate(pipelines):\n",
    "    if model.score(X_test, y_test)>best_accuracy:\n",
    "        best_accuracy=model.score(X_test,y_test)\n",
    "        best_pipeline=model\n",
    "        best_classifier=1\n",
    "print('clasificador con mejor accuracy:()'.format(pipe_dict[best_classifier]))"
   ]
  },
  {
   "cell_type": "markdown",
   "metadata": {},
   "source": [
    "# MODELOS DE ENSAMBLE"
   ]
  },
  {
   "cell_type": "code",
   "execution_count": null,
   "metadata": {},
   "outputs": [],
   "source": [
    "# Reparto de datos en train y test\n",
    "X_train, X_test, y_train, y_test = train_test_split(X,y, test_size   = 0.2, random_state =60, shuffle = True)"
   ]
  },
  {
   "cell_type": "code",
   "execution_count": null,
   "metadata": {},
   "outputs": [],
   "source": [
    "#Pipeline Estimator\n",
    "#\n",
    "pipeline = make_pipeline(StandardScaler(),\n",
    "                        RandomForestClassifier())\n",
    "#\n",
    "# Instantiate the bagging classifier\n",
    "#\n",
    "bgclassifier1= BaggingClassifier(base_estimator=pipeline, n_estimators=4,\n",
    "                                 max_features=5,\n",
    "                                 max_samples=100,\n",
    "                                 random_state=1, n_jobs=5)\n",
    "#\n",
    "# Fit the bagging classifier\n",
    "#\n",
    "bgclassifier1.fit(X_train, y_train)\n",
    "#\n",
    "# Model scores on test and training data\n",
    "#\n",
    "print('Model test Score: %.3f, ' %bgclassifier.score(X_test, y_test),'Model training Score: %.3f' %bgclassifier.score(X_train, y_train))"
   ]
  },
  {
   "cell_type": "code",
   "execution_count": null,
   "metadata": {},
   "outputs": [],
   "source": [
    "bgclassifier1.get_params().keys()"
   ]
  },
  {
   "cell_type": "code",
   "execution_count": null,
   "metadata": {},
   "outputs": [],
   "source": [
    "# modificamos el estimador\n",
    "n_estimators=[40,43,56]"
   ]
  },
  {
   "cell_type": "markdown",
   "metadata": {},
   "source": [
    "buscamos los mejores hiperparametros para el modelo "
   ]
  },
  {
   "cell_type": "code",
   "execution_count": null,
   "metadata": {},
   "outputs": [],
   "source": [
    "param_grid2= {'n_estimators':n_estimators}"
   ]
  },
  {
   "cell_type": "code",
   "execution_count": null,
   "metadata": {},
   "outputs": [],
   "source": [
    "grid2=GridSearchCV(bgclassifier1,param_grid2,cv=5,scoring='accuracy')"
   ]
  },
  {
   "cell_type": "code",
   "execution_count": null,
   "metadata": {},
   "outputs": [],
   "source": [
    "#entrenamos un nuevo pipeline \n",
    "grid2.fit(X_train,y_train)"
   ]
  },
  {
   "cell_type": "code",
   "execution_count": null,
   "metadata": {},
   "outputs": [],
   "source": [
    "# los mejores parametros del modelo \n",
    "grid2.best_estimator_.get_params()"
   ]
  },
  {
   "cell_type": "code",
   "execution_count": null,
   "metadata": {},
   "outputs": [],
   "source": [
    "grid2.best_estimator_"
   ]
  },
  {
   "cell_type": "markdown",
   "metadata": {},
   "source": [
    "vemos que el mejor estimador sera un Bagging de ensamble sera n_estimators = 43"
   ]
  },
  {
   "cell_type": "code",
   "execution_count": null,
   "metadata": {},
   "outputs": [],
   "source": [
    "#para verificarlo miramos el accuracy asociado a la profundidad \n",
    "\n",
    "acc2=grid2.cv_results_['mean_test_score']\n",
    "bg_acc= pd.DataFrame({'n_estimators':n_estimators,'Accuracy':acc2})\n",
    "bg_acc=bg_acc.set_index('n_estimators').transpose()\n",
    "round(bg_acc,2)"
   ]
  },
  {
   "cell_type": "markdown",
   "metadata": {},
   "source": [
    "modificamos el modelo de ensamble con n_estimators=43"
   ]
  },
  {
   "cell_type": "code",
   "execution_count": null,
   "metadata": {},
   "outputs": [],
   "source": [
    "#Pipeline Estimator\n",
    "#\n",
    "pipeline = make_pipeline(StandardScaler(),\n",
    "                        RandomForestClassifier())\n",
    "#\n",
    "# Instantiate the bagging classifier\n",
    "#\n",
    "bgclassifier2 = BaggingClassifier(base_estimator=pipeline, n_estimators=43,\n",
    "                                 max_features=5,\n",
    "                                 max_samples=100,\n",
    "                                 random_state=1, n_jobs=5)\n",
    "#\n",
    "# Fit the bagging classifier\n",
    "#\n",
    "bgclassifier2.fit(X_train, y_train)\n",
    "#\n",
    "# Model scores on test and training data\n",
    "#\n",
    "print('Model test Score: %.3f, ' %bgclassifier.score(X_test, y_test),'Model training Score: %.3f' %bgclassifier.score(X_train, y_train))"
   ]
  },
  {
   "cell_type": "code",
   "execution_count": null,
   "metadata": {},
   "outputs": [],
   "source": []
  },
  {
   "cell_type": "code",
   "execution_count": null,
   "metadata": {},
   "outputs": [],
   "source": []
  }
 ],
 "metadata": {
  "colab": {
   "collapsed_sections": [],
   "name": "Students_adaptability_level.ipynb",
   "provenance": []
  },
  "kernelspec": {
   "display_name": "Python 3.8.13 ('DH')",
   "language": "python",
   "name": "python3"
  },
  "language_info": {
   "codemirror_mode": {
    "name": "ipython",
    "version": 3
   },
   "file_extension": ".py",
   "mimetype": "text/x-python",
   "name": "python",
   "nbconvert_exporter": "python",
   "pygments_lexer": "ipython3",
   "version": "3.8.13"
  },
  "vscode": {
   "interpreter": {
    "hash": "93b1ad9c150e9c4fa5781c5a37e00b91f3d8cfbe17fc5b5e6277144ed0216a69"
   }
  }
 },
 "nbformat": 4,
 "nbformat_minor": 1
}
