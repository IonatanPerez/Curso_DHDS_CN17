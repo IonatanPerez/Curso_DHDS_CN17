{
 "cells": [
  {
   "cell_type": "markdown",
   "id": "bcb28014",
   "metadata": {},
   "source": [
    "#            TRABAJO FINAL - GRUPO 7"
   ]
  },
  {
   "cell_type": "markdown",
   "id": "7b6ca856",
   "metadata": {},
   "source": [
    "# Detección de \"fake news\" mediante técnicas de Machine Learning "
   ]
  },
  {
   "cell_type": "markdown",
   "id": "1d059dc2",
   "metadata": {},
   "source": [
    "### Integrantes Grupo:\n",
    "    Daniela Rodriguez Golpe\n",
    "    Mercedes Dorado\n",
    "    Matías Chaves\n",
    "    Edgar Wendler\n",
    "    Nashira Calvo"
   ]
  },
  {
   "cell_type": "markdown",
   "id": "6242b13a",
   "metadata": {},
   "source": [
    "## Introducción\n",
    "\n",
    "Las noticias falsas (también conocidas como \"fake news\"), son un tipo de noticia diseñada y emitida con la intención deliberada de engañar, inducir a error, manipular decisiones personales o desprestigiar a una determinada entidad o persona (Alonso Valenzuela, 2020). Se divulgan a través de distintos medios, tales como portales de noticas, prensa escrita, radio, televisión y redes sociales. El principal objetivo de esta clase de noticias es la desinformación.\n",
    "\n",
    "Los avances de los últimos años en Inteligencia Artificial, particularmente en el procesamiento del lenguaje\n",
    "natural, han permitido que las máquinas puedan analizar y comprender textos escritos conociendo no sólo las palabras que componen el texto, sino también el contexto en el que aparecen, esto tiene una gran cantidad de aplicaciones, como generación\n",
    "de textos, traducción automática y clasificación de documentos, entre otras.\n",
    "\n",
    "A partir de un dataset que contiene una lista de artículos de los cuales algunos son \"fake news\" nos preguntamos si es posible desarrollar un algoritmo capaz de diferenciar si un artículo se trata de una \"fake news\" o de una noticia real.\n",
    "Se cita en el presente link la fuente del dataset original:\n",
    "\n",
    "https://www.kaggle.com/datasets/clmentbisaillon/fake-and-real-news-dataset?datasetId=572515&language=Python\n"
   ]
  },
  {
   "cell_type": "markdown",
   "id": "b18e3939",
   "metadata": {},
   "source": [
    "## Objetivo"
   ]
  },
  {
   "cell_type": "markdown",
   "id": "ce019070",
   "metadata": {},
   "source": [
    "Desarrollar un sistema de detección de \"fake news\" aplicando diversos métodos de clasificación y realizando un estudio comparativo entre ellos, que permitirá sopesar las ventajas y desventajas de cada uno a fin de determinar cuál es el más apropiado para resolver el problema.<br>   "
   ]
  },
  {
   "cell_type": "markdown",
   "id": "22115c6a",
   "metadata": {},
   "source": [
    "## Metodología\n",
    "\n",
    "El método empleado para alcanzar el objetivo consistió en aplicar las técnicas de Text Mining para descubrir patrones repetitivos, tendencias o reglas que explican el comportamiento del texto contenido en los artículos del dataset. Los datos a utilizar son de tipo texto, de manera que se buscó extraer información sobre el contenido de los textos y representarlo como una matriz de features, a fin de poder aplicar  los algoritmos de machine learning que aprendimos para hacer clasificación durante el curso. Se implementaron un total de 5 modelos y se realizaron comparaciones entre los resultados de accuracy score obtenidos. Para la implementación de estos algoritmos se han utilizado algunas de las librerías más extendidas en el campo del Machine Learning, como scikit-learn, nltk, numpy y pandas, entre otras."
   ]
  },
  {
   "cell_type": "code",
   "execution_count": 1,
   "id": "79882364",
   "metadata": {},
   "outputs": [],
   "source": [
    "#importamos librerias\n",
    "\n",
    "import numpy as np\n",
    "import pandas as pd\n",
    "import matplotlib.pyplot as plt\n",
    "import seaborn as sns\n"
   ]
  },
  {
   "cell_type": "code",
   "execution_count": 2,
   "id": "78112887",
   "metadata": {},
   "outputs": [],
   "source": [
    "fake_df = pd.read_csv('data/Fake.csv')\n",
    "real_df = pd.read_csv('data/True.csv')"
   ]
  },
  {
   "cell_type": "code",
   "execution_count": 3,
   "id": "9aafefdc",
   "metadata": {},
   "outputs": [
    {
     "data": {
      "text/html": [
       "<div>\n",
       "<style scoped>\n",
       "    .dataframe tbody tr th:only-of-type {\n",
       "        vertical-align: middle;\n",
       "    }\n",
       "\n",
       "    .dataframe tbody tr th {\n",
       "        vertical-align: top;\n",
       "    }\n",
       "\n",
       "    .dataframe thead th {\n",
       "        text-align: right;\n",
       "    }\n",
       "</style>\n",
       "<table border=\"1\" class=\"dataframe\">\n",
       "  <thead>\n",
       "    <tr style=\"text-align: right;\">\n",
       "      <th></th>\n",
       "      <th>title</th>\n",
       "      <th>text</th>\n",
       "      <th>subject</th>\n",
       "      <th>date</th>\n",
       "    </tr>\n",
       "  </thead>\n",
       "  <tbody>\n",
       "    <tr>\n",
       "      <th>0</th>\n",
       "      <td>Donald Trump Sends Out Embarrassing New Year’...</td>\n",
       "      <td>Donald Trump just couldn t wish all Americans ...</td>\n",
       "      <td>News</td>\n",
       "      <td>December 31, 2017</td>\n",
       "    </tr>\n",
       "    <tr>\n",
       "      <th>1</th>\n",
       "      <td>Drunk Bragging Trump Staffer Started Russian ...</td>\n",
       "      <td>House Intelligence Committee Chairman Devin Nu...</td>\n",
       "      <td>News</td>\n",
       "      <td>December 31, 2017</td>\n",
       "    </tr>\n",
       "    <tr>\n",
       "      <th>2</th>\n",
       "      <td>Sheriff David Clarke Becomes An Internet Joke...</td>\n",
       "      <td>On Friday, it was revealed that former Milwauk...</td>\n",
       "      <td>News</td>\n",
       "      <td>December 30, 2017</td>\n",
       "    </tr>\n",
       "    <tr>\n",
       "      <th>3</th>\n",
       "      <td>Trump Is So Obsessed He Even Has Obama’s Name...</td>\n",
       "      <td>On Christmas day, Donald Trump announced that ...</td>\n",
       "      <td>News</td>\n",
       "      <td>December 29, 2017</td>\n",
       "    </tr>\n",
       "    <tr>\n",
       "      <th>4</th>\n",
       "      <td>Pope Francis Just Called Out Donald Trump Dur...</td>\n",
       "      <td>Pope Francis used his annual Christmas Day mes...</td>\n",
       "      <td>News</td>\n",
       "      <td>December 25, 2017</td>\n",
       "    </tr>\n",
       "  </tbody>\n",
       "</table>\n",
       "</div>"
      ],
      "text/plain": [
       "                                               title  \\\n",
       "0   Donald Trump Sends Out Embarrassing New Year’...   \n",
       "1   Drunk Bragging Trump Staffer Started Russian ...   \n",
       "2   Sheriff David Clarke Becomes An Internet Joke...   \n",
       "3   Trump Is So Obsessed He Even Has Obama’s Name...   \n",
       "4   Pope Francis Just Called Out Donald Trump Dur...   \n",
       "\n",
       "                                                text subject  \\\n",
       "0  Donald Trump just couldn t wish all Americans ...    News   \n",
       "1  House Intelligence Committee Chairman Devin Nu...    News   \n",
       "2  On Friday, it was revealed that former Milwauk...    News   \n",
       "3  On Christmas day, Donald Trump announced that ...    News   \n",
       "4  Pope Francis used his annual Christmas Day mes...    News   \n",
       "\n",
       "                date  \n",
       "0  December 31, 2017  \n",
       "1  December 31, 2017  \n",
       "2  December 30, 2017  \n",
       "3  December 29, 2017  \n",
       "4  December 25, 2017  "
      ]
     },
     "execution_count": 3,
     "metadata": {},
     "output_type": "execute_result"
    }
   ],
   "source": [
    "fake_df.head()"
   ]
  },
  {
   "cell_type": "code",
   "execution_count": 4,
   "id": "179e24db",
   "metadata": {},
   "outputs": [
    {
     "data": {
      "text/html": [
       "<div>\n",
       "<style scoped>\n",
       "    .dataframe tbody tr th:only-of-type {\n",
       "        vertical-align: middle;\n",
       "    }\n",
       "\n",
       "    .dataframe tbody tr th {\n",
       "        vertical-align: top;\n",
       "    }\n",
       "\n",
       "    .dataframe thead th {\n",
       "        text-align: right;\n",
       "    }\n",
       "</style>\n",
       "<table border=\"1\" class=\"dataframe\">\n",
       "  <thead>\n",
       "    <tr style=\"text-align: right;\">\n",
       "      <th></th>\n",
       "      <th>title</th>\n",
       "      <th>text</th>\n",
       "      <th>subject</th>\n",
       "      <th>date</th>\n",
       "    </tr>\n",
       "  </thead>\n",
       "  <tbody>\n",
       "    <tr>\n",
       "      <th>0</th>\n",
       "      <td>As U.S. budget fight looms, Republicans flip t...</td>\n",
       "      <td>WASHINGTON (Reuters) - The head of a conservat...</td>\n",
       "      <td>politicsNews</td>\n",
       "      <td>December 31, 2017</td>\n",
       "    </tr>\n",
       "    <tr>\n",
       "      <th>1</th>\n",
       "      <td>U.S. military to accept transgender recruits o...</td>\n",
       "      <td>WASHINGTON (Reuters) - Transgender people will...</td>\n",
       "      <td>politicsNews</td>\n",
       "      <td>December 29, 2017</td>\n",
       "    </tr>\n",
       "    <tr>\n",
       "      <th>2</th>\n",
       "      <td>Senior U.S. Republican senator: 'Let Mr. Muell...</td>\n",
       "      <td>WASHINGTON (Reuters) - The special counsel inv...</td>\n",
       "      <td>politicsNews</td>\n",
       "      <td>December 31, 2017</td>\n",
       "    </tr>\n",
       "    <tr>\n",
       "      <th>3</th>\n",
       "      <td>FBI Russia probe helped by Australian diplomat...</td>\n",
       "      <td>WASHINGTON (Reuters) - Trump campaign adviser ...</td>\n",
       "      <td>politicsNews</td>\n",
       "      <td>December 30, 2017</td>\n",
       "    </tr>\n",
       "    <tr>\n",
       "      <th>4</th>\n",
       "      <td>Trump wants Postal Service to charge 'much mor...</td>\n",
       "      <td>SEATTLE/WASHINGTON (Reuters) - President Donal...</td>\n",
       "      <td>politicsNews</td>\n",
       "      <td>December 29, 2017</td>\n",
       "    </tr>\n",
       "  </tbody>\n",
       "</table>\n",
       "</div>"
      ],
      "text/plain": [
       "                                               title  \\\n",
       "0  As U.S. budget fight looms, Republicans flip t...   \n",
       "1  U.S. military to accept transgender recruits o...   \n",
       "2  Senior U.S. Republican senator: 'Let Mr. Muell...   \n",
       "3  FBI Russia probe helped by Australian diplomat...   \n",
       "4  Trump wants Postal Service to charge 'much mor...   \n",
       "\n",
       "                                                text       subject  \\\n",
       "0  WASHINGTON (Reuters) - The head of a conservat...  politicsNews   \n",
       "1  WASHINGTON (Reuters) - Transgender people will...  politicsNews   \n",
       "2  WASHINGTON (Reuters) - The special counsel inv...  politicsNews   \n",
       "3  WASHINGTON (Reuters) - Trump campaign adviser ...  politicsNews   \n",
       "4  SEATTLE/WASHINGTON (Reuters) - President Donal...  politicsNews   \n",
       "\n",
       "                 date  \n",
       "0  December 31, 2017   \n",
       "1  December 29, 2017   \n",
       "2  December 31, 2017   \n",
       "3  December 30, 2017   \n",
       "4  December 29, 2017   "
      ]
     },
     "execution_count": 4,
     "metadata": {},
     "output_type": "execute_result"
    }
   ],
   "source": [
    "real_df.head()"
   ]
  },
  {
   "cell_type": "markdown",
   "id": "6baf1751",
   "metadata": {},
   "source": [
    "Creamos una columna llamada 'target' que es '0' para noticias falsas y '1' para noticias reales. Borramos las columnas innecesarias y juntamos ambas bases de datos en uno."
   ]
  },
  {
   "cell_type": "code",
   "execution_count": 5,
   "id": "9290bbf3",
   "metadata": {},
   "outputs": [],
   "source": [
    "fake_df['target'] = 0 \n",
    "real_df['target'] = 1"
   ]
  },
  {
   "cell_type": "markdown",
   "id": "0606a514",
   "metadata": {},
   "source": [
    "Verificamos que la columna subject no aporta valor predictivo porque las categorías no coinciden y esto no le permitiría al modelo tener un accuracy perfecto."
   ]
  },
  {
   "cell_type": "code",
   "execution_count": 6,
   "id": "bfd3d4e8",
   "metadata": {},
   "outputs": [
    {
     "data": {
      "text/plain": [
       "News               9050\n",
       "politics           6841\n",
       "left-news          4459\n",
       "Government News    1570\n",
       "US_News             783\n",
       "Middle-east         778\n",
       "Name: subject, dtype: int64"
      ]
     },
     "execution_count": 6,
     "metadata": {},
     "output_type": "execute_result"
    }
   ],
   "source": [
    "fake_df['subject'].value_counts()"
   ]
  },
  {
   "cell_type": "code",
   "execution_count": 7,
   "id": "dc1eede6",
   "metadata": {},
   "outputs": [
    {
     "data": {
      "text/plain": [
       "politicsNews    11272\n",
       "worldnews       10145\n",
       "Name: subject, dtype: int64"
      ]
     },
     "execution_count": 7,
     "metadata": {},
     "output_type": "execute_result"
    }
   ],
   "source": [
    "real_df['subject'].value_counts()"
   ]
  },
  {
   "cell_type": "code",
   "execution_count": 8,
   "id": "c7f93a15",
   "metadata": {},
   "outputs": [],
   "source": [
    "fake_df.drop(['date', 'subject'], axis=1, inplace=True)\n",
    "real_df.drop(['date', 'subject'], axis=1, inplace=True)"
   ]
  },
  {
   "cell_type": "code",
   "execution_count": 9,
   "id": "8caf280c",
   "metadata": {},
   "outputs": [
    {
     "data": {
      "text/html": [
       "<div>\n",
       "<style scoped>\n",
       "    .dataframe tbody tr th:only-of-type {\n",
       "        vertical-align: middle;\n",
       "    }\n",
       "\n",
       "    .dataframe tbody tr th {\n",
       "        vertical-align: top;\n",
       "    }\n",
       "\n",
       "    .dataframe thead th {\n",
       "        text-align: right;\n",
       "    }\n",
       "</style>\n",
       "<table border=\"1\" class=\"dataframe\">\n",
       "  <thead>\n",
       "    <tr style=\"text-align: right;\">\n",
       "      <th></th>\n",
       "      <th>title</th>\n",
       "      <th>text</th>\n",
       "      <th>target</th>\n",
       "    </tr>\n",
       "  </thead>\n",
       "  <tbody>\n",
       "    <tr>\n",
       "      <th>0</th>\n",
       "      <td>Donald Trump Sends Out Embarrassing New Year’...</td>\n",
       "      <td>Donald Trump just couldn t wish all Americans ...</td>\n",
       "      <td>0</td>\n",
       "    </tr>\n",
       "    <tr>\n",
       "      <th>1</th>\n",
       "      <td>Drunk Bragging Trump Staffer Started Russian ...</td>\n",
       "      <td>House Intelligence Committee Chairman Devin Nu...</td>\n",
       "      <td>0</td>\n",
       "    </tr>\n",
       "    <tr>\n",
       "      <th>2</th>\n",
       "      <td>Sheriff David Clarke Becomes An Internet Joke...</td>\n",
       "      <td>On Friday, it was revealed that former Milwauk...</td>\n",
       "      <td>0</td>\n",
       "    </tr>\n",
       "    <tr>\n",
       "      <th>3</th>\n",
       "      <td>Trump Is So Obsessed He Even Has Obama’s Name...</td>\n",
       "      <td>On Christmas day, Donald Trump announced that ...</td>\n",
       "      <td>0</td>\n",
       "    </tr>\n",
       "    <tr>\n",
       "      <th>4</th>\n",
       "      <td>Pope Francis Just Called Out Donald Trump Dur...</td>\n",
       "      <td>Pope Francis used his annual Christmas Day mes...</td>\n",
       "      <td>0</td>\n",
       "    </tr>\n",
       "  </tbody>\n",
       "</table>\n",
       "</div>"
      ],
      "text/plain": [
       "                                               title  \\\n",
       "0   Donald Trump Sends Out Embarrassing New Year’...   \n",
       "1   Drunk Bragging Trump Staffer Started Russian ...   \n",
       "2   Sheriff David Clarke Becomes An Internet Joke...   \n",
       "3   Trump Is So Obsessed He Even Has Obama’s Name...   \n",
       "4   Pope Francis Just Called Out Donald Trump Dur...   \n",
       "\n",
       "                                                text  target  \n",
       "0  Donald Trump just couldn t wish all Americans ...       0  \n",
       "1  House Intelligence Committee Chairman Devin Nu...       0  \n",
       "2  On Friday, it was revealed that former Milwauk...       0  \n",
       "3  On Christmas day, Donald Trump announced that ...       0  \n",
       "4  Pope Francis used his annual Christmas Day mes...       0  "
      ]
     },
     "execution_count": 9,
     "metadata": {},
     "output_type": "execute_result"
    }
   ],
   "source": [
    "df = pd.concat([fake_df, real_df], ignore_index=True, sort=False)\n",
    "df.head()"
   ]
  },
  {
   "cell_type": "code",
   "execution_count": 10,
   "id": "68acfd16",
   "metadata": {},
   "outputs": [
    {
     "data": {
      "text/html": [
       "<div>\n",
       "<style scoped>\n",
       "    .dataframe tbody tr th:only-of-type {\n",
       "        vertical-align: middle;\n",
       "    }\n",
       "\n",
       "    .dataframe tbody tr th {\n",
       "        vertical-align: top;\n",
       "    }\n",
       "\n",
       "    .dataframe thead th {\n",
       "        text-align: right;\n",
       "    }\n",
       "</style>\n",
       "<table border=\"1\" class=\"dataframe\">\n",
       "  <thead>\n",
       "    <tr style=\"text-align: right;\">\n",
       "      <th></th>\n",
       "      <th>title</th>\n",
       "      <th>text</th>\n",
       "      <th>target</th>\n",
       "    </tr>\n",
       "  </thead>\n",
       "  <tbody>\n",
       "    <tr>\n",
       "      <th>44893</th>\n",
       "      <td>'Fully committed' NATO backs new U.S. approach...</td>\n",
       "      <td>BRUSSELS (Reuters) - NATO allies on Tuesday we...</td>\n",
       "      <td>1</td>\n",
       "    </tr>\n",
       "    <tr>\n",
       "      <th>44894</th>\n",
       "      <td>LexisNexis withdrew two products from Chinese ...</td>\n",
       "      <td>LONDON (Reuters) - LexisNexis, a provider of l...</td>\n",
       "      <td>1</td>\n",
       "    </tr>\n",
       "    <tr>\n",
       "      <th>44895</th>\n",
       "      <td>Minsk cultural hub becomes haven from authorities</td>\n",
       "      <td>MINSK (Reuters) - In the shadow of disused Sov...</td>\n",
       "      <td>1</td>\n",
       "    </tr>\n",
       "    <tr>\n",
       "      <th>44896</th>\n",
       "      <td>Vatican upbeat on possibility of Pope Francis ...</td>\n",
       "      <td>MOSCOW (Reuters) - Vatican Secretary of State ...</td>\n",
       "      <td>1</td>\n",
       "    </tr>\n",
       "    <tr>\n",
       "      <th>44897</th>\n",
       "      <td>Indonesia to buy $1.14 billion worth of Russia...</td>\n",
       "      <td>JAKARTA (Reuters) - Indonesia will buy 11 Sukh...</td>\n",
       "      <td>1</td>\n",
       "    </tr>\n",
       "  </tbody>\n",
       "</table>\n",
       "</div>"
      ],
      "text/plain": [
       "                                                   title  \\\n",
       "44893  'Fully committed' NATO backs new U.S. approach...   \n",
       "44894  LexisNexis withdrew two products from Chinese ...   \n",
       "44895  Minsk cultural hub becomes haven from authorities   \n",
       "44896  Vatican upbeat on possibility of Pope Francis ...   \n",
       "44897  Indonesia to buy $1.14 billion worth of Russia...   \n",
       "\n",
       "                                                    text  target  \n",
       "44893  BRUSSELS (Reuters) - NATO allies on Tuesday we...       1  \n",
       "44894  LONDON (Reuters) - LexisNexis, a provider of l...       1  \n",
       "44895  MINSK (Reuters) - In the shadow of disused Sov...       1  \n",
       "44896  MOSCOW (Reuters) - Vatican Secretary of State ...       1  \n",
       "44897  JAKARTA (Reuters) - Indonesia will buy 11 Sukh...       1  "
      ]
     },
     "execution_count": 10,
     "metadata": {},
     "output_type": "execute_result"
    }
   ],
   "source": [
    "df.tail()"
   ]
  },
  {
   "cell_type": "code",
   "execution_count": 11,
   "id": "bc62a071",
   "metadata": {},
   "outputs": [],
   "source": [
    "# Combinamos el 'title' y''text column'\n",
    "\n",
    "df['text'] = df['title'] + df['text']\n",
    "df.drop('title', axis=1, inplace=True)\n"
   ]
  },
  {
   "cell_type": "code",
   "execution_count": 12,
   "id": "bcde105e",
   "metadata": {},
   "outputs": [
    {
     "data": {
      "text/html": [
       "<div>\n",
       "<style scoped>\n",
       "    .dataframe tbody tr th:only-of-type {\n",
       "        vertical-align: middle;\n",
       "    }\n",
       "\n",
       "    .dataframe tbody tr th {\n",
       "        vertical-align: top;\n",
       "    }\n",
       "\n",
       "    .dataframe thead th {\n",
       "        text-align: right;\n",
       "    }\n",
       "</style>\n",
       "<table border=\"1\" class=\"dataframe\">\n",
       "  <thead>\n",
       "    <tr style=\"text-align: right;\">\n",
       "      <th></th>\n",
       "      <th>text</th>\n",
       "      <th>target</th>\n",
       "    </tr>\n",
       "  </thead>\n",
       "  <tbody>\n",
       "    <tr>\n",
       "      <th>0</th>\n",
       "      <td>Donald Trump Sends Out Embarrassing New Year’...</td>\n",
       "      <td>0</td>\n",
       "    </tr>\n",
       "    <tr>\n",
       "      <th>1</th>\n",
       "      <td>Drunk Bragging Trump Staffer Started Russian ...</td>\n",
       "      <td>0</td>\n",
       "    </tr>\n",
       "    <tr>\n",
       "      <th>2</th>\n",
       "      <td>Sheriff David Clarke Becomes An Internet Joke...</td>\n",
       "      <td>0</td>\n",
       "    </tr>\n",
       "    <tr>\n",
       "      <th>3</th>\n",
       "      <td>Trump Is So Obsessed He Even Has Obama’s Name...</td>\n",
       "      <td>0</td>\n",
       "    </tr>\n",
       "    <tr>\n",
       "      <th>4</th>\n",
       "      <td>Pope Francis Just Called Out Donald Trump Dur...</td>\n",
       "      <td>0</td>\n",
       "    </tr>\n",
       "    <tr>\n",
       "      <th>...</th>\n",
       "      <td>...</td>\n",
       "      <td>...</td>\n",
       "    </tr>\n",
       "    <tr>\n",
       "      <th>44893</th>\n",
       "      <td>'Fully committed' NATO backs new U.S. approach...</td>\n",
       "      <td>1</td>\n",
       "    </tr>\n",
       "    <tr>\n",
       "      <th>44894</th>\n",
       "      <td>LexisNexis withdrew two products from Chinese ...</td>\n",
       "      <td>1</td>\n",
       "    </tr>\n",
       "    <tr>\n",
       "      <th>44895</th>\n",
       "      <td>Minsk cultural hub becomes haven from authorit...</td>\n",
       "      <td>1</td>\n",
       "    </tr>\n",
       "    <tr>\n",
       "      <th>44896</th>\n",
       "      <td>Vatican upbeat on possibility of Pope Francis ...</td>\n",
       "      <td>1</td>\n",
       "    </tr>\n",
       "    <tr>\n",
       "      <th>44897</th>\n",
       "      <td>Indonesia to buy $1.14 billion worth of Russia...</td>\n",
       "      <td>1</td>\n",
       "    </tr>\n",
       "  </tbody>\n",
       "</table>\n",
       "<p>44898 rows × 2 columns</p>\n",
       "</div>"
      ],
      "text/plain": [
       "                                                    text  target\n",
       "0       Donald Trump Sends Out Embarrassing New Year’...       0\n",
       "1       Drunk Bragging Trump Staffer Started Russian ...       0\n",
       "2       Sheriff David Clarke Becomes An Internet Joke...       0\n",
       "3       Trump Is So Obsessed He Even Has Obama’s Name...       0\n",
       "4       Pope Francis Just Called Out Donald Trump Dur...       0\n",
       "...                                                  ...     ...\n",
       "44893  'Fully committed' NATO backs new U.S. approach...       1\n",
       "44894  LexisNexis withdrew two products from Chinese ...       1\n",
       "44895  Minsk cultural hub becomes haven from authorit...       1\n",
       "44896  Vatican upbeat on possibility of Pope Francis ...       1\n",
       "44897  Indonesia to buy $1.14 billion worth of Russia...       1\n",
       "\n",
       "[44898 rows x 2 columns]"
      ]
     },
     "execution_count": 12,
     "metadata": {},
     "output_type": "execute_result"
    }
   ],
   "source": [
    "df"
   ]
  },
  {
   "cell_type": "code",
   "execution_count": 13,
   "id": "d4293b49",
   "metadata": {},
   "outputs": [
    {
     "name": "stdout",
     "output_type": "stream",
     "text": [
      "0    52.298543\n",
      "1    47.701457\n",
      "Name: target, dtype: float64\n"
     ]
    },
    {
     "data": {
      "image/png": "[encoded data removed]",
      "text/plain": [
       "<Figure size 432x288 with 1 Axes>"
      ]
     },
     "metadata": {},
     "output_type": "display_data"
    }
   ],
   "source": [
    "# Corroboramos el balance del dataset\n",
    "sns.set_style(\"darkgrid\")\n",
    "sns.countplot(x=df.target);\n",
    "print(df['target'].value_counts(normalize = True)*100)"
   ]
  },
  {
   "cell_type": "code",
   "execution_count": 14,
   "id": "5f67c2c3",
   "metadata": {},
   "outputs": [
    {
     "data": {
      "text/plain": [
       "text      0\n",
       "target    0\n",
       "dtype: int64"
      ]
     },
     "execution_count": 14,
     "metadata": {},
     "output_type": "execute_result"
    }
   ],
   "source": [
    "#Verificamos si existen valores nulos\n",
    "df.isna().sum()"
   ]
  },
  {
   "cell_type": "code",
   "execution_count": 15,
   "id": "6ba35ca7",
   "metadata": {},
   "outputs": [
    {
     "name": "stdout",
     "output_type": "stream",
     "text": [
      "\n",
      "Hay duplicados?\n",
      "Hay  5793 registros duplicados\n",
      "\n",
      "Quedan registros duplicados? False\n"
     ]
    }
   ],
   "source": [
    "# tratamiento de duplicados\n",
    "print('\\nHay duplicados?')\n",
    "print('Hay ',df.duplicated(['text']).sum(),'registros duplicados')\n",
    "\n",
    "# eliminamos los registros duplicados\n",
    "df.drop_duplicates(['text'], inplace = True,keep='last')\n",
    "\n",
    "print('\\nQuedan registros duplicados?', df.duplicated(['text']).any())"
   ]
  },
  {
   "cell_type": "code",
   "execution_count": 16,
   "id": "f3c8c09a",
   "metadata": {},
   "outputs": [
    {
     "name": "stdout",
     "output_type": "stream",
     "text": [
      "1    54.205345\n",
      "0    45.794655\n",
      "Name: target, dtype: float64\n"
     ]
    },
    {
     "data": {
      "image/png": "[encoded data removed]",
      "text/plain": [
       "<Figure size 432x288 with 1 Axes>"
      ]
     },
     "metadata": {},
     "output_type": "display_data"
    }
   ],
   "source": [
    "# Corroboramos el balance del dataset luego del drop de duplicados\n",
    "sns.set_style(\"darkgrid\")\n",
    "sns.countplot(x=df.target);\n",
    "print(df['target'].value_counts(normalize = True)*100)"
   ]
  },
  {
   "cell_type": "markdown",
   "id": "c6c62393",
   "metadata": {},
   "source": [
    "Se observa que el dataset está balanceado."
   ]
  },
  {
   "cell_type": "markdown",
   "id": "3def4d02",
   "metadata": {},
   "source": [
    "## Metodología Bag of Words\n",
    "\n",
    "Para representar las noticias conservaremos únicamente su conjunto de palabras y el número de veces que aparecen en la noticia. \n",
    "Este enfoque pierde sentido al descartar la estructura de los textos como párrafos, capítulos, orden en el que aparecen las palabras, etc.\n",
    "Como beneficio reduce significativamente la dimensionalidad y por ende el costo computacional.\n",
    "Llamaremos **corpus** al conjunto de noticias de nuestro dataset y **documento** a cada noticia, que es nuestra unidad de dato.\n",
    "\n",
    "Computar la representación \"bag of words\" de un corpus de documentos conlleva tres pasos:\n",
    "\n",
    "1. **Tokenización**: convertir cada documento a una lista de palabras (y signos de puntuación) que lo componen.\n",
    "\n",
    "2. **Construcción de un vocabulario**: colectar todas las palabras que se registraron en el corpus y ordenarlas (típicamente por orden alfabético).\n",
    "\n",
    "3. **Encoding**: representar los documentos como vectores en el espacio de las palabras del vocabulario."
   ]
  },
  {
   "cell_type": "markdown",
   "id": "889577b7",
   "metadata": {},
   "source": [
    "1. Tokenización:\n",
    "\n",
    " La librería NLTK cuenta con herramientas para hacer ésto, identificando los signos de puntuación: cuándo los mismos separan oraciones y cuándo cumplen otra función, como una abreviatura.\n",
    "        "
   ]
  },
  {
   "cell_type": "code",
   "execution_count": 17,
   "id": "c566093b",
   "metadata": {},
   "outputs": [
    {
     "name": "stderr",
     "output_type": "stream",
     "text": [
      "[nltk_data] Downloading package punkt to C:\\Users\\Mati-\n",
      "[nltk_data]     PC\\AppData\\Roaming\\nltk_data...\n",
      "[nltk_data]   Package punkt is already up-to-date!\n",
      "[nltk_data] Downloading package stopwords to C:\\Users\\Mati-\n",
      "[nltk_data]     PC\\AppData\\Roaming\\nltk_data...\n",
      "[nltk_data]   Package stopwords is already up-to-date!\n",
      "[nltk_data] Downloading package wordnet to C:\\Users\\Mati-\n",
      "[nltk_data]     PC\\AppData\\Roaming\\nltk_data...\n",
      "[nltk_data]   Package wordnet is already up-to-date!\n"
     ]
    }
   ],
   "source": [
    "import nltk\n",
    "nltk.download('punkt')    # esta linea hay que ejecutarla sólo una vez\n",
    "nltk.download('stopwords') # esta linea hay que ejecutarla sólo una vez\n",
    "nltk.download('wordnet')    # esta linea hay que ejecutarla sólo una vez\n",
    "from nltk.tokenize import word_tokenize, sent_tokenize"
   ]
  },
  {
   "cell_type": "markdown",
   "id": "954a6719",
   "metadata": {},
   "source": [
    "### Construcción de un vocabulario\n",
    "\n",
    "Podríamos tokenizar todos los documentos y definir el vocabulario como el set de palabras que aparecieron al menos una vez en todo el corpus.\n",
    "Esto tiene el problema de que el número de palabras será muy grande y muchas de ellas serán muy poco informativas sobre el contenido del texto, por ejemplo las preposiciones, pronombres, etc. \n",
    "A estas palabras se las llama **stopwords** y a menudo se las **excluye del vocabulario**. \n",
    "\n",
    "NLTK tiene listas de stopwords en distintos idiomas, nuestro dataset tiene noticias exclusivamente en inglés así que solo utilizaremos esta:"
   ]
  },
  {
   "cell_type": "code",
   "execution_count": 18,
   "id": "35a32e58",
   "metadata": {},
   "outputs": [
    {
     "name": "stdout",
     "output_type": "stream",
     "text": [
      "['i', 'me', 'my', 'myself', 'we', 'our', 'ours', 'ourselves', 'you', \"you're\", \"you've\", \"you'll\", \"you'd\", 'your', 'yours', 'yourself', 'yourselves', 'he', 'him', 'his']\n"
     ]
    }
   ],
   "source": [
    "from nltk.corpus import stopwords \n",
    "\n",
    "stopwords_en = stopwords.words('english');\n",
    "\n",
    "print(stopwords_en[:20])"
   ]
  },
  {
   "cell_type": "markdown",
   "id": "da3f1261",
   "metadata": {},
   "source": [
    "Tokenizamos utilizando CountVectorizer de scikit-learn"
   ]
  },
  {
   "cell_type": "code",
   "execution_count": 19,
   "id": "d7c74868",
   "metadata": {},
   "outputs": [
    {
     "data": {
      "image/png": "[encoded data removed]",
      "text/plain": [
       "<Figure size 1170x390 with 1 Axes>"
      ]
     },
     "metadata": {},
     "output_type": "display_data"
    }
   ],
   "source": [
    "from sklearn.feature_extraction.text import CountVectorizer\n",
    "\n",
    "vect=CountVectorizer(lowercase=True,strip_accents='unicode', stop_words=stopwords_en)\n",
    "\n",
    "X=vect.fit_transform(df['text'])    \n",
    "sum_words=X.sum(axis=0)\n",
    "words_freq = sorted([(word, sum_words[0, idx]) for word, idx in  vect.vocabulary_.items()],reverse=False)\n",
    "words_freq = sorted(words_freq, key = lambda x: x[1], reverse=True)\n",
    "    \n",
    "wf_df=pd.DataFrame(words_freq,columns=['Palabra','Cantidad de apariciones'])\n",
    "   \n",
    "plt.figure(figsize=(9,3),dpi=130)\n",
    "sns.barplot(data=wf_df.head(50),x='Palabra',y='Cantidad de apariciones')\n",
    "plt.title(\"Frecuencia de aparición de palabras en el Corpus\")\n",
    "plt.xticks(rotation=90);\n"
   ]
  },
  {
   "cell_type": "markdown",
   "id": "8cdc7a01",
   "metadata": {},
   "source": [
    "Utilizando CountVectorizer, ya tenemos creada la matriz esparsa que almacena el \"Bag of Words\".\n",
    "\n",
    "Se podría crear un DataFrame de pandas con esta matriz para poder visualizar mejor su contenido. El algoritmo necesario para realizarlo sería el siguiente:\n",
    "\n",
    "X_pd = pd.DataFrame(X.todense(),columns=vect.get_feature_names())\n",
    "\n",
    "No se ejecuta la línea de código porque para definir X_pd se debería contar con 40.9 GiB de memoria RAM.    "
   ]
  },
  {
   "cell_type": "code",
   "execution_count": 20,
   "id": "c4dd793a",
   "metadata": {},
   "outputs": [],
   "source": [
    "### encontré este trabajo https://www.cienciadedatos.net/documentos/py25-text-mining-python.html que puede ser interesante porque\n",
    "# utiliza una función de \"limpieza\""
   ]
  },
  {
   "cell_type": "markdown",
   "id": "13374da9",
   "metadata": {},
   "source": [
    "### Transformación Tf-idf (Term Frequency Inverse Document Frequency)\n",
    "\n",
    "La representación de los textos generada mediante `CountVectorizer` tiene en cuenta cuántas veces se observó cada término del vocabulario en cada documento. \n",
    "\n",
    "**Esto plantea ciertas problemáticas**: \n",
    "\n",
    "* En un documento mucho más largo que los otros, el conteo de palabras puede resultar en números mucho mayores que en el resto de los documentos. \n",
    "\n",
    "    Para corregir esta anomalía, deberíamos normalizar (dividir) el conteo de cada palabra por el tamaño de cada documento.\n",
    "\n",
    "* Una palabra que aparece muchas veces en un documento, pero pocas veces en los demás, es una palabra muy distintiva de ese documento y será importante para representarlo. Mientras que palabras que aparecen pocas veces, o que aparecen en muchos documentos serán menos informativas. \n",
    "    Para corregir esto, se debería relacionar la frecuencia de aparición de una palabra con su frecuencia en el corpus.\n",
    "\n",
    "La transformación TF-IDF aborda ambas problemáticas y por eso la usaremos con la matriz esparsa creada con CountVectorizer"
   ]
  },
  {
   "cell_type": "code",
   "execution_count": 21,
   "id": "62365633",
   "metadata": {},
   "outputs": [],
   "source": [
    "from sklearn.feature_extraction.text import TfidfTransformer\n",
    "\n",
    "X_Tfidf=TfidfTransformer().fit_transform(X)\n"
   ]
  },
  {
   "cell_type": "markdown",
   "id": "35ca97b0",
   "metadata": {},
   "source": [
    "### División del dataset en Train y Test"
   ]
  },
  {
   "cell_type": "code",
   "execution_count": 22,
   "id": "59724d24",
   "metadata": {},
   "outputs": [],
   "source": [
    "X_ = df['text']\n",
    "y_ = df['target']"
   ]
  },
  {
   "cell_type": "code",
   "execution_count": 23,
   "id": "40ffbfaa",
   "metadata": {},
   "outputs": [
    {
     "name": "stdout",
     "output_type": "stream",
     "text": [
      "Hay 29328 datos de entrenamiento y 9777 datos de testeo\n"
     ]
    }
   ],
   "source": [
    "from sklearn.model_selection import train_test_split\n",
    "X_train, X_test, y_train, y_test = train_test_split(X_Tfidf, df['target'], random_state=1)\n",
    "print('Hay', y_train.shape[0], 'datos de entrenamiento y', y_test.shape[0], 'datos de testeo')"
   ]
  },
  {
   "cell_type": "code",
   "execution_count": 24,
   "id": "aaa0813b",
   "metadata": {},
   "outputs": [
    {
     "data": {
      "text/plain": [
       "<matplotlib.legend.Legend at 0x1b58d1f1dc0>"
      ]
     },
     "execution_count": 24,
     "metadata": {},
     "output_type": "execute_result"
    },
    {
     "data": {
      "image/png": "[encoded data removed]",
      "text/plain": [
       "<Figure size 432x288 with 1 Axes>"
      ]
     },
     "metadata": {},
     "output_type": "display_data"
    }
   ],
   "source": [
    "#Suma esta verificación?\n",
    "xplot = ['X_var','Y_var']\n",
    "trainplot = [X_train.shape[0]/X_.shape[0],y_train.shape[0]/y_.shape[0]]\n",
    "testplot = [X_test.shape[0]/X_.shape[0],y_test.shape[0]/y_.shape[0]]\n",
    "fig, ax = plt.subplots()\n",
    "ax.bar(xplot,trainplot,label = 'Train')\n",
    "ax.bar(xplot,testplot,bottom = trainplot,label = 'Test')\n",
    "ax.legend(loc = (1.1,0.8))"
   ]
  },
  {
   "cell_type": "markdown",
   "id": "7b6903b5",
   "metadata": {},
   "source": [
    "### Creación de modelos de clasificación"
   ]
  },
  {
   "cell_type": "markdown",
   "id": "53df9412",
   "metadata": {},
   "source": [
    "### 1- Modelo Naive Bayes"
   ]
  },
  {
   "cell_type": "code",
   "execution_count": 25,
   "id": "a5fcf8a0",
   "metadata": {},
   "outputs": [
    {
     "name": "stdout",
     "output_type": "stream",
     "text": [
      "Training set shape: (29328, 140379)\n",
      "\n",
      "Test Accuracy: 0.9380177968702056\n",
      "\n",
      "Confusion Matrix:\n",
      " [[4048  437]\n",
      " [ 169 5123]]\n"
     ]
    }
   ],
   "source": [
    "from sklearn.naive_bayes import MultinomialNB\n",
    "from sklearn.metrics import accuracy_score \n",
    "from sklearn.metrics import confusion_matrix\n",
    "\n",
    "NBC=MultinomialNB()\n",
    "NBC.fit(X_train,y_train)\n",
    "\n",
    "y_pred=NBC.predict(X_test)\n",
    "\n",
    "print('Training set shape:',X_train.shape)\n",
    "\n",
    "print('\\nTest Accuracy:',accuracy_score(y_test,y_pred))\n",
    "\n",
    "print('\\nConfusion Matrix:\\n',confusion_matrix(y_test,y_pred))"
   ]
  },
  {
   "cell_type": "code",
   "execution_count": 26,
   "id": "2c2cdbe9",
   "metadata": {},
   "outputs": [
    {
     "data": {
      "text/plain": [
       "Text(0.5, 1.0, 'Confusion Matrix')"
      ]
     },
     "execution_count": 26,
     "metadata": {},
     "output_type": "execute_result"
    },
    {
     "data": {
      "image/png": "[encoded data removed]",
      "text/plain": [
       "<Figure size 432x288 with 2 Axes>"
      ]
     },
     "metadata": {},
     "output_type": "display_data"
    }
   ],
   "source": [
    "cm_NBC = np.array([[4848,   437],[169,  5123]])\n",
    "sns.heatmap(cm_NBC, annot=True,fmt=\"d\",cmap='Blues')\n",
    "plt.title('Confusion Matrix')"
   ]
  },
  {
   "cell_type": "code",
   "execution_count": 27,
   "id": "6d8b1c39",
   "metadata": {},
   "outputs": [
    {
     "name": "stdout",
     "output_type": "stream",
     "text": [
      "              precision    recall  f1-score   support\n",
      "\n",
      "           0       0.96      0.90      0.93      4485\n",
      "           1       0.92      0.97      0.94      5292\n",
      "\n",
      "    accuracy                           0.94      9777\n",
      "   macro avg       0.94      0.94      0.94      9777\n",
      "weighted avg       0.94      0.94      0.94      9777\n",
      "\n"
     ]
    }
   ],
   "source": [
    "from sklearn.metrics import classification_report\n",
    "\n",
    "print(classification_report(y_test,y_pred))"
   ]
  },
  {
   "cell_type": "code",
   "execution_count": 28,
   "id": "118baaa5",
   "metadata": {},
   "outputs": [
    {
     "data": {
      "text/html": [
       "<div>\n",
       "<style scoped>\n",
       "    .dataframe tbody tr th:only-of-type {\n",
       "        vertical-align: middle;\n",
       "    }\n",
       "\n",
       "    .dataframe tbody tr th {\n",
       "        vertical-align: top;\n",
       "    }\n",
       "\n",
       "    .dataframe thead th {\n",
       "        text-align: right;\n",
       "    }\n",
       "</style>\n",
       "<table border=\"1\" class=\"dataframe\">\n",
       "  <thead>\n",
       "    <tr style=\"text-align: right;\">\n",
       "      <th></th>\n",
       "      <th>model</th>\n",
       "      <th>accuracy_score</th>\n",
       "    </tr>\n",
       "  </thead>\n",
       "  <tbody>\n",
       "    <tr>\n",
       "      <th>0</th>\n",
       "      <td>NBM</td>\n",
       "      <td>0.938018</td>\n",
       "    </tr>\n",
       "  </tbody>\n",
       "</table>\n",
       "</div>"
      ],
      "text/plain": [
       "  model accuracy_score\n",
       "0   NBM       0.938018"
      ]
     },
     "execution_count": 28,
     "metadata": {},
     "output_type": "execute_result"
    }
   ],
   "source": [
    "# Construimos una tabla para ir guardando las métricas de los modelos y luego poder compararlas\n",
    "\n",
    "compare_models = pd.DataFrame(columns = ['model', 'accuracy_score'])\n",
    "compare_models.loc[0,'model'] = 'NBM'\n",
    "compare_models.loc[0,'accuracy_score'] = accuracy_score(y_test,y_pred)\n",
    "compare_models"
   ]
  },
  {
   "cell_type": "markdown",
   "id": "41dbac8b",
   "metadata": {},
   "source": [
    "### 2- Modelo Regresión Logística"
   ]
  },
  {
   "cell_type": "code",
   "execution_count": 29,
   "id": "8f80df16",
   "metadata": {},
   "outputs": [
    {
     "name": "stdout",
     "output_type": "stream",
     "text": [
      "Training set shape: (29328, 140379)\n",
      "\n",
      "Test Accuracy: 0.9930449012989669\n",
      "\n",
      "Confusion Matrix:\n",
      " [[4443   42]\n",
      " [  26 5266]]\n"
     ]
    }
   ],
   "source": [
    "from sklearn.linear_model import LogisticRegression\n",
    "\n",
    "LRM=LogisticRegression(penalty='none', solver='newton-cg')\n",
    "\n",
    "LRM.fit(X_train, y_train)\n",
    "y_pred = LRM.predict(X_test)\n",
    "\n",
    "print('Training set shape:',X_train.shape)\n",
    "\n",
    "print('\\nTest Accuracy:',accuracy_score(y_test,y_pred))\n",
    "\n",
    "print('\\nConfusion Matrix:\\n',confusion_matrix(y_test,y_pred))"
   ]
  },
  {
   "cell_type": "code",
   "execution_count": 30,
   "id": "c58c890f",
   "metadata": {},
   "outputs": [
    {
     "data": {
      "text/plain": [
       "Text(0.5, 1.0, 'Confusion Matrix')"
      ]
     },
     "execution_count": 30,
     "metadata": {},
     "output_type": "execute_result"
    },
    {
     "data": {
      "image/png": "[encoded data removed]",
      "text/plain": [
       "<Figure size 432x288 with 2 Axes>"
      ]
     },
     "metadata": {},
     "output_type": "display_data"
    }
   ],
   "source": [
    "cm_NBC = np.array([[4443,   42],[26,  5266]])\n",
    "sns.heatmap(cm_NBC, annot=True,fmt=\"d\",cmap='Purples')\n",
    "plt.title('Confusion Matrix')"
   ]
  },
  {
   "cell_type": "code",
   "execution_count": 31,
   "id": "b9f398d0",
   "metadata": {},
   "outputs": [
    {
     "name": "stdout",
     "output_type": "stream",
     "text": [
      "              precision    recall  f1-score   support\n",
      "\n",
      "           0       0.99      0.99      0.99      4485\n",
      "           1       0.99      1.00      0.99      5292\n",
      "\n",
      "    accuracy                           0.99      9777\n",
      "   macro avg       0.99      0.99      0.99      9777\n",
      "weighted avg       0.99      0.99      0.99      9777\n",
      "\n"
     ]
    }
   ],
   "source": [
    "from sklearn.metrics import classification_report\n",
    "\n",
    "print(classification_report(y_test,y_pred))"
   ]
  },
  {
   "cell_type": "code",
   "execution_count": 32,
   "id": "473489fe",
   "metadata": {},
   "outputs": [],
   "source": [
    "compare_models.loc[1,'model'] = 'LRM'\n",
    "compare_models.loc[1,'accuracy_score'] = accuracy_score(y_test,y_pred)"
   ]
  },
  {
   "cell_type": "markdown",
   "id": "ac84b7ed",
   "metadata": {},
   "source": [
    "### 3- Modelo Random Forest"
   ]
  },
  {
   "cell_type": "code",
   "execution_count": 34,
   "id": "6c66b215",
   "metadata": {},
   "outputs": [
    {
     "name": "stdout",
     "output_type": "stream",
     "text": [
      "Training set shape: (29328, 140379)\n",
      "\n",
      "Test Accuracy: 0.9842487470594252\n",
      "\n",
      "Confusion Matrix:\n",
      " [[4373  112]\n",
      " [  42 5250]]\n"
     ]
    }
   ],
   "source": [
    "from sklearn.ensemble import RandomForestClassifier\n",
    "\n",
    "RFM=RandomForestClassifier()\n",
    "\n",
    "RFM.fit(X_train, y_train)\n",
    "y_pred = RFM.predict(X_test)\n",
    "\n",
    "print('Training set shape:',X_train.shape)\n",
    "\n",
    "print('\\nTest Accuracy:',accuracy_score(y_test,y_pred))\n",
    "\n",
    "print('\\nConfusion Matrix:\\n',confusion_matrix(y_test,y_pred))"
   ]
  },
  {
   "cell_type": "code",
   "execution_count": 43,
   "id": "5214aa3a",
   "metadata": {},
   "outputs": [
    {
     "name": "stdout",
     "output_type": "stream",
     "text": [
      "25\n",
      "50\n",
      "100\n",
      "250\n",
      "500\n"
     ]
    }
   ],
   "source": [
    "import sklearn.metrics as metrics\n",
    "\n",
    "train_accuracy = []\n",
    "test_accuracy = []\n",
    "\n",
    "N_estimadores = [25,50,100,250,500]\n",
    "for estimadores in N_estimadores:\n",
    "    print(estimadores)\n",
    "    clf = RandomForestClassifier(n_estimators=estimadores, n_jobs=-1, oob_score= True)\n",
    "    clf.fit(X_train,y_train)\n",
    "    \n",
    "    y_train_pred = clf.predict(X_train)\n",
    "    y_test_pred = clf.predict(X_test)\n",
    "    \n",
    "    train_accuracy.append(metrics.accuracy_score(y_train, y_train_pred))\n",
    "    test_accuracy.append(metrics.accuracy_score(y_test, y_test_pred))\n",
    "    \n",
    "train_accuracy = np.array(train_accuracy)\n",
    "test_accuracy = np.array(test_accuracy)\n"
   ]
  },
  {
   "cell_type": "code",
   "execution_count": 45,
   "id": "9fae3fcf",
   "metadata": {},
   "outputs": [
    {
     "data": {
      "text/plain": [
       "<matplotlib.legend.Legend at 0x1b5a0ae38e0>"
      ]
     },
     "execution_count": 45,
     "metadata": {},
     "output_type": "execute_result"
    },
    {
     "data": {
      "image/png": "[encoded data removed]",
      "text/plain": [
       "<Figure size 576x432 with 1 Axes>"
      ]
     },
     "metadata": {},
     "output_type": "display_data"
    }
   ],
   "source": [
    "plt.figure(figsize = (8,6))\n",
    "plt.plot(N_estimadores, train_accuracy, label = 'Train')\n",
    "plt.plot(N_estimadores, test_accuracy, label = 'Test')\n",
    "plt.xlabel('Numero de estimadores')\n",
    "plt.ylabel('Accuracy')\n",
    "plt.legend()\n"
   ]
  },
  {
   "cell_type": "code",
   "execution_count": 48,
   "id": "692bc706",
   "metadata": {},
   "outputs": [
    {
     "name": "stdout",
     "output_type": "stream",
     "text": [
      "Fitting 5 folds for each of 12 candidates, totalling 60 fits\n"
     ]
    },
    {
     "name": "stderr",
     "output_type": "stream",
     "text": [
      "[Parallel(n_jobs=-1)]: Using backend LokyBackend with 12 concurrent workers.\n",
      "[Parallel(n_jobs=-1)]: Done  26 tasks      | elapsed:  4.3min\n",
      "[Parallel(n_jobs=-1)]: Done  60 out of  60 | elapsed:  7.6min finished\n"
     ]
    },
    {
     "data": {
      "text/plain": [
       "RandomForestClassifier(max_features='sqrt', n_estimators=250, random_state=101)"
      ]
     },
     "metadata": {},
     "output_type": "display_data"
    },
    {
     "data": {
      "text/plain": [
       "0.986668096729197"
      ]
     },
     "metadata": {},
     "output_type": "display_data"
    },
    {
     "data": {
      "text/plain": [
       "{'max_features': 'sqrt', 'n_estimators': 250}"
      ]
     },
     "metadata": {},
     "output_type": "display_data"
    }
   ],
   "source": [
    "#intanciamos el modelo, parametros y GridSearch\n",
    "from sklearn.ensemble import RandomForestClassifier\n",
    "from sklearn.model_selection import GridSearchCV\n",
    "\n",
    "RFM=RandomForestClassifier(random_state=101)\n",
    "\n",
    "param_grid={'n_estimators':[25,50,100,250],\n",
    "           'max_features':['sqrt','log2','None']}\n",
    "\n",
    "grid_RFM=GridSearchCV(RFM,param_grid,n_jobs=-1,verbose=1)\n",
    "grid_RFM.fit(X_train,y_train)\n",
    "grid_RFM.cv_results_.keys()\n",
    "display(grid_RFM.best_estimator_,grid_RFM.best_score_,grid_RFM.best_params_)"
   ]
  },
  {
   "cell_type": "markdown",
   "id": "560ea1c0",
   "metadata": {},
   "source": [
    "Devolución Ionatan\n",
    "Queda pendiente:\n",
    "Realizar un pipeline para comparar los modelos, para comparar si ayuda o no los stopwords, integrar PCA o SVD (se podría seleccionar las features en función de un cum_sum y que se explique un 70% por ejemplo), realizar un deploy e integrar con flask para que podamos darle una noticia con un index y que nos prediga si es fake o real. Cero estética\n"
   ]
  },
  {
   "cell_type": "markdown",
   "id": "3f04df42",
   "metadata": {},
   "source": [
    "## Referencias"
   ]
  },
  {
   "cell_type": "markdown",
   "id": "6889a4d2",
   "metadata": {},
   "source": [
    "Alonso Valenzuela, J. C. (2020). Detección de Fake News mediante técnicas de Deep Learning. Tesis de grado. Escuela Técnica Superior de Ingeniería Infomática. Universidad de Sevilla. Disponible en línea en: https://idus.us.es/handle/11441/127048"
   ]
  }
 ],
 "metadata": {
  "kernelspec": {
   "display_name": "Python 3 (ipykernel)",
   "language": "python",
   "name": "python3"
  },
  "language_info": {
   "codemirror_mode": {
    "name": "ipython",
    "version": 3
   },
   "file_extension": ".py",
   "mimetype": "text/x-python",
   "name": "python",
   "nbconvert_exporter": "python",
   "pygments_lexer": "ipython3",
   "version": "3.8.12"
  }
 },
 "nbformat": 4,
 "nbformat_minor": 5
}
