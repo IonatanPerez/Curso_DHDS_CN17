{
 "cells": [
  {
   "cell_type": "code",
   "execution_count": 1,
   "metadata": {
    "slideshow": {
     "slide_type": "skip"
    }
   },
   "outputs": [],
   "source": [
    "# initial setup\n",
    "# %run \"../../../common/0_notebooks_base_setup.py\"\n"
   ]
  },
  {
   "cell_type": "markdown",
   "metadata": {
    "slideshow": {
     "slide_type": "slide"
    }
   },
   "source": [
    "<link rel=\"stylesheet\" href=\"../../../common/dhds.css\">\n",
    "<div class=\"Table\">\n",
    "    <div class=\"Row\">\n",
    "        <div class=\"Cell grey left\"> <img src=\"https://raw.githubusercontent.com/Digital-House-DATA/ds_blend_2021_img/master/M6/CLASE_48_Series_de_Tiempo_1/Presentacion/img/M6_CLASE_48_portada.gif\" align=\"center\" width=\"70%\"/></div>\n",
    "        <div class=\"Cell right\">\n",
    "            <div class=\"div-logo\"><img src=\"https://raw.githubusercontent.com/Digital-House-DATA/ds_blend_2021_img/master/common/logo_DH.png\" align=\"center\" width=70% /></div>\n",
    "            <div class=\"div-curso\">DATA SCIENCE</div>\n",
    "            <div class=\"div-modulo\">MÓDULO 6</div>\n",
    "            <div class=\"div-contenido\">Series de Tiempo 1\n",
    "\n",
    "</div>\n",
    "        </div>\n",
    "    </div>\n",
    "</div>"
   ]
  },
  {
   "cell_type": "markdown",
   "metadata": {
    "slideshow": {
     "slide_type": "slide"
    }
   },
   "source": [
    "### Agenda\n",
    "\n",
    "---\n",
    "\n",
    "- Series de tiempo.\n",
    "   - Definición.\n",
    "   - Componentes.\n",
    "   - Descomposición.\n",
    "---\n",
    "\n",
    "- Modelos básicos para pronósticos.\n",
    "   - Random Walk.\n",
    "   - Media constante.\n",
    "   - Tendencia lineal.\n",
    "   - Tendencia cuadrática.\n",
    "   - Tendencia con transformación logarítmica con y sin Estacionalidad mensual.\n",
    "   - Media movil.\n",
    "   - Single Exponential Smoothing."
   ]
  },
  {
   "cell_type": "markdown",
   "metadata": {
    "slideshow": {
     "slide_type": "slide"
    }
   },
   "source": [
    "<div class=\"div-dhds-fondo-1\"> Introducción\n",
    "<img src=\"https://raw.githubusercontent.com/Digital-House-DATA/ds_blend_2021_img/master/M3/CLASE_21_Regresion_Lineal_Simple/Presentacion/img/M3_CLASE_21_separador.png\" align=\"center\" />\n",
    "\n",
    "</div>"
   ]
  },
  {
   "cell_type": "markdown",
   "metadata": {
    "slideshow": {
     "slide_type": "slide"
    }
   },
   "source": [
    "### Introducción\n",
    "\n",
    "---\n",
    "Una **serie de tiempo** es un conjunto de observaciones tomadas en *intervalos regulares* (lags), **ordenadas** por el momento en que se produjeron.\n",
    "\n",
    "**Time series analysis** (*análisis de series de tiempo*) comprende métodos para *proyectar la evolución*, obtener *estadísticas y otras características* de una variable a lo largo del tiempo.\n",
    "\n",
    "**Time series forecasting** (*Pronóstico de series de tiempo*) es el uso de los modelos para predecir futuros valores.\n",
    "\n",
    "La serie de tiempo se proyecta como una *variable* (eje y) en *función del tiempo* (eje x). \n",
    "\n",
    "<img src=\"https://raw.githubusercontent.com/Digital-House-DATA/ds_blend_2021_img/master/M6/CLASE_48_Series_de_Tiempo_1/Presentacion/img/M6_CLASE_48_001_serie.JPG\" alt=\"serie\" width=50% height=35% align=\"center\"/>"
   ]
  },
  {
   "cell_type": "markdown",
   "metadata": {
    "slideshow": {
     "slide_type": "subslide"
    }
   },
   "source": [
    "Existen muchos ejemplos de datos que se pueden expresar como series de tiempo:\n",
    "\n",
    "- Variables macroeconómicas (PBI, inflación, reservas del BCRA...).\n",
    "\n",
    "- Movimientos comerciales (ventas, compras, pagos a proveedores...).\n",
    "\n",
    "- Datos de producción (horas de horno, material consumido...).\n",
    "\n",
    "- Consumo energético.\n",
    "\n",
    "- Activos financieros.\n",
    "\n",
    "- Variables sociales (mortalidad infantil, pobreza...)."
   ]
  },
  {
   "cell_type": "markdown",
   "metadata": {
    "slideshow": {
     "slide_type": "slide"
    }
   },
   "source": [
    "### Componentes de una serie de tiempo\n",
    "\n",
    "---\n",
    "\n",
    "Podemos encontrar en una serie de tiempo **cuatro componentes**:\n",
    "\n",
    "- **Tendencia** (Trend): es el componente *permanente*, el efecto persistente en el tiempo.\n",
    "\n",
    "- **Estacionalidad** (Seasonality): es un patrón estacional que se *repite con regularidad*. \n",
    "\n",
    "- **Componente aleatoria** (Residual - Remainder): son shocks que no presentan un efecto duradero. Se los define también como ruido o movimientos random.\n",
    "\n",
    "- **Ciclos** (Cycle): otro tipo de dinámica no capturada por la tendencia o estacionalidad. \n",
    "\n",
    "<img src=\"https://raw.githubusercontent.com/Digital-House-DATA/ds_blend_2021_img/master/M6/CLASE_48_Series_de_Tiempo_1/Presentacion/img/M6_CLASE_48_002_componentes.jpg\" alt=\"componentes\" width=50% height=30% align=\"center\"/>"
   ]
  },
  {
   "cell_type": "markdown",
   "metadata": {
    "slideshow": {
     "slide_type": "subslide"
    }
   },
   "source": [
    "El módulo `statsmodels.api`, método `tsa.seasonal_decompose` genera gráficos con: *la serie de tiempo, la tendencia, la estacionalidad y el componente aleatorio*."
   ]
  },
  {
   "cell_type": "code",
   "execution_count": 2,
   "metadata": {
    "slideshow": {
     "slide_type": "skip"
    }
   },
   "outputs": [],
   "source": [
    "import pandas as pd\n",
    "import numpy as np\n",
    "\n",
    "import matplotlib.pyplot as plt\n",
    "#import matplotlib as mpl\n",
    "import seaborn as sns\n",
    "\n",
    "import statsmodels.api as sm\n",
    "import statsmodels.formula.api as smf\n",
    "import statsmodels.tsa.api as smt\n",
    "\n",
    "from scipy import stats\n",
    "from statistics import mode\n",
    "\n",
    "import warnings\n",
    "warnings.filterwarnings('ignore')"
   ]
  },
  {
   "cell_type": "code",
   "execution_count": 3,
   "metadata": {
    "slideshow": {
     "slide_type": "skip"
    }
   },
   "outputs": [],
   "source": [
    "df = pd.read_excel(\"../Data/Supertienda.xls\")\n",
    "mobiliario = df.loc[df['Categoria'] == 'Mobiliario']"
   ]
  },
  {
   "cell_type": "code",
   "execution_count": 4,
   "metadata": {
    "slideshow": {
     "slide_type": "skip"
    }
   },
   "outputs": [],
   "source": [
    "mobiliariogb = mobiliario.groupby('Fecha_pedido')['Ventas'].sum().reset_index()\n",
    "mobiliariogb = mobiliariogb.set_index('Fecha_pedido')\n",
    "y = mobiliariogb['Ventas'].resample('MS').mean()"
   ]
  },
  {
   "cell_type": "code",
   "execution_count": 5,
   "metadata": {
    "slideshow": {
     "slide_type": "fragment"
    }
   },
   "outputs": [
    {
     "data": {
      "text/plain": [
       "<Figure size 1152x720 with 0 Axes>"
      ]
     },
     "metadata": {},
     "output_type": "display_data"
    },
    {
     "data": {
      "image/png": "[encoded data removed]",
      "text/plain": [
       "<Figure size 432x288 with 4 Axes>"
      ]
     },
     "metadata": {
      "needs_background": "light"
     },
     "output_type": "display_data"
    }
   ],
   "source": [
    "import statsmodels.api as sm\n",
    "plt.figure(figsize=(16,10))\n",
    "decomposition = sm.tsa.seasonal_decompose(y, model='additive')\n",
    "decomposition.plot()\n",
    "plt.show()"
   ]
  },
  {
   "cell_type": "markdown",
   "metadata": {
    "slideshow": {
     "slide_type": "slide"
    }
   },
   "source": [
    "### Descomposición de una serie de tiempo\n",
    "\n",
    "---\n",
    "\n",
    "Podemos pensar en descomponer una serie de tiempo en sus componentes. Básicamente, existen dos formas:\n",
    "\n",
    "- **Descomposición aditiva**:$$ y_t = T_t + S_t + C_t + \\varepsilon_t. $$\n",
    "\n",
    "donde T es la tendencia, S es la estacionalidad, C es el ciclo y $ \\varepsilon $ es el error aleatorio.\n",
    "\n",
    "- **Descomposición multiplicativa**: $$ y_t = T_t * S_t * C_t * \\varepsilon_t. $$"
   ]
  },
  {
   "cell_type": "markdown",
   "metadata": {
    "slideshow": {
     "slide_type": "subslide"
    }
   },
   "source": [
    "- La descomposición aditiva es útil cuando la variación estacional se *mantiene relativamente constante* (lineal).\n",
    "\n",
    "  O dicho de otra forma, la altura de sus picos es constante. \n",
    "\n",
    "- La descomposición multiplicativa es útil cuando la *tendencia crece* y la *amplitud de la variación estacional aumenta* (exponencial).\n",
    "\n",
    "  O por el contrario, cuando la tendencia y la amplitud decrecen.\n",
    "\n",
    "<img src=\"https://raw.githubusercontent.com/Digital-House-DATA/ds_blend_2021_img/master/M6/CLASE_48_Series_de_Tiempo_1/Presentacion/img/M6_CLASE_48_003_descomposicion.png\" alt=\"descomposicion\" width=80% height=50% align=\"center\"/>\n"
   ]
  },
  {
   "cell_type": "markdown",
   "metadata": {
    "slideshow": {
     "slide_type": "slide"
    }
   },
   "source": [
    "<div class=\"div-dhds-fondo-1\"> Modelos básicos para pronósticos\n",
    "<img src=\"https://raw.githubusercontent.com/Digital-House-DATA/ds_blend_2021_img/master/M3/CLASE_21_Regresion_Lineal_Simple/Presentacion/img/M3_CLASE_21_separador.png\" align=\"center\" />\n",
    "\n",
    "</div>"
   ]
  },
  {
   "cell_type": "markdown",
   "metadata": {
    "slideshow": {
     "slide_type": "slide"
    }
   },
   "source": [
    "### Introducción\n",
    "\n",
    "---\n",
    "Estudiamos modelos aplicados a los componentes de las series para generar predicciones.\n",
    "\n",
    "Para cada modelo:\n",
    "\n",
    "- Lo *definimos*. \n",
    "\n",
    "- Lo *ajustamos* a los datos de train.\n",
    "\n",
    "- Lo *evaluamos* usado RMSE sobre los datos de test.\n",
    "\n",
    "- Lo *comparamos* con otros modelos."
   ]
  },
  {
   "cell_type": "markdown",
   "metadata": {
    "slideshow": {
     "slide_type": "fragment"
    }
   },
   "source": [
    "Recordemos que el **error cuadrático medio raíz (RMSE)** compara los valores predichos con los valores observados.\n",
    "\n",
    "$${RMSE} = \\sqrt{{\\frac {1}{n}} \\sum _{i=1}^{n}(y_{i}-\\hat{y_{i}})^2}$$"
   ]
  },
  {
   "cell_type": "code",
   "execution_count": 6,
   "metadata": {
    "slideshow": {
     "slide_type": "fragment"
    }
   },
   "outputs": [],
   "source": [
    "def RMSE(predicted, actual):\n",
    "    mse = (predicted - actual) ** 2\n",
    "    rmse = np.sqrt(mse.sum() / mse.count())\n",
    "    return rmse"
   ]
  },
  {
   "cell_type": "markdown",
   "metadata": {
    "slideshow": {
     "slide_type": "slide"
    }
   },
   "source": [
    "<div class=\"div-dhds-fondo-1\">  Dataset\n",
    "<img src=\"https://raw.githubusercontent.com/Digital-House-DATA/ds_blend_2021_img/master/M3/CLASE_21_Regresion_Lineal_Simple/Presentacion/img/M3_CLASE_21_separador.png\" align=\"center\" />\n",
    "\n",
    "</div>"
   ]
  },
  {
   "cell_type": "markdown",
   "metadata": {
    "slideshow": {
     "slide_type": "slide"
    }
   },
   "source": [
    "### Dataset\n",
    "\n",
    "---\n",
    "\n",
    "Vamos a usar datos de ventas de una empresa multinacional en varios paises, entre los años 2018 y 2021.\n",
    "\n",
    "Consideramos las ventas de la categoría Muebles."
   ]
  },
  {
   "cell_type": "code",
   "execution_count": 7,
   "metadata": {
    "slideshow": {
     "slide_type": "fragment"
    }
   },
   "outputs": [
    {
     "data": {
      "text/html": [
       "<div>\n",
       "<style scoped>\n",
       "    .dataframe tbody tr th:only-of-type {\n",
       "        vertical-align: middle;\n",
       "    }\n",
       "\n",
       "    .dataframe tbody tr th {\n",
       "        vertical-align: top;\n",
       "    }\n",
       "\n",
       "    .dataframe thead th {\n",
       "        text-align: right;\n",
       "    }\n",
       "</style>\n",
       "<table border=\"1\" class=\"dataframe\">\n",
       "  <thead>\n",
       "    <tr style=\"text-align: right;\">\n",
       "      <th></th>\n",
       "      <th>ID</th>\n",
       "      <th>ID_pedido</th>\n",
       "      <th>Fecha_pedido</th>\n",
       "      <th>Fecha_envio</th>\n",
       "      <th>Forma_envio</th>\n",
       "      <th>ID_cliente</th>\n",
       "      <th>Nombre_cliente</th>\n",
       "      <th>Segmento</th>\n",
       "      <th>Ciudad</th>\n",
       "      <th>Estado</th>\n",
       "      <th>Pais</th>\n",
       "      <th>Region</th>\n",
       "      <th>ID_producto</th>\n",
       "      <th>Categoria</th>\n",
       "      <th>Subcategoria</th>\n",
       "      <th>Nombre_producto</th>\n",
       "      <th>Ventas</th>\n",
       "      <th>Cantidad</th>\n",
       "      <th>Descuento</th>\n",
       "      <th>Ganancia</th>\n",
       "    </tr>\n",
       "  </thead>\n",
       "  <tbody>\n",
       "    <tr>\n",
       "      <th>1</th>\n",
       "      <td>5919</td>\n",
       "      <td>MX-2021-113922</td>\n",
       "      <td>2021-10-08</td>\n",
       "      <td>2021-10-11</td>\n",
       "      <td>Rápido</td>\n",
       "      <td>BS-12130</td>\n",
       "      <td>Benjamín Saavedra</td>\n",
       "      <td>Cliente</td>\n",
       "      <td>Rio Branco</td>\n",
       "      <td>Acre</td>\n",
       "      <td>Brasil</td>\n",
       "      <td>Sur</td>\n",
       "      <td>MOB-LI-10000647</td>\n",
       "      <td>Mobiliario</td>\n",
       "      <td>Librerías</td>\n",
       "      <td>Dania Conjunto de estantes, Metal</td>\n",
       "      <td>2250.8</td>\n",
       "      <td>2</td>\n",
       "      <td>0.0</td>\n",
       "      <td>922.8</td>\n",
       "    </tr>\n",
       "    <tr>\n",
       "      <th>3</th>\n",
       "      <td>9013</td>\n",
       "      <td>MX-2019-163888</td>\n",
       "      <td>2019-06-14</td>\n",
       "      <td>2019-06-18</td>\n",
       "      <td>Estándar</td>\n",
       "      <td>AT-10090</td>\n",
       "      <td>Alejandro Trejo</td>\n",
       "      <td>Cliente</td>\n",
       "      <td>Rio Branco</td>\n",
       "      <td>Acre</td>\n",
       "      <td>Brasil</td>\n",
       "      <td>Sur</td>\n",
       "      <td>MOB-MO-10002100</td>\n",
       "      <td>Mobiliario</td>\n",
       "      <td>Mobiliario</td>\n",
       "      <td>Tenex Bandeja apiladora, Negro</td>\n",
       "      <td>504.6</td>\n",
       "      <td>3</td>\n",
       "      <td>0.0</td>\n",
       "      <td>95.4</td>\n",
       "    </tr>\n",
       "  </tbody>\n",
       "</table>\n",
       "</div>"
      ],
      "text/plain": [
       "     ID       ID_pedido Fecha_pedido Fecha_envio Forma_envio ID_cliente  \\\n",
       "1  5919  MX-2021-113922   2021-10-08  2021-10-11      Rápido   BS-12130   \n",
       "3  9013  MX-2019-163888   2019-06-14  2019-06-18    Estándar   AT-10090   \n",
       "\n",
       "      Nombre_cliente Segmento      Ciudad Estado    Pais Region  \\\n",
       "1  Benjamín Saavedra  Cliente  Rio Branco   Acre  Brasil    Sur   \n",
       "3    Alejandro Trejo  Cliente  Rio Branco   Acre  Brasil    Sur   \n",
       "\n",
       "       ID_producto   Categoria Subcategoria  \\\n",
       "1  MOB-LI-10000647  Mobiliario    Librerías   \n",
       "3  MOB-MO-10002100  Mobiliario   Mobiliario   \n",
       "\n",
       "                     Nombre_producto  Ventas  Cantidad  Descuento  Ganancia  \n",
       "1  Dania Conjunto de estantes, Metal  2250.8         2        0.0     922.8  \n",
       "3     Tenex Bandeja apiladora, Negro   504.6         3        0.0      95.4  "
      ]
     },
     "execution_count": 7,
     "metadata": {},
     "output_type": "execute_result"
    }
   ],
   "source": [
    "df = pd.read_excel(\"../Data/Supertienda.xls\")\n",
    "mobiliario = df.loc[df['Categoria'] == 'Mobiliario']\n",
    "mobiliario.head(2)"
   ]
  },
  {
   "cell_type": "markdown",
   "metadata": {
    "slideshow": {
     "slide_type": "fragment"
    }
   },
   "source": [
    "Mensualizamos las ventas por fecha de pedido.\n",
    "\n",
    "Primero agrupamos las ventas por el atributo 'Fecha_pedido'. Y *creamos un índice sobre el atributo* para indicar la fecha que se usa en la serie de tiempo."
   ]
  },
  {
   "cell_type": "code",
   "execution_count": 8,
   "metadata": {
    "slideshow": {
     "slide_type": "fragment"
    }
   },
   "outputs": [],
   "source": [
    "mobiliariogb = mobiliario.groupby('Fecha_pedido')['Ventas'].sum().reset_index()\n",
    "mobiliariogb = mobiliariogb.set_index('Fecha_pedido')"
   ]
  },
  {
   "cell_type": "markdown",
   "metadata": {
    "slideshow": {
     "slide_type": "subslide"
    }
   },
   "source": [
    "La función `resample` de Pandas, permite hacer *downsampling*, llevar la serie a un espacio de tiempo más amplio. \n",
    "\n",
    "En nuestro caso, pasamos de días a meses; `MS` indica \"a comienzo de mes\".\n",
    "\n",
    "Y con la función `mean()` agrupamos todas las ventas del mes y le calculamos el promedio."
   ]
  },
  {
   "cell_type": "code",
   "execution_count": 9,
   "metadata": {
    "slideshow": {
     "slide_type": "fragment"
    }
   },
   "outputs": [
    {
     "data": {
      "text/html": [
       "<div>\n",
       "<style scoped>\n",
       "    .dataframe tbody tr th:only-of-type {\n",
       "        vertical-align: middle;\n",
       "    }\n",
       "\n",
       "    .dataframe tbody tr th {\n",
       "        vertical-align: top;\n",
       "    }\n",
       "\n",
       "    .dataframe thead th {\n",
       "        text-align: right;\n",
       "    }\n",
       "</style>\n",
       "<table border=\"1\" class=\"dataframe\">\n",
       "  <thead>\n",
       "    <tr style=\"text-align: right;\">\n",
       "      <th></th>\n",
       "      <th>Ventas</th>\n",
       "    </tr>\n",
       "    <tr>\n",
       "      <th>Fecha_pedido</th>\n",
       "      <th></th>\n",
       "    </tr>\n",
       "  </thead>\n",
       "  <tbody>\n",
       "    <tr>\n",
       "      <th>2018-01-01</th>\n",
       "      <td>9379.808</td>\n",
       "    </tr>\n",
       "    <tr>\n",
       "      <th>2018-02-01</th>\n",
       "      <td>4405.700</td>\n",
       "    </tr>\n",
       "  </tbody>\n",
       "</table>\n",
       "</div>"
      ],
      "text/plain": [
       "                Ventas\n",
       "Fecha_pedido          \n",
       "2018-01-01    9379.808\n",
       "2018-02-01    4405.700"
      ]
     },
     "execution_count": 9,
     "metadata": {},
     "output_type": "execute_result"
    }
   ],
   "source": [
    "df_ventas = mobiliariogb['Ventas'].resample('MS').mean().to_frame(); df_ventas.head(2)"
   ]
  },
  {
   "cell_type": "code",
   "execution_count": 10,
   "metadata": {
    "slideshow": {
     "slide_type": "fragment"
    }
   },
   "outputs": [
    {
     "data": {
      "text/plain": [
       "<Figure size 288x216 with 0 Axes>"
      ]
     },
     "metadata": {},
     "output_type": "display_data"
    },
    {
     "data": {
      "image/png": "[encoded data removed]",
      "text/plain": [
       "<Figure size 432x288 with 1 Axes>"
      ]
     },
     "metadata": {
      "needs_background": "light"
     },
     "output_type": "display_data"
    }
   ],
   "source": [
    "plt.figure(figsize=(4,3)); df_ventas.plot(); plt.show()"
   ]
  },
  {
   "cell_type": "markdown",
   "metadata": {
    "slideshow": {
     "slide_type": "slide"
    }
   },
   "source": [
    "### Dataset\n",
    "\n",
    "---\n",
    "Dividimos el dataset en train y test. Al ser una serie de tiempo, tenemos que poner *`shuffle=False`* (que no mezcle las observaciones), creando una continuidad entre los sets de entrenamiento y de testeo."
   ]
  },
  {
   "cell_type": "code",
   "execution_count": 11,
   "metadata": {
    "slideshow": {
     "slide_type": "fragment"
    }
   },
   "outputs": [],
   "source": [
    "from sklearn.model_selection import train_test_split\n",
    "\n",
    "df_train, df_test = train_test_split(df_ventas, test_size=12, random_state=42, shuffle=False)"
   ]
  },
  {
   "cell_type": "markdown",
   "metadata": {
    "slideshow": {
     "slide_type": "fragment"
    }
   },
   "source": [
    "Para train considera los primeros tres años, y para test el último, 2021."
   ]
  },
  {
   "cell_type": "code",
   "execution_count": 12,
   "metadata": {
    "slideshow": {
     "slide_type": "fragment"
    }
   },
   "outputs": [
    {
     "data": {
      "text/html": [
       "<div>\n",
       "<style scoped>\n",
       "    .dataframe tbody tr th:only-of-type {\n",
       "        vertical-align: middle;\n",
       "    }\n",
       "\n",
       "    .dataframe tbody tr th {\n",
       "        vertical-align: top;\n",
       "    }\n",
       "\n",
       "    .dataframe thead th {\n",
       "        text-align: right;\n",
       "    }\n",
       "</style>\n",
       "<table border=\"1\" class=\"dataframe\">\n",
       "  <thead>\n",
       "    <tr style=\"text-align: right;\">\n",
       "      <th></th>\n",
       "      <th>Ventas</th>\n",
       "    </tr>\n",
       "    <tr>\n",
       "      <th>Fecha_pedido</th>\n",
       "      <th></th>\n",
       "    </tr>\n",
       "  </thead>\n",
       "  <tbody>\n",
       "    <tr>\n",
       "      <th>2020-11-01</th>\n",
       "      <td>8424.513846</td>\n",
       "    </tr>\n",
       "    <tr>\n",
       "      <th>2020-12-01</th>\n",
       "      <td>12952.494615</td>\n",
       "    </tr>\n",
       "  </tbody>\n",
       "</table>\n",
       "</div>"
      ],
      "text/plain": [
       "                    Ventas\n",
       "Fecha_pedido              \n",
       "2020-11-01     8424.513846\n",
       "2020-12-01    12952.494615"
      ]
     },
     "execution_count": 12,
     "metadata": {},
     "output_type": "execute_result"
    }
   ],
   "source": [
    "# Vemos los últimos datos del set de entrenamiento:\n",
    "df_train.tail(2)"
   ]
  },
  {
   "cell_type": "code",
   "execution_count": 13,
   "metadata": {
    "slideshow": {
     "slide_type": "fragment"
    }
   },
   "outputs": [
    {
     "data": {
      "text/html": [
       "<div>\n",
       "<style scoped>\n",
       "    .dataframe tbody tr th:only-of-type {\n",
       "        vertical-align: middle;\n",
       "    }\n",
       "\n",
       "    .dataframe tbody tr th {\n",
       "        vertical-align: top;\n",
       "    }\n",
       "\n",
       "    .dataframe thead th {\n",
       "        text-align: right;\n",
       "    }\n",
       "</style>\n",
       "<table border=\"1\" class=\"dataframe\">\n",
       "  <thead>\n",
       "    <tr style=\"text-align: right;\">\n",
       "      <th></th>\n",
       "      <th>Ventas</th>\n",
       "    </tr>\n",
       "    <tr>\n",
       "      <th>Fecha_pedido</th>\n",
       "      <th></th>\n",
       "    </tr>\n",
       "  </thead>\n",
       "  <tbody>\n",
       "    <tr>\n",
       "      <th>2021-01-01</th>\n",
       "      <td>5798.076667</td>\n",
       "    </tr>\n",
       "    <tr>\n",
       "      <th>2021-02-01</th>\n",
       "      <td>6435.745455</td>\n",
       "    </tr>\n",
       "  </tbody>\n",
       "</table>\n",
       "</div>"
      ],
      "text/plain": [
       "                   Ventas\n",
       "Fecha_pedido             \n",
       "2021-01-01    5798.076667\n",
       "2021-02-01    6435.745455"
      ]
     },
     "execution_count": 13,
     "metadata": {},
     "output_type": "execute_result"
    }
   ],
   "source": [
    "# Vemos los primeros datos del set de testeo:\n",
    "df_test.head(2)"
   ]
  },
  {
   "cell_type": "markdown",
   "metadata": {
    "slideshow": {
     "slide_type": "slide"
    }
   },
   "source": [
    "<div class=\"div-dhds-fondo-1\">  Random Walk\n",
    "<img src=\"https://raw.githubusercontent.com/Digital-House-DATA/ds_blend_2021_img/master/M3/CLASE_21_Regresion_Lineal_Simple/Presentacion/img/M3_CLASE_21_separador.png\" align=\"center\" />\n",
    "\n",
    "</div>"
   ]
  },
  {
   "cell_type": "markdown",
   "metadata": {
    "slideshow": {
     "slide_type": "slide"
    }
   },
   "source": [
    "### Definición\n",
    "\n",
    "---\n",
    "\n",
    "Decimos que un proceso $ {Y_t} $ es **random walk** (sigue una trayectoria al azar) si:\n",
    "\n",
    "$$ \\ {Y_t} = Y_ {t-1} + \\varepsilon,  $$\n",
    "   donde $\\varepsilon$ es **ruido blanco** (White Noise). \n",
    "\n",
    "El *ruido blanco* es la parte de la serie que no se puede predecir a partir de la evidencia.\n",
    "\n",
    "Si el modelo de *random walk* sigue a la tendencia, la representamos con una constante $d$, llamada **drift** (deriva). \n",
    "\n",
    "Se genera un modelo **random walk with drift** (con deriva):\n",
    "\n",
    "$$ \\ {Y_t} = Y_ {t-1} + d + \\varepsilon $$\n"
   ]
  },
  {
   "cell_type": "markdown",
   "metadata": {
    "slideshow": {
     "slide_type": "subslide"
    }
   },
   "source": [
    "- La serie de White Noise $ \\varepsilon_t $ cumple con:\n",
    "\n",
    "   - Media (μ) = 0 y la varianza constante. Se puede escribir como $ WN(0,σ²)$ .\n",
    "   \n",
    "   - Es completamente random. Por eso se lo llama ruido.\n",
    "   \n",
    "   - Son observaciones independientes identicamente distribuidas (i.i.d.).\n",
    "   \n",
    "   - Tienen cero correlación entre ellas.\n",
    "   \n",
    "Si las observaciones siguen una distribución normal, se lo llama Gaussian White Noise Gaussiano. "
   ]
  },
  {
   "cell_type": "markdown",
   "metadata": {
    "slideshow": {
     "slide_type": "slide"
    }
   },
   "source": [
    "### Predicción\n",
    "\n",
    "---\n",
    "\n",
    "El caso más simple es suponer que el valor de la serie Yₜ se predice como el valor previo Yₜ₋₁, es decir, que tendremos valor de cambio cero.\n",
    "\n",
    "Se llama *pronóstico ingenuo* (naive).\n",
    "\n",
    "Un ejemplo de la vida real puede ser la estimación de los valores de las acciones."
   ]
  },
  {
   "cell_type": "markdown",
   "metadata": {
    "slideshow": {
     "slide_type": "subslide"
    }
   },
   "source": [
    "Vamos a realizar este modelo.\n",
    "\n",
    "Generamos el desplazamiento de nuestro target en el set de entrenamiento (lag=1):"
   ]
  },
  {
   "cell_type": "code",
   "execution_count": 14,
   "metadata": {
    "slideshow": {
     "slide_type": "fragment"
    }
   },
   "outputs": [
    {
     "data": {
      "text/html": [
       "<div>\n",
       "<style scoped>\n",
       "    .dataframe tbody tr th:only-of-type {\n",
       "        vertical-align: middle;\n",
       "    }\n",
       "\n",
       "    .dataframe tbody tr th {\n",
       "        vertical-align: top;\n",
       "    }\n",
       "\n",
       "    .dataframe thead th {\n",
       "        text-align: right;\n",
       "    }\n",
       "</style>\n",
       "<table border=\"1\" class=\"dataframe\">\n",
       "  <thead>\n",
       "    <tr style=\"text-align: right;\">\n",
       "      <th></th>\n",
       "      <th>Ventas</th>\n",
       "      <th>VentasShift1</th>\n",
       "    </tr>\n",
       "    <tr>\n",
       "      <th>Fecha_pedido</th>\n",
       "      <th></th>\n",
       "      <th></th>\n",
       "    </tr>\n",
       "  </thead>\n",
       "  <tbody>\n",
       "    <tr>\n",
       "      <th>2018-01-01</th>\n",
       "      <td>9379.808</td>\n",
       "      <td>9379.808</td>\n",
       "    </tr>\n",
       "    <tr>\n",
       "      <th>2018-02-01</th>\n",
       "      <td>4405.700</td>\n",
       "      <td>9379.808</td>\n",
       "    </tr>\n",
       "    <tr>\n",
       "      <th>2018-03-01</th>\n",
       "      <td>6068.580</td>\n",
       "      <td>4405.700</td>\n",
       "    </tr>\n",
       "  </tbody>\n",
       "</table>\n",
       "</div>"
      ],
      "text/plain": [
       "                Ventas  VentasShift1\n",
       "Fecha_pedido                        \n",
       "2018-01-01    9379.808      9379.808\n",
       "2018-02-01    4405.700      9379.808\n",
       "2018-03-01    6068.580      4405.700"
      ]
     },
     "execution_count": 14,
     "metadata": {},
     "output_type": "execute_result"
    }
   ],
   "source": [
    "df_train[\"VentasShift1\"] = df_train.Ventas.shift()\n",
    "\n",
    "# La primera observación nos va a quedar en nan, la reemplazamos por el valor siguente:\n",
    "df_train[\"VentasShift1\"].fillna(method='bfill', inplace=True)\n",
    "df_train.head(3)"
   ]
  },
  {
   "cell_type": "markdown",
   "metadata": {
    "slideshow": {
     "slide_type": "fragment"
    }
   },
   "source": [
    "Generamos el desplazamiento en el set de test (lag=1):"
   ]
  },
  {
   "cell_type": "code",
   "execution_count": 15,
   "metadata": {
    "slideshow": {
     "slide_type": "fragment"
    }
   },
   "outputs": [
    {
     "data": {
      "text/html": [
       "<div>\n",
       "<style scoped>\n",
       "    .dataframe tbody tr th:only-of-type {\n",
       "        vertical-align: middle;\n",
       "    }\n",
       "\n",
       "    .dataframe tbody tr th {\n",
       "        vertical-align: top;\n",
       "    }\n",
       "\n",
       "    .dataframe thead th {\n",
       "        text-align: right;\n",
       "    }\n",
       "</style>\n",
       "<table border=\"1\" class=\"dataframe\">\n",
       "  <thead>\n",
       "    <tr style=\"text-align: right;\">\n",
       "      <th></th>\n",
       "      <th>Ventas</th>\n",
       "      <th>VentasShift1</th>\n",
       "    </tr>\n",
       "    <tr>\n",
       "      <th>Fecha_pedido</th>\n",
       "      <th></th>\n",
       "      <th></th>\n",
       "    </tr>\n",
       "  </thead>\n",
       "  <tbody>\n",
       "    <tr>\n",
       "      <th>2021-01-01</th>\n",
       "      <td>5798.076667</td>\n",
       "      <td>5798.076667</td>\n",
       "    </tr>\n",
       "    <tr>\n",
       "      <th>2021-02-01</th>\n",
       "      <td>6435.745455</td>\n",
       "      <td>5798.076667</td>\n",
       "    </tr>\n",
       "    <tr>\n",
       "      <th>2021-03-01</th>\n",
       "      <td>9293.771000</td>\n",
       "      <td>6435.745455</td>\n",
       "    </tr>\n",
       "  </tbody>\n",
       "</table>\n",
       "</div>"
      ],
      "text/plain": [
       "                   Ventas  VentasShift1\n",
       "Fecha_pedido                           \n",
       "2021-01-01    5798.076667   5798.076667\n",
       "2021-02-01    6435.745455   5798.076667\n",
       "2021-03-01    9293.771000   6435.745455"
      ]
     },
     "execution_count": 15,
     "metadata": {},
     "output_type": "execute_result"
    }
   ],
   "source": [
    "df_test[\"VentasShift1\"] = df_test.Ventas.shift()\n",
    "\n",
    "df_test[\"VentasShift1\"].fillna(method='bfill', inplace=True)\n",
    "df_test.head(3)"
   ]
  },
  {
   "cell_type": "markdown",
   "metadata": {
    "slideshow": {
     "slide_type": "subslide"
    }
   },
   "source": [
    "Definimos como *random walk* al desplazamiento en un valor (shift=1)."
   ]
  },
  {
   "cell_type": "code",
   "execution_count": 16,
   "metadata": {
    "slideshow": {
     "slide_type": "fragment"
    }
   },
   "outputs": [
    {
     "data": {
      "image/png": "[encoded data removed]",
      "text/plain": [
       "<Figure size 432x288 with 1 Axes>"
      ]
     },
     "metadata": {
      "needs_background": "light"
     },
     "output_type": "display_data"
    }
   ],
   "source": [
    "df_train[\"RandomWalk\"] = df_train.VentasShift1\n",
    "df_train.plot(kind=\"line\", y = [\"Ventas\", \"RandomWalk\"]);"
   ]
  },
  {
   "cell_type": "markdown",
   "metadata": {
    "slideshow": {
     "slide_type": "subslide"
    }
   },
   "source": [
    "La predicción sobre test es simplemente la última observación registrada en train. "
   ]
  },
  {
   "cell_type": "code",
   "execution_count": 17,
   "metadata": {
    "slideshow": {
     "slide_type": "fragment"
    }
   },
   "outputs": [],
   "source": [
    "df_test[\"RandomWalk\"] = pd.Series(df_train[\"Ventas\"][-1], index=df_test.index)"
   ]
  },
  {
   "cell_type": "code",
   "execution_count": 18,
   "metadata": {
    "slideshow": {
     "slide_type": "fragment"
    }
   },
   "outputs": [
    {
     "data": {
      "image/png": "[encoded data removed]",
      "text/plain": [
       "<Figure size 432x288 with 1 Axes>"
      ]
     },
     "metadata": {
      "needs_background": "light"
     },
     "output_type": "display_data"
    }
   ],
   "source": [
    "# POR FAVOR COMPLETÁ CON TU CÓDIGO:\n",
    "df_test.plot(kind=\"line\", y = [\"Ventas\", \"RandomWalk\"]);"
   ]
  },
  {
   "cell_type": "code",
   "execution_count": 19,
   "metadata": {
    "slideshow": {
     "slide_type": "fragment"
    }
   },
   "outputs": [
    {
     "data": {
      "text/html": [
       "<div>\n",
       "<style scoped>\n",
       "    .dataframe tbody tr th:only-of-type {\n",
       "        vertical-align: middle;\n",
       "    }\n",
       "\n",
       "    .dataframe tbody tr th {\n",
       "        vertical-align: top;\n",
       "    }\n",
       "\n",
       "    .dataframe thead th {\n",
       "        text-align: right;\n",
       "    }\n",
       "</style>\n",
       "<table border=\"1\" class=\"dataframe\">\n",
       "  <thead>\n",
       "    <tr style=\"text-align: right;\">\n",
       "      <th></th>\n",
       "      <th>Model</th>\n",
       "      <th>RMSE</th>\n",
       "    </tr>\n",
       "  </thead>\n",
       "  <tbody>\n",
       "    <tr>\n",
       "      <th>0</th>\n",
       "      <td>Random Walk</td>\n",
       "      <td>4534.835179</td>\n",
       "    </tr>\n",
       "  </tbody>\n",
       "</table>\n",
       "</div>"
      ],
      "text/plain": [
       "         Model         RMSE\n",
       "0  Random Walk  4534.835179"
      ]
     },
     "execution_count": 19,
     "metadata": {},
     "output_type": "execute_result"
    }
   ],
   "source": [
    "# Calculamos el RMSE y almacenamos los resultados\n",
    "df_Results = pd.DataFrame(columns = [\"Model\", \"RMSE\"])\n",
    "df_Results.loc[0, \"Model\"] = \"Random Walk\"\n",
    "df_Results.loc[0, \"RMSE\"] = RMSE(df_test.RandomWalk, df_test.Ventas)\n",
    "df_Results"
   ]
  },
  {
   "cell_type": "markdown",
   "metadata": {
    "slideshow": {
     "slide_type": "slide"
    }
   },
   "source": [
    "<div class=\"div-dhds-fondo-1\">  Media Constante\n",
    "<img src=\"https://raw.githubusercontent.com/Digital-House-DATA/ds_blend_2021_img/master/M3/CLASE_21_Regresion_Lineal_Simple/Presentacion/img/M3_CLASE_21_separador.png\" align=\"center\" />\n",
    "\n",
    "</div>"
   ]
  },
  {
   "cell_type": "markdown",
   "metadata": {
    "slideshow": {
     "slide_type": "slide"
    }
   },
   "source": [
    "### Definición\n",
    "\n",
    "---\n",
    "\n",
    "La **media constante** es el modelo más básico e ingenuo de todos. \n",
    "\n",
    "Consiste simplemente en tomar *la media del dataset de train* y usarlo para predecir. "
   ]
  },
  {
   "cell_type": "code",
   "execution_count": 20,
   "metadata": {
    "slideshow": {
     "slide_type": "fragment"
    }
   },
   "outputs": [
    {
     "data": {
      "text/plain": [
       "7780.3312246743835"
      ]
     },
     "execution_count": 20,
     "metadata": {},
     "output_type": "execute_result"
    }
   ],
   "source": [
    "model_mean_pred = df_train['Ventas'].mean()\n",
    "model_mean_pred"
   ]
  },
  {
   "cell_type": "markdown",
   "metadata": {
    "slideshow": {
     "slide_type": "fragment"
    }
   },
   "source": [
    "La media se aplica tanto a train como a test. "
   ]
  },
  {
   "cell_type": "code",
   "execution_count": 21,
   "metadata": {
    "slideshow": {
     "slide_type": "fragment"
    }
   },
   "outputs": [],
   "source": [
    "df_train_mc = df_train.copy()\n",
    "df_train_mc['Mean'] = model_mean_pred\n",
    "\n",
    "df_test_mc = df_test.copy()\n",
    "df_test_mc['Mean'] = model_mean_pred"
   ]
  },
  {
   "cell_type": "markdown",
   "metadata": {
    "slideshow": {
     "slide_type": "subslide"
    }
   },
   "source": [
    "Visualmente ya se observa que el método no predice correctamente. "
   ]
  },
  {
   "cell_type": "code",
   "execution_count": 22,
   "metadata": {},
   "outputs": [
    {
     "data": {
      "image/png": "[encoded data removed]",
      "text/plain": [
       "<Figure size 864x432 with 2 Axes>"
      ]
     },
     "metadata": {
      "needs_background": "light"
     },
     "output_type": "display_data"
    }
   ],
   "source": [
    "fig, axes = plt.subplots(1, 2,figsize=(12,6))\n",
    "df_train_mc.plot(ax=axes[0], y = [\"Ventas\",\"Mean\"],title='Train')\n",
    "df_test_mc.plot(ax=axes[1],y = [\"Ventas\",\"Mean\"], title='Test')\n",
    "plt.show()"
   ]
  },
  {
   "cell_type": "markdown",
   "metadata": {
    "slideshow": {
     "slide_type": "subslide"
    }
   },
   "source": [
    "Calculamos la performance con RMSE y la guardamos para comparar con otros modelos."
   ]
  },
  {
   "cell_type": "code",
   "execution_count": 23,
   "metadata": {
    "slideshow": {
     "slide_type": "fragment"
    }
   },
   "outputs": [],
   "source": [
    "model_RMSE = RMSE(df_test_mc.Mean, df_test_mc.Ventas)"
   ]
  },
  {
   "cell_type": "code",
   "execution_count": 24,
   "metadata": {
    "slideshow": {
     "slide_type": "fragment"
    }
   },
   "outputs": [
    {
     "data": {
      "text/html": [
       "<div>\n",
       "<style scoped>\n",
       "    .dataframe tbody tr th:only-of-type {\n",
       "        vertical-align: middle;\n",
       "    }\n",
       "\n",
       "    .dataframe tbody tr th {\n",
       "        vertical-align: top;\n",
       "    }\n",
       "\n",
       "    .dataframe thead th {\n",
       "        text-align: right;\n",
       "    }\n",
       "</style>\n",
       "<table border=\"1\" class=\"dataframe\">\n",
       "  <thead>\n",
       "    <tr style=\"text-align: right;\">\n",
       "      <th></th>\n",
       "      <th>Model</th>\n",
       "      <th>RMSE</th>\n",
       "    </tr>\n",
       "  </thead>\n",
       "  <tbody>\n",
       "    <tr>\n",
       "      <th>0</th>\n",
       "      <td>Random Walk</td>\n",
       "      <td>4534.835179</td>\n",
       "    </tr>\n",
       "    <tr>\n",
       "      <th>1</th>\n",
       "      <td>Mean</td>\n",
       "      <td>4236.112012</td>\n",
       "    </tr>\n",
       "  </tbody>\n",
       "</table>\n",
       "</div>"
      ],
      "text/plain": [
       "         Model         RMSE\n",
       "0  Random Walk  4534.835179\n",
       "1         Mean  4236.112012"
      ]
     },
     "execution_count": 24,
     "metadata": {},
     "output_type": "execute_result"
    }
   ],
   "source": [
    "df_Results.loc[1, \"Model\"] = \"Mean\"\n",
    "df_Results.loc[1, \"RMSE\"] = model_RMSE\n",
    "df_Results.head()"
   ]
  },
  {
   "cell_type": "markdown",
   "metadata": {
    "slideshow": {
     "slide_type": "slide"
    }
   },
   "source": [
    "<div class=\"div-dhds-fondo-1\">  Tendencia Lineal\n",
    "<img src=\"https://raw.githubusercontent.com/Digital-House-DATA/ds_blend_2021_img/master/M3/CLASE_21_Regresion_Lineal_Simple/Presentacion/img/M3_CLASE_21_separador.png\" align=\"center\" />\n",
    "\n",
    "</div>"
   ]
  },
  {
   "cell_type": "markdown",
   "metadata": {
    "slideshow": {
     "slide_type": "slide"
    }
   },
   "source": [
    "### Definición\n",
    "\n",
    "---\n",
    "\n",
    "Recordemos que el componente de la serie **tendencia** corresponde a la **evolución de largo plazo**. \n",
    "\n",
    "Podemos modelar la tendencia de diferentes maneras, de acuerdo a su dinámica. \n",
    "\n",
    "- La **tendencia lineal** representa una recta para predecir.\n",
    "\n",
    "  $$ T_t = \\beta_0 + \\beta_1 TIME_t + \\varepsilon_t. $$\n",
    "\n",
    "Donde *TIME*, llamada “dummy de tiempo”, es una secuencia que representa al tiempo."
   ]
  },
  {
   "cell_type": "code",
   "execution_count": 25,
   "metadata": {
    "slideshow": {
     "slide_type": "fragment"
    }
   },
   "outputs": [
    {
     "data": {
      "text/plain": [
       "Fecha_pedido\n",
       "2018-01-01    0\n",
       "2018-02-01    1\n",
       "2018-03-01    2\n",
       "Freq: MS, Name: timeIndex, dtype: int32"
      ]
     },
     "execution_count": 25,
     "metadata": {},
     "output_type": "execute_result"
    }
   ],
   "source": [
    "df_ventas[\"timeIndex\"] = pd.Series(np.arange(len(df_ventas['Ventas'])), index=df_ventas.index)\n",
    "df_ventas.timeIndex.head(3)"
   ]
  },
  {
   "cell_type": "markdown",
   "metadata": {
    "slideshow": {
     "slide_type": "fragment"
    }
   },
   "source": [
    "Volvemos a hacer los datasets de train y test con la nueva variable."
   ]
  },
  {
   "cell_type": "code",
   "execution_count": 26,
   "metadata": {
    "slideshow": {
     "slide_type": "fragment"
    }
   },
   "outputs": [],
   "source": [
    "from sklearn.model_selection import train_test_split\n",
    "df_train, df_test = train_test_split(df_ventas, test_size=12, random_state=42, shuffle=False)"
   ]
  },
  {
   "cell_type": "markdown",
   "metadata": {
    "slideshow": {
     "slide_type": "slide"
    }
   },
   "source": [
    "### Predicción\n",
    "\n",
    "---\n",
    "Para generar la recta, usamos un modelo de *regresión lineal* entre \"Ventas\" y \"timeIndex\". \n",
    "\n",
    "El módulo `statmodels` nos permite ajustar modelos con su API, usando fórmulas estilo R.\n",
    "\n",
    "La sentencia:\n",
    "   `smf.ols(formula='Ventas ~ timeIndex', data = df_train).fit()`\n",
    "\n",
    "Nos indica que haremos regresión lineal (`ols`), con dos variables (`formula`).\n",
    "    \n",
    "Para mas detalles,  [ver aquí](http://www.statsmodels.org/dev/examples/notebooks/generated/formulas.html)."
   ]
  },
  {
   "cell_type": "code",
   "execution_count": 27,
   "metadata": {
    "slideshow": {
     "slide_type": "fragment"
    }
   },
   "outputs": [
    {
     "data": {
      "text/plain": [
       "<bound method Model.from_formula of <class 'statsmodels.regression.linear_model.OLS'>>"
      ]
     },
     "execution_count": 27,
     "metadata": {},
     "output_type": "execute_result"
    }
   ],
   "source": [
    "import statsmodels.api as sm\n",
    "sm.OLS.from_formula"
   ]
  },
  {
   "cell_type": "code",
   "execution_count": 28,
   "metadata": {
    "slideshow": {
     "slide_type": "fragment"
    }
   },
   "outputs": [],
   "source": [
    "import statsmodels.formula.api as smf\n",
    "model_linear = smf.ols(formula='Ventas ~ timeIndex', data = df_train).fit()"
   ]
  },
  {
   "cell_type": "markdown",
   "metadata": {
    "slideshow": {
     "slide_type": "subslide"
    }
   },
   "source": [
    "Generamos las predicciones del modelo sobre *train y test*."
   ]
  },
  {
   "cell_type": "code",
   "execution_count": 29,
   "metadata": {
    "slideshow": {
     "slide_type": "fragment"
    }
   },
   "outputs": [],
   "source": [
    "df_train[\"LinearTrend\"] = model_linear.predict(df_train.timeIndex)\n",
    "df_test[\"LinearTrend\"] = model_linear.predict(df_test.timeIndex)"
   ]
  },
  {
   "cell_type": "markdown",
   "metadata": {
    "slideshow": {
     "slide_type": "fragment"
    }
   },
   "source": [
    "Visualmente observamos que la recta ajusta mejor que la media constante. "
   ]
  },
  {
   "cell_type": "code",
   "execution_count": 30,
   "metadata": {
    "slideshow": {
     "slide_type": "fragment"
    }
   },
   "outputs": [
    {
     "data": {
      "image/png": "[encoded data removed]",
      "text/plain": [
       "<Figure size 864x432 with 2 Axes>"
      ]
     },
     "metadata": {
      "needs_background": "light"
     },
     "output_type": "display_data"
    }
   ],
   "source": [
    "fig, axes = plt.subplots(1, 2,figsize=(12,6))\n",
    "df_train.plot(kind = \"line\", y = [\"Ventas\",\"LinearTrend\"],ax=axes[0],title='Train');\n",
    "df_test.plot(kind = \"line\", y = [\"Ventas\",\"LinearTrend\"],ax=axes[1],title='Test');\n",
    "plt.show()"
   ]
  },
  {
   "cell_type": "markdown",
   "metadata": {
    "slideshow": {
     "slide_type": "subslide"
    }
   },
   "source": [
    "Calculamos la performance con RMSE. Y confirmamos analíticamente que es mejor que Mean."
   ]
  },
  {
   "cell_type": "code",
   "execution_count": 31,
   "metadata": {
    "slideshow": {
     "slide_type": "fragment"
    }
   },
   "outputs": [],
   "source": [
    "model_RMSE = RMSE(df_test.LinearTrend, df_test.Ventas)"
   ]
  },
  {
   "cell_type": "code",
   "execution_count": 32,
   "metadata": {
    "slideshow": {
     "slide_type": "fragment"
    }
   },
   "outputs": [
    {
     "data": {
      "text/html": [
       "<div>\n",
       "<style scoped>\n",
       "    .dataframe tbody tr th:only-of-type {\n",
       "        vertical-align: middle;\n",
       "    }\n",
       "\n",
       "    .dataframe tbody tr th {\n",
       "        vertical-align: top;\n",
       "    }\n",
       "\n",
       "    .dataframe thead th {\n",
       "        text-align: right;\n",
       "    }\n",
       "</style>\n",
       "<table border=\"1\" class=\"dataframe\">\n",
       "  <thead>\n",
       "    <tr style=\"text-align: right;\">\n",
       "      <th></th>\n",
       "      <th>Model</th>\n",
       "      <th>RMSE</th>\n",
       "    </tr>\n",
       "  </thead>\n",
       "  <tbody>\n",
       "    <tr>\n",
       "      <th>0</th>\n",
       "      <td>Random Walk</td>\n",
       "      <td>4534.835179</td>\n",
       "    </tr>\n",
       "    <tr>\n",
       "      <th>1</th>\n",
       "      <td>Mean</td>\n",
       "      <td>4236.112012</td>\n",
       "    </tr>\n",
       "    <tr>\n",
       "      <th>2</th>\n",
       "      <td>LinearTrend</td>\n",
       "      <td>3238.586751</td>\n",
       "    </tr>\n",
       "  </tbody>\n",
       "</table>\n",
       "</div>"
      ],
      "text/plain": [
       "         Model         RMSE\n",
       "0  Random Walk  4534.835179\n",
       "1         Mean  4236.112012\n",
       "2  LinearTrend  3238.586751"
      ]
     },
     "execution_count": 32,
     "metadata": {},
     "output_type": "execute_result"
    }
   ],
   "source": [
    "df_Results.loc[2, \"Model\"] = \"LinearTrend\"\n",
    "df_Results.loc[2, \"RMSE\"] = model_RMSE\n",
    "df_Results.head()"
   ]
  },
  {
   "cell_type": "markdown",
   "metadata": {
    "slideshow": {
     "slide_type": "subslide"
    }
   },
   "source": [
    "`statmodels` nos permite ver los resultados de la regresión lineal."
   ]
  },
  {
   "cell_type": "code",
   "execution_count": 33,
   "metadata": {
    "slideshow": {
     "slide_type": "fragment"
    }
   },
   "outputs": [
    {
     "data": {
      "text/html": [
       "<table class=\"simpletable\">\n",
       "<caption>OLS Regression Results</caption>\n",
       "<tr>\n",
       "  <th>Dep. Variable:</th>         <td>Ventas</td>      <th>  R-squared:         </th> <td>   0.187</td>\n",
       "</tr>\n",
       "<tr>\n",
       "  <th>Model:</th>                   <td>OLS</td>       <th>  Adj. R-squared:    </th> <td>   0.163</td>\n",
       "</tr>\n",
       "<tr>\n",
       "  <th>Method:</th>             <td>Least Squares</td>  <th>  F-statistic:       </th> <td>   7.815</td>\n",
       "</tr>\n",
       "<tr>\n",
       "  <th>Date:</th>             <td>Thu, 02 Jun 2022</td> <th>  Prob (F-statistic):</th>  <td>0.00846</td>\n",
       "</tr>\n",
       "<tr>\n",
       "  <th>Time:</th>                 <td>17:23:07</td>     <th>  Log-Likelihood:    </th> <td> -329.45</td>\n",
       "</tr>\n",
       "<tr>\n",
       "  <th>No. Observations:</th>      <td>    36</td>      <th>  AIC:               </th> <td>   662.9</td>\n",
       "</tr>\n",
       "<tr>\n",
       "  <th>Df Residuals:</th>          <td>    34</td>      <th>  BIC:               </th> <td>   666.1</td>\n",
       "</tr>\n",
       "<tr>\n",
       "  <th>Df Model:</th>              <td>     1</td>      <th>                     </th>     <td> </td>   \n",
       "</tr>\n",
       "<tr>\n",
       "  <th>Covariance Type:</th>      <td>nonrobust</td>    <th>                     </th>     <td> </td>   \n",
       "</tr>\n",
       "</table>\n",
       "<table class=\"simpletable\">\n",
       "<tr>\n",
       "      <td></td>         <th>coef</th>     <th>std err</th>      <th>t</th>      <th>P>|t|</th>  <th>[0.025</th>    <th>0.975]</th>  \n",
       "</tr>\n",
       "<tr>\n",
       "  <th>Intercept</th> <td> 5938.0319</td> <td>  766.370</td> <td>    7.748</td> <td> 0.000</td> <td> 4380.581</td> <td> 7495.482</td>\n",
       "</tr>\n",
       "<tr>\n",
       "  <th>timeIndex</th> <td>  105.2742</td> <td>   37.657</td> <td>    2.796</td> <td> 0.008</td> <td>   28.745</td> <td>  181.803</td>\n",
       "</tr>\n",
       "</table>\n",
       "<table class=\"simpletable\">\n",
       "<tr>\n",
       "  <th>Omnibus:</th>       <td> 2.097</td> <th>  Durbin-Watson:     </th> <td>   1.717</td>\n",
       "</tr>\n",
       "<tr>\n",
       "  <th>Prob(Omnibus):</th> <td> 0.350</td> <th>  Jarque-Bera (JB):  </th> <td>   1.695</td>\n",
       "</tr>\n",
       "<tr>\n",
       "  <th>Skew:</th>          <td> 0.526</td> <th>  Prob(JB):          </th> <td>   0.429</td>\n",
       "</tr>\n",
       "<tr>\n",
       "  <th>Kurtosis:</th>      <td> 2.851</td> <th>  Cond. No.          </th> <td>    39.9</td>\n",
       "</tr>\n",
       "</table><br/><br/>Notes:<br/>[1] Standard Errors assume that the covariance matrix of the errors is correctly specified."
      ],
      "text/plain": [
       "<class 'statsmodels.iolib.summary.Summary'>\n",
       "\"\"\"\n",
       "                            OLS Regression Results                            \n",
       "==============================================================================\n",
       "Dep. Variable:                 Ventas   R-squared:                       0.187\n",
       "Model:                            OLS   Adj. R-squared:                  0.163\n",
       "Method:                 Least Squares   F-statistic:                     7.815\n",
       "Date:                Thu, 02 Jun 2022   Prob (F-statistic):            0.00846\n",
       "Time:                        17:23:07   Log-Likelihood:                -329.45\n",
       "No. Observations:                  36   AIC:                             662.9\n",
       "Df Residuals:                      34   BIC:                             666.1\n",
       "Df Model:                           1                                         \n",
       "Covariance Type:            nonrobust                                         \n",
       "==============================================================================\n",
       "                 coef    std err          t      P>|t|      [0.025      0.975]\n",
       "------------------------------------------------------------------------------\n",
       "Intercept   5938.0319    766.370      7.748      0.000    4380.581    7495.482\n",
       "timeIndex    105.2742     37.657      2.796      0.008      28.745     181.803\n",
       "==============================================================================\n",
       "Omnibus:                        2.097   Durbin-Watson:                   1.717\n",
       "Prob(Omnibus):                  0.350   Jarque-Bera (JB):                1.695\n",
       "Skew:                           0.526   Prob(JB):                        0.429\n",
       "Kurtosis:                       2.851   Cond. No.                         39.9\n",
       "==============================================================================\n",
       "\n",
       "Notes:\n",
       "[1] Standard Errors assume that the covariance matrix of the errors is correctly specified.\n",
       "\"\"\""
      ]
     },
     "execution_count": 33,
     "metadata": {},
     "output_type": "execute_result"
    }
   ],
   "source": [
    "model_linear.summary()"
   ]
  },
  {
   "cell_type": "markdown",
   "metadata": {
    "slideshow": {
     "slide_type": "slide"
    }
   },
   "source": [
    "<div class=\"div-dhds-fondo-1\"> Tendencia cuadrática\n",
    "<img src=\"https://raw.githubusercontent.com/Digital-House-DATA/ds_blend_2021_img/master/M5/CLASE_34_CART/Presentacion/img/M5_CLASE_34_separador.png\" align=\"center\" />\n",
    "\n",
    "</div>"
   ]
  },
  {
   "cell_type": "markdown",
   "metadata": {
    "slideshow": {
     "slide_type": "slide"
    }
   },
   "source": [
    "### Definición\n",
    "\n",
    "---\n",
    "Si la tendencia presenta una dinámica no lineal, podemos incluir un **término cuadrático** al modelo. \n",
    "\n",
    "Lo obtenemos simplemente elevando al cuadrado a la dummy de tiempo:\n",
    "\n",
    "$$ T_t = \\beta_0 + \\beta_1 TIME_t + \\beta_2 TIME^{2}_t +\\varepsilon_t. $$"
   ]
  },
  {
   "cell_type": "code",
   "execution_count": 34,
   "metadata": {
    "slideshow": {
     "slide_type": "fragment"
    }
   },
   "outputs": [
    {
     "data": {
      "text/plain": [
       "Fecha_pedido\n",
       "2018-01-01    0\n",
       "2018-02-01    1\n",
       "2018-03-01    4\n",
       "Freq: MS, Name: timeIndex_sq, dtype: int32"
      ]
     },
     "execution_count": 34,
     "metadata": {},
     "output_type": "execute_result"
    }
   ],
   "source": [
    "df_ventas[\"timeIndex_sq\"] = df_ventas[\"timeIndex\"]**2\n",
    "df_ventas.timeIndex_sq.head(3)"
   ]
  },
  {
   "cell_type": "markdown",
   "metadata": {
    "slideshow": {
     "slide_type": "fragment"
    }
   },
   "source": [
    "Volvemos a hacer los datasets de train y test con la nueva variable."
   ]
  },
  {
   "cell_type": "code",
   "execution_count": 35,
   "metadata": {
    "slideshow": {
     "slide_type": "fragment"
    }
   },
   "outputs": [],
   "source": [
    "from sklearn.model_selection import train_test_split\n",
    "df_train, df_test = train_test_split(df_ventas, test_size=12, random_state=42, shuffle=False)"
   ]
  },
  {
   "cell_type": "markdown",
   "metadata": {
    "slideshow": {
     "slide_type": "slide"
    }
   },
   "source": [
    "### Predicción\n",
    "\n",
    "---\n",
    "En este modelo, incorporamos el valor cuadrático a la fórmula."
   ]
  },
  {
   "cell_type": "code",
   "execution_count": 36,
   "metadata": {
    "slideshow": {
     "slide_type": "fragment"
    }
   },
   "outputs": [],
   "source": [
    "import statsmodels.formula.api as smf\n",
    "model_quadratic = smf.ols('Ventas ~ timeIndex + timeIndex_sq', data = df_train).fit()"
   ]
  },
  {
   "cell_type": "markdown",
   "metadata": {
    "slideshow": {
     "slide_type": "fragment"
    }
   },
   "source": [
    "Generamos las predicciones del modelo sobre *train y test*."
   ]
  },
  {
   "cell_type": "code",
   "execution_count": 37,
   "metadata": {
    "slideshow": {
     "slide_type": "fragment"
    }
   },
   "outputs": [],
   "source": [
    "df_train[\"QuadraticTrend\"] = model_quadratic.predict(df_train[[\"timeIndex\",\"timeIndex_sq\"]])\n",
    "df_test[\"QuadraticTrend\"] = model_quadratic.predict(df_test[[\"timeIndex\",\"timeIndex_sq\"]])"
   ]
  },
  {
   "cell_type": "markdown",
   "metadata": {
    "slideshow": {
     "slide_type": "subslide"
    }
   },
   "source": [
    "Observamos visualmente las predicciones."
   ]
  },
  {
   "cell_type": "code",
   "execution_count": 38,
   "metadata": {
    "slideshow": {
     "slide_type": "fragment"
    }
   },
   "outputs": [
    {
     "data": {
      "image/png": "[encoded data removed]",
      "text/plain": [
       "<Figure size 864x432 with 2 Axes>"
      ]
     },
     "metadata": {
      "needs_background": "light"
     },
     "output_type": "display_data"
    }
   ],
   "source": [
    "fig, axes = plt.subplots(1, 2,figsize=(12,6))\n",
    "df_train.plot(kind = \"line\", y = [\"Ventas\",\"QuadraticTrend\"],ax=axes[0],title='Train');\n",
    "df_test.plot(kind = \"line\", y = [\"Ventas\",\"QuadraticTrend\"],ax=axes[1],title='Test');\n",
    "plt.show()"
   ]
  },
  {
   "cell_type": "markdown",
   "metadata": {
    "slideshow": {
     "slide_type": "subslide"
    }
   },
   "source": [
    "Calculamos la performance con RMSE. En este dataset, sigue ajustando mejor la tendencia lineal."
   ]
  },
  {
   "cell_type": "code",
   "execution_count": 39,
   "metadata": {
    "slideshow": {
     "slide_type": "fragment"
    }
   },
   "outputs": [],
   "source": [
    "model_RMSE = RMSE(df_test.QuadraticTrend, df_test.Ventas)"
   ]
  },
  {
   "cell_type": "code",
   "execution_count": 40,
   "metadata": {
    "slideshow": {
     "slide_type": "fragment"
    }
   },
   "outputs": [
    {
     "data": {
      "text/html": [
       "<div>\n",
       "<style scoped>\n",
       "    .dataframe tbody tr th:only-of-type {\n",
       "        vertical-align: middle;\n",
       "    }\n",
       "\n",
       "    .dataframe tbody tr th {\n",
       "        vertical-align: top;\n",
       "    }\n",
       "\n",
       "    .dataframe thead th {\n",
       "        text-align: right;\n",
       "    }\n",
       "</style>\n",
       "<table border=\"1\" class=\"dataframe\">\n",
       "  <thead>\n",
       "    <tr style=\"text-align: right;\">\n",
       "      <th></th>\n",
       "      <th>Model</th>\n",
       "      <th>RMSE</th>\n",
       "    </tr>\n",
       "  </thead>\n",
       "  <tbody>\n",
       "    <tr>\n",
       "      <th>0</th>\n",
       "      <td>Random Walk</td>\n",
       "      <td>4534.835179</td>\n",
       "    </tr>\n",
       "    <tr>\n",
       "      <th>1</th>\n",
       "      <td>Mean</td>\n",
       "      <td>4236.112012</td>\n",
       "    </tr>\n",
       "    <tr>\n",
       "      <th>2</th>\n",
       "      <td>LinearTrend</td>\n",
       "      <td>3238.586751</td>\n",
       "    </tr>\n",
       "    <tr>\n",
       "      <th>3</th>\n",
       "      <td>QuadraticTrend</td>\n",
       "      <td>3344.490376</td>\n",
       "    </tr>\n",
       "  </tbody>\n",
       "</table>\n",
       "</div>"
      ],
      "text/plain": [
       "            Model         RMSE\n",
       "0     Random Walk  4534.835179\n",
       "1            Mean  4236.112012\n",
       "2     LinearTrend  3238.586751\n",
       "3  QuadraticTrend  3344.490376"
      ]
     },
     "execution_count": 40,
     "metadata": {},
     "output_type": "execute_result"
    }
   ],
   "source": [
    "df_Results.loc[3, \"Model\"] = \"QuadraticTrend\"\n",
    "df_Results.loc[3, \"RMSE\"] = model_RMSE\n",
    "df_Results.head()"
   ]
  },
  {
   "cell_type": "code",
   "execution_count": 41,
   "metadata": {
    "slideshow": {
     "slide_type": "subslide"
    }
   },
   "outputs": [
    {
     "data": {
      "text/html": [
       "<table class=\"simpletable\">\n",
       "<caption>OLS Regression Results</caption>\n",
       "<tr>\n",
       "  <th>Dep. Variable:</th>         <td>Ventas</td>      <th>  R-squared:         </th> <td>   0.205</td>\n",
       "</tr>\n",
       "<tr>\n",
       "  <th>Model:</th>                   <td>OLS</td>       <th>  Adj. R-squared:    </th> <td>   0.157</td>\n",
       "</tr>\n",
       "<tr>\n",
       "  <th>Method:</th>             <td>Least Squares</td>  <th>  F-statistic:       </th> <td>   4.248</td>\n",
       "</tr>\n",
       "<tr>\n",
       "  <th>Date:</th>             <td>Thu, 02 Jun 2022</td> <th>  Prob (F-statistic):</th>  <td>0.0228</td> \n",
       "</tr>\n",
       "<tr>\n",
       "  <th>Time:</th>                 <td>17:23:09</td>     <th>  Log-Likelihood:    </th> <td> -329.05</td>\n",
       "</tr>\n",
       "<tr>\n",
       "  <th>No. Observations:</th>      <td>    36</td>      <th>  AIC:               </th> <td>   664.1</td>\n",
       "</tr>\n",
       "<tr>\n",
       "  <th>Df Residuals:</th>          <td>    33</td>      <th>  BIC:               </th> <td>   668.8</td>\n",
       "</tr>\n",
       "<tr>\n",
       "  <th>Df Model:</th>              <td>     2</td>      <th>                     </th>     <td> </td>   \n",
       "</tr>\n",
       "<tr>\n",
       "  <th>Covariance Type:</th>      <td>nonrobust</td>    <th>                     </th>     <td> </td>   \n",
       "</tr>\n",
       "</table>\n",
       "<table class=\"simpletable\">\n",
       "<tr>\n",
       "        <td></td>          <th>coef</th>     <th>std err</th>      <th>t</th>      <th>P>|t|</th>  <th>[0.025</th>    <th>0.975]</th>  \n",
       "</tr>\n",
       "<tr>\n",
       "  <th>Intercept</th>    <td> 6633.3127</td> <td> 1115.542</td> <td>    5.946</td> <td> 0.000</td> <td> 4363.726</td> <td> 8902.899</td>\n",
       "</tr>\n",
       "<tr>\n",
       "  <th>timeIndex</th>    <td>  -17.4224</td> <td>  147.486</td> <td>   -0.118</td> <td> 0.907</td> <td> -317.485</td> <td>  282.640</td>\n",
       "</tr>\n",
       "<tr>\n",
       "  <th>timeIndex_sq</th> <td>    3.5056</td> <td>    4.073</td> <td>    0.861</td> <td> 0.396</td> <td>   -4.781</td> <td>   11.792</td>\n",
       "</tr>\n",
       "</table>\n",
       "<table class=\"simpletable\">\n",
       "<tr>\n",
       "  <th>Omnibus:</th>       <td> 2.463</td> <th>  Durbin-Watson:     </th> <td>   1.747</td>\n",
       "</tr>\n",
       "<tr>\n",
       "  <th>Prob(Omnibus):</th> <td> 0.292</td> <th>  Jarque-Bera (JB):  </th> <td>   1.996</td>\n",
       "</tr>\n",
       "<tr>\n",
       "  <th>Skew:</th>          <td> 0.573</td> <th>  Prob(JB):          </th> <td>   0.369</td>\n",
       "</tr>\n",
       "<tr>\n",
       "  <th>Kurtosis:</th>      <td> 2.871</td> <th>  Cond. No.          </th> <td>1.60e+03</td>\n",
       "</tr>\n",
       "</table><br/><br/>Notes:<br/>[1] Standard Errors assume that the covariance matrix of the errors is correctly specified.<br/>[2] The condition number is large, 1.6e+03. This might indicate that there are<br/>strong multicollinearity or other numerical problems."
      ],
      "text/plain": [
       "<class 'statsmodels.iolib.summary.Summary'>\n",
       "\"\"\"\n",
       "                            OLS Regression Results                            \n",
       "==============================================================================\n",
       "Dep. Variable:                 Ventas   R-squared:                       0.205\n",
       "Model:                            OLS   Adj. R-squared:                  0.157\n",
       "Method:                 Least Squares   F-statistic:                     4.248\n",
       "Date:                Thu, 02 Jun 2022   Prob (F-statistic):             0.0228\n",
       "Time:                        17:23:09   Log-Likelihood:                -329.05\n",
       "No. Observations:                  36   AIC:                             664.1\n",
       "Df Residuals:                      33   BIC:                             668.8\n",
       "Df Model:                           2                                         \n",
       "Covariance Type:            nonrobust                                         \n",
       "================================================================================\n",
       "                   coef    std err          t      P>|t|      [0.025      0.975]\n",
       "--------------------------------------------------------------------------------\n",
       "Intercept     6633.3127   1115.542      5.946      0.000    4363.726    8902.899\n",
       "timeIndex      -17.4224    147.486     -0.118      0.907    -317.485     282.640\n",
       "timeIndex_sq     3.5056      4.073      0.861      0.396      -4.781      11.792\n",
       "==============================================================================\n",
       "Omnibus:                        2.463   Durbin-Watson:                   1.747\n",
       "Prob(Omnibus):                  0.292   Jarque-Bera (JB):                1.996\n",
       "Skew:                           0.573   Prob(JB):                        0.369\n",
       "Kurtosis:                       2.871   Cond. No.                     1.60e+03\n",
       "==============================================================================\n",
       "\n",
       "Notes:\n",
       "[1] Standard Errors assume that the covariance matrix of the errors is correctly specified.\n",
       "[2] The condition number is large, 1.6e+03. This might indicate that there are\n",
       "strong multicollinearity or other numerical problems.\n",
       "\"\"\""
      ]
     },
     "execution_count": 41,
     "metadata": {},
     "output_type": "execute_result"
    }
   ],
   "source": [
    "model_quadratic.summary()"
   ]
  },
  {
   "cell_type": "markdown",
   "metadata": {
    "slideshow": {
     "slide_type": "slide"
    }
   },
   "source": [
    "<div class=\"div-dhds-fondo-1\"> Tendencia con transformación logarítmica\n",
    "<img src=\"https://raw.githubusercontent.com/Digital-House-DATA/ds_blend_2021_img/master/M5/CLASE_34_CART/Presentacion/img/M5_CLASE_34_separador.png\" align=\"center\" />\n",
    "\n",
    "</div>"
   ]
  },
  {
   "cell_type": "markdown",
   "metadata": {
    "slideshow": {
     "slide_type": "slide"
    }
   },
   "source": [
    "### Definición\n",
    "\n",
    "---\n",
    "En algunos casos, la varianza de la serie aumenta con el paso del tiempo. \n",
    "\n",
    "Hacer una **transformación logarítmica** de la serie puede ayudar a estabilizar la varianza.\n",
    "\n",
    "- Generamos el modelo *sobre el logaritmo de las ventas*, y sus predicciones.\n",
    "\n",
    "- *Volvemos a transformar* las predicciones a un valor de ventas, con una función exponencial.\n",
    "\n",
    "- Este último valor será la *predicción final*, el cual evaluamos."
   ]
  },
  {
   "cell_type": "markdown",
   "metadata": {
    "slideshow": {
     "slide_type": "subslide"
    }
   },
   "source": [
    "Trasformamos en logaritmo las ventas y las graficamos."
   ]
  },
  {
   "cell_type": "code",
   "execution_count": 42,
   "metadata": {
    "slideshow": {
     "slide_type": "fragment"
    }
   },
   "outputs": [],
   "source": [
    "df_train['log_Ventas'] = np.log(df_train['Ventas'])\n",
    "df_test['log_Ventas'] = np.log(df_test['Ventas'])"
   ]
  },
  {
   "cell_type": "code",
   "execution_count": 43,
   "metadata": {
    "slideshow": {
     "slide_type": "fragment"
    }
   },
   "outputs": [
    {
     "data": {
      "image/png": "[encoded data removed]",
      "text/plain": [
       "<Figure size 720x360 with 2 Axes>"
      ]
     },
     "metadata": {
      "needs_background": "light"
     },
     "output_type": "display_data"
    }
   ],
   "source": [
    "fig, axes = plt.subplots(1, 2,figsize=(10,5))\n",
    "df_train.plot(kind = \"line\", y = [\"log_Ventas\"],ax=axes[0],title='Train');\n",
    "df_test.plot(kind = \"line\", y = [\"log_Ventas\"],ax=axes[1],title='Test');\n",
    "plt.show()"
   ]
  },
  {
   "cell_type": "markdown",
   "metadata": {
    "slideshow": {
     "slide_type": "slide"
    }
   },
   "source": [
    "### Predicción\n",
    "\n",
    "---\n",
    "Generamos el modelo de regresión lineal usando el logaritmo de las ventas."
   ]
  },
  {
   "cell_type": "code",
   "execution_count": 44,
   "metadata": {
    "slideshow": {
     "slide_type": "fragment"
    }
   },
   "outputs": [],
   "source": [
    "import statsmodels.formula.api as smf\n",
    "model_log = smf.ols('log_Ventas ~ timeIndex ', data = df_train).fit()"
   ]
  },
  {
   "cell_type": "markdown",
   "metadata": {
    "slideshow": {
     "slide_type": "fragment"
    }
   },
   "source": [
    "Y las predicciones del modelo sobre *train y test*."
   ]
  },
  {
   "cell_type": "code",
   "execution_count": 45,
   "metadata": {
    "slideshow": {
     "slide_type": "fragment"
    }
   },
   "outputs": [],
   "source": [
    "df_train[\"LogTrend\"] = model_log.predict(df_train[[\"timeIndex\"]])\n",
    "df_test[\"LogTrend\"] = model_log.predict(df_test[[\"timeIndex\"]])"
   ]
  },
  {
   "cell_type": "markdown",
   "metadata": {},
   "source": [
    "Recuperamos el valor predicho de la venta aplicando la función exponencial sobre las predicciones."
   ]
  },
  {
   "cell_type": "code",
   "execution_count": 46,
   "metadata": {},
   "outputs": [],
   "source": [
    "df_train['back_LogTrend'] = np.exp(df_train['LogTrend'])\n",
    "df_test['back_LogTrend'] = np.exp(df_test['LogTrend'])"
   ]
  },
  {
   "cell_type": "markdown",
   "metadata": {
    "slideshow": {
     "slide_type": "subslide"
    }
   },
   "source": [
    "Observamos visualmente las ventas predichas vs el valor real."
   ]
  },
  {
   "cell_type": "code",
   "execution_count": 47,
   "metadata": {
    "slideshow": {
     "slide_type": "fragment"
    }
   },
   "outputs": [
    {
     "data": {
      "image/png": "[encoded data removed]",
      "text/plain": [
       "<Figure size 720x360 with 2 Axes>"
      ]
     },
     "metadata": {
      "needs_background": "light"
     },
     "output_type": "display_data"
    }
   ],
   "source": [
    "fig, axes = plt.subplots(1, 2,figsize=(10,5))\n",
    "df_train.plot(kind = \"line\", y = [\"Ventas\",\"back_LogTrend\"],ax=axes[0],title='Train');\n",
    "df_test.plot(kind = \"line\", y = [\"Ventas\",\"back_LogTrend\"],ax=axes[1],title='Test');\n",
    "plt.show()"
   ]
  },
  {
   "cell_type": "markdown",
   "metadata": {
    "slideshow": {
     "slide_type": "subslide"
    }
   },
   "source": [
    "Calculamos la performance con RMSE. El modelo ajusta mejor que los anteriores para este dataset."
   ]
  },
  {
   "cell_type": "code",
   "execution_count": 48,
   "metadata": {
    "slideshow": {
     "slide_type": "fragment"
    }
   },
   "outputs": [],
   "source": [
    "model_RMSE = RMSE(df_test.back_LogTrend, df_test.Ventas)"
   ]
  },
  {
   "cell_type": "code",
   "execution_count": 49,
   "metadata": {
    "slideshow": {
     "slide_type": "fragment"
    }
   },
   "outputs": [
    {
     "data": {
      "text/html": [
       "<div>\n",
       "<style scoped>\n",
       "    .dataframe tbody tr th:only-of-type {\n",
       "        vertical-align: middle;\n",
       "    }\n",
       "\n",
       "    .dataframe tbody tr th {\n",
       "        vertical-align: top;\n",
       "    }\n",
       "\n",
       "    .dataframe thead th {\n",
       "        text-align: right;\n",
       "    }\n",
       "</style>\n",
       "<table border=\"1\" class=\"dataframe\">\n",
       "  <thead>\n",
       "    <tr style=\"text-align: right;\">\n",
       "      <th></th>\n",
       "      <th>Model</th>\n",
       "      <th>RMSE</th>\n",
       "    </tr>\n",
       "  </thead>\n",
       "  <tbody>\n",
       "    <tr>\n",
       "      <th>0</th>\n",
       "      <td>Random Walk</td>\n",
       "      <td>4534.835179</td>\n",
       "    </tr>\n",
       "    <tr>\n",
       "      <th>1</th>\n",
       "      <td>Mean</td>\n",
       "      <td>4236.112012</td>\n",
       "    </tr>\n",
       "    <tr>\n",
       "      <th>2</th>\n",
       "      <td>LinearTrend</td>\n",
       "      <td>3238.586751</td>\n",
       "    </tr>\n",
       "    <tr>\n",
       "      <th>3</th>\n",
       "      <td>QuadraticTrend</td>\n",
       "      <td>3344.490376</td>\n",
       "    </tr>\n",
       "    <tr>\n",
       "      <th>4</th>\n",
       "      <td>back_LogTrend</td>\n",
       "      <td>3111.252518</td>\n",
       "    </tr>\n",
       "  </tbody>\n",
       "</table>\n",
       "</div>"
      ],
      "text/plain": [
       "            Model         RMSE\n",
       "0     Random Walk  4534.835179\n",
       "1            Mean  4236.112012\n",
       "2     LinearTrend  3238.586751\n",
       "3  QuadraticTrend  3344.490376\n",
       "4   back_LogTrend  3111.252518"
      ]
     },
     "execution_count": 49,
     "metadata": {},
     "output_type": "execute_result"
    }
   ],
   "source": [
    "df_Results.loc[4, \"Model\"] = \"back_LogTrend\"\n",
    "df_Results.loc[4, \"RMSE\"] = model_RMSE\n",
    "df_Results.head()"
   ]
  },
  {
   "cell_type": "code",
   "execution_count": 50,
   "metadata": {
    "slideshow": {
     "slide_type": "subslide"
    }
   },
   "outputs": [
    {
     "data": {
      "text/html": [
       "<table class=\"simpletable\">\n",
       "<caption>OLS Regression Results</caption>\n",
       "<tr>\n",
       "  <th>Dep. Variable:</th>       <td>log_Ventas</td>    <th>  R-squared:         </th> <td>   0.195</td>\n",
       "</tr>\n",
       "<tr>\n",
       "  <th>Model:</th>                   <td>OLS</td>       <th>  Adj. R-squared:    </th> <td>   0.171</td>\n",
       "</tr>\n",
       "<tr>\n",
       "  <th>Method:</th>             <td>Least Squares</td>  <th>  F-statistic:       </th> <td>   8.227</td>\n",
       "</tr>\n",
       "<tr>\n",
       "  <th>Date:</th>             <td>Thu, 02 Jun 2022</td> <th>  Prob (F-statistic):</th>  <td>0.00704</td>\n",
       "</tr>\n",
       "<tr>\n",
       "  <th>Time:</th>                 <td>17:23:11</td>     <th>  Log-Likelihood:    </th> <td> -9.8763</td>\n",
       "</tr>\n",
       "<tr>\n",
       "  <th>No. Observations:</th>      <td>    36</td>      <th>  AIC:               </th> <td>   23.75</td>\n",
       "</tr>\n",
       "<tr>\n",
       "  <th>Df Residuals:</th>          <td>    34</td>      <th>  BIC:               </th> <td>   26.92</td>\n",
       "</tr>\n",
       "<tr>\n",
       "  <th>Df Model:</th>              <td>     1</td>      <th>                     </th>     <td> </td>   \n",
       "</tr>\n",
       "<tr>\n",
       "  <th>Covariance Type:</th>      <td>nonrobust</td>    <th>                     </th>     <td> </td>   \n",
       "</tr>\n",
       "</table>\n",
       "<table class=\"simpletable\">\n",
       "<tr>\n",
       "      <td></td>         <th>coef</th>     <th>std err</th>      <th>t</th>      <th>P>|t|</th>  <th>[0.025</th>    <th>0.975]</th>  \n",
       "</tr>\n",
       "<tr>\n",
       "  <th>Intercept</th> <td>    8.6372</td> <td>    0.107</td> <td>   80.754</td> <td> 0.000</td> <td>    8.420</td> <td>    8.855</td>\n",
       "</tr>\n",
       "<tr>\n",
       "  <th>timeIndex</th> <td>    0.0151</td> <td>    0.005</td> <td>    2.868</td> <td> 0.007</td> <td>    0.004</td> <td>    0.026</td>\n",
       "</tr>\n",
       "</table>\n",
       "<table class=\"simpletable\">\n",
       "<tr>\n",
       "  <th>Omnibus:</th>       <td> 5.314</td> <th>  Durbin-Watson:     </th> <td>   1.690</td>\n",
       "</tr>\n",
       "<tr>\n",
       "  <th>Prob(Omnibus):</th> <td> 0.070</td> <th>  Jarque-Bera (JB):  </th> <td>   4.570</td>\n",
       "</tr>\n",
       "<tr>\n",
       "  <th>Skew:</th>          <td>-0.440</td> <th>  Prob(JB):          </th> <td>   0.102</td>\n",
       "</tr>\n",
       "<tr>\n",
       "  <th>Kurtosis:</th>      <td> 4.507</td> <th>  Cond. No.          </th> <td>    39.9</td>\n",
       "</tr>\n",
       "</table><br/><br/>Notes:<br/>[1] Standard Errors assume that the covariance matrix of the errors is correctly specified."
      ],
      "text/plain": [
       "<class 'statsmodels.iolib.summary.Summary'>\n",
       "\"\"\"\n",
       "                            OLS Regression Results                            \n",
       "==============================================================================\n",
       "Dep. Variable:             log_Ventas   R-squared:                       0.195\n",
       "Model:                            OLS   Adj. R-squared:                  0.171\n",
       "Method:                 Least Squares   F-statistic:                     8.227\n",
       "Date:                Thu, 02 Jun 2022   Prob (F-statistic):            0.00704\n",
       "Time:                        17:23:11   Log-Likelihood:                -9.8763\n",
       "No. Observations:                  36   AIC:                             23.75\n",
       "Df Residuals:                      34   BIC:                             26.92\n",
       "Df Model:                           1                                         \n",
       "Covariance Type:            nonrobust                                         \n",
       "==============================================================================\n",
       "                 coef    std err          t      P>|t|      [0.025      0.975]\n",
       "------------------------------------------------------------------------------\n",
       "Intercept      8.6372      0.107     80.754      0.000       8.420       8.855\n",
       "timeIndex      0.0151      0.005      2.868      0.007       0.004       0.026\n",
       "==============================================================================\n",
       "Omnibus:                        5.314   Durbin-Watson:                   1.690\n",
       "Prob(Omnibus):                  0.070   Jarque-Bera (JB):                4.570\n",
       "Skew:                          -0.440   Prob(JB):                        0.102\n",
       "Kurtosis:                       4.507   Cond. No.                         39.9\n",
       "==============================================================================\n",
       "\n",
       "Notes:\n",
       "[1] Standard Errors assume that the covariance matrix of the errors is correctly specified.\n",
       "\"\"\""
      ]
     },
     "execution_count": 50,
     "metadata": {},
     "output_type": "execute_result"
    }
   ],
   "source": [
    "model_log.summary()"
   ]
  },
  {
   "cell_type": "markdown",
   "metadata": {
    "slideshow": {
     "slide_type": "slide"
    }
   },
   "source": [
    "<div class=\"div-dhds-fondo-1\"> Transformación logarítmica <br/>  + estacionalidad mensual\n",
    "<img src=\"https://raw.githubusercontent.com/Digital-House-DATA/ds_blend_2021_img/master/M5/CLASE_34_CART/Presentacion/img/M5_CLASE_34_separador.png\" align=\"center\" />\n",
    "\n",
    "</div>"
   ]
  },
  {
   "cell_type": "markdown",
   "metadata": {
    "slideshow": {
     "slide_type": "slide"
    }
   },
   "source": [
    "### Definición\n",
    "\n",
    "---\n",
    "\n",
    "Recordemos que la  **estacionalidad** (Seasonality) es un patrón estacional que se *repite con regularidad*. \n",
    "\n",
    "Podemos modelar la estacionalidad utilizando variables dummy. En el siguiente ejemplo modelamos una estacionalidad trimestral:\n",
    "\n",
    "<img src=\"https://raw.githubusercontent.com/Digital-House-DATA/ds_blend_2021_img/master/M6/CLASE_48_Series_de_Tiempo_1/Presentacion/img/M6_CLASE_48_004_estacionalidad.png\" alt=\"estacionalidad\" width=50% height=30% align=\"center\"/>\n",
    "\n",
    "$$ S_t = \\sum_{i=1}^{s} \\gamma_iD_it  + \\varepsilon_t. $$\n",
    "\n",
    "Se pueden crear otros tipos de dummies, por ejemplo por días de vacaciones/feriados, etc."
   ]
  },
  {
   "cell_type": "markdown",
   "metadata": {
    "slideshow": {
     "slide_type": "subslide"
    }
   },
   "source": [
    "Establecemos variables dummy para los meses de la fecha de pedido de las ventas."
   ]
  },
  {
   "cell_type": "code",
   "execution_count": 51,
   "metadata": {
    "slideshow": {
     "slide_type": "fragment"
    }
   },
   "outputs": [],
   "source": [
    "# Creamos columna con el mes\n",
    "df_train['month'] = [d.strftime('%b') for d in df_train.index]\n",
    "df_test['month']  = [d.strftime('%b') for d in df_test.index]"
   ]
  },
  {
   "cell_type": "code",
   "execution_count": 52,
   "metadata": {
    "slideshow": {
     "slide_type": "fragment"
    }
   },
   "outputs": [],
   "source": [
    "# Creamos las variables dummies de mes\n",
    "dummies_mes_train = pd.get_dummies(df_train['month'])\n",
    "dummies_mes_test = pd.get_dummies(df_test['month'])"
   ]
  },
  {
   "cell_type": "code",
   "execution_count": 53,
   "metadata": {
    "slideshow": {
     "slide_type": "fragment"
    }
   },
   "outputs": [],
   "source": [
    "# Hacemos el join entre el DataFrame con la serie de tiempo y las dummies\n",
    "df_train = df_train.join(dummies_mes_train)\n",
    "df_test = df_test.join(dummies_mes_test)"
   ]
  },
  {
   "cell_type": "code",
   "execution_count": 54,
   "metadata": {
    "slideshow": {
     "slide_type": "fragment"
    }
   },
   "outputs": [
    {
     "data": {
      "text/html": [
       "<div>\n",
       "<style scoped>\n",
       "    .dataframe tbody tr th:only-of-type {\n",
       "        vertical-align: middle;\n",
       "    }\n",
       "\n",
       "    .dataframe tbody tr th {\n",
       "        vertical-align: top;\n",
       "    }\n",
       "\n",
       "    .dataframe thead th {\n",
       "        text-align: right;\n",
       "    }\n",
       "</style>\n",
       "<table border=\"1\" class=\"dataframe\">\n",
       "  <thead>\n",
       "    <tr style=\"text-align: right;\">\n",
       "      <th></th>\n",
       "      <th>Ventas</th>\n",
       "      <th>timeIndex</th>\n",
       "      <th>timeIndex_sq</th>\n",
       "      <th>QuadraticTrend</th>\n",
       "      <th>log_Ventas</th>\n",
       "      <th>LogTrend</th>\n",
       "      <th>back_LogTrend</th>\n",
       "      <th>month</th>\n",
       "      <th>Apr</th>\n",
       "      <th>Aug</th>\n",
       "      <th>Dec</th>\n",
       "      <th>Feb</th>\n",
       "      <th>Jan</th>\n",
       "      <th>Jul</th>\n",
       "      <th>Jun</th>\n",
       "      <th>Mar</th>\n",
       "      <th>May</th>\n",
       "      <th>Nov</th>\n",
       "      <th>Oct</th>\n",
       "      <th>Sep</th>\n",
       "    </tr>\n",
       "    <tr>\n",
       "      <th>Fecha_pedido</th>\n",
       "      <th></th>\n",
       "      <th></th>\n",
       "      <th></th>\n",
       "      <th></th>\n",
       "      <th></th>\n",
       "      <th></th>\n",
       "      <th></th>\n",
       "      <th></th>\n",
       "      <th></th>\n",
       "      <th></th>\n",
       "      <th></th>\n",
       "      <th></th>\n",
       "      <th></th>\n",
       "      <th></th>\n",
       "      <th></th>\n",
       "      <th></th>\n",
       "      <th></th>\n",
       "      <th></th>\n",
       "      <th></th>\n",
       "      <th></th>\n",
       "    </tr>\n",
       "  </thead>\n",
       "  <tbody>\n",
       "    <tr>\n",
       "      <th>2018-01-01</th>\n",
       "      <td>9379.808000</td>\n",
       "      <td>0</td>\n",
       "      <td>0</td>\n",
       "      <td>6633.312679</td>\n",
       "      <td>9.146315</td>\n",
       "      <td>8.637246</td>\n",
       "      <td>5637.782467</td>\n",
       "      <td>Jan</td>\n",
       "      <td>0</td>\n",
       "      <td>0</td>\n",
       "      <td>0</td>\n",
       "      <td>0</td>\n",
       "      <td>1</td>\n",
       "      <td>0</td>\n",
       "      <td>0</td>\n",
       "      <td>0</td>\n",
       "      <td>0</td>\n",
       "      <td>0</td>\n",
       "      <td>0</td>\n",
       "      <td>0</td>\n",
       "    </tr>\n",
       "    <tr>\n",
       "      <th>2018-02-01</th>\n",
       "      <td>4405.700000</td>\n",
       "      <td>1</td>\n",
       "      <td>1</td>\n",
       "      <td>6619.395937</td>\n",
       "      <td>8.390654</td>\n",
       "      <td>8.652321</td>\n",
       "      <td>5723.414742</td>\n",
       "      <td>Feb</td>\n",
       "      <td>0</td>\n",
       "      <td>0</td>\n",
       "      <td>0</td>\n",
       "      <td>1</td>\n",
       "      <td>0</td>\n",
       "      <td>0</td>\n",
       "      <td>0</td>\n",
       "      <td>0</td>\n",
       "      <td>0</td>\n",
       "      <td>0</td>\n",
       "      <td>0</td>\n",
       "      <td>0</td>\n",
       "    </tr>\n",
       "    <tr>\n",
       "      <th>2018-03-01</th>\n",
       "      <td>6068.580000</td>\n",
       "      <td>2</td>\n",
       "      <td>4</td>\n",
       "      <td>6612.490429</td>\n",
       "      <td>8.710880</td>\n",
       "      <td>8.667396</td>\n",
       "      <td>5810.347686</td>\n",
       "      <td>Mar</td>\n",
       "      <td>0</td>\n",
       "      <td>0</td>\n",
       "      <td>0</td>\n",
       "      <td>0</td>\n",
       "      <td>0</td>\n",
       "      <td>0</td>\n",
       "      <td>0</td>\n",
       "      <td>1</td>\n",
       "      <td>0</td>\n",
       "      <td>0</td>\n",
       "      <td>0</td>\n",
       "      <td>0</td>\n",
       "    </tr>\n",
       "    <tr>\n",
       "      <th>2018-04-01</th>\n",
       "      <td>4939.484286</td>\n",
       "      <td>3</td>\n",
       "      <td>9</td>\n",
       "      <td>6612.596156</td>\n",
       "      <td>8.505016</td>\n",
       "      <td>8.682470</td>\n",
       "      <td>5898.601053</td>\n",
       "      <td>Apr</td>\n",
       "      <td>1</td>\n",
       "      <td>0</td>\n",
       "      <td>0</td>\n",
       "      <td>0</td>\n",
       "      <td>0</td>\n",
       "      <td>0</td>\n",
       "      <td>0</td>\n",
       "      <td>0</td>\n",
       "      <td>0</td>\n",
       "      <td>0</td>\n",
       "      <td>0</td>\n",
       "      <td>0</td>\n",
       "    </tr>\n",
       "  </tbody>\n",
       "</table>\n",
       "</div>"
      ],
      "text/plain": [
       "                   Ventas  timeIndex  timeIndex_sq  QuadraticTrend  \\\n",
       "Fecha_pedido                                                         \n",
       "2018-01-01    9379.808000          0             0     6633.312679   \n",
       "2018-02-01    4405.700000          1             1     6619.395937   \n",
       "2018-03-01    6068.580000          2             4     6612.490429   \n",
       "2018-04-01    4939.484286          3             9     6612.596156   \n",
       "\n",
       "              log_Ventas  LogTrend  back_LogTrend month  Apr  Aug  Dec  Feb  \\\n",
       "Fecha_pedido                                                                  \n",
       "2018-01-01      9.146315  8.637246    5637.782467   Jan    0    0    0    0   \n",
       "2018-02-01      8.390654  8.652321    5723.414742   Feb    0    0    0    1   \n",
       "2018-03-01      8.710880  8.667396    5810.347686   Mar    0    0    0    0   \n",
       "2018-04-01      8.505016  8.682470    5898.601053   Apr    1    0    0    0   \n",
       "\n",
       "              Jan  Jul  Jun  Mar  May  Nov  Oct  Sep  \n",
       "Fecha_pedido                                          \n",
       "2018-01-01      1    0    0    0    0    0    0    0  \n",
       "2018-02-01      0    0    0    0    0    0    0    0  \n",
       "2018-03-01      0    0    0    1    0    0    0    0  \n",
       "2018-04-01      0    0    0    0    0    0    0    0  "
      ]
     },
     "execution_count": 54,
     "metadata": {},
     "output_type": "execute_result"
    }
   ],
   "source": [
    "df_train.head(4)"
   ]
  },
  {
   "cell_type": "markdown",
   "metadata": {
    "slideshow": {
     "slide_type": "slide"
    }
   },
   "source": [
    "### Predicción\n",
    "\n",
    "---\n",
    "Generamos el modelo de regresión lineal como en el caso anterior, agregando al logaritmo de las ventas, la estacionalidad (las variables dummies de mes)."
   ]
  },
  {
   "cell_type": "code",
   "execution_count": 55,
   "metadata": {},
   "outputs": [],
   "source": [
    "model_log_est = smf.ols('log_Ventas ~ timeIndex + Apr + Aug + Dec + Feb + Jan + Jul + Jun + Mar + May + Nov + Oct + Sep',\\\n",
    "                          data = df_train).fit()"
   ]
  },
  {
   "cell_type": "markdown",
   "metadata": {
    "slideshow": {
     "slide_type": "fragment"
    }
   },
   "source": [
    "Y las predicciones del modelo sobre *train y test*."
   ]
  },
  {
   "cell_type": "code",
   "execution_count": 56,
   "metadata": {},
   "outputs": [],
   "source": [
    "df_train['model_log_est'] = model_log_est.predict(df_train[[\"timeIndex\",\"Apr\",\"Aug\", \"Dec\", \"Feb\", \"Jan\",\\\n",
    "                                               \"Jul\", \"Jun\", \"Mar\", \"May\",\"Nov\", \"Oct\", \"Sep\"]])\n",
    "\n",
    "df_test['model_log_est'] = model_log_est.predict(df_test[[\"timeIndex\",\"Apr\",\"Aug\", \"Dec\", \"Feb\", \"Jan\",\\\n",
    "                                               \"Jul\", \"Jun\", \"Mar\", \"May\",\"Nov\", \"Oct\", \"Sep\"]])"
   ]
  },
  {
   "cell_type": "markdown",
   "metadata": {},
   "source": [
    "Recuperamos el valor predicho de la venta aplicando la función exponencial sobre las predicciones."
   ]
  },
  {
   "cell_type": "code",
   "execution_count": 57,
   "metadata": {},
   "outputs": [],
   "source": [
    "df_train['back_LogEstTrend'] = np.exp(df_train['model_log_est'])\n",
    "df_test['back_LogEstTrend'] = np.exp(df_test['model_log_est'])"
   ]
  },
  {
   "cell_type": "markdown",
   "metadata": {
    "slideshow": {
     "slide_type": "subslide"
    }
   },
   "source": [
    "Observamos visualmente las ventas predichas vs el valor real."
   ]
  },
  {
   "cell_type": "code",
   "execution_count": 58,
   "metadata": {
    "slideshow": {
     "slide_type": "fragment"
    }
   },
   "outputs": [
    {
     "data": {
      "image/png": "[encoded data removed]",
      "text/plain": [
       "<Figure size 720x360 with 2 Axes>"
      ]
     },
     "metadata": {
      "needs_background": "light"
     },
     "output_type": "display_data"
    }
   ],
   "source": [
    "fig, axes = plt.subplots(1, 2,figsize=(10,5))\n",
    "df_train.plot(kind = \"line\", y = [\"Ventas\",\"back_LogEstTrend\"],ax=axes[0],title='Train');\n",
    "df_test.plot(kind = \"line\", y = [\"Ventas\",\"back_LogEstTrend\"],ax=axes[1],title='Test');\n",
    "plt.show()"
   ]
  },
  {
   "cell_type": "markdown",
   "metadata": {
    "slideshow": {
     "slide_type": "subslide"
    }
   },
   "source": [
    "Calculamos la performance con RMSE. El modelo ajusta mucho mejor que todos los anteriores."
   ]
  },
  {
   "cell_type": "code",
   "execution_count": 59,
   "metadata": {
    "slideshow": {
     "slide_type": "fragment"
    }
   },
   "outputs": [],
   "source": [
    "model_RMSE = RMSE(df_test.back_LogEstTrend, df_test.Ventas)"
   ]
  },
  {
   "cell_type": "code",
   "execution_count": 60,
   "metadata": {
    "slideshow": {
     "slide_type": "fragment"
    }
   },
   "outputs": [
    {
     "data": {
      "text/html": [
       "<div>\n",
       "<style scoped>\n",
       "    .dataframe tbody tr th:only-of-type {\n",
       "        vertical-align: middle;\n",
       "    }\n",
       "\n",
       "    .dataframe tbody tr th {\n",
       "        vertical-align: top;\n",
       "    }\n",
       "\n",
       "    .dataframe thead th {\n",
       "        text-align: right;\n",
       "    }\n",
       "</style>\n",
       "<table border=\"1\" class=\"dataframe\">\n",
       "  <thead>\n",
       "    <tr style=\"text-align: right;\">\n",
       "      <th></th>\n",
       "      <th>Model</th>\n",
       "      <th>RMSE</th>\n",
       "    </tr>\n",
       "  </thead>\n",
       "  <tbody>\n",
       "    <tr>\n",
       "      <th>0</th>\n",
       "      <td>Random Walk</td>\n",
       "      <td>4534.835179</td>\n",
       "    </tr>\n",
       "    <tr>\n",
       "      <th>1</th>\n",
       "      <td>Mean</td>\n",
       "      <td>4236.112012</td>\n",
       "    </tr>\n",
       "    <tr>\n",
       "      <th>2</th>\n",
       "      <td>LinearTrend</td>\n",
       "      <td>3238.586751</td>\n",
       "    </tr>\n",
       "    <tr>\n",
       "      <th>3</th>\n",
       "      <td>QuadraticTrend</td>\n",
       "      <td>3344.490376</td>\n",
       "    </tr>\n",
       "    <tr>\n",
       "      <th>4</th>\n",
       "      <td>back_LogTrend</td>\n",
       "      <td>3111.252518</td>\n",
       "    </tr>\n",
       "  </tbody>\n",
       "</table>\n",
       "</div>"
      ],
      "text/plain": [
       "            Model         RMSE\n",
       "0     Random Walk  4534.835179\n",
       "1            Mean  4236.112012\n",
       "2     LinearTrend  3238.586751\n",
       "3  QuadraticTrend  3344.490376\n",
       "4   back_LogTrend  3111.252518"
      ]
     },
     "execution_count": 60,
     "metadata": {},
     "output_type": "execute_result"
    }
   ],
   "source": [
    "df_Results.loc[5, \"Model\"] = \"back_LogEstTrend\"\n",
    "df_Results.loc[5, \"RMSE\"] = model_RMSE\n",
    "df_Results.head()"
   ]
  },
  {
   "cell_type": "code",
   "execution_count": 61,
   "metadata": {
    "slideshow": {
     "slide_type": "subslide"
    }
   },
   "outputs": [
    {
     "data": {
      "text/html": [
       "<table class=\"simpletable\">\n",
       "<caption>OLS Regression Results</caption>\n",
       "<tr>\n",
       "  <th>Dep. Variable:</th>       <td>log_Ventas</td>    <th>  R-squared:         </th> <td>   0.657</td>\n",
       "</tr>\n",
       "<tr>\n",
       "  <th>Model:</th>                   <td>OLS</td>       <th>  Adj. R-squared:    </th> <td>   0.478</td>\n",
       "</tr>\n",
       "<tr>\n",
       "  <th>Method:</th>             <td>Least Squares</td>  <th>  F-statistic:       </th> <td>   3.669</td>\n",
       "</tr>\n",
       "<tr>\n",
       "  <th>Date:</th>             <td>Thu, 02 Jun 2022</td> <th>  Prob (F-statistic):</th>  <td>0.00361</td>\n",
       "</tr>\n",
       "<tr>\n",
       "  <th>Time:</th>                 <td>17:23:14</td>     <th>  Log-Likelihood:    </th> <td>  5.4746</td>\n",
       "</tr>\n",
       "<tr>\n",
       "  <th>No. Observations:</th>      <td>    36</td>      <th>  AIC:               </th> <td>   15.05</td>\n",
       "</tr>\n",
       "<tr>\n",
       "  <th>Df Residuals:</th>          <td>    23</td>      <th>  BIC:               </th> <td>   35.64</td>\n",
       "</tr>\n",
       "<tr>\n",
       "  <th>Df Model:</th>              <td>    12</td>      <th>                     </th>     <td> </td>   \n",
       "</tr>\n",
       "<tr>\n",
       "  <th>Covariance Type:</th>      <td>nonrobust</td>    <th>                     </th>     <td> </td>   \n",
       "</tr>\n",
       "</table>\n",
       "<table class=\"simpletable\">\n",
       "<tr>\n",
       "      <td></td>         <th>coef</th>     <th>std err</th>      <th>t</th>      <th>P>|t|</th>  <th>[0.025</th>    <th>0.975]</th>  \n",
       "</tr>\n",
       "<tr>\n",
       "  <th>Intercept</th> <td>    8.0528</td> <td>    0.082</td> <td>   98.343</td> <td> 0.000</td> <td>    7.883</td> <td>    8.222</td>\n",
       "</tr>\n",
       "<tr>\n",
       "  <th>timeIndex</th> <td>    0.0101</td> <td>    0.004</td> <td>    2.289</td> <td> 0.032</td> <td>    0.001</td> <td>    0.019</td>\n",
       "</tr>\n",
       "<tr>\n",
       "  <th>Apr</th>       <td>    0.6023</td> <td>    0.144</td> <td>    4.187</td> <td> 0.000</td> <td>    0.305</td> <td>    0.900</td>\n",
       "</tr>\n",
       "<tr>\n",
       "  <th>Aug</th>       <td>    0.4258</td> <td>    0.144</td> <td>    2.951</td> <td> 0.007</td> <td>    0.127</td> <td>    0.724</td>\n",
       "</tr>\n",
       "<tr>\n",
       "  <th>Dec</th>       <td>    1.0307</td> <td>    0.147</td> <td>    7.015</td> <td> 0.000</td> <td>    0.727</td> <td>    1.335</td>\n",
       "</tr>\n",
       "<tr>\n",
       "  <th>Feb</th>       <td>    0.2103</td> <td>    0.144</td> <td>    1.456</td> <td> 0.159</td> <td>   -0.088</td> <td>    0.509</td>\n",
       "</tr>\n",
       "<tr>\n",
       "  <th>Jan</th>       <td>    0.6998</td> <td>    0.145</td> <td>    4.828</td> <td> 0.000</td> <td>    0.400</td> <td>    1.000</td>\n",
       "</tr>\n",
       "<tr>\n",
       "  <th>Jul</th>       <td>    0.4153</td> <td>    0.144</td> <td>    2.884</td> <td> 0.008</td> <td>    0.117</td> <td>    0.713</td>\n",
       "</tr>\n",
       "<tr>\n",
       "  <th>Jun</th>       <td>    0.7909</td> <td>    0.144</td> <td>    5.499</td> <td> 0.000</td> <td>    0.493</td> <td>    1.088</td>\n",
       "</tr>\n",
       "<tr>\n",
       "  <th>Mar</th>       <td>    0.6056</td> <td>    0.144</td> <td>    4.203</td> <td> 0.000</td> <td>    0.308</td> <td>    0.904</td>\n",
       "</tr>\n",
       "<tr>\n",
       "  <th>May</th>       <td>    0.5139</td> <td>    0.144</td> <td>    3.575</td> <td> 0.002</td> <td>    0.217</td> <td>    0.811</td>\n",
       "</tr>\n",
       "<tr>\n",
       "  <th>Nov</th>       <td>    0.7860</td> <td>    0.146</td> <td>    5.381</td> <td> 0.000</td> <td>    0.484</td> <td>    1.088</td>\n",
       "</tr>\n",
       "<tr>\n",
       "  <th>Oct</th>       <td>    1.0169</td> <td>    0.145</td> <td>    6.996</td> <td> 0.000</td> <td>    0.716</td> <td>    1.318</td>\n",
       "</tr>\n",
       "<tr>\n",
       "  <th>Sep</th>       <td>    0.9551</td> <td>    0.145</td> <td>    6.597</td> <td> 0.000</td> <td>    0.656</td> <td>    1.255</td>\n",
       "</tr>\n",
       "</table>\n",
       "<table class=\"simpletable\">\n",
       "<tr>\n",
       "  <th>Omnibus:</th>       <td> 2.851</td> <th>  Durbin-Watson:     </th> <td>   1.704</td>\n",
       "</tr>\n",
       "<tr>\n",
       "  <th>Prob(Omnibus):</th> <td> 0.240</td> <th>  Jarque-Bera (JB):  </th> <td>   1.754</td>\n",
       "</tr>\n",
       "<tr>\n",
       "  <th>Skew:</th>          <td>-0.231</td> <th>  Prob(JB):          </th> <td>   0.416</td>\n",
       "</tr>\n",
       "<tr>\n",
       "  <th>Kurtosis:</th>      <td> 3.978</td> <th>  Cond. No.          </th> <td>4.82e+17</td>\n",
       "</tr>\n",
       "</table><br/><br/>Notes:<br/>[1] Standard Errors assume that the covariance matrix of the errors is correctly specified.<br/>[2] The smallest eigenvalue is 6.44e-32. This might indicate that there are<br/>strong multicollinearity problems or that the design matrix is singular."
      ],
      "text/plain": [
       "<class 'statsmodels.iolib.summary.Summary'>\n",
       "\"\"\"\n",
       "                            OLS Regression Results                            \n",
       "==============================================================================\n",
       "Dep. Variable:             log_Ventas   R-squared:                       0.657\n",
       "Model:                            OLS   Adj. R-squared:                  0.478\n",
       "Method:                 Least Squares   F-statistic:                     3.669\n",
       "Date:                Thu, 02 Jun 2022   Prob (F-statistic):            0.00361\n",
       "Time:                        17:23:14   Log-Likelihood:                 5.4746\n",
       "No. Observations:                  36   AIC:                             15.05\n",
       "Df Residuals:                      23   BIC:                             35.64\n",
       "Df Model:                          12                                         \n",
       "Covariance Type:            nonrobust                                         \n",
       "==============================================================================\n",
       "                 coef    std err          t      P>|t|      [0.025      0.975]\n",
       "------------------------------------------------------------------------------\n",
       "Intercept      8.0528      0.082     98.343      0.000       7.883       8.222\n",
       "timeIndex      0.0101      0.004      2.289      0.032       0.001       0.019\n",
       "Apr            0.6023      0.144      4.187      0.000       0.305       0.900\n",
       "Aug            0.4258      0.144      2.951      0.007       0.127       0.724\n",
       "Dec            1.0307      0.147      7.015      0.000       0.727       1.335\n",
       "Feb            0.2103      0.144      1.456      0.159      -0.088       0.509\n",
       "Jan            0.6998      0.145      4.828      0.000       0.400       1.000\n",
       "Jul            0.4153      0.144      2.884      0.008       0.117       0.713\n",
       "Jun            0.7909      0.144      5.499      0.000       0.493       1.088\n",
       "Mar            0.6056      0.144      4.203      0.000       0.308       0.904\n",
       "May            0.5139      0.144      3.575      0.002       0.217       0.811\n",
       "Nov            0.7860      0.146      5.381      0.000       0.484       1.088\n",
       "Oct            1.0169      0.145      6.996      0.000       0.716       1.318\n",
       "Sep            0.9551      0.145      6.597      0.000       0.656       1.255\n",
       "==============================================================================\n",
       "Omnibus:                        2.851   Durbin-Watson:                   1.704\n",
       "Prob(Omnibus):                  0.240   Jarque-Bera (JB):                1.754\n",
       "Skew:                          -0.231   Prob(JB):                        0.416\n",
       "Kurtosis:                       3.978   Cond. No.                     4.82e+17\n",
       "==============================================================================\n",
       "\n",
       "Notes:\n",
       "[1] Standard Errors assume that the covariance matrix of the errors is correctly specified.\n",
       "[2] The smallest eigenvalue is 6.44e-32. This might indicate that there are\n",
       "strong multicollinearity problems or that the design matrix is singular.\n",
       "\"\"\""
      ]
     },
     "execution_count": 61,
     "metadata": {},
     "output_type": "execute_result"
    }
   ],
   "source": [
    "model_log_est.summary()"
   ]
  },
  {
   "cell_type": "markdown",
   "metadata": {
    "slideshow": {
     "slide_type": "slide"
    }
   },
   "source": [
    "<div class=\"div-dhds-fondo-1\"> Media Movil\n",
    "<img src=\"https://raw.githubusercontent.com/Digital-House-DATA/ds_blend_2021_img/master/M5/CLASE_34_CART/Presentacion/img/M5_CLASE_34_separador.png\" align=\"center\" />\n",
    "\n",
    "</div>"
   ]
  },
  {
   "cell_type": "markdown",
   "metadata": {
    "slideshow": {
     "slide_type": "slide"
    }
   },
   "source": [
    "### Definición\n",
    "\n",
    "---\n",
    "**Media movil** (Moving Average o Rolling Mean) es un *promedio* de los valores de una serie temporal *para un período de tiempo determinado* (la ventana de estimación).\n",
    "\n",
    "El tamaño de la ventana de estimación $M$ es la cantidad de observaciones usadas para estimar.\n",
    "\n",
    "Veamos el tipo de media movil llamado **media móvil simple** (Simple Moving Average).\n",
    "\n",
    "que se expresa:\n",
    "$$ {SMA_t} =\\frac{1}{M}. (x_{t} + x_{t-1} + x_{t-2} + ... x_{M-(t-1)})$$\n",
    "        donde el valor para el tiempo $t$, es un promedio de los M valores reales previos.\n",
    "\n",
    "Es un *indicador de tendencia* ya que produce un **suavizado** sobre la serie temporal.\n",
    "\n",
    "No la vamos a usar para predecir, pero puede ser útil como método de preprocesamiento de la serie."
   ]
  },
  {
   "cell_type": "markdown",
   "metadata": {
    "slideshow": {
     "slide_type": "subslide"
    }
   },
   "source": [
    "Veamos la diferencia entre casos diarios y la media movil semanal de casos de covid-19.\n",
    "\n",
    "<img src=\"https://raw.githubusercontent.com/Digital-House-DATA/ds_blend_2021_img/master/M6/CLASE_48_Series_de_Tiempo_1/Presentacion/img/M6_CLASE_48_005_media_movil.JPG\" alt=\"estacionalidad\" width=80% height=50% align=\"center\"/>"
   ]
  },
  {
   "cell_type": "markdown",
   "metadata": {
    "slideshow": {
     "slide_type": "slide"
    }
   },
   "source": [
    "### Ejemplo\n",
    "\n",
    "---\n",
    "La forma más fácil para calcular **SMA** es usando el método de Pandas `Series.rolling`.\n",
    "\n",
    "Las primeras filas contienen valores nulos, pues recién después de M observaciones se puede calcular el promedio. Pero usando el argumento `min_periods=1` podemos resolverlo.\n",
    "\n",
    "<img src=\"https://raw.githubusercontent.com/Digital-House-DATA/ds_blend_2021_img/master/M6/CLASE_48_Series_de_Tiempo_1/Presentacion/img/M6_CLASE_48_006_media_movil.png\" alt=\"media_movil\" width=70% height=25% align=\"center\"/>"
   ]
  },
  {
   "cell_type": "markdown",
   "metadata": {
    "slideshow": {
     "slide_type": "subslide"
    }
   },
   "source": [
    "Observemos que a mayor ventana, más suave la serie calculada."
   ]
  },
  {
   "cell_type": "code",
   "execution_count": 62,
   "metadata": {
    "slideshow": {
     "slide_type": "fragment"
    }
   },
   "outputs": [],
   "source": [
    "df_ventas[\"sma_5\"] = df_ventas.Ventas.rolling(5,min_periods=1).mean()\n",
    "df_ventas[\"sma_15\"] = df_ventas.Ventas.rolling(15,min_periods=1).mean()"
   ]
  },
  {
   "cell_type": "code",
   "execution_count": 63,
   "metadata": {
    "slideshow": {
     "slide_type": "fragment"
    }
   },
   "outputs": [
    {
     "data": {
      "image/png": "[encoded data removed]",
      "text/plain": [
       "<Figure size 432x288 with 1 Axes>"
      ]
     },
     "metadata": {
      "needs_background": "light"
     },
     "output_type": "display_data"
    }
   ],
   "source": [
    "df_ventas.plot(kind = \"line\", y = [\"Ventas\",\"sma_5\",\"sma_15\"],title='SMA');"
   ]
  },
  {
   "cell_type": "markdown",
   "metadata": {
    "slideshow": {
     "slide_type": "slide"
    }
   },
   "source": [
    "<div class=\"div-dhds-fondo-1\"> Single Exponential Smoothing\n",
    "<img src=\"https://raw.githubusercontent.com/Digital-House-DATA/ds_blend_2021_img/master/M5/CLASE_34_CART/Presentacion/img/M5_CLASE_34_separador.png\" align=\"center\" />\n",
    "\n",
    "</div>"
   ]
  },
  {
   "cell_type": "markdown",
   "metadata": {
    "slideshow": {
     "slide_type": "slide"
    }
   },
   "source": [
    "### Definición\n",
    "\n",
    "---\n",
    "Recién vimos con *Media movil*, que los métodos de suavizado son *promedios ponderados* de observaciones pasadas. \n",
    "\n",
    "En el caso de **suavizamiento exponencial simple**, los pesos siguen una caída exponencial; le da más peso a las observaciones recientes y menos peso a las antiguas. \n",
    "\n",
    "Podemos expresarlo como:\n",
    "\n",
    "$$ \\widehat{y_t} =\\alpha . y_{t-1}  + (1 - \\alpha ) . \\widehat{y}_{t -1} $$\n",
    "\n",
    "Donde $\\widehat{y_t}$ es el valor predicho para el tiempo $t$, que es un promedio ponderado entre el valor previo predicho $\\widehat{y}_{t -1}$ y el valor actual $y_{t-1}$.\n",
    "\n",
    "$\\alpha$  se conoce como **smoothing parameter**; toma valores entre 0 y 1. \n",
    "\n",
    "Este método es adecuado para pronosticar datos *sin una tendencia ni un patrón estacional claro*."
   ]
  },
  {
   "cell_type": "markdown",
   "metadata": {
    "slideshow": {
     "slide_type": "subslide"
    }
   },
   "source": [
    "Viendo la expresión:\n",
    "\n",
    "$$ \\widehat{y_t} =\\alpha . y_{t-1}  + (1 - \\alpha ) . \\widehat{y}_{t -1} $$\n",
    "\n",
    "- Si $\\alpha$ es igual a 1, todas las predicciones *son iguales al último valor observado*. Se le llama un **método ingenuo (naive)**.\n",
    "\n",
    "- Por otro lado, si consideramos la **media constante**, todas las predicciones *son iguales al promedio de los valores observados*.\n",
    "\n",
    "En general se trabaja entre estos dos extremos. La expresión generalizada de **Single Exponential Smoothing**:\n",
    "\n",
    "$$ \\widehat{y_t} =\\alpha . y_{t-1}  + \\alpha . (1 - \\alpha ) . y_{t-2}  + \\alpha . (1 - \\alpha )^2. y_{t-3} ...$$\n",
    "\n",
    "Muestra que el peso de las observaciones **decrece en forma exponencial** a medida que son más antiguas.\n",
    "\n",
    "Y $\\alpha$ nos indica *el ratio de caída*. Más cerca de uno, decae más rápido."
   ]
  },
  {
   "cell_type": "markdown",
   "metadata": {
    "slideshow": {
     "slide_type": "slide"
    }
   },
   "source": [
    "### Predicción\n",
    "\n",
    "---\n",
    "Generamos tres modelos variando el  **smoothing factor $\\alpha$** (0.3, 0.5 y 0.8)."
   ]
  },
  {
   "cell_type": "code",
   "execution_count": 64,
   "metadata": {
    "slideshow": {
     "slide_type": "fragment"
    }
   },
   "outputs": [],
   "source": [
    "from statsmodels.tsa.holtwinters import SimpleExpSmoothing\n",
    "model_exp_smoothing_3 = SimpleExpSmoothing(df_train.Ventas).fit(smoothing_level=0.3,optimized=False)\n",
    "model_exp_smoothing_5 = SimpleExpSmoothing(df_train.Ventas).fit(smoothing_level=0.5,optimized=False)\n",
    "model_exp_smoothing_8 = SimpleExpSmoothing(df_train.Ventas).fit(smoothing_level=0.8,optimized=False)"
   ]
  },
  {
   "cell_type": "markdown",
   "metadata": {
    "slideshow": {
     "slide_type": "fragment"
    }
   },
   "source": [
    "Vemos los resultados sobre los datos de train."
   ]
  },
  {
   "cell_type": "code",
   "execution_count": 65,
   "metadata": {
    "slideshow": {
     "slide_type": "fragment"
    }
   },
   "outputs": [
    {
     "data": {
      "image/png": "[encoded data removed]",
      "text/plain": [
       "<Figure size 432x288 with 1 Axes>"
      ]
     },
     "metadata": {
      "needs_background": "light"
     },
     "output_type": "display_data"
    }
   ],
   "source": [
    "df_train.plot(kind = \"line\", y = \"Ventas\",color='black')\n",
    "model_exp_smoothing_3.fittedvalues.plot(label=\"alpha=0.3\",color='b');\n",
    "model_exp_smoothing_5.fittedvalues.plot(label=\"alpha=0.5\",color='g');\n",
    "model_exp_smoothing_8.fittedvalues.plot(label=\"alpha=0.8\",color='r');\n",
    "plt.legend();"
   ]
  },
  {
   "cell_type": "markdown",
   "metadata": {
    "slideshow": {
     "slide_type": "subslide"
    }
   },
   "source": [
    "Hacemos las predicciones del modelo sobre *test*."
   ]
  },
  {
   "cell_type": "code",
   "execution_count": 66,
   "metadata": {
    "slideshow": {
     "slide_type": "fragment"
    }
   },
   "outputs": [],
   "source": [
    "df_test[\"Simple_Smoothing_3\"] = model_exp_smoothing_3.forecast(len(df_test))\n",
    "df_test[\"Simple_Smoothing_5\"] = model_exp_smoothing_5.forecast(len(df_test))\n",
    "df_test[\"Simple_Smoothing_8\"] = model_exp_smoothing_8.forecast(len(df_test))"
   ]
  },
  {
   "cell_type": "markdown",
   "metadata": {
    "slideshow": {
     "slide_type": "fragment"
    }
   },
   "source": [
    "El modelo con  $\\alpha$ = 0.3 es el que mejor predice."
   ]
  },
  {
   "cell_type": "code",
   "execution_count": 67,
   "metadata": {
    "slideshow": {
     "slide_type": "fragment"
    }
   },
   "outputs": [],
   "source": [
    "model_RMSE_3 = RMSE(df_test[\"Simple_Smoothing_3\"], df_test.Ventas)\n",
    "model_RMSE_5 = RMSE(df_test[\"Simple_Smoothing_5\"], df_test.Ventas)\n",
    "model_RMSE_8 = RMSE(df_test[\"Simple_Smoothing_8\"], df_test.Ventas)"
   ]
  },
  {
   "cell_type": "code",
   "execution_count": 68,
   "metadata": {
    "slideshow": {
     "slide_type": "fragment"
    }
   },
   "outputs": [
    {
     "data": {
      "text/html": [
       "<div>\n",
       "<style scoped>\n",
       "    .dataframe tbody tr th:only-of-type {\n",
       "        vertical-align: middle;\n",
       "    }\n",
       "\n",
       "    .dataframe tbody tr th {\n",
       "        vertical-align: top;\n",
       "    }\n",
       "\n",
       "    .dataframe thead th {\n",
       "        text-align: right;\n",
       "    }\n",
       "</style>\n",
       "<table border=\"1\" class=\"dataframe\">\n",
       "  <thead>\n",
       "    <tr style=\"text-align: right;\">\n",
       "      <th></th>\n",
       "      <th>Model</th>\n",
       "      <th>RMSE</th>\n",
       "    </tr>\n",
       "  </thead>\n",
       "  <tbody>\n",
       "    <tr>\n",
       "      <th>0</th>\n",
       "      <td>Random Walk</td>\n",
       "      <td>4534.835179</td>\n",
       "    </tr>\n",
       "    <tr>\n",
       "      <th>1</th>\n",
       "      <td>Mean</td>\n",
       "      <td>4236.112012</td>\n",
       "    </tr>\n",
       "    <tr>\n",
       "      <th>2</th>\n",
       "      <td>LinearTrend</td>\n",
       "      <td>3238.586751</td>\n",
       "    </tr>\n",
       "    <tr>\n",
       "      <th>3</th>\n",
       "      <td>QuadraticTrend</td>\n",
       "      <td>3344.490376</td>\n",
       "    </tr>\n",
       "    <tr>\n",
       "      <th>4</th>\n",
       "      <td>back_LogTrend</td>\n",
       "      <td>3111.252518</td>\n",
       "    </tr>\n",
       "    <tr>\n",
       "      <th>5</th>\n",
       "      <td>back_LogEstTrend</td>\n",
       "      <td>2114.133324</td>\n",
       "    </tr>\n",
       "    <tr>\n",
       "      <th>6</th>\n",
       "      <td>Simple Smoothing a=0.3</td>\n",
       "      <td>3541.253939</td>\n",
       "    </tr>\n",
       "    <tr>\n",
       "      <th>7</th>\n",
       "      <td>Simple Smoothing a=0.5</td>\n",
       "      <td>3688.458533</td>\n",
       "    </tr>\n",
       "    <tr>\n",
       "      <th>8</th>\n",
       "      <td>Simple Smoothing a=0.8</td>\n",
       "      <td>4090.609495</td>\n",
       "    </tr>\n",
       "  </tbody>\n",
       "</table>\n",
       "</div>"
      ],
      "text/plain": [
       "                    Model         RMSE\n",
       "0             Random Walk  4534.835179\n",
       "1                    Mean  4236.112012\n",
       "2             LinearTrend  3238.586751\n",
       "3          QuadraticTrend  3344.490376\n",
       "4           back_LogTrend  3111.252518\n",
       "5        back_LogEstTrend  2114.133324\n",
       "6  Simple Smoothing a=0.3  3541.253939\n",
       "7  Simple Smoothing a=0.5  3688.458533\n",
       "8  Simple Smoothing a=0.8  4090.609495"
      ]
     },
     "execution_count": 68,
     "metadata": {},
     "output_type": "execute_result"
    }
   ],
   "source": [
    "# Calculamos el RMSE y almacenamos los resultados\n",
    "df_Results.loc[6, \"Model\"] = \"Simple Smoothing a=0.3\"; df_Results.loc[6, \"RMSE\"] = model_RMSE_3\n",
    "df_Results.loc[7, \"Model\"] = \"Simple Smoothing a=0.5\"; df_Results.loc[7, \"RMSE\"] = model_RMSE_5\n",
    "df_Results.loc[8, \"Model\"] = \"Simple Smoothing a=0.8\"; df_Results.loc[8, \"RMSE\"] = model_RMSE_8\n",
    "df_Results"
   ]
  },
  {
   "cell_type": "markdown",
   "metadata": {
    "slideshow": {
     "slide_type": "slide"
    }
   },
   "source": [
    "<div class=\"div-dhds-fondo-1\"> Conclusiones\n",
    "<img src=\"https://raw.githubusercontent.com/Digital-House-DATA/ds_blend_2021_img/master/M5/CLASE_34_CART/Presentacion/img/M5_CLASE_34_separador.png\" align=\"center\" />\n",
    "\n",
    "</div>"
   ]
  },
  {
   "cell_type": "markdown",
   "metadata": {
    "slideshow": {
     "slide_type": "slide"
    }
   },
   "source": [
    "## Conclusiones\n",
    "\n",
    "---"
   ]
  },
  {
   "cell_type": "markdown",
   "metadata": {
    "slideshow": {
     "slide_type": "fragment"
    }
   },
   "source": [
    "Una serie de tiempo tiene los componentes:\n",
    "\n",
    "- **Tendencia**: el componente “permanente”, el efecto que persiste en el largo plazo.\n",
    "- **Estacionalidad**: los movimientos periódicos de la serie.\n",
    "- **Componente aleatoria**: son shocks que no presentan un efecto duradero.\n",
    "- **Ciclos**: se entiende por cualquier tipo de dinámica no capturada por la tendencia o la estacionalidad. \n",
    "\n",
    "Para modelar la tendencia y la estacionalidad podemos usar *dummies de tiempo y estacionales*. \n",
    "\n",
    "Existen varios *modelos para predecir* los nuevos valores de la serie: Tendencia lineal, Tendencia Cuadrática, Transformación logarítmica con y sin estacionalidad mensual y Single Exponential Smoothing.\n",
    "\n",
    "La *media movil* es útil para \"suavizar\" la serie."
   ]
  },
  {
   "cell_type": "markdown",
   "metadata": {
    "slideshow": {
     "slide_type": "slide"
    }
   },
   "source": [
    "<div class=\"div-dhds-fondo-1\"> Hands-on\n",
    "<img src=\"https://raw.githubusercontent.com/Digital-House-DATA/ds_blend_2021_img/master/M3/CLASE_21_Regresion_Lineal_Simple/Presentacion/img/M3_CLASE_21_separador.png\" align=\"center\" />\n",
    "\n",
    "</div>"
   ]
  },
  {
   "cell_type": "markdown",
   "metadata": {
    "slideshow": {
     "slide_type": "slide"
    }
   },
   "source": [
    "### Ejercicio\n",
    "\n",
    "----\n",
    "\n",
    "A partir del dataset de ventas, seleccionar la categoría de Tecnología y\n",
    "\n",
    "- Generar la serie de tiempo sobre las ventas y graficarla.\n",
    "- Graficar los componentes de la serie.\n",
    "- Generar un modelo de Tendencia lineal y validarlo. "
   ]
  },
  {
   "cell_type": "code",
   "execution_count": 69,
   "metadata": {
    "colab": {},
    "colab_type": "code",
    "id": "p2PHSRoPK8OK",
    "slideshow": {
     "slide_type": "fragment"
    }
   },
   "outputs": [],
   "source": [
    "import numpy as np\n",
    "import pandas as pd\n",
    "import matplotlib.pyplot as plt\n",
    "import seaborn as sns\n",
    "%matplotlib inline\n",
    "import warnings\n",
    "warnings.filterwarnings('ignore')"
   ]
  },
  {
   "cell_type": "markdown",
   "metadata": {
    "slideshow": {
     "slide_type": "slide"
    }
   },
   "source": [
    "### Ejercicio\n",
    "\n",
    "----\n",
    "A partir del dataset filtrado por Tecnología, generamos la serie de tiempo y la graficamos."
   ]
  },
  {
   "cell_type": "code",
   "execution_count": 70,
   "metadata": {
    "slideshow": {
     "slide_type": "fragment"
    }
   },
   "outputs": [],
   "source": [
    "df = pd.read_excel(\"../Data/Supertienda.xls\")\n",
    "#tecno = df.loc[df['Categoria'] == '.....']"
   ]
  },
  {
   "cell_type": "code",
   "execution_count": 71,
   "metadata": {
    "slideshow": {
     "slide_type": "fragment"
    }
   },
   "outputs": [],
   "source": [
    "#tecno.head(2)"
   ]
  },
  {
   "cell_type": "code",
   "execution_count": 72,
   "metadata": {
    "slideshow": {
     "slide_type": "fragment"
    }
   },
   "outputs": [],
   "source": [
    "#tecnogb = tecno.groupby('.....')['.....'].sum().reset_index()\n",
    "#tecnogb = tecnogb.set_index('.....')"
   ]
  },
  {
   "cell_type": "code",
   "execution_count": 73,
   "metadata": {
    "slideshow": {
     "slide_type": "fragment"
    }
   },
   "outputs": [],
   "source": [
    "#df_ventas_t = tecnogb['.....'].resample('..').mean().to_frame(); \n",
    "#df_ventas_t.head(2)"
   ]
  },
  {
   "cell_type": "markdown",
   "metadata": {
    "slideshow": {
     "slide_type": "fragment"
    }
   },
   "source": [
    "Graficamos la serie."
   ]
  },
  {
   "cell_type": "code",
   "execution_count": 74,
   "metadata": {
    "slideshow": {
     "slide_type": "fragment"
    }
   },
   "outputs": [],
   "source": [
    "#plt.figure(figsize=(4,3)); ........plot(); plt.show()"
   ]
  },
  {
   "cell_type": "markdown",
   "metadata": {
    "slideshow": {
     "slide_type": "slide"
    }
   },
   "source": [
    "### Ejercicio\n",
    "\n",
    "----\n",
    "Graficamos los componentes de la serie de tiempo (Tendencia, Estacionalidad y la Componente aleatoria)."
   ]
  },
  {
   "cell_type": "code",
   "execution_count": 75,
   "metadata": {
    "slideshow": {
     "slide_type": "fragment"
    }
   },
   "outputs": [
    {
     "data": {
      "text/plain": [
       "<Figure size 1152x720 with 0 Axes>"
      ]
     },
     "metadata": {},
     "output_type": "display_data"
    }
   ],
   "source": [
    "import statsmodels.api as sm\n",
    "plt.figure(figsize=(16,10))\n",
    "#decomposition = sm.tsa.seasonal_decompose(....., .....)\n",
    "#decomposition.plot()\n",
    "plt.show()"
   ]
  },
  {
   "cell_type": "markdown",
   "metadata": {
    "slideshow": {
     "slide_type": "slide"
    }
   },
   "source": [
    "### Ejercicio\n",
    "\n",
    "----\n",
    "Generamos el modelo de Tendencia Lineal: lo ajustamos sobre train, creamos las predicciones, las graficamos sobre train y test, y evaluamos el modelo con RMSE.\n",
    "\n",
    "Previamente definimos la variable “dummy de tiempo”, la secuencia que representa al tiempo."
   ]
  },
  {
   "cell_type": "code",
   "execution_count": 76,
   "metadata": {
    "slideshow": {
     "slide_type": "fragment"
    }
   },
   "outputs": [],
   "source": [
    "#df_ventas_t[\"timeIndex\"] = pd.Series(np.arange(len(......['.....'])), index=..........index)\n",
    "#df_ventas_t.timeIndex.head(3)"
   ]
  },
  {
   "cell_type": "markdown",
   "metadata": {
    "slideshow": {
     "slide_type": "fragment"
    }
   },
   "source": [
    "Hacemos los datasets de train y test. Recordar que tenemos que usar `shuffle=False`."
   ]
  },
  {
   "cell_type": "code",
   "execution_count": 77,
   "metadata": {
    "slideshow": {
     "slide_type": "fragment"
    }
   },
   "outputs": [],
   "source": [
    "from sklearn.model_selection import train_test_split\n",
    "#df_train_t, df_test_t = train_test_split(...., test_size=12, random_state=42,.......)"
   ]
  },
  {
   "cell_type": "markdown",
   "metadata": {
    "slideshow": {
     "slide_type": "fragment"
    }
   },
   "source": [
    "Creamos un modelo de *regresión lineal* entre \"Ventas\" y \"timeIndex\". "
   ]
  },
  {
   "cell_type": "code",
   "execution_count": 78,
   "metadata": {
    "slideshow": {
     "slide_type": "fragment"
    }
   },
   "outputs": [],
   "source": [
    "import statsmodels.formula.api as smf\n",
    "#model_linear = smf.ols(formula='..... ~ ......', data = .....).fit()"
   ]
  },
  {
   "cell_type": "markdown",
   "metadata": {
    "slideshow": {
     "slide_type": "subslide"
    }
   },
   "source": [
    "Generamos las predicciones del modelo sobre *train y test*."
   ]
  },
  {
   "cell_type": "code",
   "execution_count": 79,
   "metadata": {
    "slideshow": {
     "slide_type": "fragment"
    }
   },
   "outputs": [],
   "source": [
    "#df_train_t[\"LinearTrend\"] = model_linear.predict(.......timeIndex)\n",
    "#df_test_t[\"LinearTrend\"] = model_linear.predict(.......timeIndex)"
   ]
  },
  {
   "cell_type": "markdown",
   "metadata": {
    "slideshow": {
     "slide_type": "fragment"
    }
   },
   "source": [
    "Chequeamos visualmente las predicciones. "
   ]
  },
  {
   "cell_type": "code",
   "execution_count": 80,
   "metadata": {
    "slideshow": {
     "slide_type": "fragment"
    }
   },
   "outputs": [
    {
     "data": {
      "image/png": "[encoded data removed]",
      "text/plain": [
       "<Figure size 864x432 with 2 Axes>"
      ]
     },
     "metadata": {
      "needs_background": "light"
     },
     "output_type": "display_data"
    }
   ],
   "source": [
    "fig, axes = plt.subplots(1, 2,figsize=(12,6))\n",
    "#df_train_t.plot(kind = \"line\", y = [\".....\",\".....\"],ax=axes[0],title='Train');\n",
    "#df_test_t.plot(kind = \"line\", y = [\".....\",\"......\"],ax=axes[1],title='Test');\n",
    "plt.show()"
   ]
  },
  {
   "cell_type": "markdown",
   "metadata": {
    "slideshow": {
     "slide_type": "fragment"
    }
   },
   "source": [
    "Calculamos la performance con RMSE."
   ]
  },
  {
   "cell_type": "code",
   "execution_count": 81,
   "metadata": {
    "slideshow": {
     "slide_type": "fragment"
    }
   },
   "outputs": [],
   "source": [
    "def RMSE(predicted, actual):\n",
    "    mse = (predicted - actual) ** 2\n",
    "    rmse = np.sqrt(mse.sum() / mse.count())\n",
    "    return rmse"
   ]
  },
  {
   "cell_type": "code",
   "execution_count": 82,
   "metadata": {
    "slideshow": {
     "slide_type": "fragment"
    }
   },
   "outputs": [],
   "source": [
    "#model_RMSE = RMSE(..... , .......)"
   ]
  },
  {
   "cell_type": "code",
   "execution_count": 83,
   "metadata": {
    "slideshow": {
     "slide_type": "fragment"
    }
   },
   "outputs": [],
   "source": [
    "#df_Results = pd.DataFrame(columns = [\"Model\", \"RMSE\"])\n",
    "#df_Results.loc[0, \"Model\"] = \"LinearTrend\"\n",
    "#df_Results.loc[0, \"RMSE\"] = model_RMSE\n",
    "#df_Results.head()"
   ]
  },
  {
   "cell_type": "markdown",
   "metadata": {
    "slideshow": {
     "slide_type": "slide"
    }
   },
   "source": [
    "### Solución\n",
    "\n",
    "---"
   ]
  },
  {
   "cell_type": "markdown",
   "metadata": {
    "slideshow": {
     "slide_type": "slide"
    }
   },
   "source": [
    "### Ejercicio\n",
    "\n",
    "----\n",
    "\n",
    "A partir del dataset de ventas, seleccionar la categoría de Tecnología y\n",
    "\n",
    "- Generar la serie de tiempo sobre las ventas y graficarla.\n",
    "- Graficar los componentes de la serie.\n",
    "- Generar un modelo de Tendencia lineal y validarlo. "
   ]
  },
  {
   "cell_type": "markdown",
   "metadata": {
    "slideshow": {
     "slide_type": "slide"
    }
   },
   "source": [
    "### Ejercicio\n",
    "\n",
    "----\n",
    "A partir del dataset filtrado por Tecnología, generamos la serie de tiempo y la graficamos."
   ]
  },
  {
   "cell_type": "code",
   "execution_count": 84,
   "metadata": {
    "slideshow": {
     "slide_type": "fragment"
    }
   },
   "outputs": [],
   "source": [
    "df = pd.read_excel(\"../Data/Supertienda.xls\")\n",
    "tecno = df.loc[df['Categoria'] == 'Tecnología']"
   ]
  },
  {
   "cell_type": "code",
   "execution_count": 85,
   "metadata": {
    "slideshow": {
     "slide_type": "fragment"
    }
   },
   "outputs": [
    {
     "data": {
      "text/html": [
       "<div>\n",
       "<style scoped>\n",
       "    .dataframe tbody tr th:only-of-type {\n",
       "        vertical-align: middle;\n",
       "    }\n",
       "\n",
       "    .dataframe tbody tr th {\n",
       "        vertical-align: top;\n",
       "    }\n",
       "\n",
       "    .dataframe thead th {\n",
       "        text-align: right;\n",
       "    }\n",
       "</style>\n",
       "<table border=\"1\" class=\"dataframe\">\n",
       "  <thead>\n",
       "    <tr style=\"text-align: right;\">\n",
       "      <th></th>\n",
       "      <th>ID</th>\n",
       "      <th>ID_pedido</th>\n",
       "      <th>Fecha_pedido</th>\n",
       "      <th>Fecha_envio</th>\n",
       "      <th>Forma_envio</th>\n",
       "      <th>ID_cliente</th>\n",
       "      <th>Nombre_cliente</th>\n",
       "      <th>Segmento</th>\n",
       "      <th>Ciudad</th>\n",
       "      <th>Estado</th>\n",
       "      <th>Pais</th>\n",
       "      <th>Region</th>\n",
       "      <th>ID_producto</th>\n",
       "      <th>Categoria</th>\n",
       "      <th>Subcategoria</th>\n",
       "      <th>Nombre_producto</th>\n",
       "      <th>Ventas</th>\n",
       "      <th>Cantidad</th>\n",
       "      <th>Descuento</th>\n",
       "      <th>Ganancia</th>\n",
       "    </tr>\n",
       "  </thead>\n",
       "  <tbody>\n",
       "    <tr>\n",
       "      <th>11</th>\n",
       "      <td>3500</td>\n",
       "      <td>MX-2020-166443</td>\n",
       "      <td>2020-08-21</td>\n",
       "      <td>2020-08-25</td>\n",
       "      <td>Estándar</td>\n",
       "      <td>WV-21820</td>\n",
       "      <td>Wendi Valdés</td>\n",
       "      <td>Cliente</td>\n",
       "      <td>Maceió</td>\n",
       "      <td>Alagoas</td>\n",
       "      <td>Brasil</td>\n",
       "      <td>Sur</td>\n",
       "      <td>TEC-MÁ-10004980</td>\n",
       "      <td>Tecnología</td>\n",
       "      <td>Máquinas</td>\n",
       "      <td>Panasonic Impresora, Rojo</td>\n",
       "      <td>7030.4</td>\n",
       "      <td>4</td>\n",
       "      <td>0.0</td>\n",
       "      <td>3515.2</td>\n",
       "    </tr>\n",
       "    <tr>\n",
       "      <th>23</th>\n",
       "      <td>8066</td>\n",
       "      <td>MX-2021-113586</td>\n",
       "      <td>2021-11-18</td>\n",
       "      <td>2021-11-18</td>\n",
       "      <td>Mismo día</td>\n",
       "      <td>FF-14890</td>\n",
       "      <td>Fidel Ferrer</td>\n",
       "      <td>Empresa</td>\n",
       "      <td>Maceió</td>\n",
       "      <td>Alagoas</td>\n",
       "      <td>Brasil</td>\n",
       "      <td>Sur</td>\n",
       "      <td>TEC-TE-10002678</td>\n",
       "      <td>Tecnología</td>\n",
       "      <td>Teléfonos</td>\n",
       "      <td>Apple Base de audio, Tamaño completo</td>\n",
       "      <td>4484.8</td>\n",
       "      <td>4</td>\n",
       "      <td>0.0</td>\n",
       "      <td>492.8</td>\n",
       "    </tr>\n",
       "  </tbody>\n",
       "</table>\n",
       "</div>"
      ],
      "text/plain": [
       "      ID       ID_pedido Fecha_pedido Fecha_envio Forma_envio ID_cliente  \\\n",
       "11  3500  MX-2020-166443   2020-08-21  2020-08-25    Estándar   WV-21820   \n",
       "23  8066  MX-2021-113586   2021-11-18  2021-11-18   Mismo día   FF-14890   \n",
       "\n",
       "   Nombre_cliente Segmento  Ciudad   Estado    Pais Region      ID_producto  \\\n",
       "11   Wendi Valdés  Cliente  Maceió  Alagoas  Brasil    Sur  TEC-MÁ-10004980   \n",
       "23   Fidel Ferrer  Empresa  Maceió  Alagoas  Brasil    Sur  TEC-TE-10002678   \n",
       "\n",
       "     Categoria Subcategoria                       Nombre_producto  Ventas  \\\n",
       "11  Tecnología     Máquinas             Panasonic Impresora, Rojo  7030.4   \n",
       "23  Tecnología    Teléfonos  Apple Base de audio, Tamaño completo  4484.8   \n",
       "\n",
       "    Cantidad  Descuento  Ganancia  \n",
       "11         4        0.0    3515.2  \n",
       "23         4        0.0     492.8  "
      ]
     },
     "execution_count": 85,
     "metadata": {},
     "output_type": "execute_result"
    }
   ],
   "source": [
    "tecno.head(2)"
   ]
  },
  {
   "cell_type": "code",
   "execution_count": 86,
   "metadata": {
    "slideshow": {
     "slide_type": "fragment"
    }
   },
   "outputs": [],
   "source": [
    "tecnogb = tecno.groupby('Fecha_pedido')['Ventas'].sum().reset_index()\n",
    "tecnogb = tecnogb.set_index('Fecha_pedido')"
   ]
  },
  {
   "cell_type": "code",
   "execution_count": 87,
   "metadata": {
    "slideshow": {
     "slide_type": "fragment"
    }
   },
   "outputs": [
    {
     "data": {
      "text/html": [
       "<div>\n",
       "<style scoped>\n",
       "    .dataframe tbody tr th:only-of-type {\n",
       "        vertical-align: middle;\n",
       "    }\n",
       "\n",
       "    .dataframe tbody tr th {\n",
       "        vertical-align: top;\n",
       "    }\n",
       "\n",
       "    .dataframe thead th {\n",
       "        text-align: right;\n",
       "    }\n",
       "</style>\n",
       "<table border=\"1\" class=\"dataframe\">\n",
       "  <thead>\n",
       "    <tr style=\"text-align: right;\">\n",
       "      <th></th>\n",
       "      <th>Ventas</th>\n",
       "    </tr>\n",
       "    <tr>\n",
       "      <th>Fecha_pedido</th>\n",
       "      <th></th>\n",
       "    </tr>\n",
       "  </thead>\n",
       "  <tbody>\n",
       "    <tr>\n",
       "      <th>2018-01-01</th>\n",
       "      <td>5248.57776</td>\n",
       "    </tr>\n",
       "    <tr>\n",
       "      <th>2018-02-01</th>\n",
       "      <td>5843.67508</td>\n",
       "    </tr>\n",
       "  </tbody>\n",
       "</table>\n",
       "</div>"
      ],
      "text/plain": [
       "                  Ventas\n",
       "Fecha_pedido            \n",
       "2018-01-01    5248.57776\n",
       "2018-02-01    5843.67508"
      ]
     },
     "execution_count": 87,
     "metadata": {},
     "output_type": "execute_result"
    }
   ],
   "source": [
    "df_ventas_t = tecnogb['Ventas'].resample('MS').mean().to_frame(); \n",
    "df_ventas_t.head(2)"
   ]
  },
  {
   "cell_type": "markdown",
   "metadata": {
    "slideshow": {
     "slide_type": "subslide"
    }
   },
   "source": [
    "Graficamos la serie."
   ]
  },
  {
   "cell_type": "code",
   "execution_count": 88,
   "metadata": {
    "slideshow": {
     "slide_type": "fragment"
    }
   },
   "outputs": [
    {
     "data": {
      "text/plain": [
       "<Figure size 288x216 with 0 Axes>"
      ]
     },
     "metadata": {},
     "output_type": "display_data"
    },
    {
     "data": {
      "image/png": "[encoded data removed]",
      "text/plain": [
       "<Figure size 432x288 with 1 Axes>"
      ]
     },
     "metadata": {
      "needs_background": "light"
     },
     "output_type": "display_data"
    }
   ],
   "source": [
    "plt.figure(figsize=(4,3)); df_ventas_t.plot(); plt.show()"
   ]
  },
  {
   "cell_type": "markdown",
   "metadata": {
    "slideshow": {
     "slide_type": "slide"
    }
   },
   "source": [
    "### Ejercicio\n",
    "\n",
    "----\n",
    "Graficamos los componentes de la serie de tiempo (Tendencia, Estacionalidad y la Componente aleatoria)."
   ]
  },
  {
   "cell_type": "code",
   "execution_count": 89,
   "metadata": {
    "slideshow": {
     "slide_type": "fragment"
    }
   },
   "outputs": [
    {
     "data": {
      "text/plain": [
       "<Figure size 1152x720 with 0 Axes>"
      ]
     },
     "metadata": {},
     "output_type": "display_data"
    },
    {
     "data": {
      "image/png": "[encoded data removed]",
      "text/plain": [
       "<Figure size 432x288 with 4 Axes>"
      ]
     },
     "metadata": {
      "needs_background": "light"
     },
     "output_type": "display_data"
    }
   ],
   "source": [
    "import statsmodels.api as sm\n",
    "plt.figure(figsize=(16,10))\n",
    "decomposition = sm.tsa.seasonal_decompose(df_ventas_t, model='additive')\n",
    "decomposition.plot()\n",
    "plt.show()"
   ]
  },
  {
   "cell_type": "markdown",
   "metadata": {
    "slideshow": {
     "slide_type": "slide"
    }
   },
   "source": [
    "### Ejercicio\n",
    "\n",
    "----\n",
    "Generamos el modelo de Tendencia Lineal: lo ajustamos sobre train, creamos las predicciones, las graficamos sobre train y test, y evaluamos el modelo con RMSE.\n",
    "\n",
    "Previamente definimos la variable “dummy de tiempo”, la secuencia que representa al tiempo."
   ]
  },
  {
   "cell_type": "code",
   "execution_count": 90,
   "metadata": {
    "slideshow": {
     "slide_type": "fragment"
    }
   },
   "outputs": [
    {
     "data": {
      "text/plain": [
       "Fecha_pedido\n",
       "2018-01-01    0\n",
       "2018-02-01    1\n",
       "2018-03-01    2\n",
       "Freq: MS, Name: timeIndex, dtype: int32"
      ]
     },
     "execution_count": 90,
     "metadata": {},
     "output_type": "execute_result"
    }
   ],
   "source": [
    "df_ventas_t[\"timeIndex\"] = pd.Series(np.arange(len(df_ventas_t['Ventas'])), index=df_ventas_t.index)\n",
    "df_ventas_t.timeIndex.head(3)"
   ]
  },
  {
   "cell_type": "markdown",
   "metadata": {
    "slideshow": {
     "slide_type": "fragment"
    }
   },
   "source": [
    "Hacemos los datasets de train y test. Recordar que tenemos que usar `shuffle=False`."
   ]
  },
  {
   "cell_type": "code",
   "execution_count": 91,
   "metadata": {
    "slideshow": {
     "slide_type": "fragment"
    }
   },
   "outputs": [],
   "source": [
    "from sklearn.model_selection import train_test_split\n",
    "df_train_t, df_test_t = train_test_split(df_ventas_t, test_size=12, random_state=42, shuffle=False)"
   ]
  },
  {
   "cell_type": "markdown",
   "metadata": {
    "slideshow": {
     "slide_type": "subslide"
    }
   },
   "source": [
    "Creamos un modelo de *regresión lineal* entre \"Ventas\" y \"timeIndex\". "
   ]
  },
  {
   "cell_type": "code",
   "execution_count": 92,
   "metadata": {
    "slideshow": {
     "slide_type": "fragment"
    }
   },
   "outputs": [],
   "source": [
    "import statsmodels.formula.api as smf\n",
    "model_linear = smf.ols(formula='Ventas ~ timeIndex', data = df_train_t).fit()"
   ]
  },
  {
   "cell_type": "markdown",
   "metadata": {
    "slideshow": {
     "slide_type": "fragment"
    }
   },
   "source": [
    "Generamos las predicciones del modelo sobre *train y test*."
   ]
  },
  {
   "cell_type": "code",
   "execution_count": 93,
   "metadata": {
    "slideshow": {
     "slide_type": "fragment"
    }
   },
   "outputs": [],
   "source": [
    "df_train_t[\"LinearTrend\"] = model_linear.predict(df_train_t.timeIndex)\n",
    "df_test_t[\"LinearTrend\"] = model_linear.predict(df_test_t.timeIndex)"
   ]
  },
  {
   "cell_type": "markdown",
   "metadata": {
    "slideshow": {
     "slide_type": "subslide"
    }
   },
   "source": [
    "Chequeamos visualmente las predicciones. "
   ]
  },
  {
   "cell_type": "code",
   "execution_count": 94,
   "metadata": {
    "slideshow": {
     "slide_type": "fragment"
    }
   },
   "outputs": [
    {
     "data": {
      "image/png": "[encoded data removed]",
      "text/plain": [
       "<Figure size 864x432 with 2 Axes>"
      ]
     },
     "metadata": {
      "needs_background": "light"
     },
     "output_type": "display_data"
    }
   ],
   "source": [
    "fig, axes = plt.subplots(1, 2,figsize=(12,6))\n",
    "df_train_t.plot(kind = \"line\", y = [\"Ventas\",\"LinearTrend\"],ax=axes[0],title='Train');\n",
    "df_test_t.plot(kind = \"line\", y = [\"Ventas\",\"LinearTrend\"],ax=axes[1],title='Test');\n",
    "plt.show()"
   ]
  },
  {
   "cell_type": "markdown",
   "metadata": {
    "slideshow": {
     "slide_type": "subslide"
    }
   },
   "source": [
    "Calculamos la performance con RMSE."
   ]
  },
  {
   "cell_type": "code",
   "execution_count": 95,
   "metadata": {
    "slideshow": {
     "slide_type": "fragment"
    }
   },
   "outputs": [],
   "source": [
    "def RMSE(predicted, actual):\n",
    "    mse = (predicted - actual) ** 2\n",
    "    rmse = np.sqrt(mse.sum() / mse.count())\n",
    "    return rmse"
   ]
  },
  {
   "cell_type": "code",
   "execution_count": 96,
   "metadata": {
    "slideshow": {
     "slide_type": "fragment"
    }
   },
   "outputs": [
    {
     "name": "stdout",
     "output_type": "stream",
     "text": [
      "Evaluacion RMSE:  3322.0132329163553\n"
     ]
    }
   ],
   "source": [
    "model_RMSE = RMSE(df_test_t.LinearTrend, df_test_t.Ventas)\n",
    "print('Evaluacion RMSE: ',model_RMSE)"
   ]
  },
  {
   "cell_type": "markdown",
   "metadata": {
    "slideshow": {
     "slide_type": "slide"
    }
   },
   "source": [
    "<div class=\"div-dhds-fondo-1\"> Referencias y Material Adicional\n",
    "<img src=\"https://raw.githubusercontent.com/Digital-House-DATA/ds_blend_2021_img/master/M3/CLASE_21_Regresion_Lineal_Simple/Presentacion/img/M3_CLASE_21_separador.png\" align=\"center\" />\n",
    "\n",
    "</div>"
   ]
  },
  {
   "cell_type": "markdown",
   "metadata": {
    "slideshow": {
     "slide_type": "slide"
    }
   },
   "source": [
    "### Referencias y Material Adicional\n",
    "\n",
    "---\n",
    "\n",
    "<a href=\"https://www.statsmodels.org/stable/index.html\" target=\"_blank\">statmodels</a>\n",
    "\n",
    "<a href=\"https://pandas.pydata.org/pandas-docs/version/0.23/timeseries.html\" target=\"_blank\">Pandas - Time Series / Date functionality</a>\n",
    "\n",
    "<a href=\"https://konstantin-rink.medium.com/your-comprehensive-guide-to-the-basics-of-time-series-modeling-f673398b5df3\" target=\"_blank\">Your comprehensive guide to the basics of Time Series Modeling</a>\n",
    "\n",
    "<a href=\"https://otexts.com/fpp2/\" target=\"_blank\">Forecasting: Principles and Practice</a>\n",
    "\n",
    "<a href=\"https://towardsdatascience.com/pandas-resample-tricks-you-should-know-for-manipulating-time-series-data-7e9643a7e7f3\" target=\"_blank\">Pandas resample() tricks you should know for manipulating time-series data</a>\n",
    "\n",
    "<a href=\"https://towardsdatascience.com/time-series-in-python-exponential-smoothing-and-arima-processes-2c67f2a52788\" target=\"_blank\">Time Series in Python — Exponential Smoothing and ARIMA processes</a>\n",
    "\n",
    "<a href=\"https://www.analyticsvidhya.com/blog/2018/02/time-series-forecasting-methods/\" target=\"_blank\">Time Series Forecasting Methods</a>\n",
    "\n",
    "<a href=\"https://towardsdatascience.com/moving-averages-in-python-16170e20f6c\" target=\"_blank\">Moving averages with Python</a>"
   ]
  }
 ],
 "metadata": {
  "interpreter": {
   "hash": "93b1ad9c150e9c4fa5781c5a37e00b91f3d8cfbe17fc5b5e6277144ed0216a69"
  },
  "kernelspec": {
   "display_name": "Python 3.8.13 ('DH')",
   "language": "python",
   "name": "python3"
  },
  "language_info": {
   "codemirror_mode": {
    "name": "ipython",
    "version": 3
   },
   "file_extension": ".py",
   "mimetype": "text/x-python",
   "name": "python",
   "nbconvert_exporter": "python",
   "pygments_lexer": "ipython3",
   "version": "3.8.13"
  }
 },
 "nbformat": 4,
 "nbformat_minor": 4
}
